{
 "cells": [
  {
   "cell_type": "markdown",
   "metadata": {},
   "source": [
    "<div>\n",
    "    <table>\n",
    "        <tr>\n",
    "            <td>\n",
    "                    <h1>Brightway2 seminar</h1>\n",
    "                    Chris Mutel <a href=\"https://www.psi.ch/\">(PSI)</a>\n",
    "                    Pascal Lesage <a href=\"http://www.ciraig.org/en/\">(CIRAIG)</a>\n",
    "            </td>\n",
    "        </tr>\n",
    "    </div>\n",
    "\n",
    "# Brightway modules: bw2io, bw2data, bw2calc\n",
    "\n",
    "*The following content is taken and adapted from [the course materials dispensed at the 2022 Brightcon conference](https://github.com/Depart-de-Sentier/teaching-material/tree/main/beginners/Projects%2C%20databases%2C%20exchanges%2C%20activities). If you need additional notebooks, go to this repository*.\n",
    "\n",
    "\n",
    "<div class=\"alert alert-info\">\n",
    "Note: we will be using Brightway2, not Brightway25. From the user end side, very little differ between the two.\n",
    "</div>\n",
    "\n",
    "\n",
    "\n"
   ]
  },
  {
   "cell_type": "markdown",
   "metadata": {
    "deletable": true,
    "editable": true,
    "solution": "hidden"
   },
   "source": [
    "**Brightway2 documentation** 👉 [https://docs.brightway.dev/en/legacy/index.html](https://docs.brightway.dev/en/legacy/index.html)\n",
    "\n",
    "**Brightway25 documentation** 👉 [https://docs.brightway.dev/en/latest/index.html](https://docs.brightway.dev/en/latest/index.html)"
   ]
  },
  {
   "cell_type": "markdown",
   "metadata": {
    "deletable": true,
    "editable": true
   },
   "source": [
    "### Learning objectives  \n",
    "  - Learn about the general structure of Brightway and its most importand abstractions: projects, databases, activities and exchanges  \n",
    "  - Learn how to find objects (notably activities and exchanges), assign them to variables and work with them using their associated methods  \n",
    "  - Learn about how simple LCA calculations are done (one product, one impact category), and specifically how the different matrices are built and used  \n",
    "  - Learn how to extract information from the matrices (inputs or results) and translate them into nice, human-readable objects  \n",
    "  - Learn different ways to carry out comparative LCAs  \n",
    "  - Learn different ways to carry out LCAs with multiple impact categories"
   ]
  },
  {
   "cell_type": "markdown",
   "metadata": {
    "deletable": true,
    "editable": true
   },
   "source": [
    "### Content  \n",
    "\n",
    "#### 1) Getting started  \n",
    "##### 1.1) Jupyter lab / notebooks and Brightway2  \n",
    "  - A quick tour of jupyter lab / notebooks  \n",
    "  - Accessing Brightway2 libraries  \n",
    "  \n",
    "##### 1.2) Projects  \n",
    "  - Concept  \n",
    "  - Creating a new project, or switching to an existing project  \n",
    "  - Contents of a project  \n",
    "\n",
    "  \n",
    "##### 1.3) bw2_setup(), biosphere3 database and LCIA methods  \n",
    "  - bw2_setup()  \n",
    "  - biosphere3 database and a first look at database objects  \n",
    "  - Getting activities from codes or keys  \n",
    "  - Methods  \n",
    "  - Looking up elementary flows (list comprehensions, search)  \n",
    "  - Searching for methods  \n",
    "  - Nice display of data in methods \n",
    "\n",
    "##### 1.4) LCI databases  \n",
    "  - Importing (succinct)  \n",
    "  - LCI activities  \n",
    "  - Looking up activities  \n",
    "  - LCI exchanges\n",
    "  - Loaded LCI databases\n",
    "  \n",
    "#### 2) My first LCA - simplest case:  \n",
    "##### 2.1) General syntax of LCA calculations  \n",
    "\n",
    "##### 2.2) The `demand` attribute  \n",
    "\n",
    "##### 2.3) Reminder of the system that needs to be solved in calculating an LCI  \n",
    "\n",
    "##### 2.4) Building the matrices  \n",
    "\n",
    "  - $A$ matrix  \n",
    "  - $B$ matrix  \n",
    "  - $f$ (demand array)  \n",
    "  \n",
    "##### 2.5) Solution to the inventory calculation  \n",
    "\n",
    "  - Supply array  \n",
    "  - Inventory matrix  \n",
    "  \n",
    "##### 2.6) Life Cycle Impact Assessment  \n",
    "\n",
    "  - `.lcia()` method  \n",
    "  - Simple contribution analysis  \n",
    "  \n",
    "#### 3) My second LCA - comparative LCA:\n",
    "    \n",
    "#### 4) My third LCA - Multiple impact categories\n",
    "  \n",
    "#### 5) My first and third LCAs revisited with MultiLCA"
   ]
  },
  {
   "cell_type": "markdown",
   "metadata": {
    "deletable": true,
    "editable": true
   },
   "source": [
    "### 1) Getting started"
   ]
  },
  {
   "cell_type": "markdown",
   "metadata": {
    "deletable": true,
    "editable": true
   },
   "source": [
    "#### 1.1) Jupyter lab / notebooks and accessing Brightway2"
   ]
  },
  {
   "cell_type": "markdown",
   "metadata": {
    "deletable": true,
    "editable": true
   },
   "source": [
    "This teaching material was produced with the intention to be used in Jupyter Notebooks."
   ]
  },
  {
   "cell_type": "markdown",
   "metadata": {},
   "source": [
    "For installation instructions, consult the [brightway documentation](https://docs.brightway.dev/en/legacy/content/installation/installation.html)"
   ]
  },
  {
   "cell_type": "markdown",
   "metadata": {},
   "source": [
    "<div class=\"alert alert-info\">\n",
    "This notebook is meant to run with a specific conda (and python) environment.\n",
    "    Make sure you have started Jupyter Notebooks or Jupyter Lab from the conda\n",
    "    environment where the brightway2 modules are installed.\n",
    "</div>"
   ]
  },
  {
   "cell_type": "markdown",
   "metadata": {
    "deletable": true,
    "editable": true
   },
   "source": [
    "##### Accessing Brightway2 libraries"
   ]
  },
  {
   "cell_type": "markdown",
   "metadata": {
    "deletable": true,
    "editable": true
   },
   "source": [
    "The different modules in Brightway2 are Python libraries. This means that, to use them, you can use any environment from which you normally use Python (Idle, command prompt, Spyder or, as is the case today, Jupyter Notebooks).  \n",
    "\n",
    "We will favour Jupyter Notebooks in this course because it allows us to integrate code and text. It will also allow us to provide code snippets for you to complete.  "
   ]
  },
  {
   "cell_type": "markdown",
   "metadata": {
    "deletable": true,
    "editable": true
   },
   "source": [
    "Like all other Python packages, you need to `import` Brightway2 modules. We will here import it as `bw`. This means that, to access a **method** or **function** from the brightway2 modules, the prefix `bw.` needs to be added. "
   ]
  },
  {
   "cell_type": "code",
   "execution_count": 1,
   "metadata": {
    "collapsed": false,
    "deletable": true,
    "editable": true,
    "jupyter": {
     "outputs_hidden": false
    }
   },
   "outputs": [],
   "source": [
    "import brightway2 as bw"
   ]
  },
  {
   "cell_type": "markdown",
   "metadata": {},
   "source": [
    "Alternatively, we can import the Brightway's sub-modules directly:"
   ]
  },
  {
   "cell_type": "code",
   "execution_count": 2,
   "metadata": {},
   "outputs": [],
   "source": [
    "import bw2io, bw2data, bw2calc"
   ]
  },
  {
   "cell_type": "markdown",
   "metadata": {
    "deletable": true,
    "editable": true
   },
   "source": [
    "We're also going to be using the following libraries:"
   ]
  },
  {
   "cell_type": "code",
   "execution_count": 3,
   "metadata": {
    "deletable": true,
    "editable": true,
    "tags": []
   },
   "outputs": [],
   "source": [
    "import os               # to use \"operating system dependent functionality\"\n",
    "import numpy as np      # \"the fundamental package for scientific computing with Python\"\n",
    "import pandas as pd     # \"high-performance, easy-to-use data structures and data analysis tools\" for Python"
   ]
  },
  {
   "cell_type": "markdown",
   "metadata": {
    "deletable": true,
    "editable": true
   },
   "source": [
    "#### 1.2) Projects"
   ]
  },
  {
   "cell_type": "markdown",
   "metadata": {
    "deletable": true,
    "editable": true
   },
   "source": [
    "##### Concept"
   ]
  },
  {
   "cell_type": "markdown",
   "metadata": {
    "deletable": true,
    "editable": true
   },
   "source": [
    "The top-level containent in Brightway2 is the project (see [here](https://2.docs.brightway.dev/intro.html#projects) for a description and [here](https://2.docs.brightway.dev/technical/bw2data.html#projects) for the **technical docs about projects**). A project contains LCI databases, LCIA methods and other less often used objects. Objects from one project do not interract with objects within other projects. By analogy, projects are like databases in other LCA software.  \n",
    "When you first launch Brightway2, you will be in the `default` project. You can check this using the `current` property of the `projects` object: "
   ]
  },
  {
   "cell_type": "code",
   "execution_count": 4,
   "metadata": {
    "collapsed": false,
    "deletable": true,
    "editable": true,
    "jupyter": {
     "outputs_hidden": false
    }
   },
   "outputs": [
    {
     "data": {
      "text/plain": [
       "'default'"
      ]
     },
     "execution_count": 4,
     "metadata": {},
     "output_type": "execute_result"
    }
   ],
   "source": [
    "bw.projects.current"
   ]
  },
  {
   "cell_type": "markdown",
   "metadata": {
    "deletable": true,
    "editable": true
   },
   "source": [
    "##### Creating a new project, or switching to an existing project"
   ]
  },
  {
   "cell_type": "markdown",
   "metadata": {
    "deletable": true,
    "editable": true
   },
   "source": [
    "Let's create a new project for this seminar, unsurprisingly called \"bw2_seminar_2017\". There are two ways of doing this:  \n",
    "* `projects.create_project('brightcon22')` will create the project, but you will remain in your current project.\n",
    "* `projects.set_current('brightcon22')` will switch you to the project passed as argument, and create it first if it doesn't exist.  Let's do the latter:"
   ]
  },
  {
   "cell_type": "code",
   "execution_count": 4,
   "metadata": {
    "collapsed": false,
    "deletable": true,
    "editable": true,
    "jupyter": {
     "outputs_hidden": false
    },
    "solution": "hidden"
   },
   "outputs": [],
   "source": [
    "# The name of the project is entered as string; \n",
    "# it doesn't really have any restrictions, so can include spaces, \n",
    "# special characters, other languages, or even emoji.\n",
    "\n",
    "bw.projects.set_current('coursePSI') "
   ]
  },
  {
   "cell_type": "markdown",
   "metadata": {
    "deletable": true,
    "editable": true
   },
   "source": [
    "You can always see what projects you have on your computer by running `list(bw.projects)`. Unless you have worked with Brightway2 before on your computer, your list should contain two projects: 'default' and 'bw2_seminar_2017'."
   ]
  },
  {
   "cell_type": "markdown",
   "metadata": {
    "deletable": true,
    "editable": true,
    "solution": "shown",
    "solution2": "shown",
    "solution2_first": true,
    "solution_first": true
   },
   "source": [
    "_**Exercise**_: list the projects on your computer."
   ]
  },
  {
   "cell_type": "code",
   "execution_count": 5,
   "metadata": {
    "collapsed": false,
    "deletable": true,
    "editable": true,
    "jupyter": {
     "outputs_hidden": false
    },
    "scrolled": true,
    "solution": "shown",
    "solution2": "shown"
   },
   "outputs": [
    {
     "data": {
      "text/plain": [
       "[Project: default,\n",
       " Project: new,\n",
       " Project: new4,\n",
       " Project: bw25,\n",
       " Project: polyviz,\n",
       " Project: uvek,\n",
       " Project: test,\n",
       " Project: ei38,\n",
       " Project: arezoo,\n",
       " Project: strat_metals,\n",
       " Project: testbio,\n",
       " Project: testbio2,\n",
       " Project: testbio3,\n",
       " Project: psi1,\n",
       " Project: ei39]"
      ]
     },
     "execution_count": 5,
     "metadata": {},
     "output_type": "execute_result"
    }
   ],
   "source": [
    "list(bw.projects)"
   ]
  },
  {
   "cell_type": "markdown",
   "metadata": {
    "deletable": true,
    "editable": true
   },
   "source": [
    "Like in all Python modules, you can get additionnal information on the `projects` object and associated properties and methods by typing `help(projects)`. The [docs](https://docs.brightwaylca.org/technical/bw2data.html#projects) are of course more verbose."
   ]
  },
  {
   "cell_type": "markdown",
   "metadata": {
    "deletable": true,
    "editable": true
   },
   "source": [
    "##### Contents of a project"
   ]
  },
  {
   "cell_type": "markdown",
   "metadata": {
    "deletable": true,
    "editable": true
   },
   "source": [
    "One property of `projects` is its location, given by `projects.dir`:"
   ]
  },
  {
   "cell_type": "code",
   "execution_count": 6,
   "metadata": {
    "collapsed": false,
    "deletable": true,
    "editable": true,
    "jupyter": {
     "outputs_hidden": false
    }
   },
   "outputs": [
    {
     "data": {
      "text/plain": [
       "'/Users/romain/Library/Application Support/Brightway3/coursePSI.ad34cb91313c17c13fa891538321d355'"
      ]
     },
     "execution_count": 6,
     "metadata": {},
     "output_type": "execute_result"
    }
   ],
   "source": [
    "bw.projects.dir"
   ]
  },
  {
   "cell_type": "markdown",
   "metadata": {
    "deletable": true,
    "editable": true
   },
   "source": [
    "<div class=\"alert alert-info\">\n",
    "    Try to locate your project directory on your computer.\n",
    "</div>"
   ]
  },
  {
   "cell_type": "markdown",
   "metadata": {
    "deletable": true,
    "editable": true
   },
   "source": [
    "First things first: **do not panic**! You can use Brightway2 for years without ever opening this directory, but we will discuss some of these files later.\n",
    "\n",
    "It is simply interesting to note that, for now, all the directories are empty except the `lci` directory, which contains an empty database."
   ]
  },
  {
   "cell_type": "markdown",
   "metadata": {
    "deletable": true,
    "editable": true
   },
   "source": [
    "All in all, the project takes up about 150KB.  \n",
    "Its now time to start populating the project."
   ]
  },
  {
   "cell_type": "markdown",
   "metadata": {
    "deletable": true,
    "editable": true
   },
   "source": [
    "#### 1.3) bw2setup(), biosphere3 database and LCIA methods"
   ]
  },
  {
   "cell_type": "markdown",
   "metadata": {
    "deletable": true,
    "editable": true
   },
   "source": [
    "##### bw2setup()"
   ]
  },
  {
   "cell_type": "markdown",
   "metadata": {
    "deletable": true,
    "editable": true
   },
   "source": [
    "The first thing you should do is add flow and LCIA methods. This is done by running the `bw2setup` function:"
   ]
  },
  {
   "cell_type": "code",
   "execution_count": 7,
   "metadata": {
    "collapsed": false,
    "deletable": true,
    "editable": true,
    "jupyter": {
     "outputs_hidden": false
    }
   },
   "outputs": [
    {
     "name": "stderr",
     "output_type": "stream",
     "text": [
      "Writing activities to SQLite3 database:\n"
     ]
    },
    {
     "name": "stdout",
     "output_type": "stream",
     "text": [
      "Creating default biosphere\n",
      "\n",
      "Applying strategy: normalize_units\n",
      "Applying strategy: drop_unspecified_subcategories\n",
      "Applying strategy: ensure_categories_are_tuples\n",
      "Applied 3 strategies in 0.00 seconds\n"
     ]
    },
    {
     "name": "stderr",
     "output_type": "stream",
     "text": [
      "0% [##############################] 100% | ETA: 00:00:00\n",
      "Total time elapsed: 00:00:00\n"
     ]
    },
    {
     "name": "stdout",
     "output_type": "stream",
     "text": [
      "Title: Writing activities to SQLite3 database:\n",
      "  Started: 03/17/2024 18:25:52\n",
      "  Finished: 03/17/2024 18:25:52\n",
      "  Total time elapsed: 00:00:00\n",
      "  CPU %: 78.30\n",
      "  Memory %: 1.47\n",
      "Created database: biosphere3\n",
      "Creating default LCIA methods\n",
      "\n",
      "Wrote 762 LCIA methods with 227223 characterization factors\n",
      "Creating core data migrations\n",
      "\n"
     ]
    }
   ],
   "source": [
    "bw.bw2setup()"
   ]
  },
  {
   "cell_type": "markdown",
   "metadata": {
    "deletable": true,
    "editable": true
   },
   "source": [
    "The output tells us that bw2_setup created some very useful things:  \n",
    "  - Created a database called \"biosphere3\": this database contains elementary flows (called biosphere exchanges in Brightway2)  \n",
    "  - **762** impact assessment methods  (with bw2data version 3.6.6)\n",
    "\n",
    "<div class=\"alert alert-info\">\n",
    "    Note: The biosphere database contains all \"natural\" flows human-made activities connect to. E.g., CO2 emissions, ore in ground, etc.\n",
    "</div>\n",
    "  \n",
    "It also created some a `mapping` between the imported exchanges and some integer: more on this later.  \n",
    "The whole directory now takes up 157MB."
   ]
  },
  {
   "cell_type": "markdown",
   "metadata": {
    "deletable": true,
    "editable": true
   },
   "source": [
    "##### biosphere3 database and a first look at database objects"
   ]
  },
  {
   "cell_type": "markdown",
   "metadata": {
    "deletable": true,
    "editable": true
   },
   "source": [
    "<div class=\"alert alert-info\">\n",
    "    Note: You can always list the databases inside a project by simply typing 'bw.databases'. This accesses the 'database.json' file in your 'project.dir' (I learned the latter by typing `databases?`, you should try it too.)\n",
    "</div>\n",
    "\n"
   ]
  },
  {
   "cell_type": "code",
   "execution_count": 8,
   "metadata": {
    "collapsed": false,
    "deletable": true,
    "editable": true,
    "jupyter": {
     "outputs_hidden": false
    }
   },
   "outputs": [
    {
     "data": {
      "text/plain": [
       "Databases dictionary with 1 object(s):\n",
       "\tbiosphere3"
      ]
     },
     "execution_count": 8,
     "metadata": {},
     "output_type": "execute_result"
    }
   ],
   "source": [
    "bw.databases"
   ]
  },
  {
   "cell_type": "markdown",
   "metadata": {
    "deletable": true,
    "editable": true
   },
   "source": [
    "While not impossible to interact with the data at this level, you probably never will unless you are developping some funky program. Instead, it is strongly recommended to learn to work with `abstractions`.  "
   ]
  },
  {
   "cell_type": "markdown",
   "metadata": {
    "deletable": true,
    "editable": true
   },
   "source": [
    "To access a database in Brightway, you use the `Database` initialization method (again, you can type `Database?` for more information - this is the last time I'll mention this."
   ]
  },
  {
   "cell_type": "code",
   "execution_count": 9,
   "metadata": {
    "collapsed": false,
    "deletable": true,
    "editable": true,
    "jupyter": {
     "outputs_hidden": false
    }
   },
   "outputs": [
    {
     "data": {
      "text/plain": [
       "Brightway2 SQLiteBackend: biosphere3"
      ]
     },
     "execution_count": 9,
     "metadata": {},
     "output_type": "execute_result"
    }
   ],
   "source": [
    "bw.Database('biosphere3')"
   ]
  },
  {
   "cell_type": "markdown",
   "metadata": {
    "deletable": true,
    "editable": true
   },
   "source": [
    "It doesn't actually return anything other than information about the Backend.  \n",
    "However, there are many properties and functions associated with this database object.  These are found [here](https://2.docs.brightway.dev/technical/bw2data.html#databasechooser). We can also have a look through the autocomplete. Let's assign the database to a variable:"
   ]
  },
  {
   "cell_type": "code",
   "execution_count": 10,
   "metadata": {
    "deletable": true,
    "editable": true,
    "tags": []
   },
   "outputs": [],
   "source": [
    "my_bio = bw.Database('biosphere3')"
   ]
  },
  {
   "cell_type": "markdown",
   "metadata": {
    "deletable": true,
    "editable": true
   },
   "source": [
    "Let's check the my_bio `type`:"
   ]
  },
  {
   "cell_type": "code",
   "execution_count": 11,
   "metadata": {
    "collapsed": false,
    "deletable": true,
    "editable": true,
    "jupyter": {
     "outputs_hidden": false
    }
   },
   "outputs": [
    {
     "data": {
      "text/plain": [
       "bw2data.backends.peewee.database.SQLiteBackend"
      ]
     },
     "execution_count": 11,
     "metadata": {},
     "output_type": "execute_result"
    }
   ],
   "source": [
    "type(my_bio)"
   ]
  },
  {
   "cell_type": "markdown",
   "metadata": {
    "deletable": true,
    "editable": true
   },
   "source": [
    "Let's check its length:"
   ]
  },
  {
   "cell_type": "code",
   "execution_count": 12,
   "metadata": {
    "collapsed": false,
    "deletable": true,
    "editable": true,
    "jupyter": {
     "outputs_hidden": false
    }
   },
   "outputs": [
    {
     "data": {
      "text/plain": [
       "4709"
      ]
     },
     "execution_count": 12,
     "metadata": {},
     "output_type": "execute_result"
    }
   ],
   "source": [
    "len(my_bio)"
   ]
  },
  {
   "cell_type": "markdown",
   "metadata": {
    "deletable": true,
    "editable": true
   },
   "source": [
    "This is exactly the number of items we saw had been added to databases.db  \n",
    "Given this, what do you think is going on?"
   ]
  },
  {
   "cell_type": "markdown",
   "metadata": {
    "deletable": true,
    "editable": true
   },
   "source": [
    "If you type `my_bio.` and click on tab, you should get a list of properties and methods associated with database objects. Try this now:"
   ]
  },
  {
   "cell_type": "code",
   "execution_count": null,
   "metadata": {
    "deletable": true,
    "editable": true,
    "tags": []
   },
   "outputs": [],
   "source": [
    "my_bio.get        # Type my_bio. and click tab. Have a look at the different properties and objects"
   ]
  },
  {
   "cell_type": "markdown",
   "metadata": {
    "deletable": true,
    "editable": true
   },
   "source": [
    "Some of the more basic ones we will be using now are :  \n",
    "  - `random()` - returns a random activity in the database\n",
    "  - `get(*valid_exchange_tuple*)` - returns an activity, but you must know the activity key\n",
    "  - `load()` - loads the whole database as a dictionary.\n",
    "  - `make_searchable` - allows searching of the database (by default, it is already searchable)\n",
    "  - `search` - search the database  \n",
    "  \n",
    "Lets start with `random`:"
   ]
  },
  {
   "cell_type": "code",
   "execution_count": 13,
   "metadata": {
    "collapsed": false,
    "deletable": true,
    "editable": true,
    "jupyter": {
     "outputs_hidden": false
    }
   },
   "outputs": [
    {
     "data": {
      "text/plain": [
       "'Carbon monoxide, non-fossil' (kilogram, None, ('air', 'urban air close to ground'))"
      ]
     },
     "execution_count": 13,
     "metadata": {},
     "output_type": "execute_result"
    }
   ],
   "source": [
    "my_bio.random()"
   ]
  },
  {
   "cell_type": "markdown",
   "metadata": {
    "deletable": true,
    "editable": true
   },
   "source": [
    "This returns a biosphere activity, but without assigning it to a variable, there is not much we can do with it directly.  "
   ]
  },
  {
   "cell_type": "markdown",
   "metadata": {
    "deletable": true,
    "editable": true
   },
   "source": [
    "Note: It may seem counter-intuitive for elementary *flows* to be considered *activities* in Brightway, but it is no mistake. \n",
    "LCA models are made up of **nodes** (activities) that are linked by **edges** (exchanges). The biosphere activities are the nodes *outside* the technosphere. Emissions and resource extractions are modelled as exchanges between activities in the technosphere (part of the product system) and these biosphere activities.  \n",
    "\n",
    "More on this later. "
   ]
  },
  {
   "cell_type": "markdown",
   "metadata": {
    "deletable": true,
    "editable": true
   },
   "source": [
    "For now, let's assign another random activity to a variable:"
   ]
  },
  {
   "cell_type": "code",
   "execution_count": 14,
   "metadata": {
    "collapsed": false,
    "deletable": true,
    "editable": true,
    "jupyter": {
     "outputs_hidden": false
    }
   },
   "outputs": [
    {
     "data": {
      "text/plain": [
       "'Carbonate' (kilogram, None, ('water', 'ground-'))"
      ]
     },
     "execution_count": 14,
     "metadata": {},
     "output_type": "execute_result"
    }
   ],
   "source": [
    "random_biosphere = my_bio.random()\n",
    "random_biosphere"
   ]
  },
  {
   "cell_type": "markdown",
   "metadata": {
    "deletable": true,
    "editable": true
   },
   "source": [
    "We can get the type of the object that was returned from the database:"
   ]
  },
  {
   "cell_type": "code",
   "execution_count": 15,
   "metadata": {
    "collapsed": false,
    "deletable": true,
    "editable": true,
    "jupyter": {
     "outputs_hidden": false
    }
   },
   "outputs": [
    {
     "data": {
      "text/plain": [
       "bw2data.backends.peewee.proxies.Activity"
      ]
     },
     "execution_count": 15,
     "metadata": {},
     "output_type": "execute_result"
    }
   ],
   "source": [
    "type(random_biosphere)"
   ]
  },
  {
   "cell_type": "markdown",
   "metadata": {
    "deletable": true,
    "editable": true
   },
   "source": [
    "The type is an **activity proxy**. Activity proxies allow us to interact with the content of the database."
   ]
  },
  {
   "cell_type": "markdown",
   "metadata": {
    "deletable": true,
    "editable": true
   },
   "source": [
    "In Brightway, we *almost* always work with `Activity` or `Exchange` objects. "
   ]
  },
  {
   "cell_type": "markdown",
   "metadata": {
    "deletable": true,
    "editable": true
   },
   "source": [
    "To see what the activity contains, we can convert it to a dictionary:"
   ]
  },
  {
   "cell_type": "code",
   "execution_count": 16,
   "metadata": {
    "collapsed": false,
    "deletable": true,
    "editable": true,
    "jupyter": {
     "outputs_hidden": false
    }
   },
   "outputs": [
    {
     "data": {
      "text/plain": [
       "{'categories': ('water', 'ground-'),\n",
       " 'code': 'a4403b63-270d-4995-a249-8e31763ce5d7',\n",
       " 'CAS number': '003812-32-6',\n",
       " 'name': 'Carbonate',\n",
       " 'database': 'biosphere3',\n",
       " 'unit': 'kilogram',\n",
       " 'type': 'emission'}"
      ]
     },
     "execution_count": 16,
     "metadata": {},
     "output_type": "execute_result"
    }
   ],
   "source": [
    "random_biosphere.as_dict()"
   ]
  },
  {
   "cell_type": "markdown",
   "metadata": {
    "deletable": true,
    "editable": true
   },
   "source": [
    "##### Getting activities from codes or keys"
   ]
  },
  {
   "cell_type": "markdown",
   "metadata": {
    "deletable": true,
    "editable": true
   },
   "source": [
    "We can see that the activities in the biosphere3 database have unique **codes**, which we can use with the `get` function:"
   ]
  },
  {
   "cell_type": "code",
   "execution_count": 17,
   "metadata": {
    "collapsed": false,
    "deletable": true,
    "editable": true,
    "jupyter": {
     "outputs_hidden": false
    }
   },
   "outputs": [
    {
     "data": {
      "text/plain": [
       "'Carbonate' (kilogram, None, ('water', 'ground-'))"
      ]
     },
     "execution_count": 17,
     "metadata": {},
     "output_type": "execute_result"
    }
   ],
   "source": [
    "my_bio.get(random_biosphere['code'])"
   ]
  },
  {
   "cell_type": "markdown",
   "metadata": {
    "deletable": true,
    "editable": true
   },
   "source": [
    "Activities can also be \"gotten\" via `get_activity`, but the argument is the activity **key**, consisting of a tuple with two elements: the database name, and the activity code."
   ]
  },
  {
   "cell_type": "markdown",
   "metadata": {
    "deletable": true,
    "editable": true,
    "solution2": "shown",
    "solution2_first": true
   },
   "source": [
    "**Exercise:** Use `bw.get_activity()` to retrieve the random biosphere activity. "
   ]
  },
  {
   "cell_type": "code",
   "execution_count": 18,
   "metadata": {
    "collapsed": false,
    "deletable": true,
    "editable": true,
    "jupyter": {
     "outputs_hidden": false
    },
    "solution2": "shown"
   },
   "outputs": [
    {
     "data": {
      "text/plain": [
       "('biosphere3', 'a4403b63-270d-4995-a249-8e31763ce5d7')"
      ]
     },
     "execution_count": 18,
     "metadata": {},
     "output_type": "execute_result"
    }
   ],
   "source": [
    "database_name = 'biosphere3'\n",
    "code = random_biosphere['code']\n",
    "random_biosphere_key = (database_name, code)\n",
    "random_biosphere_key"
   ]
  },
  {
   "cell_type": "code",
   "execution_count": 19,
   "metadata": {
    "collapsed": false,
    "deletable": true,
    "editable": true,
    "jupyter": {
     "outputs_hidden": false
    },
    "solution2": "shown"
   },
   "outputs": [
    {
     "data": {
      "text/plain": [
       "'Carbonate' (kilogram, None, ('water', 'ground-'))"
      ]
     },
     "execution_count": 19,
     "metadata": {},
     "output_type": "execute_result"
    }
   ],
   "source": [
    "bw.get_activity(random_biosphere_key)"
   ]
  },
  {
   "cell_type": "markdown",
   "metadata": {
    "deletable": true,
    "editable": true
   },
   "source": [
    "You can always find (or return) the key to an activity using the `.key` property."
   ]
  },
  {
   "cell_type": "code",
   "execution_count": 20,
   "metadata": {
    "collapsed": false,
    "deletable": true,
    "editable": true,
    "jupyter": {
     "outputs_hidden": false
    }
   },
   "outputs": [
    {
     "data": {
      "text/plain": [
       "('biosphere3', 'a4403b63-270d-4995-a249-8e31763ce5d7')"
      ]
     },
     "execution_count": 20,
     "metadata": {},
     "output_type": "execute_result"
    }
   ],
   "source": [
    "random_biosphere.key"
   ]
  },
  {
   "cell_type": "markdown",
   "metadata": {
    "deletable": true,
    "editable": true
   },
   "source": [
    "##### Searching for activities"
   ]
  },
  {
   "cell_type": "markdown",
   "metadata": {
    "deletable": true,
    "editable": true
   },
   "source": [
    "Let's say we are looking for a specific elementary flow, we can use the `search` method of the database (see [here](https://docs.brightwaylca.org/technical/bw2data.html#default-backend-databases-stored-in-a-sqlite-database) for more details on using search):"
   ]
  },
  {
   "cell_type": "code",
   "execution_count": 21,
   "metadata": {
    "collapsed": false,
    "deletable": true,
    "editable": true,
    "jupyter": {
     "outputs_hidden": false
    }
   },
   "outputs": [
    {
     "data": {
      "text/plain": [
       "['Carbon dioxide, fossil' (kilogram, None, ('air', 'urban air close to ground')),\n",
       " 'Carbon dioxide, fossil' (kilogram, None, ('air', 'non-urban air or from high stacks')),\n",
       " 'Carbon dioxide, in air' (kilogram, None, ('natural resource', 'in air')),\n",
       " 'Carbon dioxide, fossil' (kilogram, None, ('air',)),\n",
       " 'Carbon dioxide, fossil' (kilogram, None, ('air', 'low population density, long-term')),\n",
       " 'Carbon dioxide, fossil' (kilogram, None, ('air', 'lower stratosphere + upper troposphere')),\n",
       " 'Carbon dioxide, non-fossil' (kilogram, None, ('air', 'urban air close to ground')),\n",
       " 'Carbon dioxide, non-fossil' (kilogram, None, ('air', 'low population density, long-term')),\n",
       " 'Carbon dioxide, non-fossil' (kilogram, None, ('air', 'non-urban air or from high stacks')),\n",
       " 'Carbon dioxide, non-fossil' (kilogram, None, ('air',)),\n",
       " 'Carbon dioxide, non-fossil' (kilogram, None, ('air', 'lower stratosphere + upper troposphere')),\n",
       " 'Carbon dioxide, from soil or biomass stock' (kilogram, None, ('air', 'lower stratosphere + upper troposphere')),\n",
       " 'Carbon dioxide, to soil or biomass stock' (kilogram, None, ('soil',)),\n",
       " 'Carbon dioxide, from soil or biomass stock' (kilogram, None, ('air', 'urban air close to ground')),\n",
       " 'Carbon dioxide, from soil or biomass stock' (kilogram, None, ('air',)),\n",
       " 'Carbon dioxide, from soil or biomass stock' (kilogram, None, ('air', 'non-urban air or from high stacks')),\n",
       " 'Carbon dioxide, to soil or biomass stock' (kilogram, None, ('soil', 'agricultural')),\n",
       " 'Carbon dioxide, from soil or biomass stock' (kilogram, None, ('air', 'low population density, long-term')),\n",
       " 'Carbon dioxide, to soil or biomass stock' (kilogram, None, ('soil', 'industrial')),\n",
       " 'Carbon dioxide, to soil or biomass stock' (kilogram, None, ('soil', 'forestry')),\n",
       " 'Carbon dioxide, non-fossil, resource correction' (kilogram, None, ('natural resource', 'in air'))]"
      ]
     },
     "execution_count": 21,
     "metadata": {},
     "output_type": "execute_result"
    }
   ],
   "source": [
    "bw.Database('biosphere3').search('carbon dioxide')"
   ]
  },
  {
   "cell_type": "markdown",
   "metadata": {
    "deletable": true,
    "editable": true
   },
   "source": [
    "It is also possible to use \"filters\" to narrow searches, e.g."
   ]
  },
  {
   "cell_type": "code",
   "execution_count": 22,
   "metadata": {
    "collapsed": false,
    "deletable": true,
    "editable": true,
    "jupyter": {
     "outputs_hidden": false
    }
   },
   "outputs": [
    {
     "name": "stdout",
     "output_type": "stream",
     "text": [
      "Excluding 17 filtered results\n"
     ]
    },
    {
     "data": {
      "text/plain": [
       "['Carbon dioxide, fossil' (kilogram, None, ('air', 'urban air close to ground')),\n",
       " 'Carbon dioxide, fossil' (kilogram, None, ('air', 'non-urban air or from high stacks')),\n",
       " 'Carbon dioxide, non-fossil' (kilogram, None, ('air', 'urban air close to ground')),\n",
       " 'Carbon dioxide, non-fossil' (kilogram, None, ('air', 'non-urban air or from high stacks'))]"
      ]
     },
     "execution_count": 22,
     "metadata": {},
     "output_type": "execute_result"
    }
   ],
   "source": [
    "bw.Database('biosphere3').search('carbon dioxide', filter={'categories':'urban', 'name':'fossil'})"
   ]
  },
  {
   "cell_type": "markdown",
   "metadata": {
    "deletable": true,
    "editable": true
   },
   "source": [
    "The database object is also iterable, allowing \"home-made\" searches through list comprehensions. This approach is better because one can add as many criteria as wanted:"
   ]
  },
  {
   "cell_type": "code",
   "execution_count": 23,
   "metadata": {
    "collapsed": false,
    "deletable": true,
    "editable": true,
    "jupyter": {
     "outputs_hidden": false
    }
   },
   "outputs": [
    {
     "data": {
      "text/plain": [
       "['Carbon dioxide, fossil' (kilogram, None, ('air', 'urban air close to ground'))]"
      ]
     },
     "execution_count": 23,
     "metadata": {},
     "output_type": "execute_result"
    }
   ],
   "source": [
    "[act for act in my_bio if 'Carbon dioxide' in act['name'] \n",
    "                                            and 'fossil' in act['name']\n",
    "                                            and 'non' not in act['name']\n",
    "                                            and 'urban air close to ground' in str(act['categories'])\n",
    "         ]"
   ]
  },
  {
   "cell_type": "markdown",
   "metadata": {
    "deletable": true,
    "editable": true
   },
   "source": [
    "Activities returned by searches or list comprehensions can be assigned to variables, but to do so, one needs to identify the activity by index. Based on the above, I can refine my filters to ensure the list comprehension only returns one activity, and then choose it without fear of choosing the wrong one.."
   ]
  },
  {
   "cell_type": "code",
   "execution_count": 24,
   "metadata": {
    "collapsed": false,
    "jupyter": {
     "outputs_hidden": false
    }
   },
   "outputs": [
    {
     "data": {
      "text/plain": [
       "['Carbon dioxide, fossil' (kilogram, None, ('air', 'urban air close to ground'))]"
      ]
     },
     "execution_count": 24,
     "metadata": {},
     "output_type": "execute_result"
    }
   ],
   "source": [
    "[act for act in my_bio if 'Carbon dioxide' in act['name'] \n",
    "                                            and 'fossil' in act['name']\n",
    "                                            and 'non' not in act['name']\n",
    "                                            and 'urban air close to ground' in str(act['categories'])]"
   ]
  },
  {
   "cell_type": "code",
   "execution_count": 25,
   "metadata": {
    "collapsed": false,
    "deletable": true,
    "editable": true,
    "jupyter": {
     "outputs_hidden": false
    }
   },
   "outputs": [
    {
     "data": {
      "text/plain": [
       "'Carbon dioxide, fossil' (kilogram, None, ('air', 'urban air close to ground'))"
      ]
     },
     "execution_count": 25,
     "metadata": {},
     "output_type": "execute_result"
    }
   ],
   "source": [
    "activity_I_want = [act for act in my_bio if 'Carbon dioxide' in act['name'] \n",
    "                                            and 'fossil' in act['name']\n",
    "                                            and 'non' not in act['name']\n",
    "                                            and 'urban air close to ground' in str(act['categories'])\n",
    "         ][0]\n",
    "activity_I_want"
   ]
  },
  {
   "cell_type": "markdown",
   "metadata": {
    "deletable": true,
    "editable": true,
    "solution2": "hidden",
    "solution2_first": true
   },
   "source": [
    "**Exercise**: look for and assign to a variable an emission of nitrous oxide emitted to air in the \"urban air\" subcompartment."
   ]
  },
  {
   "cell_type": "code",
   "execution_count": 26,
   "metadata": {
    "collapsed": false,
    "jupyter": {
     "outputs_hidden": false
    },
    "solution2": "hidden"
   },
   "outputs": [
    {
     "data": {
      "text/plain": [
       "['Dinitrogen monoxide' (kilogram, None, ('air', 'urban air close to ground')),\n",
       " 'Dinitrogen monoxide' (kilogram, None, ('air', 'non-urban air or from high stacks'))]"
      ]
     },
     "execution_count": 26,
     "metadata": {},
     "output_type": "execute_result"
    }
   ],
   "source": [
    "# First inquiry:\n",
    "[act for act in my_bio if 'nitrogen' in act['name']\n",
    "                       and 'urban air' in str(act['categories'])\n",
    "         ]"
   ]
  },
  {
   "cell_type": "code",
   "execution_count": 27,
   "metadata": {
    "collapsed": false,
    "jupyter": {
     "outputs_hidden": false
    },
    "solution2": "hidden"
   },
   "outputs": [
    {
     "data": {
      "text/plain": [
       "'Dinitrogen monoxide' (kilogram, None, ('air', 'urban air close to ground'))"
      ]
     },
     "execution_count": 27,
     "metadata": {},
     "output_type": "execute_result"
    }
   ],
   "source": [
    "# Found what I need:\n",
    "[act for act in my_bio if 'Dinitrogen monoxide' in act['name']\n",
    "                       and 'urban air close to ground' in str(act['categories'])\n",
    "         ][0]"
   ]
  },
  {
   "cell_type": "markdown",
   "metadata": {
    "deletable": true,
    "editable": true
   },
   "source": [
    "Let's leave the biosphere database here for now."
   ]
  },
  {
   "cell_type": "markdown",
   "metadata": {
    "deletable": true,
    "editable": true
   },
   "source": [
    "##### Methods"
   ]
  },
  {
   "cell_type": "markdown",
   "metadata": {
    "deletable": true,
    "editable": true
   },
   "source": [
    "bw2_setup() also installed LCIA methods."
   ]
  },
  {
   "cell_type": "code",
   "execution_count": 28,
   "metadata": {
    "collapsed": false,
    "deletable": true,
    "editable": true,
    "jupyter": {
     "outputs_hidden": false
    }
   },
   "outputs": [
    {
     "data": {
      "text/plain": [
       "Methods dictionary with 762 objects, including:\n",
       "\t('CML v4.8 2016', 'acidification', 'acidification (incl. fate, average Europe total, A&B)')\n",
       "\t('CML v4.8 2016', 'climate change', 'global warming potential (GWP100)')\n",
       "\t('CML v4.8 2016', 'ecotoxicity: freshwater', 'freshwater aquatic ecotoxicity (FAETP inf)')\n",
       "\t('CML v4.8 2016', 'ecotoxicity: marine', 'marine aquatic ecotoxicity (MAETP inf)')\n",
       "\t('CML v4.8 2016', 'ecotoxicity: terrestrial', 'terrestrial ecotoxicity (TETP inf)')\n",
       "\t('CML v4.8 2016', 'energy resources: non-renewable', 'abiotic depletion potential (ADP): fossil fuels')\n",
       "\t('CML v4.8 2016', 'eutrophication', 'eutrophication (fate not incl.)')\n",
       "\t('CML v4.8 2016', 'human toxicity', 'human toxicity (HTP inf)')\n",
       "\t('CML v4.8 2016', 'material resources: metals/minerals', 'abiotic depletion potential (ADP): elements (ultimate reserves)')\n",
       "\t('CML v4.8 2016', 'ozone depletion', 'ozone layer depletion (ODP steady state)')\n",
       "Use `list(this object)` to get the complete list."
      ]
     },
     "execution_count": 28,
     "metadata": {},
     "output_type": "execute_result"
    }
   ],
   "source": [
    "bw.methods"
   ]
  },
  {
   "cell_type": "markdown",
   "metadata": {
    "deletable": true,
    "editable": true
   },
   "source": [
    "One can load a random method:"
   ]
  },
  {
   "cell_type": "code",
   "execution_count": 29,
   "metadata": {
    "collapsed": false,
    "deletable": true,
    "editable": true,
    "jupyter": {
     "outputs_hidden": false
    }
   },
   "outputs": [
    {
     "data": {
      "text/plain": [
       "('EPS 2020d', 'material resources: metals', 'monetary impact value')"
      ]
     },
     "execution_count": 29,
     "metadata": {},
     "output_type": "execute_result"
    }
   ],
   "source": [
    "bw.methods.random()"
   ]
  },
  {
   "cell_type": "code",
   "execution_count": 30,
   "metadata": {
    "collapsed": false,
    "deletable": true,
    "editable": true,
    "jupyter": {
     "outputs_hidden": false
    }
   },
   "outputs": [
    {
     "data": {
      "text/plain": [
       "tuple"
      ]
     },
     "execution_count": 30,
     "metadata": {},
     "output_type": "execute_result"
    }
   ],
   "source": [
    "type(bw.methods.random())"
   ]
  },
  {
   "cell_type": "markdown",
   "metadata": {
    "deletable": true,
    "editable": true
   },
   "source": [
    "Here, the random method returns the tuple by which the method is identified. To get to an actual method, the following syntax is used:"
   ]
  },
  {
   "cell_type": "code",
   "execution_count": 31,
   "metadata": {
    "collapsed": false,
    "deletable": true,
    "editable": true,
    "jupyter": {
     "outputs_hidden": false
    }
   },
   "outputs": [
    {
     "data": {
      "text/plain": [
       "Brightway2 Method: EDIP 2003 no LT: eutrophication no LT: separate P potential no LT"
      ]
     },
     "execution_count": 31,
     "metadata": {},
     "output_type": "execute_result"
    }
   ],
   "source": [
    "bw.Method(bw.methods.random())"
   ]
  },
  {
   "cell_type": "markdown",
   "metadata": {
    "deletable": true,
    "editable": true
   },
   "source": [
    "Of course, a random method is probably not useful except to play around. To find an actual method, one can again use list comprehensions. Let's say I am interested in using the IPCC2013 100 years method:"
   ]
  },
  {
   "cell_type": "code",
   "execution_count": 33,
   "metadata": {
    "collapsed": false,
    "deletable": true,
    "editable": true,
    "jupyter": {
     "outputs_hidden": false
    }
   },
   "outputs": [
    {
     "data": {
      "text/plain": [
       "[('IPCC 2021 no LT',\n",
       "  'climate change no LT',\n",
       "  'global temperature change potential (GTP100) no LT'),\n",
       " ('IPCC 2021 no LT',\n",
       "  'climate change no LT',\n",
       "  'global warming potential (GWP100) no LT'),\n",
       " ('IPCC 2021 no LT',\n",
       "  'climate change: biogenic no LT',\n",
       "  'global temperature change potential (GTP100) no LT'),\n",
       " ('IPCC 2021 no LT',\n",
       "  'climate change: biogenic no LT',\n",
       "  'global warming potential (GWP100) no LT'),\n",
       " ('IPCC 2021 no LT',\n",
       "  'climate change: biogenic, including SLCFs no LT',\n",
       "  'global temperature change potential (GTP100) no LT'),\n",
       " ('IPCC 2021 no LT',\n",
       "  'climate change: biogenic, including SLCFs no LT',\n",
       "  'global warming potential (GWP100) no LT'),\n",
       " ('IPCC 2021 no LT',\n",
       "  'climate change: fossil no LT',\n",
       "  'global temperature change potential (GTP100) no LT'),\n",
       " ('IPCC 2021 no LT',\n",
       "  'climate change: fossil no LT',\n",
       "  'global warming potential (GWP100) no LT'),\n",
       " ('IPCC 2021 no LT',\n",
       "  'climate change: fossil, including SLCFs no LT',\n",
       "  'global temperature change potential (GTP100) no LT'),\n",
       " ('IPCC 2021 no LT',\n",
       "  'climate change: fossil, including SLCFs no LT',\n",
       "  'global warming potential (GWP100) no LT'),\n",
       " ('IPCC 2021 no LT',\n",
       "  'climate change: including SLCFs no LT',\n",
       "  'global temperature change potential (GTP100) no LT'),\n",
       " ('IPCC 2021 no LT',\n",
       "  'climate change: including SLCFs no LT',\n",
       "  'global warming potential (GWP100) no LT'),\n",
       " ('IPCC 2021 no LT',\n",
       "  'climate change: land use no LT',\n",
       "  'global temperature change potential (GTP100) no LT'),\n",
       " ('IPCC 2021 no LT',\n",
       "  'climate change: land use no LT',\n",
       "  'global warming potential (GWP100) no LT'),\n",
       " ('IPCC 2021 no LT',\n",
       "  'climate change: land use, including SLCFs no LT',\n",
       "  'global temperature change potential (GTP100) no LT'),\n",
       " ('IPCC 2021 no LT',\n",
       "  'climate change: land use, including SLCFs no LT',\n",
       "  'global warming potential (GWP100) no LT'),\n",
       " ('IPCC 2021',\n",
       "  'climate change',\n",
       "  'global temperature change potential (GTP100)'),\n",
       " ('IPCC 2021', 'climate change', 'global warming potential (GWP100)'),\n",
       " ('IPCC 2021',\n",
       "  'climate change: biogenic',\n",
       "  'global temperature change potential (GTP100)'),\n",
       " ('IPCC 2021',\n",
       "  'climate change: biogenic',\n",
       "  'global warming potential (GWP100)'),\n",
       " ('IPCC 2021',\n",
       "  'climate change: biogenic, including SLCFs',\n",
       "  'global temperature change potential (GTP100)'),\n",
       " ('IPCC 2021',\n",
       "  'climate change: biogenic, including SLCFs',\n",
       "  'global warming potential (GWP100)'),\n",
       " ('IPCC 2021',\n",
       "  'climate change: fossil',\n",
       "  'global temperature change potential (GTP100)'),\n",
       " ('IPCC 2021', 'climate change: fossil', 'global warming potential (GWP100)'),\n",
       " ('IPCC 2021',\n",
       "  'climate change: fossil, including SLCFs',\n",
       "  'global temperature change potential (GTP100)'),\n",
       " ('IPCC 2021',\n",
       "  'climate change: fossil, including SLCFs',\n",
       "  'global warming potential (GWP100)'),\n",
       " ('IPCC 2021',\n",
       "  'climate change: including SLCFs',\n",
       "  'global temperature change potential (GTP100)'),\n",
       " ('IPCC 2021',\n",
       "  'climate change: including SLCFs',\n",
       "  'global warming potential (GWP100)'),\n",
       " ('IPCC 2021',\n",
       "  'climate change: land use',\n",
       "  'global temperature change potential (GTP100)'),\n",
       " ('IPCC 2021',\n",
       "  'climate change: land use',\n",
       "  'global warming potential (GWP100)'),\n",
       " ('IPCC 2021',\n",
       "  'climate change: land use, including SLCFs',\n",
       "  'global temperature change potential (GTP100)'),\n",
       " ('IPCC 2021',\n",
       "  'climate change: land use, including SLCFs',\n",
       "  'global warming potential (GWP100)')]"
      ]
     },
     "execution_count": 33,
     "metadata": {},
     "output_type": "execute_result"
    }
   ],
   "source": [
    "[m for m in bw.methods if 'IPCC' in str(m) and ('2021') in str(m) and '100' in str(m)]"
   ]
  },
  {
   "cell_type": "markdown",
   "metadata": {
    "deletable": true,
    "editable": true
   },
   "source": [
    "I am interested in the second of these, and will assign it to a variable. I can will refine my search until there is one element in my list and then choose it by subscripting."
   ]
  },
  {
   "cell_type": "code",
   "execution_count": 37,
   "metadata": {
    "collapsed": false,
    "jupyter": {
     "outputs_hidden": false
    }
   },
   "outputs": [
    {
     "data": {
      "text/plain": [
       "[('IPCC 2021', 'climate change', 'global warming potential (GWP100)'),\n",
       " ('IPCC 2021',\n",
       "  'climate change: biogenic',\n",
       "  'global warming potential (GWP100)'),\n",
       " ('IPCC 2021', 'climate change: fossil', 'global warming potential (GWP100)'),\n",
       " ('IPCC 2021',\n",
       "  'climate change: land use',\n",
       "  'global warming potential (GWP100)')]"
      ]
     },
     "execution_count": 37,
     "metadata": {},
     "output_type": "execute_result"
    }
   ],
   "source": [
    "[m for m in bw.methods if 'IPCC' in m[0]\n",
    "                        and ('2021') in str(m)\n",
    "                        and 'GWP100' in str(m)\n",
    "                        and 'no LT' not in str(m)\n",
    "                        and 'SLCF' not in str(m)\n",
    "]"
   ]
  },
  {
   "cell_type": "code",
   "execution_count": 39,
   "metadata": {
    "collapsed": false,
    "deletable": true,
    "editable": true,
    "jupyter": {
     "outputs_hidden": false
    }
   },
   "outputs": [],
   "source": [
    "# Good, now let's choose it:\n",
    "ipcc2021 = [m for m in bw.methods if 'IPCC' in m[0]\n",
    "                    and ('2021') in str(m)\n",
    "                    and 'GWP100' in str(m)\n",
    "                    and 'no LT' not in str(m)\n",
    "                    and 'SLCF' not in str(m)\n",
    "           ][0]"
   ]
  },
  {
   "cell_type": "markdown",
   "metadata": {
    "deletable": true,
    "editable": true
   },
   "source": [
    "Of course, if I know exactly the method I want, and I know the syntax, I can simply type it out: `('IPCC 2021', 'climate change', 'GWP 100a')`"
   ]
  },
  {
   "cell_type": "code",
   "execution_count": 40,
   "metadata": {
    "collapsed": false,
    "deletable": true,
    "editable": true,
    "jupyter": {
     "outputs_hidden": false
    }
   },
   "outputs": [
    {
     "data": {
      "text/plain": [
       "tuple"
      ]
     },
     "execution_count": 40,
     "metadata": {},
     "output_type": "execute_result"
    }
   ],
   "source": [
    "type(ipcc2021)"
   ]
  },
  {
   "cell_type": "code",
   "execution_count": 42,
   "metadata": {
    "deletable": true,
    "editable": true,
    "tags": []
   },
   "outputs": [],
   "source": [
    "ipcc_2021_method = bw.Method(ipcc2021)"
   ]
  },
  {
   "cell_type": "code",
   "execution_count": 43,
   "metadata": {
    "collapsed": false,
    "deletable": true,
    "editable": true,
    "jupyter": {
     "outputs_hidden": false
    }
   },
   "outputs": [
    {
     "data": {
      "text/plain": [
       "bw2data.method.Method"
      ]
     },
     "execution_count": 43,
     "metadata": {},
     "output_type": "execute_result"
    }
   ],
   "source": [
    "type(ipcc_2021_method)"
   ]
  },
  {
   "cell_type": "markdown",
   "metadata": {
    "deletable": true,
    "editable": true
   },
   "source": [
    "Again, there are a bunch of methods associated with a method object. You can access these by typing ipcc_2013_method. and clicking tab.  \n",
    "For example, metadata:"
   ]
  },
  {
   "cell_type": "code",
   "execution_count": 44,
   "metadata": {
    "collapsed": false,
    "deletable": true,
    "editable": true,
    "jupyter": {
     "outputs_hidden": false
    }
   },
   "outputs": [
    {
     "data": {
      "text/plain": [
       "('IPCC 2021', 'climate change', 'global warming potential (GWP100)')"
      ]
     },
     "execution_count": 44,
     "metadata": {},
     "output_type": "execute_result"
    }
   ],
   "source": [
    "ipcc_2021_method.name"
   ]
  },
  {
   "cell_type": "code",
   "execution_count": 45,
   "metadata": {
    "collapsed": false,
    "deletable": true,
    "editable": true,
    "jupyter": {
     "outputs_hidden": false
    }
   },
   "outputs": [
    {
     "data": {
      "text/plain": [
       "{'description': '',\n",
       " 'filename': 'LCIA_Implementation_3.9.xlsx',\n",
       " 'unit': 'kg CO2-Eq',\n",
       " 'abbreviation': 'ipcc-2021cg.7f3bec1f3f63e5211c9815c52a5f928c',\n",
       " 'num_cfs': 226}"
      ]
     },
     "execution_count": 45,
     "metadata": {},
     "output_type": "execute_result"
    }
   ],
   "source": [
    "ipcc_2021_method.metadata"
   ]
  },
  {
   "cell_type": "code",
   "execution_count": 46,
   "metadata": {
    "collapsed": false,
    "deletable": true,
    "editable": true,
    "jupyter": {
     "outputs_hidden": false
    }
   },
   "outputs": [
    {
     "data": {
      "text/plain": [
       "'kg CO2-Eq'"
      ]
     },
     "execution_count": 46,
     "metadata": {},
     "output_type": "execute_result"
    }
   ],
   "source": [
    "ipcc_2021_method.metadata['unit']"
   ]
  },
  {
   "cell_type": "markdown",
   "metadata": {
    "deletable": true,
    "editable": true
   },
   "source": [
    "Question: where is this metadata?"
   ]
  },
  {
   "cell_type": "markdown",
   "metadata": {
    "deletable": true,
    "editable": true
   },
   "source": [
    "Let's use the `load` method to see what is in the object:"
   ]
  },
  {
   "cell_type": "code",
   "execution_count": 47,
   "metadata": {
    "collapsed": false,
    "deletable": true,
    "editable": true,
    "jupyter": {
     "outputs_hidden": false
    }
   },
   "outputs": [
    {
     "data": {
      "text/plain": [
       "[(('biosphere3', '892f10da-7bf2-42b3-b171-221989661a05'), 0.006),\n",
       " (('biosphere3', 'f9749677-9c9f-4678-ab55-c607dfdc2cb9'), 1),\n",
       " (('biosphere3', '4cadbc9f-0472-4bb9-a942-df5b90e37878'), 20.6),\n",
       " (('biosphere3', '9ea11aea-7cb7-4b38-b936-a42c2a4bac97'), 0.437),\n",
       " (('biosphere3', 'fa0c2bee-8dd9-4f8a-8489-b1f3b43de958'), 1530),\n",
       " (('biosphere3', '818cee9e-231c-4b53-8ed2-47a0001802d5'), 161),\n",
       " (('biosphere3', 'f43b2b80-f5a6-4d31-9980-0754305a978d'), 5810),\n",
       " (('biosphere3', '033d3a16-e1a2-4ce8-8769-f4ea867801ca'), 860),\n",
       " (('biosphere3', '393d0862-04cc-45ae-8d08-9dc2a4461b35'), 164),\n",
       " (('biosphere3', '468bebea-17ee-49d3-b11d-c603d91c67c8'), 1.3),\n",
       " (('biosphere3', '400be66e-4383-482a-93e3-c005e96de261'), 2300),\n",
       " (('biosphere3', 'db907ff7-6cf0-4f88-9376-116262dfad6d'), 90.4),\n",
       " (('biosphere3', '27f61651-96a5-45c7-9873-832626cf6905'), 597),\n",
       " (('biosphere3', '15e54d5b-aba2-40a6-9aa8-aa2b8c432129'), 9600),\n",
       " (('biosphere3', 'df5dd437-2e12-4af6-8f7a-9c8224857dc5'), 12400),\n",
       " (('biosphere3', '5d1701c5-c4ef-49c7-8a68-ce7c255eee9f'), 3740),\n",
       " (('biosphere3', 'd2d4b344-3c58-4b0c-868a-ac0bdb2027dc'), 6.34),\n",
       " (('biosphere3', '0e7c1a7b-cd98-4f8d-a619-a687d3e2cb48'), 0.044),\n",
       " (('biosphere3', '4bf1c333-419b-4278-ac14-247c8bf563d6'), 2.43),\n",
       " (('biosphere3', '816c43d1-bc30-4a72-81db-08cb6be4da4f'), 1930),\n",
       " (('biosphere3', '18ddd879-5496-4419-8ab7-e0d3864d977d'), 7200),\n",
       " (('biosphere3', '8ca6c84b-7f56-47e6-8d17-4f2dbc49a943'), 1960),\n",
       " (('biosphere3', '5fa05c4f-8766-41ff-9dd1-fa47c0b7ea48'), 79.4),\n",
       " (('biosphere3', '43bc4fc0-bfeb-46d6-b3de-f69c3ccd622a'), 16200),\n",
       " (('biosphere3', '2716807d-0266-48ff-bb7a-6e6c5fbfd5c5'), 11.2),\n",
       " (('biosphere3', '31a3e44c-4098-461e-aba2-f79540e05087'), 12500),\n",
       " (('biosphere3', '3c8af80d-7ff8-43f4-b1a7-cef73b1b4682'), 160),\n",
       " (('biosphere3', 'c9028b09-c12d-421b-9944-7d145e196ebc'), 771),\n",
       " (('biosphere3', '5f7aad3d-566c-4d0d-ad59-e765f971aa0f'), 29.8),\n",
       " (('biosphere3', '370447a7-70d1-47bd-8577-0a32c4f53570'), 5.54),\n",
       " (('biosphere3', 'baf58fc9-573c-419c-8c16-831ac03203b9'), 27),\n",
       " (('biosphere3', '5c97dd6c-aaa5-4477-aaf8-dbd0674499c4'), 2200),\n",
       " (('biosphere3', 'dfe1da1e-7756-4f7e-a393-6d5e2342a962'), 7380),\n",
       " (('biosphere3', '33a69662-583b-45b8-8cb9-94f59fca9133'), 6230),\n",
       " (('biosphere3', '8f87dcf1-0177-4d62-bea0-a5dd8647ef8c'), 14600),\n",
       " (('biosphere3', 'f3f34697-7231-4575-aaf5-e35b972d329a'), 0.481),\n",
       " (('biosphere3', '1fdc280a-34d3-4513-b110-3f526b17c443'), 17400),\n",
       " (('biosphere3', '98c66fdb-091d-46e9-a533-686f821e8f6a'), 0.02),\n",
       " (('biosphere3', '856c9aa2-c20c-49a8-9417-c71bdb5f17b0'), 25200),\n",
       " (('biosphere3', 'fa5512cf-04a2-4014-8e96-d3e2d137f0df'), 0.006),\n",
       " (('biosphere3', 'f4a1e10b-ed51-433e-a2f5-2a99f231a5e5'), 0.006),\n",
       " (('biosphere3', '66ff5d22-17e2-4112-b486-3ea4e0191fba'), 0.006),\n",
       " (('biosphere3', '982b0510-96ac-4bcb-a758-e98006b95f4d'), 0.006),\n",
       " (('biosphere3', 'aa7cac3a-3625-41d4-bc54-33e2cf11ec46'), 1),\n",
       " (('biosphere3', 'e259263c-d1f1-449f-bb9b-73c6d0a32a00'), 1),\n",
       " (('biosphere3', '16eeda8a-1ea2-408e-ab37-2648495058dd'), 1),\n",
       " (('biosphere3', '349b29d1-3e58-4c66-98b9-9d1a076efd2e'), 1),\n",
       " (('biosphere3', 'fa9b9736-6de8-4bd6-ba22-1bd78c798373'), 20.6),\n",
       " (('biosphere3', '78259cf2-1bb2-41ec-941c-9d70909df094'), 20.6),\n",
       " (('biosphere3', '98af3079-fb76-488d-8afe-713814e14d36'), 20.6),\n",
       " (('biosphere3', 'fbf6ab3a-74e3-4cbe-b61d-959728bdce46'), 20.6),\n",
       " (('biosphere3', 'e7e0031e-791d-42f4-b26c-ec322db637bc'), 0.437),\n",
       " (('biosphere3', '823106de-a29a-481f-8647-728a19b9294d'), 0.437),\n",
       " (('biosphere3', '6cfec9aa-691b-4be2-940d-56e73fda16de'), 0.437),\n",
       " (('biosphere3', '8e30c990-5ed4-4f94-9d0e-2f5e4ff1a1f9'), 0.437),\n",
       " (('biosphere3', '16fcd4f9-0bb8-4b84-8334-3ffb1a17aa74'), 1530),\n",
       " (('biosphere3', '647ae26f-f2fe-44cb-ac81-39bb7736f28e'), 1530),\n",
       " (('biosphere3', '75fe1a2c-49fa-49e4-90f1-8f102508a96d'), 1530),\n",
       " (('biosphere3', 'e87f039d-d9ce-4242-ac18-c9284cc80f3d'), 1530),\n",
       " (('biosphere3', '99585564-bfce-4845-9aaa-2f24b8f26a41'), 161),\n",
       " (('biosphere3', 'f8ee4881-a003-4e18-aa2a-d9daf97d76f7'), 161),\n",
       " (('biosphere3', '9e7d019f-c8c0-4631-9bbb-ced3e081c90d'), 161),\n",
       " (('biosphere3', 'ce6294f5-2ed7-46ee-a967-33e265e34455'), 161),\n",
       " (('biosphere3', '5253e322-7de5-42aa-9167-daf22ff44031'), 5810),\n",
       " (('biosphere3', 'bf580c6b-1b4d-429d-bed7-1e335920941f'), 5810),\n",
       " (('biosphere3', '5eb2d548-1694-496d-b3bd-a439984fca7d'), 5810),\n",
       " (('biosphere3', 'e86bfec2-1025-4fa2-90b1-81e35e621e91'), 5810),\n",
       " (('biosphere3', 'd2025041-20ee-41bb-b2c8-47631e839ff0'), 6520),\n",
       " (('biosphere3', '416eedbd-a7b4-4693-8031-9bfaa2f20ebc'), 860),\n",
       " (('biosphere3', 'b018c97d-8fea-4258-b4d3-6a65669c77f4'), 860),\n",
       " (('biosphere3', '8c193650-c4ae-4e9a-b25b-eaa7b2b9ea2d'), 860),\n",
       " (('biosphere3', '843fd145-61ac-4fa7-a608-ce4ac4d88d49'), 860),\n",
       " (('biosphere3', '1c4a106a-53bc-40f5-bcae-d30ab191dbfe'), 164),\n",
       " (('biosphere3', '94ca9e00-5268-4663-a0cd-25026c7c6b53'), 164),\n",
       " (('biosphere3', 'fff3d2db-2784-4044-a6a2-2bc7242456ee'), 164),\n",
       " (('biosphere3', '9cf9bf0e-86fe-42c0-90cc-bfed96fbdc8f'), 164),\n",
       " (('biosphere3', '89324b2f-1e73-4eb1-9716-96b9be0349ac'), 1.3),\n",
       " (('biosphere3', 'ba3120e9-7412-4517-812c-752edeac5472'), 1.3),\n",
       " (('biosphere3', 'cab70244-9e25-42d3-b31e-ddabfd3eeb67'), 1.3),\n",
       " (('biosphere3', '03758df7-503a-400e-bc7b-ec05825761a5'), 1.3),\n",
       " (('biosphere3', '95b6f6da-49f9-413d-8ff5-5342d6cff588'), 2300),\n",
       " (('biosphere3', '50432644-8568-444e-b7e7-8e37a7e1f3e3'), 2300),\n",
       " (('biosphere3', '1652c2e3-c6c5-49e1-9ad1-34c188087ca6'), 2300),\n",
       " (('biosphere3', 'ba781ac6-cdf1-4a09-86b5-76b19ed3438b'), 2300),\n",
       " (('biosphere3', '2cbc6042-2cee-4668-8017-d7f805d9029e'), 90.4),\n",
       " (('biosphere3', 'f322122f-3059-4cfb-8754-efc82548e7f0'), 90.4),\n",
       " (('biosphere3', '2fff3bda-1eec-4166-9969-bc9e757c8e8e'), 90.4),\n",
       " (('biosphere3', '050da0cd-2957-45a9-ae7a-ace372083fe5'), 90.4),\n",
       " (('biosphere3', '71a6ea76-6642-4573-bed2-c1884e6792fd'), 597),\n",
       " (('biosphere3', '0bf92802-8b5e-43f5-a261-95c06bd5c551'), 597),\n",
       " (('biosphere3', '9b7e5cbf-e1eb-420d-ad43-248df23457ee'), 597),\n",
       " (('biosphere3', '60268f3d-468b-487e-acb1-24d7250cb6b3'), 597),\n",
       " (('biosphere3', '6f8ce7a4-d66a-4593-9314-51778aa09d4b'), 9600),\n",
       " (('biosphere3', '4925cde1-9f43-43d3-bcf1-4865b8de6634'), 9600),\n",
       " (('biosphere3', '30533fd3-b19c-44fc-9a88-fb6b12409b47'), 9600),\n",
       " (('biosphere3', 'ec8789e5-d140-4ca8-b7ef-b3abfd044414'), 9600),\n",
       " (('biosphere3', '8f3e0579-d07d-48c9-b41a-fb559728f9c0'), 12400),\n",
       " (('biosphere3', 'b7e0bddf-7b8a-43f4-9319-6f4b3d9fa65a'), 12400),\n",
       " (('biosphere3', '7f62f535-e81a-476c-9c39-4d59f289db1a'), 12400),\n",
       " (('biosphere3', 'acc39720-dda7-4b3a-80c7-c6394cad4191'), 12400),\n",
       " (('biosphere3', '84386543-b148-465b-9265-ad638c12e263'), 3740),\n",
       " (('biosphere3', 'dc9520c7-6e4a-42fb-b1f6-9fa8f34667a4'), 3740),\n",
       " (('biosphere3', '40022b1f-8906-4c54-a074-bf1a3fc9b13f'), 3740),\n",
       " (('biosphere3', '281e1011-f121-4d5b-ad4d-22d562b2c2cd'), 3740),\n",
       " (('biosphere3', '754028fd-e650-4804-922e-694a764ba578'), 6.34),\n",
       " (('biosphere3', 'd88b5aeb-d589-4847-b2d4-80ba6a227ab7'), 6.34),\n",
       " (('biosphere3', 'a8a2f53b-c6d2-4302-a59f-502bd7e242fc'), 6.34),\n",
       " (('biosphere3', '9bc66656-9f37-44bc-ae0b-5d5243b8137e'), 6.34),\n",
       " (('biosphere3', '22698b26-ab11-43eb-a48f-3e46863555cc'), 0.044),\n",
       " (('biosphere3', 'd56ddb2e-5087-4118-8359-64fb6cb513f9'), 0.044),\n",
       " (('biosphere3', '2e1396a2-b8e0-4f4a-89c7-11c4ee4733c1'), 0.044),\n",
       " (('biosphere3', '57bdb443-d4a6-423d-8024-959b8261d02e'), 27),\n",
       " (('biosphere3', '6c977009-5c4e-4901-a4c1-ab20389cb972'), 27),\n",
       " (('biosphere3', '258263a0-6be3-4439-bd84-efee0498b849'), 27),\n",
       " (('biosphere3', 'da1157e2-7593-4dfd-80dd-a3449b37a4d8'), 27),\n",
       " (('biosphere3', '701cda28-4722-431c-b52f-05a735ef5ed3'), 2.43),\n",
       " (('biosphere3', '09e231fa-b1c2-4d63-9c57-7ea0e2210858'), 2.43),\n",
       " (('biosphere3', '6bdb666d-e227-4f57-9b1d-d25009d3c44b'), 2.43),\n",
       " (('biosphere3', '8c283de2-50d3-40c8-8bff-1e172c3398f8'), 2.43),\n",
       " (('biosphere3', '494eb62d-3e16-4a81-b344-6d6dfd9fd4e2'), 1930),\n",
       " (('biosphere3', '06a4fedf-dab4-4ef1-90df-1d0ce8fe6477'), 1930),\n",
       " (('biosphere3', '50f528ca-45e7-42d0-b399-998ea63ddabf'), 1930),\n",
       " (('biosphere3', 'ee31ac2a-9336-4ed6-8077-9663003bc2f9'), 1930),\n",
       " (('biosphere3', '82957257-07f3-4536-ac8b-175cb2353c75'), 7200),\n",
       " (('biosphere3', '96b52062-5e2f-40de-921a-f443c08862e4'), 7200),\n",
       " (('biosphere3', 'cf719b78-9834-4649-a1dd-8554c366c83f'), 7200),\n",
       " (('biosphere3', '4ac2ffc3-312e-4e2d-88c4-2630d4a73d8c'), 7200),\n",
       " (('biosphere3', '56b7d3b6-83d7-42b0-a65b-5ad23e29db47'), 1960),\n",
       " (('biosphere3', '9b505d7c-4239-40e0-9dbe-55d38f3b85b3'), 1960),\n",
       " (('biosphere3', '26991da1-c263-4707-9f85-78685acc94dc'), 1960),\n",
       " (('biosphere3', '18c582fe-7336-4138-8797-2db8b7a754c7'), 1960),\n",
       " (('biosphere3', '46ecffe9-d6c6-4763-b575-dd73d5bdd727'), 79.4),\n",
       " (('biosphere3', '8b1912e7-fa62-4fa7-9d33-46da503ad788'), 79.4),\n",
       " (('biosphere3', '41f45128-cebe-4ece-aafa-7406a5c98775'), 79.4),\n",
       " (('biosphere3', '5eafb840-6f50-418d-98bd-27b86f75613c'), 79.4),\n",
       " (('biosphere3', '23a9f33d-dbab-4fcc-8f49-1df731b0b827'), 16200),\n",
       " (('biosphere3', '5dfb74d2-fa15-4f2d-bf7c-5aa45a41ec7f'), 16200),\n",
       " (('biosphere3', 'b9c1ac70-e2eb-4fcd-bc63-befa92866af5'), 16200),\n",
       " (('biosphere3', 'e06e2e1e-ad87-49e2-a184-f2d1c48b7b46'), 16200),\n",
       " (('biosphere3', 'd4b61c6c-a620-4a91-afc6-ca87ef97b55a'), 11.2),\n",
       " (('biosphere3', 'f903c2fb-71bf-4568-99fc-6aa7ed7bc922'), 11.2),\n",
       " (('biosphere3', 'b328d33e-9a9f-407d-a767-5c64ccdc163f'), 11.2),\n",
       " (('biosphere3', '432a3326-73f8-4752-bc4d-06b7b4b1243c'), 11.2),\n",
       " (('biosphere3', 'e93ba406-3df8-4e34-be54-0d556b2bb629'), 12500),\n",
       " (('biosphere3', '31f8976a-6f7d-487e-a850-eb495dbf0351'), 12500),\n",
       " (('biosphere3', '1013b9ec-a7b5-459c-be3d-74f61b9ce06e'), 12500),\n",
       " (('biosphere3', 'c0e8ec60-a5ae-432e-97a5-cf76b6247a00'), 12500),\n",
       " (('biosphere3', '727835b8-c650-4d46-882f-35b2a366b559'), 160),\n",
       " (('biosphere3', '34de4196-871a-4db8-a182-589ab780a935'), 160),\n",
       " (('biosphere3', 'de8d76cb-7216-4e6f-8bf2-8cdf76e99902'), 160),\n",
       " (('biosphere3', '04a6edb8-624a-484e-8f85-d771657adae7'), 160),\n",
       " (('biosphere3', '8fbe2c56-c213-4501-b95e-ff57a76fbd6f'), 771),\n",
       " (('biosphere3', '33a791a2-a1e7-446b-b25a-b3be6159bae4'), 771),\n",
       " (('biosphere3', '20d0fc73-b9ce-4001-ac15-893b30ed10a3'), 771),\n",
       " (('biosphere3', '151212b4-079b-43a2-96d5-a6eef59166ac'), 771),\n",
       " (('biosphere3', '70ef743b-3ed5-4a6d-b192-fb6d62378555'), 29.8),\n",
       " (('biosphere3', 'f3bd723a-5276-4ae8-9860-b89537351a90'), 29.8),\n",
       " (('biosphere3', '6b1b495b-70ee-4be6-b1c2-3031aa4d6add'), 29.8),\n",
       " (('biosphere3', '0795345f-c7ae-410c-ad25-1845784c75f5'), 29.8),\n",
       " (('biosphere3', 'ed63abd0-7cc6-4825-8759-b367e560fe95'), 5.54),\n",
       " (('biosphere3', '246c87af-4495-4977-8d39-eae397c1c8f1'), 5.54),\n",
       " (('biosphere3', '0f70e720-127e-44dc-bb85-438158235ab6'), 5.54),\n",
       " (('biosphere3', '18ea247b-edc2-43fe-89bd-cedd04102bcc'), 5.54),\n",
       " (('biosphere3', '0f9f3e17-eb81-4adb-8170-049bc6b66728'), 2200),\n",
       " (('biosphere3', 'ba5c9458-44df-4d93-a7c3-9389f65166d8'), 2200),\n",
       " (('biosphere3', '6c833956-6302-47c3-8abc-7ecae92266fb'), 2200),\n",
       " (('biosphere3', '86d12e70-0c64-4ecf-ba52-114fa0c5d402'), 2200),\n",
       " (('biosphere3', 'b353e7d2-5b94-4b6e-a3e5-de0a10bef851'), 7380),\n",
       " (('biosphere3', 'e59a199f-d4ed-4d43-82b1-71c4a8fae867'), 7380),\n",
       " (('biosphere3', '6d023c39-c04e-4305-b2e4-adc89b53e708'), 7380),\n",
       " (('biosphere3', '33681770-a0e1-4ce8-93c3-941fd607fa5f'), 7380),\n",
       " (('biosphere3', 'a916ca1b-4ece-4630-a563-ae3253efc04f'), 6230),\n",
       " (('biosphere3', '3feb6415-ae50-4bb7-b9d1-c18d99f8a87f'), 6230),\n",
       " (('biosphere3', '6e61b542-5681-44f4-afcb-e30368bca420'), 6230),\n",
       " (('biosphere3', '51e99a55-bcdb-4d18-9484-6de4b142e09d'), 6230),\n",
       " (('biosphere3', '5e2e1740-1bb9-4157-b816-6cb5aa006437'), 14600),\n",
       " (('biosphere3', 'dc78690a-2b0a-49fc-8272-b811fb25ff6c'), 14600),\n",
       " (('biosphere3', 'a3724600-89c1-4f35-97c9-0de3adbadc8b'), 14600),\n",
       " (('biosphere3', 'e5ba3517-a93f-422e-9ce2-f1007fcf6c06'), 14600),\n",
       " (('biosphere3', '1dfddbaf-11aa-4001-89e7-1303b3a95e02'), 0.481),\n",
       " (('biosphere3', '10e38581-58c8-4b27-85a4-6db6a83286ba'), 0.481),\n",
       " (('biosphere3', '4394c871-7245-4bfc-8e9d-9a875e81b7ee'), 0.481),\n",
       " (('biosphere3', 'bce77a75-c399-4fa6-94ab-90d0e704ebde'), 0.481),\n",
       " (('biosphere3', 'f8cf5fd7-9f94-4870-9e6a-768deae9b766'), 17400),\n",
       " (('biosphere3', '4c097625-506e-4dfc-a170-75fda90cf7cb'), 17400),\n",
       " (('biosphere3', 'fdf090d7-ee05-4f33-8b7f-5504c718c3cd'), 17400),\n",
       " (('biosphere3', 'e79e03c3-5b19-45f6-b3f3-bf710c6663d2'), 17400),\n",
       " (('biosphere3', '9beb60a3-3a8c-4345-9a0e-107eec2f709f'), 0.02),\n",
       " (('biosphere3', 'abb87cf5-9e30-4d02-987c-7643510b7013'), 0.02),\n",
       " (('biosphere3', 'aec794cd-e559-46f6-a2a0-7f4ef195144c'), 0.02),\n",
       " (('biosphere3', '3a6c936c-0276-4f11-9d98-1bd011387a6e'), 0.02),\n",
       " (('biosphere3', 'c7c769bb-89b9-4459-afed-e3acecd39339'), 25200),\n",
       " (('biosphere3', 'acbae70a-5450-448f-9038-c403cb496e1a'), 25200),\n",
       " (('biosphere3', '44e4d1ce-fa79-4ed5-93f9-445c4ff8df2e'), 25200),\n",
       " (('biosphere3', '35d1dff5-b535-4628-9826-4a8fce08a1f2'), 25200),\n",
       " (('biosphere3', 'e2ccc98a-6d4e-443b-b11f-d16f32782833'), 9220),\n",
       " (('biosphere3', '9541a975-800f-4fed-9edf-28f6e411a015'), 29.8),\n",
       " (('biosphere3', 'f757365c-c6fd-41fe-ad32-3594ccd97ef0'), 29.8),\n",
       " (('biosphere3', 'e4e9febc-07c1-403d-8d3a-6707bb4d96e6'), 1),\n",
       " (('biosphere3', 'ef4566f0-60d5-4bbe-a2cb-7268a81fecd4'), 29.8),\n",
       " (('biosphere3', 'e1c597cc-14cb-4ebb-af07-7a93a5b77d34'), 1),\n",
       " (('biosphere3', '375bc95e-6596-4aa1-9716-80ff51b9da77'), -1),\n",
       " (('biosphere3', '7f0ba7c9-341e-413d-80f6-8753727d65d1'), 29.8),\n",
       " (('biosphere3', '6d89125e-e9b7-4d7e-a1fc-ada45dbd8815'), 1),\n",
       " (('biosphere3', '78eb1859-abd9-44c6-9ce3-f3b5b33d619c'), 1),\n",
       " (('biosphere3', 'e8787b5e-d927-446d-81a9-f56977bbfeb4'), 1),\n",
       " (('biosphere3', '299c6564-426e-48c3-b516-fdf301d12127'), 29.8),\n",
       " (('biosphere3', '259cf8d6-6ea8-4ccf-84b7-23c930a5b2b3'), -1),\n",
       " (('biosphere3', '60d424f7-d5a9-4549-9540-da06684bc3bb'), -1),\n",
       " (('biosphere3', '8ae4d8bb-3e4b-4825-8325-94696d7a64fd'), -1),\n",
       " (('biosphere3', 'a0950325-06dc-5ca0-84b6-983c9e6ccf74'), 0.044),\n",
       " (('biosphere3', 'f2e4394f-61bb-5493-983d-d3d5b7b96a41'), 0.052),\n",
       " (('biosphere3', '8a3a44e4-e2f1-476d-9e9e-a90fda263fe3'), 9430),\n",
       " (('biosphere3', '7d05319a-1260-45e0-8872-d5ff1712ea7e'), 9430),\n",
       " (('biosphere3', '1e060d5a-cd41-4f30-9c93-272403b7e004'), 9430),\n",
       " (('biosphere3', '1584734d-c5c8-42a5-aa51-0f6a92a9cc0d'), 9430),\n",
       " (('biosphere3', 'cacfd448-6c2d-4061-9363-fd506b979f25'), 6520),\n",
       " (('biosphere3', '53b87932-00c8-4bf4-b519-ecd3c401ed4d'), 6520),\n",
       " (('biosphere3', '47c12d99-c2dc-41cf-bad1-cd31c2fe0421'), 6520),\n",
       " (('biosphere3', '3b30d058-02ef-4ed2-b357-5fc1a45c63e7'), 9430),\n",
       " (('biosphere3', '9b132374-dce2-4ce0-86aa-53201b30f617'), 6520),\n",
       " (('biosphere3', '6dc1b46f-ee89-4495-95c4-b8a637bcd6cb'), 273),\n",
       " (('biosphere3', 'afd6d670-bbb0-4625-9730-04088a5b035e'), 273),\n",
       " (('biosphere3', '81305cda-63f1-4c1a-99c6-2c2568550ec4'), 273),\n",
       " (('biosphere3', '473826ae-125a-4b02-8c8e-c84322491d80'), 273),\n",
       " (('biosphere3', '20185046-64bb-4c09-a8e7-e8a9e144ca98'), 273)]"
      ]
     },
     "execution_count": 47,
     "metadata": {},
     "output_type": "execute_result"
    }
   ],
   "source": [
    "ipcc_2021_method.load()"
   ]
  },
  {
   "cell_type": "markdown",
   "metadata": {
    "deletable": true,
    "editable": true
   },
   "source": [
    "This contains tuples with (elementary flow, characterization factors)."
   ]
  },
  {
   "cell_type": "markdown",
   "metadata": {
    "deletable": true,
    "editable": true
   },
   "source": [
    "##### Nice display of data in methods "
   ]
  },
  {
   "cell_type": "markdown",
   "metadata": {
    "deletable": true,
    "editable": true,
    "solution2": "shown",
    "solution2_first": true
   },
   "source": [
    "**Exercise:** Create a dictionary with keys = elementary flow names and values = characterization factors for the `IPCC GWP100` method (including long-term emissions).\n",
    "\n",
    "Bonus (optional): Generate a Pandas Series with the resulting dictionary. "
   ]
  },
  {
   "cell_type": "code",
   "execution_count": 51,
   "metadata": {
    "collapsed": false,
    "deletable": true,
    "editable": true,
    "jupyter": {
     "outputs_hidden": false
    },
    "solution2": "shown"
   },
   "outputs": [
    {
     "data": {
      "text/plain": [
       "{'Butane': 0.006,\n",
       " 'Carbon dioxide, fossil': 1,\n",
       " 'Chloroform': 20.6,\n",
       " 'Ethane': 0.437,\n",
       " 'Ethane, 1,1,1,2-tetrafluoro-, HFC-134a': 1530,\n",
       " 'Ethane, 1,1,1-trichloro-, HCFC-140': 161,\n",
       " 'Ethane, 1,1,1-trifluoro-, HFC-143a': 5810,\n",
       " 'Ethane, 1,1-dichloro-1-fluoro-, HCFC-141b': 860,\n",
       " 'Ethane, 1,1-difluoro-, HFC-152a': 164,\n",
       " 'Ethane, 1,2-dichloro-': 1.3,\n",
       " 'Ethane, 1-chloro-1,1-difluoro-, HCFC-142b': 2300,\n",
       " 'Ethane, 2,2-dichloro-1,1,1-trifluoro-, HCFC-123': 90.4,\n",
       " 'Ethane, 2-chloro-1,1,1,2-tetrafluoro-, HCFC-124': 597,\n",
       " 'Ethane, chloropentafluoro-, CFC-115': 9600,\n",
       " 'Ethane, hexafluoro-, HFC-116': 12400,\n",
       " 'Ethane, pentafluoro-, HFC-125': 3740,\n",
       " 'Tetrachloroethylene': 6.34,\n",
       " 'Trichloroethylene': 0.044,\n",
       " 'Methane, bromo-, Halon 1001': 2.43,\n",
       " 'Methane, bromochlorodifluoro-, Halon 1211': 1930,\n",
       " 'Methane, bromotrifluoro-, Halon 1301': 7200,\n",
       " 'Methane, chlorodifluoro-, HCFC-22': 1960,\n",
       " 'Methane, chloro-fluoro-, HCFC-31': 79.4,\n",
       " 'Methane, chlorotrifluoro-, CFC-13': 16200,\n",
       " 'Methane, dichloro-, HCC-30': 11.2,\n",
       " 'Methane, dichlorodifluoro-, CFC-12': 12500,\n",
       " 'Methane, dichlorofluoro-, HCFC-21': 160,\n",
       " 'Methane, difluoro-, HFC-32': 771,\n",
       " 'Methane, fossil': 29.8,\n",
       " 'Methane, monochloro-, R-40': 5.54,\n",
       " 'Methane, non-fossil': 27,\n",
       " 'Methane, tetrachloro-, R-10': 2200,\n",
       " 'Methane, tetrafluoro-, R-14': 7380,\n",
       " 'Methane, trichlorofluoro-, CFC-11': 6230,\n",
       " 'Methane, trifluoro-, HFC-23': 14600,\n",
       " 'Monochloroethane': 0.481,\n",
       " 'Nitrogen fluoride': 17400,\n",
       " 'Propane': 0.02,\n",
       " 'Sulfur hexafluoride': 25200,\n",
       " 'Ethane, 1,1,2-trichloro-1,2,2-trifluoro-, CFC-113': 6520,\n",
       " 'Perfluoropentane': 9220,\n",
       " 'Methane, from soil or biomass stock': 29.8,\n",
       " 'Carbon dioxide, from soil or biomass stock': 1,\n",
       " 'Carbon dioxide, to soil or biomass stock': -1,\n",
       " 'Bromopropane': 0.052,\n",
       " 'Ethane, 1,2-dichloro-1,1,2,2-tetrafluoro-, CFC-114': 9430,\n",
       " 'Dinitrogen monoxide': 273}"
      ]
     },
     "execution_count": 51,
     "metadata": {},
     "output_type": "execute_result"
    }
   ],
   "source": [
    "# Generate the dictionary using a comprehension:\n",
    "GWP_dict = {bw.get_activity(ef[0])['name']:ef[1] for ef in ipcc_2021_method.load()}\n",
    "GWP_dict"
   ]
  },
  {
   "cell_type": "code",
   "execution_count": 53,
   "metadata": {
    "collapsed": false,
    "deletable": true,
    "editable": true,
    "jupyter": {
     "outputs_hidden": false
    },
    "solution2": "shown"
   },
   "outputs": [
    {
     "data": {
      "text/plain": [
       "Butane                                                    0.006\n",
       "Carbon dioxide, fossil                                    1.000\n",
       "Chloroform                                               20.600\n",
       "Ethane                                                    0.437\n",
       "Ethane, 1,1,1,2-tetrafluoro-, HFC-134a                 1530.000\n",
       "Ethane, 1,1,1-trichloro-, HCFC-140                      161.000\n",
       "Ethane, 1,1,1-trifluoro-, HFC-143a                     5810.000\n",
       "Ethane, 1,1-dichloro-1-fluoro-, HCFC-141b               860.000\n",
       "Ethane, 1,1-difluoro-, HFC-152a                         164.000\n",
       "Ethane, 1,2-dichloro-                                     1.300\n",
       "Ethane, 1-chloro-1,1-difluoro-, HCFC-142b              2300.000\n",
       "Ethane, 2,2-dichloro-1,1,1-trifluoro-, HCFC-123          90.400\n",
       "Ethane, 2-chloro-1,1,1,2-tetrafluoro-, HCFC-124         597.000\n",
       "Ethane, chloropentafluoro-, CFC-115                    9600.000\n",
       "Ethane, hexafluoro-, HFC-116                          12400.000\n",
       "Ethane, pentafluoro-, HFC-125                          3740.000\n",
       "Tetrachloroethylene                                       6.340\n",
       "Trichloroethylene                                         0.044\n",
       "Methane, bromo-, Halon 1001                               2.430\n",
       "Methane, bromochlorodifluoro-, Halon 1211              1930.000\n",
       "Methane, bromotrifluoro-, Halon 1301                   7200.000\n",
       "Methane, chlorodifluoro-, HCFC-22                      1960.000\n",
       "Methane, chloro-fluoro-, HCFC-31                         79.400\n",
       "Methane, chlorotrifluoro-, CFC-13                     16200.000\n",
       "Methane, dichloro-, HCC-30                               11.200\n",
       "Methane, dichlorodifluoro-, CFC-12                    12500.000\n",
       "Methane, dichlorofluoro-, HCFC-21                       160.000\n",
       "Methane, difluoro-, HFC-32                              771.000\n",
       "Methane, fossil                                          29.800\n",
       "Methane, monochloro-, R-40                                5.540\n",
       "Methane, non-fossil                                      27.000\n",
       "Methane, tetrachloro-, R-10                            2200.000\n",
       "Methane, tetrafluoro-, R-14                            7380.000\n",
       "Methane, trichlorofluoro-, CFC-11                      6230.000\n",
       "Methane, trifluoro-, HFC-23                           14600.000\n",
       "Monochloroethane                                          0.481\n",
       "Nitrogen fluoride                                     17400.000\n",
       "Propane                                                   0.020\n",
       "Sulfur hexafluoride                                   25200.000\n",
       "Ethane, 1,1,2-trichloro-1,2,2-trifluoro-, CFC-113      6520.000\n",
       "Perfluoropentane                                       9220.000\n",
       "Methane, from soil or biomass stock                      29.800\n",
       "Carbon dioxide, from soil or biomass stock                1.000\n",
       "Carbon dioxide, to soil or biomass stock                 -1.000\n",
       "Bromopropane                                              0.052\n",
       "Ethane, 1,2-dichloro-1,1,2,2-tetrafluoro-, CFC-114     9430.000\n",
       "Dinitrogen monoxide                                     273.000\n",
       "Name: ('IPCC 2021', 'climate change', 'global warming potential (GWP100)'), kg CO2-Eq, dtype: float64"
      ]
     },
     "execution_count": 53,
     "metadata": {},
     "output_type": "execute_result"
    }
   ],
   "source": [
    "# Bonus: put the whole thing in a neat Pandas series\n",
    "pd.Series(GWP_dict,\n",
    "          name=\"{}, {}\".format(ipcc_2021_method.name, ipcc_2021_method.metadata['unit']))"
   ]
  },
  {
   "cell_type": "markdown",
   "metadata": {
    "deletable": true,
    "editable": true
   },
   "source": [
    "Enough said for now about methods."
   ]
  },
  {
   "cell_type": "markdown",
   "metadata": {
    "deletable": true,
    "editable": true
   },
   "source": [
    "#### 1.4) LCI databases"
   ]
  },
  {
   "cell_type": "markdown",
   "metadata": {
    "deletable": true,
    "editable": true
   },
   "source": [
    "Outside of the classes, you would probably use the following code to \"import\" ecoinvent into your brightway installation:\n",
    "\n",
    "On a \"recent\" computer, this can take a few minutes to be finished."
   ]
  },
  {
   "cell_type": "code",
   "execution_count": 55,
   "metadata": {},
   "outputs": [
    {
     "name": "stdout",
     "output_type": "stream",
     "text": [
      "Extracting XML data from 21238 datasets\n",
      "Extracted 21238 datasets in 20.96 seconds\n",
      "Applying strategy: normalize_units\n",
      "Applying strategy: update_ecoinvent_locations\n",
      "Applying strategy: remove_zero_amount_coproducts\n",
      "Applying strategy: remove_zero_amount_inputs_with_no_activity\n",
      "Applying strategy: remove_unnamed_parameters\n",
      "Applying strategy: es2_assign_only_product_with_amount_as_reference_product\n",
      "Applying strategy: assign_single_product_as_activity\n",
      "Applying strategy: create_composite_code\n",
      "Applying strategy: drop_unspecified_subcategories\n",
      "Applying strategy: fix_ecoinvent_flows_pre35\n",
      "Applying strategy: drop_temporary_outdated_biosphere_flows\n",
      "Applying strategy: link_biosphere_by_flow_uuid\n",
      "Applying strategy: link_internal_technosphere_by_composite_code\n",
      "Applying strategy: delete_exchanges_missing_activity\n",
      "Applying strategy: delete_ghost_exchanges\n",
      "Applying strategy: remove_uncertainty_from_negative_loss_exchanges\n",
      "Applying strategy: fix_unreasonably_high_lognormal_uncertainties\n",
      "Applying strategy: convert_activity_parameters_to_list\n",
      "Applying strategy: add_cpc_classification_from_single_reference_product\n",
      "Applying strategy: delete_none_synonyms\n",
      "Applying strategy: set_lognormal_loc_value\n",
      "Applied 21 strategies in 3.51 seconds\n"
     ]
    },
    {
     "name": "stderr",
     "output_type": "stream",
     "text": [
      "Writing activities to SQLite3 database:\n"
     ]
    },
    {
     "name": "stdout",
     "output_type": "stream",
     "text": [
      "21238 datasets\n",
      "674593 exchanges\n",
      "0 unlinked exchanges\n",
      "  \n"
     ]
    },
    {
     "name": "stderr",
     "output_type": "stream",
     "text": [
      "0% [##############################] 100% | ETA: 00:00:00\n",
      "Total time elapsed: 00:00:15\n"
     ]
    },
    {
     "name": "stdout",
     "output_type": "stream",
     "text": [
      "Title: Writing activities to SQLite3 database:\n",
      "  Started: 03/17/2024 18:32:41\n",
      "  Finished: 03/17/2024 18:32:57\n",
      "  Total time elapsed: 00:00:15\n",
      "  CPU %: 98.30\n",
      "  Memory %: 19.05\n",
      "Created database: ecoinvent 3.9.1 cutoff\n"
     ]
    }
   ],
   "source": [
    "# file path to the place with the ecoinvent spold files (datasets directory)\n",
    "fpei39 = \"/Users/romain/Documents/ecoinvent 3.9.1_cutoff_ecoSpold02/datasets\"\n",
    "if 'ecoinvent 3.9.1 cutoff' in bw.databases:\n",
    "    print(\"Database has already been imported\")\n",
    "else:\n",
    "    ei39 = bw.SingleOutputEcospold2Importer(fpei39, 'ecoinvent 3.9.1 cutoff')\n",
    "    ei39.apply_strategies()\n",
    "    ei39.statistics()\n",
    "    ei39.write_database()"
   ]
  },
  {
   "cell_type": "markdown",
   "metadata": {
    "deletable": true,
    "editable": true
   },
   "source": [
    "Other code to import LCI databases in other formats are found [here](https://github.com/brightway-lca/brightway2-io/tree/master/bw2io/importers). We'll explore this later."
   ]
  },
  {
   "cell_type": "markdown",
   "metadata": {
    "deletable": true,
    "editable": true
   },
   "source": [
    "*We created* a new project, so let's make sure we set it as the \"current\" project."
   ]
  },
  {
   "cell_type": "code",
   "execution_count": 56,
   "metadata": {
    "collapsed": false,
    "deletable": true,
    "editable": true,
    "jupyter": {
     "outputs_hidden": false
    }
   },
   "outputs": [
    {
     "data": {
      "text/plain": [
       "Databases dictionary with 2 object(s):\n",
       "\tbiosphere3\n",
       "\tecoinvent 3.9.1 cutoff"
      ]
     },
     "execution_count": 56,
     "metadata": {},
     "output_type": "execute_result"
    }
   ],
   "source": [
    "bw.databases"
   ]
  },
  {
   "cell_type": "markdown",
   "metadata": {
    "deletable": true,
    "editable": true
   },
   "source": [
    "To access the actual database, you need to use the Database method: "
   ]
  },
  {
   "cell_type": "markdown",
   "metadata": {
    "deletable": true,
    "editable": true
   },
   "source": [
    "Let's assign the database to a variable and see what we can do:"
   ]
  },
  {
   "cell_type": "code",
   "execution_count": 57,
   "metadata": {
    "collapsed": false,
    "deletable": true,
    "editable": true,
    "jupyter": {
     "outputs_hidden": false
    }
   },
   "outputs": [],
   "source": [
    "eidb = bw.Database('ecoinvent 3.9.1 cutoff')"
   ]
  },
  {
   "cell_type": "code",
   "execution_count": 58,
   "metadata": {
    "collapsed": false,
    "deletable": true,
    "editable": true,
    "jupyter": {
     "outputs_hidden": false
    }
   },
   "outputs": [
    {
     "data": {
      "text/plain": [
       "21238"
      ]
     },
     "execution_count": 58,
     "metadata": {},
     "output_type": "execute_result"
    }
   ],
   "source": [
    "# Check the length of the database:\n",
    "len(eidb)"
   ]
  },
  {
   "cell_type": "markdown",
   "metadata": {
    "deletable": true,
    "editable": true
   },
   "source": [
    "Again, we can get an idea of useful methods and attributes by typing eidb. and Tab. Do this now."
   ]
  },
  {
   "cell_type": "code",
   "execution_count": null,
   "metadata": {
    "deletable": true,
    "editable": true
   },
   "outputs": [],
   "source": [
    "eidb. #Press tab!"
   ]
  },
  {
   "cell_type": "markdown",
   "metadata": {
    "deletable": true,
    "editable": true
   },
   "source": [
    "##### LCI activities"
   ]
  },
  {
   "cell_type": "markdown",
   "metadata": {
    "deletable": true,
    "editable": true
   },
   "source": [
    "In the context of LCI databases, activities are the nodes \"within the technosphere\". They are therefore the columns in the technosphere matrix $A$.  \n",
    "There are different ways to get access to an activity. Let's use the `random()` method for now to explore a random activity in the ecoinvent database."
   ]
  },
  {
   "cell_type": "code",
   "execution_count": 61,
   "metadata": {
    "deletable": true,
    "editable": true,
    "tags": []
   },
   "outputs": [],
   "source": [
    "random_act = eidb.random()"
   ]
  },
  {
   "cell_type": "code",
   "execution_count": 62,
   "metadata": {
    "collapsed": false,
    "deletable": true,
    "editable": true,
    "jupyter": {
     "outputs_hidden": false
    }
   },
   "outputs": [
    {
     "data": {
      "text/plain": [
       "'market for inorganic nitrogen fertiliser, as N' (kilogram, RU, None)"
      ]
     },
     "execution_count": 62,
     "metadata": {},
     "output_type": "execute_result"
    }
   ],
   "source": [
    "random_act"
   ]
  },
  {
   "cell_type": "code",
   "execution_count": 63,
   "metadata": {
    "collapsed": false,
    "deletable": true,
    "editable": true,
    "jupyter": {
     "outputs_hidden": false
    }
   },
   "outputs": [
    {
     "data": {
      "text/plain": [
       "bw2data.backends.peewee.proxies.Activity"
      ]
     },
     "execution_count": 63,
     "metadata": {},
     "output_type": "execute_result"
    }
   ],
   "source": [
    "type(random_act)"
   ]
  },
  {
   "cell_type": "markdown",
   "metadata": {
    "deletable": true,
    "editable": true
   },
   "source": [
    "To see what is stored in an activity object, let's convert our random act in a dictionary: "
   ]
  },
  {
   "cell_type": "code",
   "execution_count": 66,
   "metadata": {
    "collapsed": false,
    "deletable": true,
    "editable": true,
    "jupyter": {
     "outputs_hidden": false
    }
   },
   "outputs": [
    {
     "name": "stdout",
     "output_type": "stream",
     "text": [
      "{'activity': '00665a84-0e0b-5af2-b59d-528672683e55',\n",
      " 'activity type': 'market activity',\n",
      " 'authors': {'data entry': {'email': 'Symeonidis@ecoinvent.org',\n",
      "                            'name': 'Avraam Symeonidis'},\n",
      "             'data generator': {'email': 'Symeonidis@ecoinvent.org',\n",
      "                                'name': 'Avraam Symeonidis'}},\n",
      " 'classifications': [('ISIC rev.4 ecoinvent',\n",
      "                      '0161:Support activities for crop production'),\n",
      "                     ('CPC',\n",
      "                      '3461: Mineral or chemical fertilizers, nitrogenous')],\n",
      " 'code': 'a4ccabb4faa3d4ef5b98311414116c91',\n",
      " 'comment': 'This is a market activity. Each market represents the consumption '\n",
      "            'mix of a product in a given geography, connecting suppliers with '\n",
      "            'consumers of the same product in the same geographical area. '\n",
      "            'Markets group the producers and also the imports of the product '\n",
      "            '(if relevant) within the same geographical area. They also '\n",
      "            'account for transport to the consumer and for the losses during '\n",
      "            'that process, when relevant.\\n'\n",
      "            \"This is a generic market that provides 'inorganic nitrogen \"\n",
      "            \"fertiliser, as N' for a strictly agricultural use as fertiliser. \"\n",
      "            'The market combines (consumption mix) various inorganic sources '\n",
      "            'for the nutrient provided for the given geography. Data for the '\n",
      "            'consumption of this nutrient originate from the International '\n",
      "            'Fertiliser Association.\\n'\n",
      "            'References: Consumption of fertilisers, accessed on 5th of May '\n",
      "            '2020 at: https://www.ifastat.org/\\n'\n",
      "            'None\\n'\n",
      "            'No transport or losses have been considered for the generic '\n",
      "            'product supplied in this market, as the transport modelled in the '\n",
      "            'upstream niche markets for the more specific products do already '\n",
      "            'account it.\\n'\n",
      "            'Fertilisers are substances that furnish essential nutrients for '\n",
      "            'plant growth, thereby improving the yield and in some cases the '\n",
      "            \"quality of plant products. 'Inorganic nitrogen fertiliser, as N' \"\n",
      "            'is a fertiliser with a mineral origin that is supplying the '\n",
      "            'nutrient of Nitrogen to the plants. The product represents an '\n",
      "            'equivalent form of Nitrogen that is present in the fertiliser and '\n",
      "            \"is expressed as a mass of Nitrogen (N). 'Inorganic nitrogen \"\n",
      "            \"fertiliser, as N'  can  originate from various substances that \"\n",
      "            'are synthesised using fossil resources. Those substances can be, '\n",
      "            'ammonia, urea etc, while the fossil resources can be natural gas, '\n",
      "            'hard coal etc.\\n'\n",
      "            'Image: '\n",
      "            'https://db3.ecoinvent.org/images/e8342b95-78fd-4a83-a444-47e7464508b4\\n'\n",
      "            \"Geography:  This activity delivers the product of ''inorganic \"\n",
      "            \"nitrogen fertiliser, as N'' within the geography of Russia.\",\n",
      " 'database': 'ecoinvent 3.9.1 cutoff',\n",
      " 'filename': '00665a84-0e0b-5af2-b59d-528672683e55_f5707bdf-f7e2-479b-b3ea-99c04de8a927.spold',\n",
      " 'flow': 'f5707bdf-f7e2-479b-b3ea-99c04de8a927',\n",
      " 'location': 'RU',\n",
      " 'name': 'market for inorganic nitrogen fertiliser, as N',\n",
      " 'parameters': [],\n",
      " 'production amount': 1.0,\n",
      " 'reference product': 'inorganic nitrogen fertiliser, as N',\n",
      " 'synonyms': [],\n",
      " 'type': 'process',\n",
      " 'unit': 'kilogram'}\n"
     ]
    }
   ],
   "source": [
    "from pprint import pprint\n",
    "pprint(random_act.as_dict())"
   ]
  },
  {
   "cell_type": "markdown",
   "metadata": {
    "deletable": true,
    "editable": true
   },
   "source": [
    "Notice one important thing: **no exchanges**!  \n",
    "Indeed, the exchanges and the activities are stored in two different tables of the `databases.db` database.  \n",
    "It is possible, however, to iterate through the exchanges of the activities."
   ]
  },
  {
   "cell_type": "markdown",
   "metadata": {
    "deletable": true,
    "editable": true
   },
   "source": [
    "##### Searching and getting LCI activities"
   ]
  },
  {
   "cell_type": "markdown",
   "metadata": {
    "deletable": true,
    "editable": true
   },
   "source": [
    "Searching and getting LCI activities is done exactly the same way as for activities in the biosphere3 database:"
   ]
  },
  {
   "cell_type": "code",
   "execution_count": 67,
   "metadata": {
    "collapsed": false,
    "deletable": true,
    "editable": true,
    "jupyter": {
     "outputs_hidden": false
    }
   },
   "outputs": [
    {
     "name": "stdout",
     "output_type": "stream",
     "text": [
      "Excluding 1138 filtered results\n"
     ]
    },
    {
     "data": {
      "text/plain": [
       "['transport, freight, lorry, all sizes, EURO3 to generic market for transport, freight, lorry, unspecified' (ton kilometer, RER, None),\n",
       " 'transport, freight, lorry, all sizes, EURO3 to generic market for transport, freight, lorry, unspecified' (ton kilometer, RoW, None),\n",
       " 'transport, freight, lorry, all sizes, EURO3 to generic market for transport, freight, lorry, unspecified' (ton kilometer, BR, None),\n",
       " 'transport, freight, lorry, all sizes, EURO1 to generic market for transport, freight, lorry, unspecified' (ton kilometer, BR, None),\n",
       " 'transport, freight, lorry, all sizes, unregulated to generic market for transport, freight, lorry, unspecified' (ton kilometer, BR, None),\n",
       " 'transport, freight, lorry, all sizes, EURO2 to generic market for transport, freight, lorry, unspecified' (ton kilometer, ZA, None),\n",
       " 'transport, freight, lorry, all sizes, EURO2 to generic market for transport, freight, lorry, unspecified' (ton kilometer, BR, None),\n",
       " 'transport, freight, lorry, all sizes, unregulated to generic market for transport, freight, lorry, unspecified' (ton kilometer, ZA, None),\n",
       " 'transport, freight, lorry, all sizes, EURO1 to generic market for transport, freight, lorry, unspecified' (ton kilometer, ZA, None),\n",
       " 'transport, freight, lorry, all sizes, EURO5 to generic market for transport, freight, lorry, unspecified' (ton kilometer, BR, None),\n",
       " 'transport, freight, lorry, all sizes, EURO6 to generic market for transport, freight, lorry, unspecified' (ton kilometer, RoW, None),\n",
       " 'transport, freight, lorry, all sizes, EURO4 to generic market for transport, freight, lorry, unspecified' (ton kilometer, RER, None),\n",
       " 'transport, freight, lorry, all sizes, EURO4 to generic market for transport, freight, lorry, unspecified' (ton kilometer, RoW, None),\n",
       " 'transport, freight, lorry, all sizes, EURO5 to generic market for transport, freight, lorry, unspecified' (ton kilometer, RER, None),\n",
       " 'transport, freight, lorry, all sizes, EURO5 to generic market for transport, freight, lorry, unspecified' (ton kilometer, RoW, None),\n",
       " 'transport, freight, lorry, all sizes, EURO6 to generic market for transport, freight, lorry, unspecified' (ton kilometer, RER, None),\n",
       " 'market for transport, freight, lorry, unspecified' (ton kilometer, BR, None),\n",
       " 'market for transport, freight, lorry, unspecified' (ton kilometer, ZA, None),\n",
       " 'market for transport, freight, lorry, unspecified' (ton kilometer, RoW, None),\n",
       " 'market for transport, freight, lorry, unspecified' (ton kilometer, RER, None),\n",
       " 'transport, freight, lorry with reefer, freezing' (ton kilometer, GLO, None),\n",
       " 'transport, freight, lorry with reefer, cooling' (ton kilometer, GLO, None),\n",
       " 'market group for transport, freight, lorry, unspecified' (ton kilometer, GLO, None),\n",
       " 'market for transport, freight, lorry with reefer, cooling' (ton kilometer, GLO, None),\n",
       " 'market for transport, freight, lorry with reefer, freezing' (ton kilometer, GLO, None)]"
      ]
     },
     "execution_count": 67,
     "metadata": {},
     "output_type": "execute_result"
    }
   ],
   "source": [
    "# Using search\n",
    "eidb.search('transport', filter={'name':'lorry'})"
   ]
  },
  {
   "cell_type": "code",
   "execution_count": 68,
   "metadata": {
    "collapsed": false,
    "deletable": true,
    "editable": true,
    "jupyter": {
     "outputs_hidden": false
    }
   },
   "outputs": [
    {
     "data": {
      "text/plain": [
       "'RU'"
      ]
     },
     "execution_count": 68,
     "metadata": {},
     "output_type": "execute_result"
    }
   ],
   "source": [
    "random_act['location']"
   ]
  },
  {
   "cell_type": "code",
   "execution_count": 76,
   "metadata": {
    "collapsed": false,
    "deletable": true,
    "editable": true,
    "jupyter": {
     "outputs_hidden": false
    }
   },
   "outputs": [
    {
     "data": {
      "text/plain": [
       "['market for transport, freight, lorry >32 metric ton, EURO4' (ton kilometer, RER, None),\n",
       " 'market for transport, freight, lorry >32 metric ton, EURO3' (ton kilometer, RER, None),\n",
       " 'market for transport, freight, lorry 16-32 metric ton, EURO3' (ton kilometer, RER, None),\n",
       " 'transport, freight, lorry >32 metric ton, EURO6' (ton kilometer, RER, None),\n",
       " 'market for transport, freight, lorry >32 metric ton, EURO5' (ton kilometer, RER, None),\n",
       " 'market for transport, freight, lorry 16-32 metric ton, EURO4' (ton kilometer, RER, None),\n",
       " 'transport, freight, lorry >32 metric ton, EURO5' (ton kilometer, RER, None),\n",
       " 'transport, freight, lorry >32 metric ton, EURO4' (ton kilometer, RER, None),\n",
       " 'transport, freight, lorry 16-32 metric ton, EURO3' (ton kilometer, RER, None),\n",
       " 'transport, freight, lorry 16-32 metric ton, EURO4' (ton kilometer, RER, None),\n",
       " 'market for transport, freight, lorry >32 metric ton, EURO6' (ton kilometer, RER, None),\n",
       " 'transport, freight, lorry >32 metric ton, EURO3' (ton kilometer, RER, None),\n",
       " 'transport, freight, lorry 16-32 metric ton, EURO5' (ton kilometer, RER, None),\n",
       " 'market for transport, freight, lorry 16-32 metric ton, EURO6' (ton kilometer, RER, None),\n",
       " 'transport, freight, lorry 16-32 metric ton, EURO6' (ton kilometer, RER, None),\n",
       " 'market for transport, freight, lorry 16-32 metric ton, EURO5' (ton kilometer, RER, None)]"
      ]
     },
     "execution_count": 76,
     "metadata": {},
     "output_type": "execute_result"
    }
   ],
   "source": [
    "# Using list comprehensions:\n",
    "[act for act in eidb if 'lorry' in act['name']\n",
    "                    and 'RER' in act['location']\n",
    "                    and '32' in act['name']\n",
    "]"
   ]
  },
  {
   "cell_type": "markdown",
   "metadata": {
    "deletable": true,
    "editable": true,
    "solution2": "shown",
    "solution2_first": true
   },
   "source": [
    "**Exercise:** Return an activity for electricity production, coal-fired power plants in Germany"
   ]
  },
  {
   "cell_type": "code",
   "execution_count": 77,
   "metadata": {
    "collapsed": false,
    "deletable": true,
    "editable": true,
    "jupyter": {
     "outputs_hidden": false
    },
    "solution2": "shown"
   },
   "outputs": [
    {
     "data": {
      "text/plain": [
       "'electricity production, hard coal' (kilowatt hour, DE, None)"
      ]
     },
     "execution_count": 77,
     "metadata": {},
     "output_type": "execute_result"
    }
   ],
   "source": [
    "[act for act in eidb if 'electricity' in act['name']\n",
    "                        and 'coal' in act['name']\n",
    "                        and act['location']=='DE'\n",
    "              ][0]"
   ]
  },
  {
   "cell_type": "markdown",
   "metadata": {
    "deletable": true,
    "editable": true
   },
   "source": [
    "#### LCI exchanges"
   ]
  },
  {
   "cell_type": "markdown",
   "metadata": {
    "deletable": true,
    "editable": true
   },
   "source": [
    "**`Exchanges`** are the edges between nodes.\n",
    "\n",
    "These can be:  \n",
    "  - an edge between two activities within the technosphere (an element $a_{ij}$ of matrix $A$)  \n",
    "  - edges between an activity in the technosphere and an activity in the \"biosphere\" (an element $b_{kj}$ of the biosphere matrix $B$)."
   ]
  },
  {
   "cell_type": "markdown",
   "metadata": {
    "deletable": true,
    "editable": true
   },
   "source": [
    "One can iterate through **all** exchanges that have a given activity as `output`"
   ]
  },
  {
   "cell_type": "code",
   "execution_count": 78,
   "metadata": {
    "collapsed": false,
    "deletable": true,
    "editable": true,
    "jupyter": {
     "outputs_hidden": false
    }
   },
   "outputs": [
    {
     "name": "stdout",
     "output_type": "stream",
     "text": [
      "Exchange: 1.0 kilogram 'market for inorganic nitrogen fertiliser, as N' (kilogram, RU, None) to 'market for inorganic nitrogen fertiliser, as N' (kilogram, RU, None)>\n",
      "Exchange: 0.0674089978528986 kilogram 'nutrient supply from urea' (kilogram, RoW, None) to 'market for inorganic nitrogen fertiliser, as N' (kilogram, RU, None)>\n",
      "Exchange: 0.00329555100614171 kilogram 'nutrient supply from calcium ammonium nitrate' (kilogram, RoW, None) to 'market for inorganic nitrogen fertiliser, as N' (kilogram, RU, None)>\n",
      "Exchange: 0.0504319169121686 kilogram 'nutrient supply from monoammonium phosphate' (kilogram, RoW, None) to 'market for inorganic nitrogen fertiliser, as N' (kilogram, RU, None)>\n",
      "Exchange: 0.00499325910021471 kilogram 'nutrient supply from ammonium nitrate phosphate' (kilogram, RoW, None) to 'market for inorganic nitrogen fertiliser, as N' (kilogram, RU, None)>\n",
      "Exchange: 0.0753982124132421 kilogram 'nutrient supply from urea ammonium nitrate mix' (kilogram, RoW, None) to 'market for inorganic nitrogen fertiliser, as N' (kilogram, RU, None)>\n",
      "Exchange: 0.0284615768712238 kilogram 'nutrient supply from ammonium sulfate' (kilogram, RoW, None) to 'market for inorganic nitrogen fertiliser, as N' (kilogram, RU, None)>\n",
      "Exchange: 0.00499325910021471 kilogram 'nutrient supply from diammonium phosphate' (kilogram, RoW, None) to 'market for inorganic nitrogen fertiliser, as N' (kilogram, RU, None)>\n",
      "Exchange: 0.118340240675089 kilogram 'nutrient supply from NPK (15-15-15) fertiliser' (kilogram, RoW, None) to 'market for inorganic nitrogen fertiliser, as N' (kilogram, RU, None)>\n",
      "Exchange: 0.646676986068807 kilogram 'nutrient supply from ammonium nitrate' (kilogram, RoW, None) to 'market for inorganic nitrogen fertiliser, as N' (kilogram, RU, None)>\n"
     ]
    }
   ],
   "source": [
    "for exc in random_act.exchanges():\n",
    "    print(exc)"
   ]
  },
  {
   "cell_type": "markdown",
   "metadata": {
    "deletable": true,
    "editable": true
   },
   "source": [
    "One can also iterate through subsets of the exchanges:  \n",
    "  - Technosphere exchanges: exchanges linking to other activities in the technosphere, `activity.technosphere()`  \n",
    "  - Biosphere exchanges: AKA elementary flows, linking to activities in the biosphere database `activity.biosphere()`  \n",
    "  - Production exchange: the reference flow of the activity `activity.production`  "
   ]
  },
  {
   "cell_type": "markdown",
   "metadata": {
    "deletable": true,
    "editable": true
   },
   "source": [
    "Let's assign a **technosphere exchange** to a variable to learn more about it:"
   ]
  },
  {
   "cell_type": "code",
   "execution_count": 79,
   "metadata": {
    "collapsed": false,
    "deletable": true,
    "editable": true,
    "jupyter": {
     "outputs_hidden": false
    }
   },
   "outputs": [
    {
     "data": {
      "text/plain": [
       "Exchange: 0.0674089978528986 kilogram 'nutrient supply from urea' (kilogram, RoW, None) to 'market for inorganic nitrogen fertiliser, as N' (kilogram, RU, None)>"
      ]
     },
     "execution_count": 79,
     "metadata": {},
     "output_type": "execute_result"
    }
   ],
   "source": [
    "random_techno_exchange = [exc for exc in random_act.technosphere()][0]\n",
    "random_techno_exchange"
   ]
  },
  {
   "cell_type": "code",
   "execution_count": 80,
   "metadata": {
    "collapsed": false,
    "deletable": true,
    "editable": true,
    "jupyter": {
     "outputs_hidden": false
    }
   },
   "outputs": [
    {
     "data": {
      "text/plain": [
       "bw2data.backends.peewee.proxies.Exchange"
      ]
     },
     "execution_count": 80,
     "metadata": {},
     "output_type": "execute_result"
    }
   ],
   "source": [
    "type(random_techno_exchange)"
   ]
  },
  {
   "cell_type": "markdown",
   "metadata": {
    "deletable": true,
    "editable": true
   },
   "source": [
    "Again, the type is a proxy (refer to the diagram above about the different translation layers)."
   ]
  },
  {
   "cell_type": "code",
   "execution_count": 81,
   "metadata": {
    "collapsed": false,
    "deletable": true,
    "editable": true,
    "jupyter": {
     "outputs_hidden": false
    }
   },
   "outputs": [
    {
     "data": {
      "text/plain": [
       "0.0674089978528986"
      ]
     },
     "execution_count": 81,
     "metadata": {},
     "output_type": "execute_result"
    }
   ],
   "source": [
    "# Amount, or weight of the edge\n",
    "random_techno_exchange.amount"
   ]
  },
  {
   "cell_type": "code",
   "execution_count": 82,
   "metadata": {
    "collapsed": false,
    "deletable": true,
    "editable": true,
    "jupyter": {
     "outputs_hidden": false
    }
   },
   "outputs": [
    {
     "data": {
      "text/plain": [
       "'nutrient supply from urea' (kilogram, RoW, None)"
      ]
     },
     "execution_count": 82,
     "metadata": {},
     "output_type": "execute_result"
    }
   ],
   "source": [
    "# Activity the exchange stems from\n",
    "random_techno_exchange.input"
   ]
  },
  {
   "cell_type": "code",
   "execution_count": 83,
   "metadata": {
    "collapsed": false,
    "deletable": true,
    "editable": true,
    "jupyter": {
     "outputs_hidden": false
    }
   },
   "outputs": [
    {
     "data": {
      "text/plain": [
       "'market for inorganic nitrogen fertiliser, as N' (kilogram, RU, None)"
      ]
     },
     "execution_count": 83,
     "metadata": {},
     "output_type": "execute_result"
    }
   ],
   "source": [
    "# Activity the exchange terminates in\n",
    "random_techno_exchange.output"
   ]
  },
  {
   "cell_type": "code",
   "execution_count": 84,
   "metadata": {
    "collapsed": false,
    "deletable": true,
    "editable": true,
    "jupyter": {
     "outputs_hidden": false
    }
   },
   "outputs": [
    {
     "data": {
      "text/plain": [
       "{'flow': 'f5707bdf-f7e2-479b-b3ea-99c04de8a927',\n",
       " 'type': 'technosphere',\n",
       " 'name': 'inorganic nitrogen fertiliser, as N',\n",
       " 'classifications': {'CPC': ['3461: Mineral or chemical fertilizers, nitrogenous']},\n",
       " 'production volume': 0.0,\n",
       " 'properties': {'carbon allocation': {'amount': 0.0, 'unit': 'kg'},\n",
       "  'carbon content': {'amount': 0.0, 'unit': 'dimensionless'},\n",
       "  'carbon content, fossil': {'amount': 0.0, 'unit': 'dimensionless'},\n",
       "  'carbon content, non-fossil': {'amount': 0.0, 'unit': 'dimensionless'},\n",
       "  'dry mass': {'amount': 1.0, 'unit': 'kg'},\n",
       "  'nitrogen content': {'amount': 1.0, 'unit': 'dimensionless'},\n",
       "  'price': {'amount': 0.473, 'unit': 'EUR2005'},\n",
       "  'water content': {'amount': 0.0, 'unit': 'dimensionless'},\n",
       "  'water in wet mass': {'amount': 0.0, 'unit': 'kg'},\n",
       "  'wet mass': {'amount': 1.0, 'unit': 'kg'}},\n",
       " 'activity': '1357886c-4169-5d0e-a207-2a98d1c14dbe',\n",
       " 'unit': 'kilogram',\n",
       " 'amount': 0.0674089978528986,\n",
       " 'uncertainty type': 0,\n",
       " 'loc': 0.0674089978528986,\n",
       " 'input': ('ecoinvent 3.9.1 cutoff', '47857b377abfbecf418a31735068f864'),\n",
       " 'output': ('ecoinvent 3.9.1 cutoff', 'a4ccabb4faa3d4ef5b98311414116c91')}"
      ]
     },
     "execution_count": 84,
     "metadata": {},
     "output_type": "execute_result"
    }
   ],
   "source": [
    "# Exchange as a dictionary\n",
    "random_techno_exchange.as_dict()"
   ]
  },
  {
   "cell_type": "markdown",
   "metadata": {
    "deletable": true,
    "editable": true
   },
   "source": [
    "Let's now look at a production exchange"
   ]
  },
  {
   "cell_type": "markdown",
   "metadata": {
    "deletable": true,
    "editable": true,
    "solution2": "shown",
    "solution2_first": true
   },
   "source": [
    "**Exercise:** Assign a biosphere flow to a variable, and check the following:  \n",
    "  - Is the output the same as for the technosphere exchange?  \n",
    "  - From what database does the biosphere exchange come from?  \n",
    "  - What is the amount of the exchange (i.e. the weight of the edge connecting the two activities)?\n",
    "  \n",
    "NOTE: If you get a ` list index out of range` error when trying to subscript your list comprehension, it means your list comprehension is empty, i.e. that there are no biosphere flows associated with the activity."
   ]
  },
  {
   "cell_type": "code",
   "execution_count": 85,
   "metadata": {
    "collapsed": false,
    "deletable": true,
    "editable": true,
    "jupyter": {
     "outputs_hidden": false
    },
    "solution2": "shown"
   },
   "outputs": [
    {
     "ename": "IndexError",
     "evalue": "list index out of range",
     "output_type": "error",
     "traceback": [
      "\u001b[0;31m---------------------------------------------------------------------------\u001b[0m",
      "\u001b[0;31mIndexError\u001b[0m                                Traceback (most recent call last)",
      "Cell \u001b[0;32mIn[85], line 2\u001b[0m\n\u001b[1;32m      1\u001b[0m \u001b[38;5;66;03m# Assign the exchange to a variable:\u001b[39;00m\n\u001b[0;32m----> 2\u001b[0m random_bio_exchange \u001b[38;5;241m=\u001b[39m [exc \u001b[38;5;28;01mfor\u001b[39;00m exc \u001b[38;5;129;01min\u001b[39;00m random_act\u001b[38;5;241m.\u001b[39mbiosphere()][\u001b[38;5;241m0\u001b[39m]\n\u001b[1;32m      3\u001b[0m random_bio_exchange\n",
      "\u001b[0;31mIndexError\u001b[0m: list index out of range"
     ]
    }
   ],
   "source": [
    "# Assign the exchange to a variable:\n",
    "random_bio_exchange = [exc for exc in random_act.biosphere()][0]\n",
    "random_bio_exchange"
   ]
  },
  {
   "cell_type": "code",
   "execution_count": null,
   "metadata": {
    "collapsed": false,
    "deletable": true,
    "editable": true,
    "jupyter": {
     "outputs_hidden": false
    },
    "solution2": "shown"
   },
   "outputs": [],
   "source": [
    "# Output of biosphere exchange\n",
    "random_bio_exchange.output"
   ]
  },
  {
   "cell_type": "code",
   "execution_count": null,
   "metadata": {
    "collapsed": false,
    "deletable": true,
    "editable": true,
    "jupyter": {
     "outputs_hidden": false
    },
    "solution2": "shown"
   },
   "outputs": [],
   "source": [
    "# Is it the same as the output of the technosphere exchange? It should be!\n",
    "random_bio_exchange.output == random_techno_exchange.output"
   ]
  },
  {
   "cell_type": "code",
   "execution_count": null,
   "metadata": {
    "collapsed": false,
    "deletable": true,
    "editable": true,
    "jupyter": {
     "outputs_hidden": false
    },
    "solution2": "shown"
   },
   "outputs": [],
   "source": [
    "# Database of the random biosphere exchange input - `.input`directly returns the activity proxy!\n",
    "random_bio_exchange.input.key[0]"
   ]
  },
  {
   "cell_type": "code",
   "execution_count": null,
   "metadata": {
    "collapsed": false,
    "deletable": true,
    "editable": true,
    "jupyter": {
     "outputs_hidden": false
    },
    "solution2": "shown"
   },
   "outputs": [],
   "source": [
    "# Amount of exchange\n",
    "random_bio_exchange['amount']"
   ]
  },
  {
   "cell_type": "markdown",
   "metadata": {
    "deletable": true,
    "editable": true
   },
   "source": [
    "#### Loaded LCI databases"
   ]
  },
  {
   "cell_type": "markdown",
   "metadata": {
    "deletable": true,
    "editable": true
   },
   "source": [
    "It is possible to load the entire database into a dictionary.  \n",
    "This greatly speeds up work if you need to iterate over all activities or exchanges. The resulting object is quite big, so you should do this only if the gain in efficiency is worth it."
   ]
  },
  {
   "cell_type": "code",
   "execution_count": null,
   "metadata": {
    "collapsed": false,
    "deletable": true,
    "editable": true,
    "jupyter": {
     "outputs_hidden": false
    }
   },
   "outputs": [],
   "source": [
    "# Let's not do this in the seminar, ok?\n",
    "eidb_loaded = eidb.load()"
   ]
  },
  {
   "cell_type": "code",
   "execution_count": null,
   "metadata": {
    "collapsed": false,
    "deletable": true,
    "editable": true,
    "jupyter": {
     "outputs_hidden": false
    }
   },
   "outputs": [],
   "source": [
    "eidb_loaded"
   ]
  },
  {
   "cell_type": "markdown",
   "metadata": {
    "deletable": true,
    "editable": true
   },
   "source": [
    "## 2) My first LCA"
   ]
  },
  {
   "cell_type": "markdown",
   "metadata": {
    "deletable": true,
    "editable": true
   },
   "source": [
    "Brightway has a so-called LCA object.  \n",
    "It is instantiated using `LCA(args)`.  \n",
    "The only required argument is a functional unit, described by a dictionary with keys = activities and values = amounts (more [here](https://docs.brightwaylca.org/lca.html#specifying-a-functional-unit)).  \n",
    "A second argument that is often passed is an LCIA method, passed using the method tuple.  "
   ]
  },
  {
   "cell_type": "markdown",
   "metadata": {
    "deletable": true,
    "editable": true
   },
   "source": [
    "### 2.1) General syntax of LCA calculations"
   ]
  },
  {
   "cell_type": "markdown",
   "metadata": {
    "deletable": true,
    "editable": true
   },
   "source": [
    "Let's create our first LCA object using our random activity and our IPCC method.  "
   ]
  },
  {
   "cell_type": "code",
   "execution_count": 88,
   "metadata": {},
   "outputs": [
    {
     "data": {
      "text/plain": [
       "('IPCC 2021', 'climate change', 'global warming potential (GWP100)')"
      ]
     },
     "execution_count": 88,
     "metadata": {},
     "output_type": "execute_result"
    }
   ],
   "source": [
    "ipcc_2021_method.name"
   ]
  },
  {
   "cell_type": "code",
   "execution_count": 89,
   "metadata": {
    "deletable": true,
    "editable": true,
    "tags": []
   },
   "outputs": [],
   "source": [
    "myFirstLCA_quick = bw.LCA({random_act:1}, ipcc_2021_method.name)"
   ]
  },
  {
   "cell_type": "markdown",
   "metadata": {
    "deletable": true,
    "editable": true
   },
   "source": [
    "The steps to get to the impact score are as follows:"
   ]
  },
  {
   "cell_type": "code",
   "execution_count": 90,
   "metadata": {
    "collapsed": false,
    "deletable": true,
    "editable": true,
    "jupyter": {
     "outputs_hidden": false
    }
   },
   "outputs": [
    {
     "name": "stderr",
     "output_type": "stream",
     "text": [
      "/opt/homebrew/Caskroom/miniforge/base/envs/bw/lib/python3.11/site-packages/scikits/umfpack/umfpack.py:736: UmfpackWarning: (almost) singular matrix! (estimated cond. number: 3.58e+13)\n",
      "  warnings.warn(msg, UmfpackWarning)\n"
     ]
    },
    {
     "data": {
      "text/plain": [
       "7.714622980257542"
      ]
     },
     "execution_count": 90,
     "metadata": {},
     "output_type": "execute_result"
    }
   ],
   "source": [
    "myFirstLCA_quick.lci()    # Builds matrices, solves the system, generates an LCI matrix.\n",
    "myFirstLCA_quick.lcia()   # Characterization, i.e. the multiplication of the elements \n",
    "                          # of the LCI matrix with characterization factors from the chosen method\n",
    "myFirstLCA_quick.score    # Returns the score, i.e. the sum of the characterized inventory"
   ]
  },
  {
   "cell_type": "markdown",
   "metadata": {
    "deletable": true,
    "editable": true
   },
   "source": [
    "Let's not take a closer look at the LCA object and its methods/attributes. We'll do this by creating a new LCA object: "
   ]
  },
  {
   "cell_type": "code",
   "execution_count": 91,
   "metadata": {
    "deletable": true,
    "editable": true,
    "tags": []
   },
   "outputs": [],
   "source": [
    "myFirstLCA = bw.LCA({random_act:1}, ipcc_2021_method.name)"
   ]
  },
  {
   "cell_type": "markdown",
   "metadata": {
    "deletable": true,
    "editable": true
   },
   "source": [
    "### 2.2) the `demand` attribute"
   ]
  },
  {
   "cell_type": "code",
   "execution_count": 92,
   "metadata": {
    "collapsed": false,
    "deletable": true,
    "editable": true,
    "jupyter": {
     "outputs_hidden": false
    }
   },
   "outputs": [
    {
     "data": {
      "text/plain": [
       "{'market for inorganic nitrogen fertiliser, as N' (kilogram, RU, None): 1}"
      ]
     },
     "execution_count": 92,
     "metadata": {},
     "output_type": "execute_result"
    }
   ],
   "source": [
    "myFirstLCA.demand"
   ]
  },
  {
   "cell_type": "markdown",
   "metadata": {
    "deletable": true,
    "editable": true
   },
   "source": [
    "To access the actual activity from the demand, you would do this:"
   ]
  },
  {
   "cell_type": "code",
   "execution_count": 93,
   "metadata": {
    "collapsed": false,
    "deletable": true,
    "editable": true,
    "jupyter": {
     "outputs_hidden": false
    }
   },
   "outputs": [
    {
     "data": {
      "text/plain": [
       "'market for inorganic nitrogen fertiliser, as N' (kilogram, RU, None)"
      ]
     },
     "execution_count": 93,
     "metadata": {},
     "output_type": "execute_result"
    }
   ],
   "source": [
    "demanded_act = list(myFirstLCA.demand.keys())[0]\n",
    "demanded_act"
   ]
  },
  {
   "cell_type": "code",
   "execution_count": 94,
   "metadata": {
    "collapsed": false,
    "deletable": true,
    "editable": true,
    "jupyter": {
     "outputs_hidden": false
    }
   },
   "outputs": [
    {
     "data": {
      "text/plain": [
       "True"
      ]
     },
     "execution_count": 94,
     "metadata": {},
     "output_type": "execute_result"
    }
   ],
   "source": [
    "demanded_act == random_act"
   ]
  },
  {
   "cell_type": "markdown",
   "metadata": {
    "deletable": true,
    "editable": true
   },
   "source": [
    "There are also other attributes that have simply not been built yet, such as the `demand_array` and the `score`. To generate them, we first need to actually build the matrices. This will be done when calling the `.lci()` method."
   ]
  },
  {
   "cell_type": "markdown",
   "metadata": {
    "deletable": true,
    "editable": true
   },
   "source": [
    "### 2.3) Reminder of the system that needs to be solved in calculating an LCI"
   ]
  },
  {
   "cell_type": "markdown",
   "metadata": {
    "deletable": true,
    "editable": true
   },
   "source": [
    "Before actually running the `.lci()` method, here's a quick refresher of the actual calculation that Brightway will need to do to calculate the inventory:  \n",
    "\n",
    "$g=BA^{-1}f$  \n",
    "\n",
    "where:  \n",
    "\n",
    "  - $A$ = the technosphere matrix  \n",
    "  - $B$ = the biosphere matrix (matrix with elementary flows)  \n",
    "  - $f$ = the final demand vector  \n",
    "  - $g$ = the inventory  "
   ]
  },
  {
   "cell_type": "markdown",
   "metadata": {
    "deletable": true,
    "editable": true,
    "solution": "hidden",
    "solution_first": true
   },
   "source": [
    "**Discussion:** Knowing what you do about the structure of Brightway (notably, activities and exchanges), what needs to happen to generate these matrices?"
   ]
  },
  {
   "cell_type": "markdown",
   "metadata": {
    "deletable": true,
    "editable": true,
    "solution": "hidden"
   },
   "source": [
    "To consider:  \n",
    "  - how should the order of the rows and columns be determined?  \n",
    "  - how should we keep track of what is in each row and column?  \n",
    "  - The parameters in the matrices are sometimes actually probability distribution functions - how should we consider this uncertainty information?  \n",
    "  - The matrices are *sparse*, i.e. they are mostly made up of zeros. Should we consider this? Why? How?"
   ]
  },
  {
   "cell_type": "markdown",
   "metadata": {
    "deletable": true,
    "editable": true
   },
   "source": [
    "### 2.4) Building the matrices"
   ]
  },
  {
   "cell_type": "markdown",
   "metadata": {
    "deletable": true,
    "editable": true
   },
   "source": [
    "#### Structured arrays"
   ]
  },
  {
   "cell_type": "markdown",
   "metadata": {
    "deletable": true,
    "editable": true
   },
   "source": [
    "LCI data imported in Brightway is stored in the `databases.db` database, discussed above.  \n",
    "It is also stored in [numpy *structured arrays*](https://docs.scipy.org/doc/numpy/user/basics.rec.html). "
   ]
  },
  {
   "cell_type": "markdown",
   "metadata": {
    "deletable": true,
    "editable": true,
    "solution2": "shown",
    "solution2_first": true
   },
   "source": [
    "**Exercise**(not core): Load the structured array of the ecoinvent database you are working with now."
   ]
  },
  {
   "cell_type": "code",
   "execution_count": 95,
   "metadata": {
    "collapsed": false,
    "jupyter": {
     "outputs_hidden": false
    }
   },
   "outputs": [
    {
     "data": {
      "text/plain": [
       "'/Users/romain/Library/Application Support/Brightway3/coursePSI.ad34cb91313c17c13fa891538321d355/processed/ecoinvent-391-cutoff.bd5622df8e1924932eba993838bf3151.npy'"
      ]
     },
     "execution_count": 95,
     "metadata": {},
     "output_type": "execute_result"
    }
   ],
   "source": [
    "eidb.filepath_processed()"
   ]
  },
  {
   "cell_type": "code",
   "execution_count": 96,
   "metadata": {
    "collapsed": false,
    "deletable": true,
    "editable": true,
    "jupyter": {
     "outputs_hidden": false
    },
    "solution2": "shown"
   },
   "outputs": [
    {
     "data": {
      "text/html": [
       "<div>\n",
       "<style scoped>\n",
       "    .dataframe tbody tr th:only-of-type {\n",
       "        vertical-align: middle;\n",
       "    }\n",
       "\n",
       "    .dataframe tbody tr th {\n",
       "        vertical-align: top;\n",
       "    }\n",
       "\n",
       "    .dataframe thead th {\n",
       "        text-align: right;\n",
       "    }\n",
       "</style>\n",
       "<table border=\"1\" class=\"dataframe\">\n",
       "  <thead>\n",
       "    <tr style=\"text-align: right;\">\n",
       "      <th></th>\n",
       "      <th>input</th>\n",
       "      <th>output</th>\n",
       "      <th>row</th>\n",
       "      <th>col</th>\n",
       "      <th>type</th>\n",
       "      <th>uncertainty_type</th>\n",
       "      <th>amount</th>\n",
       "      <th>loc</th>\n",
       "      <th>scale</th>\n",
       "      <th>shape</th>\n",
       "      <th>minimum</th>\n",
       "      <th>maximum</th>\n",
       "      <th>negative</th>\n",
       "    </tr>\n",
       "  </thead>\n",
       "  <tbody>\n",
       "    <tr>\n",
       "      <th>0</th>\n",
       "      <td>1</td>\n",
       "      <td>4814</td>\n",
       "      <td>4294967295</td>\n",
       "      <td>4294967295</td>\n",
       "      <td>2</td>\n",
       "      <td>0</td>\n",
       "      <td>2.744139e-14</td>\n",
       "      <td>2.744139e-14</td>\n",
       "      <td>NaN</td>\n",
       "      <td>NaN</td>\n",
       "      <td>NaN</td>\n",
       "      <td>NaN</td>\n",
       "      <td>False</td>\n",
       "    </tr>\n",
       "    <tr>\n",
       "      <th>1</th>\n",
       "      <td>1</td>\n",
       "      <td>4961</td>\n",
       "      <td>4294967295</td>\n",
       "      <td>4294967295</td>\n",
       "      <td>2</td>\n",
       "      <td>0</td>\n",
       "      <td>1.574065e-09</td>\n",
       "      <td>1.574065e-09</td>\n",
       "      <td>NaN</td>\n",
       "      <td>NaN</td>\n",
       "      <td>NaN</td>\n",
       "      <td>NaN</td>\n",
       "      <td>False</td>\n",
       "    </tr>\n",
       "    <tr>\n",
       "      <th>2</th>\n",
       "      <td>1</td>\n",
       "      <td>5381</td>\n",
       "      <td>4294967295</td>\n",
       "      <td>4294967295</td>\n",
       "      <td>2</td>\n",
       "      <td>0</td>\n",
       "      <td>7.610567e-12</td>\n",
       "      <td>7.610567e-12</td>\n",
       "      <td>NaN</td>\n",
       "      <td>NaN</td>\n",
       "      <td>NaN</td>\n",
       "      <td>NaN</td>\n",
       "      <td>False</td>\n",
       "    </tr>\n",
       "    <tr>\n",
       "      <th>3</th>\n",
       "      <td>1</td>\n",
       "      <td>5544</td>\n",
       "      <td>4294967295</td>\n",
       "      <td>4294967295</td>\n",
       "      <td>2</td>\n",
       "      <td>0</td>\n",
       "      <td>5.161354e-11</td>\n",
       "      <td>5.161354e-11</td>\n",
       "      <td>NaN</td>\n",
       "      <td>NaN</td>\n",
       "      <td>NaN</td>\n",
       "      <td>NaN</td>\n",
       "      <td>False</td>\n",
       "    </tr>\n",
       "    <tr>\n",
       "      <th>4</th>\n",
       "      <td>1</td>\n",
       "      <td>5664</td>\n",
       "      <td>4294967295</td>\n",
       "      <td>4294967295</td>\n",
       "      <td>2</td>\n",
       "      <td>0</td>\n",
       "      <td>8.298571e-11</td>\n",
       "      <td>8.298571e-11</td>\n",
       "      <td>NaN</td>\n",
       "      <td>NaN</td>\n",
       "      <td>NaN</td>\n",
       "      <td>NaN</td>\n",
       "      <td>False</td>\n",
       "    </tr>\n",
       "  </tbody>\n",
       "</table>\n",
       "</div>"
      ],
      "text/plain": [
       "   input  output         row         col  type  uncertainty_type  \\\n",
       "0      1    4814  4294967295  4294967295     2                 0   \n",
       "1      1    4961  4294967295  4294967295     2                 0   \n",
       "2      1    5381  4294967295  4294967295     2                 0   \n",
       "3      1    5544  4294967295  4294967295     2                 0   \n",
       "4      1    5664  4294967295  4294967295     2                 0   \n",
       "\n",
       "         amount           loc  scale  shape  minimum  maximum  negative  \n",
       "0  2.744139e-14  2.744139e-14    NaN    NaN      NaN      NaN     False  \n",
       "1  1.574065e-09  1.574065e-09    NaN    NaN      NaN      NaN     False  \n",
       "2  7.610567e-12  7.610567e-12    NaN    NaN      NaN      NaN     False  \n",
       "3  5.161354e-11  5.161354e-11    NaN    NaN      NaN      NaN     False  \n",
       "4  8.298571e-11  8.298571e-11    NaN    NaN      NaN      NaN     False  "
      ]
     },
     "execution_count": 96,
     "metadata": {},
     "output_type": "execute_result"
    }
   ],
   "source": [
    "your_structured_array = np.load(eidb.filepath_processed())\n",
    "pd.DataFrame(your_structured_array).head()"
   ]
  },
  {
   "cell_type": "markdown",
   "metadata": {
    "deletable": true,
    "editable": true
   },
   "source": [
    "In this array:  \n",
    "  - `input` and `output` columns are integers that map to an activity. This mapping is found in the `mapping.pickle` file in the `project` directory and it looks something like this:"
   ]
  },
  {
   "cell_type": "code",
   "execution_count": 97,
   "metadata": {
    "collapsed": false,
    "jupyter": {
     "outputs_hidden": false
    }
   },
   "outputs": [
    {
     "data": {
      "text/plain": [
       "biosphere3  38a622c6-f086-4763-a952-7c6b3b1c42ba    1\n",
       "            541a823c-0aad-4dc4-9123-d4af4647d942    2\n",
       "            8cbaa905-41b0-4327-8403-bf1c8eb25429    3\n",
       "            f681eb3c-854a-4f78-bcfe-76dfbcf9df3c    4\n",
       "            a0fec60d-3f74-48bf-a2d2-58c30fc13e53    5\n",
       "dtype: int64"
      ]
     },
     "execution_count": 97,
     "metadata": {},
     "output_type": "execute_result"
    }
   ],
   "source": [
    "pd.Series(bw.mapping).head()"
   ]
  },
  {
   "cell_type": "markdown",
   "metadata": {
    "deletable": true,
    "editable": true
   },
   "source": [
    "  - `row` and `col`store *dummy* placeholder information about the location of the parameter in the matrices. \n",
    "  - the `type` indicates whether the exchange is a reference flow (`type`=0), technosphere exchange (`type`=1) or elementary flow (`type`=2).  \n",
    "  - the other columns deal with uncertainty data. We'll cover that later, but one can always read about these columns in the [`stats_arrays` documentation](http://stats-arrays.readthedocs.io/en/latest/)"
   ]
  },
  {
   "cell_type": "markdown",
   "metadata": {
    "deletable": true,
    "editable": true
   },
   "source": [
    "When the `.lci()` method is called, the structured arrayas are used to build matrices. The code responsible to do this is in the [`MatrixBuilder` class methods](https://2.docs.brightway.dev/technical/bw2calc.html#matrix-builder). \n",
    "\n",
    "The method `MatrixBuilder.build_dictionary` is used to take input and output values, respectively, and figure out which rows and columns they correspond to. The actual code is succinct - only one line - but what it does is:\n",
    "  - Get all unique values, as each value will appear multiple times\n",
    "  - Sort these values\n",
    "  - Give them integer indices, starting with zero\n",
    "This information on row and column indices is sufficient to build matrices. These matrices are build in a [COOrdinate sparse matrix](https://docs.scipy.org/doc/scipy/reference/generated/scipy.sparse.coo_matrix.html) format, where, for each exchange, three values are required: row position, column position, and amount (the actual value). The sparse matrices are actually stored in [CSR format](https://docs.scipy.org/doc/scipy/reference/generated/scipy.sparse.csr_matrix.html#scipy.sparse.csr_matrix), but this is a detail.  \n",
    "\n",
    "Some more details are are found [here](https://2.docs.brightway.dev/technical/bw2calc.html#matrix-builders).  "
   ]
  },
  {
   "cell_type": "markdown",
   "metadata": {
    "deletable": true,
    "editable": true
   },
   "source": [
    "Let's now finally run the `.lci()`."
   ]
  },
  {
   "cell_type": "code",
   "execution_count": 98,
   "metadata": {
    "deletable": true,
    "editable": true,
    "tags": []
   },
   "outputs": [
    {
     "name": "stderr",
     "output_type": "stream",
     "text": [
      "/opt/homebrew/Caskroom/miniforge/base/envs/bw/lib/python3.11/site-packages/scikits/umfpack/umfpack.py:736: UmfpackWarning: (almost) singular matrix! (estimated cond. number: 3.58e+13)\n",
      "  warnings.warn(msg, UmfpackWarning)\n"
     ]
    }
   ],
   "source": [
    "myFirstLCA.lci()"
   ]
  },
  {
   "cell_type": "markdown",
   "metadata": {
    "deletable": true,
    "editable": true
   },
   "source": [
    "Here's what the structured arrays *now* look like:  "
   ]
  },
  {
   "cell_type": "code",
   "execution_count": 99,
   "metadata": {
    "collapsed": false,
    "deletable": true,
    "editable": true,
    "jupyter": {
     "outputs_hidden": false
    }
   },
   "outputs": [
    {
     "data": {
      "text/html": [
       "<div>\n",
       "<style scoped>\n",
       "    .dataframe tbody tr th:only-of-type {\n",
       "        vertical-align: middle;\n",
       "    }\n",
       "\n",
       "    .dataframe tbody tr th {\n",
       "        vertical-align: top;\n",
       "    }\n",
       "\n",
       "    .dataframe thead th {\n",
       "        text-align: right;\n",
       "    }\n",
       "</style>\n",
       "<table border=\"1\" class=\"dataframe\">\n",
       "  <thead>\n",
       "    <tr style=\"text-align: right;\">\n",
       "      <th></th>\n",
       "      <th>input</th>\n",
       "      <th>output</th>\n",
       "      <th>row</th>\n",
       "      <th>col</th>\n",
       "      <th>type</th>\n",
       "      <th>uncertainty_type</th>\n",
       "      <th>amount</th>\n",
       "      <th>loc</th>\n",
       "      <th>scale</th>\n",
       "      <th>shape</th>\n",
       "      <th>minimum</th>\n",
       "      <th>maximum</th>\n",
       "      <th>negative</th>\n",
       "    </tr>\n",
       "  </thead>\n",
       "  <tbody>\n",
       "    <tr>\n",
       "      <th>0</th>\n",
       "      <td>1</td>\n",
       "      <td>4814</td>\n",
       "      <td>0</td>\n",
       "      <td>104</td>\n",
       "      <td>2</td>\n",
       "      <td>0</td>\n",
       "      <td>2.744139e-14</td>\n",
       "      <td>2.744139e-14</td>\n",
       "      <td>NaN</td>\n",
       "      <td>NaN</td>\n",
       "      <td>NaN</td>\n",
       "      <td>NaN</td>\n",
       "      <td>False</td>\n",
       "    </tr>\n",
       "    <tr>\n",
       "      <th>1</th>\n",
       "      <td>1</td>\n",
       "      <td>4961</td>\n",
       "      <td>0</td>\n",
       "      <td>251</td>\n",
       "      <td>2</td>\n",
       "      <td>0</td>\n",
       "      <td>1.574065e-09</td>\n",
       "      <td>1.574065e-09</td>\n",
       "      <td>NaN</td>\n",
       "      <td>NaN</td>\n",
       "      <td>NaN</td>\n",
       "      <td>NaN</td>\n",
       "      <td>False</td>\n",
       "    </tr>\n",
       "    <tr>\n",
       "      <th>2</th>\n",
       "      <td>1</td>\n",
       "      <td>5381</td>\n",
       "      <td>0</td>\n",
       "      <td>671</td>\n",
       "      <td>2</td>\n",
       "      <td>0</td>\n",
       "      <td>7.610567e-12</td>\n",
       "      <td>7.610567e-12</td>\n",
       "      <td>NaN</td>\n",
       "      <td>NaN</td>\n",
       "      <td>NaN</td>\n",
       "      <td>NaN</td>\n",
       "      <td>False</td>\n",
       "    </tr>\n",
       "    <tr>\n",
       "      <th>3</th>\n",
       "      <td>1</td>\n",
       "      <td>5544</td>\n",
       "      <td>0</td>\n",
       "      <td>834</td>\n",
       "      <td>2</td>\n",
       "      <td>0</td>\n",
       "      <td>5.161354e-11</td>\n",
       "      <td>5.161354e-11</td>\n",
       "      <td>NaN</td>\n",
       "      <td>NaN</td>\n",
       "      <td>NaN</td>\n",
       "      <td>NaN</td>\n",
       "      <td>False</td>\n",
       "    </tr>\n",
       "    <tr>\n",
       "      <th>4</th>\n",
       "      <td>1</td>\n",
       "      <td>5664</td>\n",
       "      <td>0</td>\n",
       "      <td>954</td>\n",
       "      <td>2</td>\n",
       "      <td>0</td>\n",
       "      <td>8.298571e-11</td>\n",
       "      <td>8.298571e-11</td>\n",
       "      <td>NaN</td>\n",
       "      <td>NaN</td>\n",
       "      <td>NaN</td>\n",
       "      <td>NaN</td>\n",
       "      <td>False</td>\n",
       "    </tr>\n",
       "  </tbody>\n",
       "</table>\n",
       "</div>"
      ],
      "text/plain": [
       "   input  output  row  col  type  uncertainty_type        amount  \\\n",
       "0      1    4814    0  104     2                 0  2.744139e-14   \n",
       "1      1    4961    0  251     2                 0  1.574065e-09   \n",
       "2      1    5381    0  671     2                 0  7.610567e-12   \n",
       "3      1    5544    0  834     2                 0  5.161354e-11   \n",
       "4      1    5664    0  954     2                 0  8.298571e-11   \n",
       "\n",
       "            loc  scale  shape  minimum  maximum  negative  \n",
       "0  2.744139e-14    NaN    NaN      NaN      NaN     False  \n",
       "1  1.574065e-09    NaN    NaN      NaN      NaN     False  \n",
       "2  7.610567e-12    NaN    NaN      NaN      NaN     False  \n",
       "3  5.161354e-11    NaN    NaN      NaN      NaN     False  \n",
       "4  8.298571e-11    NaN    NaN      NaN      NaN     False  "
      ]
     },
     "execution_count": 99,
     "metadata": {},
     "output_type": "execute_result"
    }
   ],
   "source": [
    "pd.DataFrame(myFirstLCA.bio_params).head(5) # Technosphere parameters are at myFirstLCA.tech_params"
   ]
  },
  {
   "cell_type": "markdown",
   "metadata": {
    "deletable": true,
    "editable": true
   },
   "source": [
    "We see that the row and col numbers are no longer dummy variables, but that they actually have real matrix indices."
   ]
  },
  {
   "cell_type": "markdown",
   "metadata": {
    "deletable": true,
    "editable": true
   },
   "source": [
    "#### Dictionaries that map between incides and activities"
   ]
  },
  {
   "cell_type": "markdown",
   "metadata": {
    "deletable": true,
    "editable": true
   },
   "source": [
    "One of the useful things that the `MatrixBuilder` produces are `dictionaries` that map row and column numbers to the keys of activities.  There are three such dictionaries, all directly accessible as attributes of the LCA object:\n",
    " - `activity_dict`: Columns in the technosphere matrix $A$ or biosphere matrix $B$\n",
    " - `product_dict` : Rows in the technosphere matrix $A$  \n",
    " - `biosphere_dict`: Rows in the biosphere matrix $B$"
   ]
  },
  {
   "cell_type": "markdown",
   "metadata": {
    "deletable": true,
    "editable": true
   },
   "source": [
    "Here what this dictionary looks like:"
   ]
  },
  {
   "cell_type": "code",
   "execution_count": 100,
   "metadata": {
    "collapsed": false,
    "deletable": true,
    "editable": true,
    "jupyter": {
     "outputs_hidden": false
    }
   },
   "outputs": [
    {
     "data": {
      "text/plain": [
       "{('ecoinvent 3.9.1 cutoff', 'f32ba57ebce8c08759275f740a88f370'): 0,\n",
       " ('ecoinvent 3.9.1 cutoff', '73a4483e483a28e471ceffb1e6ef8b0d'): 1,\n",
       " ('ecoinvent 3.9.1 cutoff', 'fb126ed85de69f5cac7f991f022d9b5c'): 2,\n",
       " ('ecoinvent 3.9.1 cutoff', '10302c31d0d4a1816bd8bb0032c0198f'): 3,\n",
       " ('ecoinvent 3.9.1 cutoff', 'bad56a905eb6f8bed4e273051a455157'): 4,\n",
       " ('ecoinvent 3.9.1 cutoff', '0d759a754439881bf0f5e934078dcedf'): 5,\n",
       " ('ecoinvent 3.9.1 cutoff', '17c9670f75f1b10a3ea8850c4bffdccb'): 6,\n",
       " ('ecoinvent 3.9.1 cutoff', '484ed4ed4737fac9849242b16d5a23c7'): 7,\n",
       " ('ecoinvent 3.9.1 cutoff', '6ea399ff612d73f5a4cde92a17992053'): 8,\n",
       " ('ecoinvent 3.9.1 cutoff', '2840342713a23d57067cb420745eb251'): 9,\n",
       " ('ecoinvent 3.9.1 cutoff', '6caa34be583700c562617d1cc473c1b5'): 10,\n",
       " ('ecoinvent 3.9.1 cutoff', '7d2e14ef80a94cebc66c3cff7c989496'): 11,\n",
       " ('ecoinvent 3.9.1 cutoff', '362c5d4e230434904ed2821d5ac1098c'): 12,\n",
       " ('ecoinvent 3.9.1 cutoff', 'ba4b47e0d1f15aff29e8b9ab1e1bb5ba'): 13,\n",
       " ('ecoinvent 3.9.1 cutoff', 'fd558441fc3d04fe59887ab30ce51119'): 14,\n",
       " ('ecoinvent 3.9.1 cutoff', '74ed92848731568ab051e79ab70c4097'): 15,\n",
       " ('ecoinvent 3.9.1 cutoff', '3c7f02be1dda1696aa4ee51a60c77b81'): 16,\n",
       " ('ecoinvent 3.9.1 cutoff', '8311780013b1bafd8a33cf5072e04705'): 17,\n",
       " ('ecoinvent 3.9.1 cutoff', 'e3a15500c3c58c6c469dbf2f2c49b56f'): 18,\n",
       " ('ecoinvent 3.9.1 cutoff', 'e2d3c731f67f8144f90429cd6ac885c8'): 19,\n",
       " ('ecoinvent 3.9.1 cutoff', '63ea017e389a07a36765e03be75c2485'): 20,\n",
       " ('ecoinvent 3.9.1 cutoff', '5154a90d092791a65100c269137789c7'): 21,\n",
       " ('ecoinvent 3.9.1 cutoff', 'cf676ee99b6cdb0905258bb04bb0f3a0'): 22,\n",
       " ('ecoinvent 3.9.1 cutoff', '93d98a8dd211ddd167d35cc95eb66f5f'): 23,\n",
       " ('ecoinvent 3.9.1 cutoff', 'e4c5b41dcde9685bc2131040d1fd870a'): 24,\n",
       " ('ecoinvent 3.9.1 cutoff', 'b755c4ba3685105d26176143c42e2f2a'): 25,\n",
       " ('ecoinvent 3.9.1 cutoff', '6257a25404ae9abf31ed548e85475df7'): 26,\n",
       " ('ecoinvent 3.9.1 cutoff', '4778fac49b5bffdcf80ad5650fe9b050'): 27,\n",
       " ('ecoinvent 3.9.1 cutoff', '161984d1e59b5c2c848ce21c67daae1e'): 28,\n",
       " ('ecoinvent 3.9.1 cutoff', 'aa5053ebcc4ba4811d01ea16e8c53692'): 29,\n",
       " ('ecoinvent 3.9.1 cutoff', '1e605dd55fe8bc84a3f4d8c1da589270'): 30,\n",
       " ('ecoinvent 3.9.1 cutoff', 'f841c8eeaac498721da2c12e6b5316e2'): 31,\n",
       " ('ecoinvent 3.9.1 cutoff', 'b843e93f4e81134438fa343a7279110a'): 32,\n",
       " ('ecoinvent 3.9.1 cutoff', '32973d509e20ba45e3cc95f7b3e4ab71'): 33,\n",
       " ('ecoinvent 3.9.1 cutoff', '6c832cf13947ee8f131fa3c2325a6b91'): 34,\n",
       " ('ecoinvent 3.9.1 cutoff', '60eccfb05dccf174b2561c7776f81973'): 35,\n",
       " ('ecoinvent 3.9.1 cutoff', '784f73d972061c425989938ae16aaa52'): 36,\n",
       " ('ecoinvent 3.9.1 cutoff', 'dfa62d42f9c3335ba32b022da00f477c'): 37,\n",
       " ('ecoinvent 3.9.1 cutoff', '4a321fdc8c74b2f471baed263b860d48'): 38,\n",
       " ('ecoinvent 3.9.1 cutoff', 'd8b2ce5d2112db0527d898b6ba2530bb'): 39,\n",
       " ('ecoinvent 3.9.1 cutoff', 'a605cb1691542a9b643a91adafe8e3fe'): 40,\n",
       " ('ecoinvent 3.9.1 cutoff', 'dda50173cd4b455eff6c0f92bfa6a0fb'): 41,\n",
       " ('ecoinvent 3.9.1 cutoff', 'b0450625dadb5eb63e4ced0e094f22af'): 42,\n",
       " ('ecoinvent 3.9.1 cutoff', '65a59a52f5396ad59802eeb669d42bf5'): 43,\n",
       " ('ecoinvent 3.9.1 cutoff', '8c796bb3d2fdce73306e7dcbdf8e595f'): 44,\n",
       " ('ecoinvent 3.9.1 cutoff', 'c6d1f05d71cdc9e93615eb8c6c55861c'): 45,\n",
       " ('ecoinvent 3.9.1 cutoff', '51c781cb9d00f21fad481dd8f1ae2645'): 46,\n",
       " ('ecoinvent 3.9.1 cutoff', '6edc04f5504105cfca6b4949ecf91c85'): 47,\n",
       " ('ecoinvent 3.9.1 cutoff', '896aee018828671ac111e4afdf9113b8'): 48,\n",
       " ('ecoinvent 3.9.1 cutoff', '76b8a5b3f6bee5ae376b86dfe1d42b84'): 49,\n",
       " ('ecoinvent 3.9.1 cutoff', '3a8accbf06701a9a4510fcce80e2c083'): 50,\n",
       " ('ecoinvent 3.9.1 cutoff', '514d3fb427d513a540fb5c118201d2e4'): 51,\n",
       " ('ecoinvent 3.9.1 cutoff', 'b27eeb91e3020c593cc8a713f1f800d3'): 52,\n",
       " ('ecoinvent 3.9.1 cutoff', '2747c5af40950e8e8402cf7f35c65f7b'): 53,\n",
       " ('ecoinvent 3.9.1 cutoff', 'bf81f22a10076a23b162ee1bc5806d75'): 54,\n",
       " ('ecoinvent 3.9.1 cutoff', '262e215dfa60eed26973ba459b2db10a'): 55,\n",
       " ('ecoinvent 3.9.1 cutoff', '7a910ec794edd8bf61176584f5c241ea'): 56,\n",
       " ('ecoinvent 3.9.1 cutoff', '69b287a7cf8ac3fc5ef4235d541cb62b'): 57,\n",
       " ('ecoinvent 3.9.1 cutoff', '739947f4c00a96cc479b4d63f7e429f7'): 58,\n",
       " ('ecoinvent 3.9.1 cutoff', '055f966750130a6b94d81874c14b913a'): 59,\n",
       " ('ecoinvent 3.9.1 cutoff', '13e49a5db063c58aab0304e4dbedf2a4'): 60,\n",
       " ('ecoinvent 3.9.1 cutoff', 'b87e62377cece6b8a62df55206e1189c'): 61,\n",
       " ('ecoinvent 3.9.1 cutoff', 'b249f628166b17ebcccf3d32c7048c90'): 62,\n",
       " ('ecoinvent 3.9.1 cutoff', 'bffb996eaca3b3bd2ea44487dd2b45ea'): 63,\n",
       " ('ecoinvent 3.9.1 cutoff', '5d3f18d1d01ccf6c5842ba43d400b808'): 64,\n",
       " ('ecoinvent 3.9.1 cutoff', 'a85a72087b9dcaac874b3d6c314dcb09'): 65,\n",
       " ('ecoinvent 3.9.1 cutoff', '0418fb60693885b06166390b9f3008f3'): 66,\n",
       " ('ecoinvent 3.9.1 cutoff', '04583a14a8acc2843e9b6e5a90bf3ba0'): 67,\n",
       " ('ecoinvent 3.9.1 cutoff', 'c0538595a23f519bb3421f85ec6e4d15'): 68,\n",
       " ('ecoinvent 3.9.1 cutoff', '671ddeb7e0d1cd30ef7f0955777acf5d'): 69,\n",
       " ('ecoinvent 3.9.1 cutoff', 'ea852302635dd9d99a09b1c983cc9f5b'): 70,\n",
       " ('ecoinvent 3.9.1 cutoff', '03c763ad66457736ebbd9caa65a373fd'): 71,\n",
       " ('ecoinvent 3.9.1 cutoff', '02a188eb9d7d87ffff32703c010faf53'): 72,\n",
       " ('ecoinvent 3.9.1 cutoff', '5a6e0edde7c7adb5d248ed73b00e7376'): 73,\n",
       " ('ecoinvent 3.9.1 cutoff', '6cca52b10377e29e2617d106d609c210'): 74,\n",
       " ('ecoinvent 3.9.1 cutoff', '0955d8f082bfb36f636d7556d0a45e6a'): 75,\n",
       " ('ecoinvent 3.9.1 cutoff', 'ec9bded66f51645eec5fcb968593a909'): 76,\n",
       " ('ecoinvent 3.9.1 cutoff', '956704e865e662848e5e56482ffcd015'): 77,\n",
       " ('ecoinvent 3.9.1 cutoff', '8e3e9f990e51c3986d3aac4ab4225d4a'): 78,\n",
       " ('ecoinvent 3.9.1 cutoff', '38555c1eedd89442376428c6bf075891'): 79,\n",
       " ('ecoinvent 3.9.1 cutoff', 'd7b541bc86ff085ef8885572608fa059'): 80,\n",
       " ('ecoinvent 3.9.1 cutoff', 'f6ae88e4d2648ae99bd42937bd819853'): 81,\n",
       " ('ecoinvent 3.9.1 cutoff', '17fd1e13b29b6ddf538b80711b187d50'): 82,\n",
       " ('ecoinvent 3.9.1 cutoff', '74b0a39f12606b7747e5b7ed822be57e'): 83,\n",
       " ('ecoinvent 3.9.1 cutoff', '6ec1967d6d1c656dec4feb0fb7d7a009'): 84,\n",
       " ('ecoinvent 3.9.1 cutoff', 'd39a2c0ea27f3f627f1fbf112a2e082f'): 85,\n",
       " ('ecoinvent 3.9.1 cutoff', '83f1b035cdd0b8b268c8a30d6bbf5fc6'): 86,\n",
       " ('ecoinvent 3.9.1 cutoff', '31ea7971afe205dacd39e67f0ed05bc3'): 87,\n",
       " ('ecoinvent 3.9.1 cutoff', '56938f13bb29678fb0d5186b4daca375'): 88,\n",
       " ('ecoinvent 3.9.1 cutoff', '698b12a3fade05d79f3d414c79a931ee'): 89,\n",
       " ('ecoinvent 3.9.1 cutoff', '84aa1da9811dc23d8588ab6f43ec232d'): 90,\n",
       " ('ecoinvent 3.9.1 cutoff', '4f4d94f579643c0db2fb2d2b7301373c'): 91,\n",
       " ('ecoinvent 3.9.1 cutoff', '7cd5ab8265d8f7c282c657ed90e3d8af'): 92,\n",
       " ('ecoinvent 3.9.1 cutoff', 'bc4470db8b0ce7b36005b03df4608207'): 93,\n",
       " ('ecoinvent 3.9.1 cutoff', 'bd81e54339a8aa1196a6ba266d70db2b'): 94,\n",
       " ('ecoinvent 3.9.1 cutoff', '0ad6341e6bd3465d1c34ab5c21a555e9'): 95,\n",
       " ('ecoinvent 3.9.1 cutoff', '39b7ba0fe3e85c6540ca6ac6e2faf8f6'): 96,\n",
       " ('ecoinvent 3.9.1 cutoff', 'ec38c1e6b792b33796e3ae69d73ac82c'): 97,\n",
       " ('ecoinvent 3.9.1 cutoff', 'dd6fabba83be0e67f6abb428d1ad5254'): 98,\n",
       " ('ecoinvent 3.9.1 cutoff', 'f332a15b4972392127554c3f2a87944f'): 99,\n",
       " ('ecoinvent 3.9.1 cutoff', '366b2ce2a52c20b5ebc3b2c71b9827b6'): 100,\n",
       " ('ecoinvent 3.9.1 cutoff', '258dca9f740aaf14496050f2395e463e'): 101,\n",
       " ('ecoinvent 3.9.1 cutoff', '55876088ce7c49e7f54a56ec1255ee78'): 102,\n",
       " ('ecoinvent 3.9.1 cutoff', '782616a55d84e31b5523f3a8258982e8'): 103,\n",
       " ('ecoinvent 3.9.1 cutoff', '3462ed747cfdcacaa52fd69a3ca3cd57'): 104,\n",
       " ('ecoinvent 3.9.1 cutoff', 'ffe2005822d3aaf5e99a81a09495c727'): 105,\n",
       " ('ecoinvent 3.9.1 cutoff', '245eaef2fb637e428e0425deb295ec37'): 106,\n",
       " ('ecoinvent 3.9.1 cutoff', 'dd76a95b5234654590269bde045c4c56'): 107,\n",
       " ('ecoinvent 3.9.1 cutoff', '648ca6a8c91e72725e28da0c8b6770d9'): 108,\n",
       " ('ecoinvent 3.9.1 cutoff', '89ff757c13dec244573975ac436b2c90'): 109,\n",
       " ('ecoinvent 3.9.1 cutoff', 'a5e3a6a206996f0b2efbda04d05a4276'): 110,\n",
       " ('ecoinvent 3.9.1 cutoff', 'f73c4db36f8b9510489b7f1c2fb90d29'): 111,\n",
       " ('ecoinvent 3.9.1 cutoff', '6e54f9ce32289fbc2a1500dd91210913'): 112,\n",
       " ('ecoinvent 3.9.1 cutoff', 'f69130b5b2986046713e9d6b1bfbe860'): 113,\n",
       " ('ecoinvent 3.9.1 cutoff', 'a32bb801fd61cb23457e285134d4893b'): 114,\n",
       " ('ecoinvent 3.9.1 cutoff', 'c254bf90499807cf43a87369786ced62'): 115,\n",
       " ('ecoinvent 3.9.1 cutoff', 'bda07e5ec57ce247244bb00d3ee909e5'): 116,\n",
       " ('ecoinvent 3.9.1 cutoff', 'c15a417acce2dc6d301385fc58ac0f5a'): 117,\n",
       " ('ecoinvent 3.9.1 cutoff', '5a3ee25228df102236bc2d7bb3a0cf89'): 118,\n",
       " ('ecoinvent 3.9.1 cutoff', 'c43e9205c40569ebd53e0a570820b130'): 119,\n",
       " ('ecoinvent 3.9.1 cutoff', '258c2fdcc508bb2fa6e5430367ee505a'): 120,\n",
       " ('ecoinvent 3.9.1 cutoff', '78850c6bdd3dcb134f4111d956bab936'): 121,\n",
       " ('ecoinvent 3.9.1 cutoff', 'd5d28c2d6951102dadb02983a31c1747'): 122,\n",
       " ('ecoinvent 3.9.1 cutoff', '4a42df253e405ab7869e7fabebd07130'): 123,\n",
       " ('ecoinvent 3.9.1 cutoff', '08ade2e378cf36041ec520867c77f81c'): 124,\n",
       " ('ecoinvent 3.9.1 cutoff', 'e891fd812caf651c8e8cabef33212069'): 125,\n",
       " ('ecoinvent 3.9.1 cutoff', '35d665cdeccbe8b2c632970ce69968b8'): 126,\n",
       " ('ecoinvent 3.9.1 cutoff', '4fb8ae7c7146a26156cb4dda0871c1ce'): 127,\n",
       " ('ecoinvent 3.9.1 cutoff', '82cd489a3909cdcb769da2537edee9c4'): 128,\n",
       " ('ecoinvent 3.9.1 cutoff', 'aeb7cac6ddf844cd566779c51d77a118'): 129,\n",
       " ('ecoinvent 3.9.1 cutoff', '75513360143f653749a5466e629599c9'): 130,\n",
       " ('ecoinvent 3.9.1 cutoff', 'dfad8f9f8095a84b71d5e00bebddf384'): 131,\n",
       " ('ecoinvent 3.9.1 cutoff', '50ffca50a31dae2f6868fd8bc2dd953b'): 132,\n",
       " ('ecoinvent 3.9.1 cutoff', '312e7ae462650171698b611adc78c081'): 133,\n",
       " ('ecoinvent 3.9.1 cutoff', '2938f4ae99a87cb70d1819bf28cb12ed'): 134,\n",
       " ('ecoinvent 3.9.1 cutoff', '51f753e02ea8b6aba9276a147d6d4176'): 135,\n",
       " ('ecoinvent 3.9.1 cutoff', '7ca1379b2e6c0bd9e6473895c523aa7f'): 136,\n",
       " ('ecoinvent 3.9.1 cutoff', '524822e267ee5d3f93ce341dc381662c'): 137,\n",
       " ('ecoinvent 3.9.1 cutoff', 'cb82a58d8221f774f2c2ad9ecb88c05c'): 138,\n",
       " ('ecoinvent 3.9.1 cutoff', '2625cb63569260f7aa001497c1d2ea1f'): 139,\n",
       " ('ecoinvent 3.9.1 cutoff', '0ed38d2018ecfc5d0537a368557666cf'): 140,\n",
       " ('ecoinvent 3.9.1 cutoff', '8b26ca9c7072ea527436ce057ba77460'): 141,\n",
       " ('ecoinvent 3.9.1 cutoff', '79f3471c292c153e6be97a06d050f6a3'): 142,\n",
       " ('ecoinvent 3.9.1 cutoff', '57895b5e87a9d131aa609e296c999279'): 143,\n",
       " ('ecoinvent 3.9.1 cutoff', '6d5c3a16244a7e34faf2ae5d7603d541'): 144,\n",
       " ('ecoinvent 3.9.1 cutoff', '7ec96866b7bbd1bf82435c112d6eba09'): 145,\n",
       " ('ecoinvent 3.9.1 cutoff', '93fbce1ae39ba72dae6fe95a0e3d79c1'): 146,\n",
       " ('ecoinvent 3.9.1 cutoff', '5e70709bd71d55c88527de46f7267aff'): 147,\n",
       " ('ecoinvent 3.9.1 cutoff', '0390dcd0ef5d7227116c51b72a8450b9'): 148,\n",
       " ('ecoinvent 3.9.1 cutoff', '77ba65dd636a98256fa2a61f0e1f7a03'): 149,\n",
       " ('ecoinvent 3.9.1 cutoff', '6be14d317eff6e3635ae054bae274149'): 150,\n",
       " ('ecoinvent 3.9.1 cutoff', 'a8ebeb7b36223eac48a3cc7860c0e711'): 151,\n",
       " ('ecoinvent 3.9.1 cutoff', '4b665eedeb1336efb9cbd5b2e0e32f26'): 152,\n",
       " ('ecoinvent 3.9.1 cutoff', '2ca88c77da5eca9727e465f331d378d3'): 153,\n",
       " ('ecoinvent 3.9.1 cutoff', 'e50a69cbcb58e48661c9f83f5dc32b75'): 154,\n",
       " ('ecoinvent 3.9.1 cutoff', '0883b31178629eb56739e6aaacb17552'): 155,\n",
       " ('ecoinvent 3.9.1 cutoff', 'c655f5b0ff84702a0077ad38fdf4f750'): 156,\n",
       " ('ecoinvent 3.9.1 cutoff', '7e0ceafa28859257a6d73a29cc988669'): 157,\n",
       " ('ecoinvent 3.9.1 cutoff', 'ac17a3d6e017444c41eb5ff3be407877'): 158,\n",
       " ('ecoinvent 3.9.1 cutoff', 'eba11f081cf123395ba1d3a570dc05e7'): 159,\n",
       " ('ecoinvent 3.9.1 cutoff', '12cfc1956a1f6c987cc3b5e26b47c7e2'): 160,\n",
       " ('ecoinvent 3.9.1 cutoff', '9dbcd90f3d15a2e44510dac2b0188248'): 161,\n",
       " ('ecoinvent 3.9.1 cutoff', '64094aebc0ce24ae9d57d402f923d688'): 162,\n",
       " ('ecoinvent 3.9.1 cutoff', '05f3bcea2adc0750ebeb720a82945eac'): 163,\n",
       " ('ecoinvent 3.9.1 cutoff', '2c99899c31fcc6421d5ac8bd05bd49ac'): 164,\n",
       " ('ecoinvent 3.9.1 cutoff', 'cfe80dd1883ca8df051887be0fdfa4ec'): 165,\n",
       " ('ecoinvent 3.9.1 cutoff', '3417e68b559f959ee49e5512abb50846'): 166,\n",
       " ('ecoinvent 3.9.1 cutoff', '18f701852c2e41a79563a6f3bc0a10db'): 167,\n",
       " ('ecoinvent 3.9.1 cutoff', 'e2ccfeeafd85f5b53f3e8c4371e736fd'): 168,\n",
       " ('ecoinvent 3.9.1 cutoff', 'b163fedb6a3ef23bc8990837e3311205'): 169,\n",
       " ('ecoinvent 3.9.1 cutoff', 'c9a05ccaffafadfdfdbf7a9559da5146'): 170,\n",
       " ('ecoinvent 3.9.1 cutoff', '77de23bfacdd7ae95555f6177b325828'): 171,\n",
       " ('ecoinvent 3.9.1 cutoff', 'd187af32d78706a42158a8ed3e09e714'): 172,\n",
       " ('ecoinvent 3.9.1 cutoff', '28d064dafa33526445db5d34e073c09d'): 173,\n",
       " ('ecoinvent 3.9.1 cutoff', 'baaddee099ca42fc2a54412557711fb5'): 174,\n",
       " ('ecoinvent 3.9.1 cutoff', '11373a42f15363b80251656bfcb1e55e'): 175,\n",
       " ('ecoinvent 3.9.1 cutoff', '38ffb774e666ebe27a3a6b51c12c1543'): 176,\n",
       " ('ecoinvent 3.9.1 cutoff', 'f7920dc2818621d0ef83320dbe12be8f'): 177,\n",
       " ('ecoinvent 3.9.1 cutoff', 'dd22be6a9064fc082552a63f737f8961'): 178,\n",
       " ('ecoinvent 3.9.1 cutoff', 'a08017ebd5b5ef15e24d98eaa05407ec'): 179,\n",
       " ('ecoinvent 3.9.1 cutoff', 'ee563c293050f0a6f70aac72a0824aa2'): 180,\n",
       " ('ecoinvent 3.9.1 cutoff', '54d28d7cfde49e7718bdf0bb474b78c1'): 181,\n",
       " ('ecoinvent 3.9.1 cutoff', '962ed20c2efd40a454ec189def4ac79e'): 182,\n",
       " ('ecoinvent 3.9.1 cutoff', 'e094d462e01474b7a12a56f342bba06e'): 183,\n",
       " ('ecoinvent 3.9.1 cutoff', '0e9578f84cf0e867bb6ef1b096afb371'): 184,\n",
       " ('ecoinvent 3.9.1 cutoff', '54f538c893808698cb3a89ae67c76c87'): 185,\n",
       " ('ecoinvent 3.9.1 cutoff', '36b73a4f4f1c296287a35d32590a65e5'): 186,\n",
       " ('ecoinvent 3.9.1 cutoff', '5468040eda7cb574bb395c6e51431245'): 187,\n",
       " ('ecoinvent 3.9.1 cutoff', '5c44e4dd2455d1daba57353e1c7344b2'): 188,\n",
       " ('ecoinvent 3.9.1 cutoff', '27f8570534cbb46112ebd1d4aaa84690'): 189,\n",
       " ('ecoinvent 3.9.1 cutoff', 'cff38930bb53b5d58a2244f27ef7655f'): 190,\n",
       " ('ecoinvent 3.9.1 cutoff', 'cbde931953f536b16e29fd800470a7e6'): 191,\n",
       " ('ecoinvent 3.9.1 cutoff', 'c8815db465f194491f8e1fd060aa0547'): 192,\n",
       " ('ecoinvent 3.9.1 cutoff', '3e51459f8f48c24ebfea06f0cefd707d'): 193,\n",
       " ('ecoinvent 3.9.1 cutoff', 'f68e0471e39ebcb406e21c3de53e8073'): 194,\n",
       " ('ecoinvent 3.9.1 cutoff', 'dc5898ac8d0d183f80b0c684def1df48'): 195,\n",
       " ('ecoinvent 3.9.1 cutoff', '7d27ef4afcef18410965dfd737f81eff'): 196,\n",
       " ('ecoinvent 3.9.1 cutoff', '23b593be9cbe8b3a1799fd14460fb283'): 197,\n",
       " ('ecoinvent 3.9.1 cutoff', 'f81617979bdf2cc54df8d2b17e018d90'): 198,\n",
       " ('ecoinvent 3.9.1 cutoff', 'df67b3d01b68766ae7d013488def9122'): 199,\n",
       " ('ecoinvent 3.9.1 cutoff', '2d112858912f55b7968b712cdb4d3e10'): 200,\n",
       " ('ecoinvent 3.9.1 cutoff', 'dca984abc15fc56b0685f7e8c5afdd57'): 201,\n",
       " ('ecoinvent 3.9.1 cutoff', 'ca831e355d887298471ebae4424e1bed'): 202,\n",
       " ('ecoinvent 3.9.1 cutoff', 'd3717baf390878fc3be0cb47b26698fc'): 203,\n",
       " ('ecoinvent 3.9.1 cutoff', '1c959df340af2917f9452d89c3b41198'): 204,\n",
       " ('ecoinvent 3.9.1 cutoff', '66af82684be47e04e90292a9ad78e8b4'): 205,\n",
       " ('ecoinvent 3.9.1 cutoff', 'f492ec9a9193ef9797e387370d7936d3'): 206,\n",
       " ('ecoinvent 3.9.1 cutoff', '2af2adb1cd07508db4c7a8b8ea62f0a8'): 207,\n",
       " ('ecoinvent 3.9.1 cutoff', '9c9c2a22b1e3c1745410715cc4a9ddb6'): 208,\n",
       " ('ecoinvent 3.9.1 cutoff', '9480616fdc4fc86522b48b630392aafa'): 209,\n",
       " ('ecoinvent 3.9.1 cutoff', '87f84c1df68c85a74abb2f5c4a8b7969'): 210,\n",
       " ('ecoinvent 3.9.1 cutoff', '483de08155f066ff7cd5650fe191a324'): 211,\n",
       " ('ecoinvent 3.9.1 cutoff', '90ac1c25d24832dcdbe1d8fc959e0ed8'): 212,\n",
       " ('ecoinvent 3.9.1 cutoff', '10fd11246ec8eb9637db4e2769970c09'): 213,\n",
       " ('ecoinvent 3.9.1 cutoff', '0e14636caafdac1a1fc484eab51711fb'): 214,\n",
       " ('ecoinvent 3.9.1 cutoff', '53cc28bc1c287564653d6c4c8d2bd807'): 215,\n",
       " ('ecoinvent 3.9.1 cutoff', 'f75eaead16f844349af5baa0c42ad45c'): 216,\n",
       " ('ecoinvent 3.9.1 cutoff', '27f66a2ee1705a0209fff166f9fd7773'): 217,\n",
       " ('ecoinvent 3.9.1 cutoff', '7018ea89ad16f57e164dc6c2b2cbf874'): 218,\n",
       " ('ecoinvent 3.9.1 cutoff', '1a6b34f15c89099512f64d6f7c9b58cc'): 219,\n",
       " ('ecoinvent 3.9.1 cutoff', '820299a10e55f5de669ef96e39aa6640'): 220,\n",
       " ('ecoinvent 3.9.1 cutoff', 'c0e71315da729aa6929274169a68aade'): 221,\n",
       " ('ecoinvent 3.9.1 cutoff', '786ca8ab899639c4f49e510dc40acb19'): 222,\n",
       " ('ecoinvent 3.9.1 cutoff', 'f6f931e77ca5ce3324e3166edb899fea'): 223,\n",
       " ('ecoinvent 3.9.1 cutoff', '83fff5892fa1d8e585bad0d7ccd52019'): 224,\n",
       " ('ecoinvent 3.9.1 cutoff', '86156d2c70aef7176e380735fb59009f'): 225,\n",
       " ('ecoinvent 3.9.1 cutoff', 'b60263d66ad176c18d900de55f495e72'): 226,\n",
       " ('ecoinvent 3.9.1 cutoff', 'fa2a7940f44e9fe7e9334a0281fdeb89'): 227,\n",
       " ('ecoinvent 3.9.1 cutoff', '0c8d50be661a3636547780b8ccab411e'): 228,\n",
       " ('ecoinvent 3.9.1 cutoff', '8e5511f388e4209a542ffabf89782278'): 229,\n",
       " ('ecoinvent 3.9.1 cutoff', '695452840bee2bf2c485c4e41d24f5d5'): 230,\n",
       " ('ecoinvent 3.9.1 cutoff', '71e2702de9846975cb3b3b80fc6cf40c'): 231,\n",
       " ('ecoinvent 3.9.1 cutoff', 'a9405bb2c3d95909304bea8650558149'): 232,\n",
       " ('ecoinvent 3.9.1 cutoff', 'bb75a7d0370f2a4976cc26645be67aa5'): 233,\n",
       " ('ecoinvent 3.9.1 cutoff', 'a946db2366efe57fefcec0cfb465bb9b'): 234,\n",
       " ('ecoinvent 3.9.1 cutoff', '0b51c9284202e6d4001759da269f33fc'): 235,\n",
       " ('ecoinvent 3.9.1 cutoff', 'a9808d05d37d2b520a26a1997e130990'): 236,\n",
       " ('ecoinvent 3.9.1 cutoff', 'fba6f073372c62c965ccff9926c7b77b'): 237,\n",
       " ('ecoinvent 3.9.1 cutoff', 'c353d990a13bdc9dc429777587509385'): 238,\n",
       " ('ecoinvent 3.9.1 cutoff', '6d9bd6fb795e1454edd7391eef708ec1'): 239,\n",
       " ('ecoinvent 3.9.1 cutoff', 'a967b1301f1e6c5dcc126ad045d6f66a'): 240,\n",
       " ('ecoinvent 3.9.1 cutoff', '8ded522e8da51a1248748a4a57c4d710'): 241,\n",
       " ('ecoinvent 3.9.1 cutoff', 'bf585acd91a45979fe0fdfd2616ed600'): 242,\n",
       " ('ecoinvent 3.9.1 cutoff', '1ce8f8b2627be095f90532423ddcc1af'): 243,\n",
       " ('ecoinvent 3.9.1 cutoff', '93e5f8b902408b6dd66a60ccfba71161'): 244,\n",
       " ('ecoinvent 3.9.1 cutoff', '2b0d6d112900d406530d5ec72f995707'): 245,\n",
       " ('ecoinvent 3.9.1 cutoff', '3a9513fe64e6ad25a4dd92a09827f816'): 246,\n",
       " ('ecoinvent 3.9.1 cutoff', 'd9f19145b24ecce90e8d7825fe90a526'): 247,\n",
       " ('ecoinvent 3.9.1 cutoff', 'bd940c7d5668468a171998eb5d8f4e67'): 248,\n",
       " ('ecoinvent 3.9.1 cutoff', 'aab52f4b17542439afe0c03f63599d80'): 249,\n",
       " ('ecoinvent 3.9.1 cutoff', 'c00bcd051405398c8b155a63543e458c'): 250,\n",
       " ('ecoinvent 3.9.1 cutoff', '203592d549e6f31d49059368cae39249'): 251,\n",
       " ('ecoinvent 3.9.1 cutoff', '751a4c2c16f860965bf727603ff157d6'): 252,\n",
       " ('ecoinvent 3.9.1 cutoff', 'f10bd33eb6618cb469ca7eb46bbfc490'): 253,\n",
       " ('ecoinvent 3.9.1 cutoff', '6ab97f628888c7d78addf6ffad5c163d'): 254,\n",
       " ('ecoinvent 3.9.1 cutoff', 'aae504943c4b051b40ff9a713c1e10ba'): 255,\n",
       " ('ecoinvent 3.9.1 cutoff', 'c409e7c1e3e92d9b97487b4feb7e5599'): 256,\n",
       " ('ecoinvent 3.9.1 cutoff', '0cf4e7f79be56af8bdf4dda15e69b40c'): 257,\n",
       " ('ecoinvent 3.9.1 cutoff', 'fbbc45c575d6004d4ef2227855b434dd'): 258,\n",
       " ('ecoinvent 3.9.1 cutoff', '2a484ad3fb21bbebd8fb7fc24da60985'): 259,\n",
       " ('ecoinvent 3.9.1 cutoff', '2d2bdea236a392e2d7dbc6c515609315'): 260,\n",
       " ('ecoinvent 3.9.1 cutoff', '59051ad3a68c768006093649dc678a9b'): 261,\n",
       " ('ecoinvent 3.9.1 cutoff', '2a47d1f45c6b5a6410f707b7330d442e'): 262,\n",
       " ('ecoinvent 3.9.1 cutoff', '0810326f53d2c4315c4c1eee2ba0f8d0'): 263,\n",
       " ('ecoinvent 3.9.1 cutoff', 'bb89d4c732d09b5f7791ef85c7872f9d'): 264,\n",
       " ('ecoinvent 3.9.1 cutoff', '45ac1e0896998a089f71c0f1ed98c481'): 265,\n",
       " ('ecoinvent 3.9.1 cutoff', '9c414ed7878be208370f42df027c8b2c'): 266,\n",
       " ('ecoinvent 3.9.1 cutoff', 'e939ebac78a74d3d1eca78c67c149257'): 267,\n",
       " ('ecoinvent 3.9.1 cutoff', 'e1dbb445694edaab0389d52f76952924'): 268,\n",
       " ('ecoinvent 3.9.1 cutoff', 'f157671637dfd8af61386fd96ddf7664'): 269,\n",
       " ('ecoinvent 3.9.1 cutoff', '739b62a416c112e2b66a6454e0ada1b5'): 270,\n",
       " ('ecoinvent 3.9.1 cutoff', '4a177b6a75d6da7e56c0df90779a922a'): 271,\n",
       " ('ecoinvent 3.9.1 cutoff', '495616378b5d9013197ab093e3181662'): 272,\n",
       " ('ecoinvent 3.9.1 cutoff', 'a64a5b1006d28078aa1cf248f37ca370'): 273,\n",
       " ('ecoinvent 3.9.1 cutoff', 'd0a3754f1562f76ae0fcb6427a16ee10'): 274,\n",
       " ('ecoinvent 3.9.1 cutoff', '40f5b7ea9d34ac39279a6d9905ae4fcd'): 275,\n",
       " ('ecoinvent 3.9.1 cutoff', '40a86b02b76779987c5abf2683bebbc4'): 276,\n",
       " ('ecoinvent 3.9.1 cutoff', 'a1445ce2d21bdc4c646c1fb530588f27'): 277,\n",
       " ('ecoinvent 3.9.1 cutoff', '45575acd2a9ee57a6ac807b6404a482b'): 278,\n",
       " ('ecoinvent 3.9.1 cutoff', '1e01f5f1d664bbd8cb890b2e6fe9cfdc'): 279,\n",
       " ('ecoinvent 3.9.1 cutoff', '699169f674afe839b1cf231aecdbc605'): 280,\n",
       " ('ecoinvent 3.9.1 cutoff', '1ef3d6f378d4054d410391a7398fc999'): 281,\n",
       " ('ecoinvent 3.9.1 cutoff', '4d8a62b0c0eb971a53a547cab120b176'): 282,\n",
       " ('ecoinvent 3.9.1 cutoff', '84ff7f042d2e2fced6e287ec61a2e31a'): 283,\n",
       " ('ecoinvent 3.9.1 cutoff', 'c7b2e1c9a769063e5acc60c53a7ca07a'): 284,\n",
       " ('ecoinvent 3.9.1 cutoff', '2048b7bdf86357a3e6079cc6a73bb4f9'): 285,\n",
       " ('ecoinvent 3.9.1 cutoff', '0fec8433296703fc003ffda8012a17b8'): 286,\n",
       " ('ecoinvent 3.9.1 cutoff', '9b671ec044f9424c65befd65ca0c765c'): 287,\n",
       " ('ecoinvent 3.9.1 cutoff', '90c153a158b56d17df0659319f67cdae'): 288,\n",
       " ('ecoinvent 3.9.1 cutoff', '9d1abbd31e9fd2b03fc891fed1eb5efc'): 289,\n",
       " ('ecoinvent 3.9.1 cutoff', '40e88f6835d6c3c5daa8f48cdb8e87ea'): 290,\n",
       " ('ecoinvent 3.9.1 cutoff', 'b2456bb2e61063a1a1adc6016c9c7b95'): 291,\n",
       " ('ecoinvent 3.9.1 cutoff', '34786547efdd611d64f63eccc8797326'): 292,\n",
       " ('ecoinvent 3.9.1 cutoff', '538fd3825d6b93fd230e3e0bbc9182e4'): 293,\n",
       " ('ecoinvent 3.9.1 cutoff', '4714c3bfd09f0c1039847a4c10ba98ec'): 294,\n",
       " ('ecoinvent 3.9.1 cutoff', '4951099be4ce8c202174aee9e060433c'): 295,\n",
       " ('ecoinvent 3.9.1 cutoff', '838e5534b7a4351570fc6a6558033641'): 296,\n",
       " ('ecoinvent 3.9.1 cutoff', 'f7785b548968be5826c408fd205aee92'): 297,\n",
       " ('ecoinvent 3.9.1 cutoff', '85a4a472a5f74c78301962ac8f7553d3'): 298,\n",
       " ('ecoinvent 3.9.1 cutoff', '3d42075432e4849c7582d0e0f196290c'): 299,\n",
       " ('ecoinvent 3.9.1 cutoff', '41170ea11aa84c43c27b1aeddb17528f'): 300,\n",
       " ('ecoinvent 3.9.1 cutoff', '5a19be8ebfd722643b6e2cecd9cd20c3'): 301,\n",
       " ('ecoinvent 3.9.1 cutoff', '90fbe3a0fed39b61781e7af4f3935a03'): 302,\n",
       " ('ecoinvent 3.9.1 cutoff', '72eb95566a79709f25360995ee05a07c'): 303,\n",
       " ('ecoinvent 3.9.1 cutoff', '302ab5bea8285e6aa37b5f7c8a816ad8'): 304,\n",
       " ('ecoinvent 3.9.1 cutoff', 'd1693041a80bdcda096f9c3587c6f5eb'): 305,\n",
       " ('ecoinvent 3.9.1 cutoff', 'fad770dee5c9545d47fff577cc896836'): 306,\n",
       " ('ecoinvent 3.9.1 cutoff', '41ba742bcdd2655889f0e732f2064723'): 307,\n",
       " ('ecoinvent 3.9.1 cutoff', '0c3b8f61860afff479088808ea1b014a'): 308,\n",
       " ('ecoinvent 3.9.1 cutoff', '9e7bad5a4749ff00cc91190825d94aa0'): 309,\n",
       " ('ecoinvent 3.9.1 cutoff', '853c5efa830301634ef4f24e0060333c'): 310,\n",
       " ('ecoinvent 3.9.1 cutoff', '66b9d2c86836e95212702a8621c42f22'): 311,\n",
       " ('ecoinvent 3.9.1 cutoff', '61c59bdc19ab6eefd116f504adcc754b'): 312,\n",
       " ('ecoinvent 3.9.1 cutoff', '3eca85ab277c4e62088f3b25d881c6a2'): 313,\n",
       " ('ecoinvent 3.9.1 cutoff', 'c17632aee277e137c03daf24c9d8a18a'): 314,\n",
       " ('ecoinvent 3.9.1 cutoff', '32df9c5f828b773a9b9e2e7cbc1cc469'): 315,\n",
       " ('ecoinvent 3.9.1 cutoff', 'ffb64f016425c23b0922c00e5807ecda'): 316,\n",
       " ('ecoinvent 3.9.1 cutoff', '1ebf858bb02e4831d6ddd9db53f54cca'): 317,\n",
       " ('ecoinvent 3.9.1 cutoff', 'ff6ebb501a3f6b1eca3fb6ebfac8b793'): 318,\n",
       " ('ecoinvent 3.9.1 cutoff', '6d8634428d45ca379953e82b97a3a56e'): 319,\n",
       " ('ecoinvent 3.9.1 cutoff', '20c4e961209aaad64b28e5bb48d679a2'): 320,\n",
       " ('ecoinvent 3.9.1 cutoff', 'bd45312a77ef5be8b8340cddd8d814c7'): 321,\n",
       " ('ecoinvent 3.9.1 cutoff', '4e666879ce6ae88fa1cc2a7e7e7a7533'): 322,\n",
       " ('ecoinvent 3.9.1 cutoff', '8c0a99afd9c222f67dd8cf661be0e658'): 323,\n",
       " ('ecoinvent 3.9.1 cutoff', 'f40f8355c2887c397395e613197b065f'): 324,\n",
       " ('ecoinvent 3.9.1 cutoff', '0ad2735ace3b0d2166e3dd5525088768'): 325,\n",
       " ('ecoinvent 3.9.1 cutoff', '28b198bffb1cb8303935303756e4001a'): 326,\n",
       " ('ecoinvent 3.9.1 cutoff', '0d5f51645e0a2b69019ea8f0344509cc'): 327,\n",
       " ('ecoinvent 3.9.1 cutoff', '3b7a9dbae734127c3a3145a945d3cc3a'): 328,\n",
       " ('ecoinvent 3.9.1 cutoff', 'e1cc308f0ec364435bc90c19311046a6'): 329,\n",
       " ('ecoinvent 3.9.1 cutoff', '914ee40dfe479760a5883a7962ce50cc'): 330,\n",
       " ('ecoinvent 3.9.1 cutoff', 'dd7b9f99e891fc46d4f52beb94245f75'): 331,\n",
       " ('ecoinvent 3.9.1 cutoff', '1c5338d9d8660450791fccf2322c1721'): 332,\n",
       " ('ecoinvent 3.9.1 cutoff', 'a39fa8035aaf9c8e029a46a344b629e7'): 333,\n",
       " ('ecoinvent 3.9.1 cutoff', 'bbcc24a62a7a425e708fa8967f0df2ee'): 334,\n",
       " ('ecoinvent 3.9.1 cutoff', 'd0c724bbf3c0cda9ae394557fbcb1a96'): 335,\n",
       " ('ecoinvent 3.9.1 cutoff', 'd8296d5323d49042f6730355a861139f'): 336,\n",
       " ('ecoinvent 3.9.1 cutoff', 'acf95acf991d2932c76e32509a2bf9b2'): 337,\n",
       " ('ecoinvent 3.9.1 cutoff', '99d97aca1efbc7eaaf44a99c3982f5ff'): 338,\n",
       " ('ecoinvent 3.9.1 cutoff', '732368a43476509bb333d81d104f67b0'): 339,\n",
       " ('ecoinvent 3.9.1 cutoff', '85c4bd2041087082456be0f19fce090b'): 340,\n",
       " ('ecoinvent 3.9.1 cutoff', '4f0693ef68120a39f711295a64db098f'): 341,\n",
       " ('ecoinvent 3.9.1 cutoff', 'eda5a9889a07fc6759f5e391cd76b24a'): 342,\n",
       " ('ecoinvent 3.9.1 cutoff', '9a647fad72b406d28275c585a82a93e6'): 343,\n",
       " ('ecoinvent 3.9.1 cutoff', '7549307336f18ef773558a1be5e1329f'): 344,\n",
       " ('ecoinvent 3.9.1 cutoff', '4649f0461a43a817181a0eb250f9ce04'): 345,\n",
       " ('ecoinvent 3.9.1 cutoff', '699406091375b0a709b82947bd8c1982'): 346,\n",
       " ('ecoinvent 3.9.1 cutoff', '08a684cd60d03f17de397396af5289ce'): 347,\n",
       " ('ecoinvent 3.9.1 cutoff', 'c8234c88a5e7d4f294f492f01487a351'): 348,\n",
       " ('ecoinvent 3.9.1 cutoff', '430c10dda95db2917c3295905bc109fc'): 349,\n",
       " ('ecoinvent 3.9.1 cutoff', '49d7a23a1bd2240b7a9eb75e68092047'): 350,\n",
       " ('ecoinvent 3.9.1 cutoff', '8c8c82e16d5392e88efdbea56d97b394'): 351,\n",
       " ('ecoinvent 3.9.1 cutoff', '4eebcaf9c1f715990605ddfa4f886b72'): 352,\n",
       " ('ecoinvent 3.9.1 cutoff', '3f168a0f12526e90ec5061e540326e5c'): 353,\n",
       " ('ecoinvent 3.9.1 cutoff', '059ccc54a0e014448afa9a0b0f9af98a'): 354,\n",
       " ('ecoinvent 3.9.1 cutoff', '1e6b7f4552249e2add36981101446e25'): 355,\n",
       " ('ecoinvent 3.9.1 cutoff', '73645511b70124cd6cecbdea4d66b3fa'): 356,\n",
       " ('ecoinvent 3.9.1 cutoff', '23810b0bbe04fca71b0f53fc97d56360'): 357,\n",
       " ('ecoinvent 3.9.1 cutoff', '9fb70a8fad616207387b2e316cf5b593'): 358,\n",
       " ('ecoinvent 3.9.1 cutoff', '47c24a47dbcd0128a3b3fe1c891db3eb'): 359,\n",
       " ('ecoinvent 3.9.1 cutoff', '141d30fee87b8fb379d6f5d179fb8f20'): 360,\n",
       " ('ecoinvent 3.9.1 cutoff', '7d8831cba33f207607e7ee4a2b9193d9'): 361,\n",
       " ('ecoinvent 3.9.1 cutoff', 'b0369a7a31757d7c2535c7d1d0cc5e33'): 362,\n",
       " ('ecoinvent 3.9.1 cutoff', 'c4c81dd3eac790e0f467285a98ca82d4'): 363,\n",
       " ('ecoinvent 3.9.1 cutoff', '26c8f644836c9b914b46911ca3b82f6d'): 364,\n",
       " ('ecoinvent 3.9.1 cutoff', '75428352cbba91962648fe146bb1c5ac'): 365,\n",
       " ('ecoinvent 3.9.1 cutoff', '5af58ee120bccd04fb4053c89ff1c9ea'): 366,\n",
       " ('ecoinvent 3.9.1 cutoff', 'd722526f6809661548989302b3482a13'): 367,\n",
       " ('ecoinvent 3.9.1 cutoff', '41885dc5b3ce5fe6d74fb7dd8c971e39'): 368,\n",
       " ('ecoinvent 3.9.1 cutoff', '79603102b9965446e5b997507af648a9'): 369,\n",
       " ('ecoinvent 3.9.1 cutoff', '0c2eab9445adc9efe1eafb7a2a06e1e4'): 370,\n",
       " ('ecoinvent 3.9.1 cutoff', '099a8b432861489fa3220d641e035c8c'): 371,\n",
       " ('ecoinvent 3.9.1 cutoff', 'efa1d6535ba36d66935f9d419c9db084'): 372,\n",
       " ('ecoinvent 3.9.1 cutoff', '76de973096c034312a24dae8f35ad7f7'): 373,\n",
       " ('ecoinvent 3.9.1 cutoff', '58c95b186dcd36b51e82c6928378726a'): 374,\n",
       " ('ecoinvent 3.9.1 cutoff', '02c1e856918387a63eee82addf807656'): 375,\n",
       " ('ecoinvent 3.9.1 cutoff', '2f1d5113530088fa162e8fa0fffb9887'): 376,\n",
       " ('ecoinvent 3.9.1 cutoff', 'c54fb832f5a288b04c4fc82f06170f57'): 377,\n",
       " ('ecoinvent 3.9.1 cutoff', '085ecbcca04e0bd9078f69ab1365a37f'): 378,\n",
       " ('ecoinvent 3.9.1 cutoff', 'e81b517c7792db6696aca932d400a5dd'): 379,\n",
       " ('ecoinvent 3.9.1 cutoff', '559939ba79c75435be91c1c425237106'): 380,\n",
       " ('ecoinvent 3.9.1 cutoff', 'cfbc05a41ac930e63398c926fe988239'): 381,\n",
       " ('ecoinvent 3.9.1 cutoff', '9ef8f7515e54a8f0248bb72b1e30d686'): 382,\n",
       " ('ecoinvent 3.9.1 cutoff', 'e0651437589a5561e5856b2aefabcc2e'): 383,\n",
       " ('ecoinvent 3.9.1 cutoff', '5d70da4f02121296de86d807529738d1'): 384,\n",
       " ('ecoinvent 3.9.1 cutoff', '5367e00a48c6b150866aa31205f61c58'): 385,\n",
       " ('ecoinvent 3.9.1 cutoff', '6900041fd2172853d1c023af3d5037ab'): 386,\n",
       " ('ecoinvent 3.9.1 cutoff', 'bb83be2001da7a01c9a91e7aa8849303'): 387,\n",
       " ('ecoinvent 3.9.1 cutoff', '8096f22c8b5e8d404e7c6a595d6c7314'): 388,\n",
       " ('ecoinvent 3.9.1 cutoff', '0a14afef87cd81d8e6185c1bebe95ec8'): 389,\n",
       " ('ecoinvent 3.9.1 cutoff', '744ccd13d9807c322687c4a67a341826'): 390,\n",
       " ('ecoinvent 3.9.1 cutoff', '82a63d54c0d98c7f7b18428bc781e189'): 391,\n",
       " ('ecoinvent 3.9.1 cutoff', '0013eecac5d35ec768cc8e933c69deb8'): 392,\n",
       " ('ecoinvent 3.9.1 cutoff', 'ffed19327fa56d006cf5760ccd9e91cd'): 393,\n",
       " ('ecoinvent 3.9.1 cutoff', '3a3f3bc4137ae0e3753f1ea59a97168e'): 394,\n",
       " ('ecoinvent 3.9.1 cutoff', 'cd3c8d718d5fe2b4a23b3e44983d9e83'): 395,\n",
       " ('ecoinvent 3.9.1 cutoff', '493740d4f2eaaa4d9e9302b356e42372'): 396,\n",
       " ('ecoinvent 3.9.1 cutoff', '106873f5e1120e4a8f279b989c7bba94'): 397,\n",
       " ('ecoinvent 3.9.1 cutoff', 'd36a947a505d74d9dec6eea2d4eb58a7'): 398,\n",
       " ('ecoinvent 3.9.1 cutoff', '00018a2608c38f1e5cdf5f6dbec86312'): 399,\n",
       " ('ecoinvent 3.9.1 cutoff', '360636def07f1eafd172bb4a5b7aea42'): 400,\n",
       " ('ecoinvent 3.9.1 cutoff', 'de76fc5a46ebab99ef2b343608299ac0'): 401,\n",
       " ('ecoinvent 3.9.1 cutoff', 'da173c1bdd8c240bdcc77584a9456c8a'): 402,\n",
       " ('ecoinvent 3.9.1 cutoff', 'fb9892cc8ae21391015a261efbfd2284'): 403,\n",
       " ('ecoinvent 3.9.1 cutoff', '8e99902a7d5a9940fca553f8f9efb813'): 404,\n",
       " ('ecoinvent 3.9.1 cutoff', 'f575621104a6653f8b7bc1d12f0f5a71'): 405,\n",
       " ('ecoinvent 3.9.1 cutoff', 'e26545f20151e555df08c992c284990a'): 406,\n",
       " ('ecoinvent 3.9.1 cutoff', 'f8a7c40945e5532c9c6d45c43e6a5e2e'): 407,\n",
       " ('ecoinvent 3.9.1 cutoff', '7e02be7831649502d41249e151d482ca'): 408,\n",
       " ('ecoinvent 3.9.1 cutoff', 'f2be200384d3aa64b0c18a53bf5ce3e2'): 409,\n",
       " ('ecoinvent 3.9.1 cutoff', '9d1ed41851f7883ee09daea95d4ee864'): 410,\n",
       " ('ecoinvent 3.9.1 cutoff', '6175b2df9656437aa94846ae62ad8fcd'): 411,\n",
       " ('ecoinvent 3.9.1 cutoff', '07ec8222254949e633412e479a0cebbe'): 412,\n",
       " ('ecoinvent 3.9.1 cutoff', 'c5b0e996d2c2c54b9b5e382ad051a3d1'): 413,\n",
       " ('ecoinvent 3.9.1 cutoff', '6fd953429014a7b19123f7d132810cf4'): 414,\n",
       " ('ecoinvent 3.9.1 cutoff', 'bc745fcb1391eb2b82d16ce4166280f2'): 415,\n",
       " ('ecoinvent 3.9.1 cutoff', '0153a1ab7fb39f5bd163721e3bd4a109'): 416,\n",
       " ('ecoinvent 3.9.1 cutoff', '1e29d602b77cd8d2d10976cf10622153'): 417,\n",
       " ('ecoinvent 3.9.1 cutoff', '310ce99699562ce3584b81df52bf3462'): 418,\n",
       " ('ecoinvent 3.9.1 cutoff', '6e670a32788d73e054f8245736c663b1'): 419,\n",
       " ('ecoinvent 3.9.1 cutoff', '53f6eabe6b31759e709ac5030271b7f4'): 420,\n",
       " ('ecoinvent 3.9.1 cutoff', 'd0d202a5b7708a4b839e9abe3f40da68'): 421,\n",
       " ('ecoinvent 3.9.1 cutoff', '1bc36a71fc93670eda192d923ee2bfe3'): 422,\n",
       " ('ecoinvent 3.9.1 cutoff', 'e8146e0c6b7efeb3b683449089e1d86a'): 423,\n",
       " ('ecoinvent 3.9.1 cutoff', '2e2215f785cc4ed3be85bf025f3ec81b'): 424,\n",
       " ('ecoinvent 3.9.1 cutoff', '6fae7898d34cd7a7d2b88d79644c6fdb'): 425,\n",
       " ('ecoinvent 3.9.1 cutoff', '747f46bca5870721d535c836cf8c6597'): 426,\n",
       " ('ecoinvent 3.9.1 cutoff', '19e5867c5e98a3b3b582d0ece930b8b2'): 427,\n",
       " ('ecoinvent 3.9.1 cutoff', '67be994191f5938d9a3ee1c9bd8c3e47'): 428,\n",
       " ('ecoinvent 3.9.1 cutoff', '355fa185d5cfb0fbff960b206dabdcd0'): 429,\n",
       " ('ecoinvent 3.9.1 cutoff', '2f5b684789b719d9af35f609b06563d4'): 430,\n",
       " ('ecoinvent 3.9.1 cutoff', '865c7a20cd8b4684bf48c146f105c5ea'): 431,\n",
       " ('ecoinvent 3.9.1 cutoff', '0d4ce52b9f184721b35a07766b68a014'): 432,\n",
       " ('ecoinvent 3.9.1 cutoff', 'c578b2b6b24a8fe94e2fabaae27942b9'): 433,\n",
       " ('ecoinvent 3.9.1 cutoff', 'ab9fcd99f5f6cd9b8a94b2cefa5d88e4'): 434,\n",
       " ('ecoinvent 3.9.1 cutoff', '7b38aee71facb3b5f3724170bbde773d'): 435,\n",
       " ('ecoinvent 3.9.1 cutoff', '872198c284fdcdbab2d81e9ed37e5dcd'): 436,\n",
       " ('ecoinvent 3.9.1 cutoff', '72b06d70c6d741eb4a4874413694f845'): 437,\n",
       " ('ecoinvent 3.9.1 cutoff', '0c16be957f2fbb933192c9fdf810e3f1'): 438,\n",
       " ('ecoinvent 3.9.1 cutoff', '61cfb543c0647733c5412dbd33fc5aaa'): 439,\n",
       " ('ecoinvent 3.9.1 cutoff', '75da16c809a91760a19f0338ac3388ae'): 440,\n",
       " ('ecoinvent 3.9.1 cutoff', '3a6586952eff793738eef72743703e90'): 441,\n",
       " ('ecoinvent 3.9.1 cutoff', '47472ca6017b6e8b751d638cec288a0d'): 442,\n",
       " ('ecoinvent 3.9.1 cutoff', '5b9110c5a13c9a421d6b87cf8ac7bec9'): 443,\n",
       " ('ecoinvent 3.9.1 cutoff', '3603265625a6c6c9702ede0aa7413665'): 444,\n",
       " ('ecoinvent 3.9.1 cutoff', '0a76e11c8b34db514631f52b35cc1897'): 445,\n",
       " ('ecoinvent 3.9.1 cutoff', '8aa735d42dc54b7baef97d13ea10e1ee'): 446,\n",
       " ('ecoinvent 3.9.1 cutoff', 'c34d80499a99d949cb1a38cae5838ee3'): 447,\n",
       " ('ecoinvent 3.9.1 cutoff', '8388d8054ea1d79b748fe68ccf9fb4e8'): 448,\n",
       " ('ecoinvent 3.9.1 cutoff', '56ac81c10d2adde86edc7f368eb79eaa'): 449,\n",
       " ('ecoinvent 3.9.1 cutoff', 'bc2d101dd2a466543296008ce8c342da'): 450,\n",
       " ('ecoinvent 3.9.1 cutoff', '1463cc2a4ee4765d5b8a42965cddaa15'): 451,\n",
       " ('ecoinvent 3.9.1 cutoff', '6a2493e09fc8c5fc8a5b35680a45e292'): 452,\n",
       " ('ecoinvent 3.9.1 cutoff', '33f187d2b8bdb52c593510b899b17759'): 453,\n",
       " ('ecoinvent 3.9.1 cutoff', '6f5456984855ca384444d304caf927fb'): 454,\n",
       " ('ecoinvent 3.9.1 cutoff', '303ceb4a91057559fed5cb1c3bf29149'): 455,\n",
       " ('ecoinvent 3.9.1 cutoff', '0a5950353e4cb6f6ad44bb7a455ba465'): 456,\n",
       " ('ecoinvent 3.9.1 cutoff', 'b32d59c3168bbbb0167fe0bd290bc8df'): 457,\n",
       " ('ecoinvent 3.9.1 cutoff', '838512bcecf14f99e1aa18b9f297ca3b'): 458,\n",
       " ('ecoinvent 3.9.1 cutoff', 'fff5b57441f64ef02ea869803a212120'): 459,\n",
       " ('ecoinvent 3.9.1 cutoff', 'e6c57edbd8456bbec31bf522604cc3d6'): 460,\n",
       " ('ecoinvent 3.9.1 cutoff', 'cb6beec3a04776ff98bbf28e1dc467a9'): 461,\n",
       " ('ecoinvent 3.9.1 cutoff', '15f475a53c59ef4224074301545d86ab'): 462,\n",
       " ('ecoinvent 3.9.1 cutoff', 'b38e0559c59b1be2c2fc66ebe65d56e6'): 463,\n",
       " ('ecoinvent 3.9.1 cutoff', 'dfd8dafa15514464a61eb5b968e6ba86'): 464,\n",
       " ('ecoinvent 3.9.1 cutoff', 'f70a903a7f5aadac01850fd27b17544a'): 465,\n",
       " ('ecoinvent 3.9.1 cutoff', '0cd40ef57970224bbf6d57d073596b75'): 466,\n",
       " ('ecoinvent 3.9.1 cutoff', '8d9cf1a79ce97f23da17746d4f3fbe7c'): 467,\n",
       " ('ecoinvent 3.9.1 cutoff', 'aa56c62c46a0dae412bc13b83fd4d524'): 468,\n",
       " ('ecoinvent 3.9.1 cutoff', 'fd61d919330074150bb28d9f97360994'): 469,\n",
       " ('ecoinvent 3.9.1 cutoff', '9a5d8b504b687999106456a802f9075e'): 470,\n",
       " ('ecoinvent 3.9.1 cutoff', 'c570966d606a8902ac73ff101305beef'): 471,\n",
       " ('ecoinvent 3.9.1 cutoff', 'dc67083d9d6fdddf50f6a82ec53fb805'): 472,\n",
       " ('ecoinvent 3.9.1 cutoff', 'f66d4cb858737451800d73c56b0b96aa'): 473,\n",
       " ('ecoinvent 3.9.1 cutoff', 'd255ac2e9418e2854e1f8d4f4c2b4180'): 474,\n",
       " ('ecoinvent 3.9.1 cutoff', '78ea189e63477241c3e13c9b501bb24d'): 475,\n",
       " ('ecoinvent 3.9.1 cutoff', '911bd1f9214e55a3edf6844c7c81df19'): 476,\n",
       " ('ecoinvent 3.9.1 cutoff', 'eab8ab3cefe550330ff413a73e2867db'): 477,\n",
       " ('ecoinvent 3.9.1 cutoff', 'a2e398ef5a0b5b883aba6f0513e3c5bb'): 478,\n",
       " ('ecoinvent 3.9.1 cutoff', '9177b177d7a52078622d255d0d6c7b49'): 479,\n",
       " ('ecoinvent 3.9.1 cutoff', 'f2a73f75d4e28be479d66de37f2d79cd'): 480,\n",
       " ('ecoinvent 3.9.1 cutoff', 'a18ffd81dbcaa17ad104189f6019eeae'): 481,\n",
       " ('ecoinvent 3.9.1 cutoff', '1fa519a80419ec64cf19a371c2078202'): 482,\n",
       " ('ecoinvent 3.9.1 cutoff', 'c29509574498ed98c26af747f65665df'): 483,\n",
       " ('ecoinvent 3.9.1 cutoff', '31188a004efe458b84b1c39d6644f042'): 484,\n",
       " ('ecoinvent 3.9.1 cutoff', '870a2c52aec6235e38893b83473c5c14'): 485,\n",
       " ('ecoinvent 3.9.1 cutoff', '42c314295fcead0dafef17c4346c45d8'): 486,\n",
       " ('ecoinvent 3.9.1 cutoff', '827f242c77bccd7c899e7376bfd1f8b7'): 487,\n",
       " ('ecoinvent 3.9.1 cutoff', 'bab51cbc5c22ac6f6b1c37acf74856a7'): 488,\n",
       " ('ecoinvent 3.9.1 cutoff', '9cc71803f2d887617f8a731028fece0f'): 489,\n",
       " ('ecoinvent 3.9.1 cutoff', '1caf7675422a5b52fe6e9bfb82ac11e3'): 490,\n",
       " ('ecoinvent 3.9.1 cutoff', '72931a7046660c97257548aa1bfd6565'): 491,\n",
       " ('ecoinvent 3.9.1 cutoff', '1fb0f5436cb75b53df069caed28a09cd'): 492,\n",
       " ('ecoinvent 3.9.1 cutoff', 'c3ee5d4c3ec111c911591c61f522f88e'): 493,\n",
       " ('ecoinvent 3.9.1 cutoff', '473055804622e48cc4f306c362c36925'): 494,\n",
       " ('ecoinvent 3.9.1 cutoff', '1f03d3641c97fa1d246e3a0a93adb4e6'): 495,\n",
       " ('ecoinvent 3.9.1 cutoff', '7828a943e134cb66b04a9e8c71bab201'): 496,\n",
       " ('ecoinvent 3.9.1 cutoff', 'c3cb481399ac70af7d59816f0457df64'): 497,\n",
       " ('ecoinvent 3.9.1 cutoff', '9c491ca9e45cd95b2edd74f4b3386f9c'): 498,\n",
       " ('ecoinvent 3.9.1 cutoff', '2256961bda47b6359456db4c7dca8553'): 499,\n",
       " ('ecoinvent 3.9.1 cutoff', 'e97fa8b32c22a155d672e4d6a7058c6a'): 500,\n",
       " ('ecoinvent 3.9.1 cutoff', '53ba8f9e43d897b596246e4b4820adcf'): 501,\n",
       " ('ecoinvent 3.9.1 cutoff', 'e67c5898587e40420bf9b075dc610e25'): 502,\n",
       " ('ecoinvent 3.9.1 cutoff', '68cd54a33dc9b8a0cc8fa627816ce53a'): 503,\n",
       " ('ecoinvent 3.9.1 cutoff', '5efd4061851b2bd322f17830fee57dff'): 504,\n",
       " ('ecoinvent 3.9.1 cutoff', '280c26a529ecb0c0b6ad2ed1f6984cc3'): 505,\n",
       " ('ecoinvent 3.9.1 cutoff', '555da7deacd3ca82bcdb406bd7795f81'): 506,\n",
       " ('ecoinvent 3.9.1 cutoff', 'a5dff97d0e9fb37553e2aad762e7fa2e'): 507,\n",
       " ('ecoinvent 3.9.1 cutoff', '2eb618b2c0347ae4551b8e563589b569'): 508,\n",
       " ('ecoinvent 3.9.1 cutoff', '57e0e55f7829c06e8671b4282612b2aa'): 509,\n",
       " ('ecoinvent 3.9.1 cutoff', 'c156a7876538483bea13171cfef6f1d9'): 510,\n",
       " ('ecoinvent 3.9.1 cutoff', '24a7ed95a6fd3f4678e7a02e26c05c91'): 511,\n",
       " ('ecoinvent 3.9.1 cutoff', 'a2836c2d7dac8ababf9ba207164e0e4a'): 512,\n",
       " ('ecoinvent 3.9.1 cutoff', '6c46eb2d0d3f48ad0d916f7969ad940c'): 513,\n",
       " ('ecoinvent 3.9.1 cutoff', '30d6ec17ba464490cf266b0f36c9e594'): 514,\n",
       " ('ecoinvent 3.9.1 cutoff', 'e4be524775d99609fc4ecc031cb39e16'): 515,\n",
       " ('ecoinvent 3.9.1 cutoff', '924596707cdaae0682742d3f4d8d205d'): 516,\n",
       " ('ecoinvent 3.9.1 cutoff', 'a4e506f2c34146b021f25f0460ebebf4'): 517,\n",
       " ('ecoinvent 3.9.1 cutoff', '7656777bec4271f2d78c3c4e581a2dc3'): 518,\n",
       " ('ecoinvent 3.9.1 cutoff', '49e550d28bda969c98f1080c036da524'): 519,\n",
       " ('ecoinvent 3.9.1 cutoff', '743576f3c8254142997bd3c159b7fd54'): 520,\n",
       " ('ecoinvent 3.9.1 cutoff', '913c5d119499fc8c91f5402469ea592e'): 521,\n",
       " ('ecoinvent 3.9.1 cutoff', 'a004ca7193090d7952f08e4264531b12'): 522,\n",
       " ('ecoinvent 3.9.1 cutoff', '5ac188d87a9117b371dfec1226d83838'): 523,\n",
       " ('ecoinvent 3.9.1 cutoff', 'a8fb091c6660c414d157d9438e4e00c1'): 524,\n",
       " ('ecoinvent 3.9.1 cutoff', '8fea69d0824110bc9d745996b1155041'): 525,\n",
       " ('ecoinvent 3.9.1 cutoff', '10584bcddb60ec95f2753916ed3ce83e'): 526,\n",
       " ('ecoinvent 3.9.1 cutoff', '44eb57ada5499566c962f58879647275'): 527,\n",
       " ('ecoinvent 3.9.1 cutoff', 'bb953ac821a28fe944cad0d4670af299'): 528,\n",
       " ('ecoinvent 3.9.1 cutoff', '55889c730b60394168e079603427e5c1'): 529,\n",
       " ('ecoinvent 3.9.1 cutoff', '8e0588a762abc8adefe9f05150b37c6b'): 530,\n",
       " ('ecoinvent 3.9.1 cutoff', 'ac5a5541841dd4c02cd5275f84c0ed98'): 531,\n",
       " ('ecoinvent 3.9.1 cutoff', '9ad5b05cbab4abd22c8e623ce779a0e0'): 532,\n",
       " ('ecoinvent 3.9.1 cutoff', 'a03d33eca4e2670632bc88178ed80146'): 533,\n",
       " ('ecoinvent 3.9.1 cutoff', 'f61ebd8209f18f7826779e51299cdef2'): 534,\n",
       " ('ecoinvent 3.9.1 cutoff', '475eed409ce96bfbb2b092215d5a12c8'): 535,\n",
       " ('ecoinvent 3.9.1 cutoff', '58de3387c1413bb191f1411afae02efb'): 536,\n",
       " ('ecoinvent 3.9.1 cutoff', '37a5b08b3e13bf76c8a1f23bd3a81230'): 537,\n",
       " ('ecoinvent 3.9.1 cutoff', '98d0b5bcb97f3f98730e03c132eb0d67'): 538,\n",
       " ('ecoinvent 3.9.1 cutoff', 'ba3860e14f90855c019df7c7cf043db6'): 539,\n",
       " ('ecoinvent 3.9.1 cutoff', '6c217855b836ba886ebcb20c105ad088'): 540,\n",
       " ('ecoinvent 3.9.1 cutoff', '867a871552e767ed52e8aaf4a138465f'): 541,\n",
       " ('ecoinvent 3.9.1 cutoff', '346568a8600f79d06541e100ddab5fe1'): 542,\n",
       " ('ecoinvent 3.9.1 cutoff', '902cecec60e7845317ee1b942d377f3f'): 543,\n",
       " ('ecoinvent 3.9.1 cutoff', '43c9af565c8378e9c3499181c43cd77b'): 544,\n",
       " ('ecoinvent 3.9.1 cutoff', '3da85b95610e6968c4a0a874549fbef8'): 545,\n",
       " ('ecoinvent 3.9.1 cutoff', '419243ae593d779ce102a6cde5f99de0'): 546,\n",
       " ('ecoinvent 3.9.1 cutoff', 'e0c5fc1a4904141bc139699b19f23bf1'): 547,\n",
       " ('ecoinvent 3.9.1 cutoff', '87783ade347640aba3b1d2c588d4ce77'): 548,\n",
       " ('ecoinvent 3.9.1 cutoff', 'a4d6322a775771b4eeed3e6bed5686fe'): 549,\n",
       " ('ecoinvent 3.9.1 cutoff', 'a5f5352ae8d8e7f4d38d56ea98852371'): 550,\n",
       " ('ecoinvent 3.9.1 cutoff', 'f3099fd9853592d671d2590f8a37f3fc'): 551,\n",
       " ('ecoinvent 3.9.1 cutoff', '475dbe44b357641147047cd7a66f6c03'): 552,\n",
       " ('ecoinvent 3.9.1 cutoff', '679467b3588782aff94f749f3bd4a084'): 553,\n",
       " ('ecoinvent 3.9.1 cutoff', 'e0dee162f5617a7540fbd4b319b843ef'): 554,\n",
       " ('ecoinvent 3.9.1 cutoff', '410625dd1e4de1f71562af36aede6b55'): 555,\n",
       " ('ecoinvent 3.9.1 cutoff', '3dd23b78d0f180d24081d7be6fb44499'): 556,\n",
       " ('ecoinvent 3.9.1 cutoff', '2b50bbbb43e3849538945675b7d006f9'): 557,\n",
       " ('ecoinvent 3.9.1 cutoff', 'be33116d9801dd9e6a161a7f97be15c4'): 558,\n",
       " ('ecoinvent 3.9.1 cutoff', 'c9a0ae0dbad4a15b39cc1de4541ad23a'): 559,\n",
       " ('ecoinvent 3.9.1 cutoff', '7198f5ff54c1b3161104853b0916ed74'): 560,\n",
       " ('ecoinvent 3.9.1 cutoff', '3fef6f14b2705f886a04763532941215'): 561,\n",
       " ('ecoinvent 3.9.1 cutoff', '9e822103697b49ed85c7c056c95d9a43'): 562,\n",
       " ('ecoinvent 3.9.1 cutoff', '26b7b36c99c358c65adb728020192066'): 563,\n",
       " ('ecoinvent 3.9.1 cutoff', 'c117325648bd95c66aa5d15eed8fe33c'): 564,\n",
       " ('ecoinvent 3.9.1 cutoff', '50ad49f522df462405f927a3a2e12000'): 565,\n",
       " ('ecoinvent 3.9.1 cutoff', '81284e6ffa4fe0221fa1fbec0f0d23a9'): 566,\n",
       " ('ecoinvent 3.9.1 cutoff', 'b4cf9bef49c25e06bf9ccfba45c7d955'): 567,\n",
       " ('ecoinvent 3.9.1 cutoff', '9328809152594d47c3f5a98422744b64'): 568,\n",
       " ('ecoinvent 3.9.1 cutoff', '5c488bb51ae5192064bac821d2360e28'): 569,\n",
       " ('ecoinvent 3.9.1 cutoff', '173b6065c70b230c1f422c69e222ca7b'): 570,\n",
       " ('ecoinvent 3.9.1 cutoff', '43ab4e514c101536a77210171cd24d19'): 571,\n",
       " ('ecoinvent 3.9.1 cutoff', '1a3d7b9381157cdda1d1a1026dbbe83e'): 572,\n",
       " ('ecoinvent 3.9.1 cutoff', 'b517fcdbd866b9d6e0dea5201810cbca'): 573,\n",
       " ('ecoinvent 3.9.1 cutoff', 'ea03c88f279f972cf40f0783212534eb'): 574,\n",
       " ('ecoinvent 3.9.1 cutoff', '0515b27bc2b759a3a98bf3f1422725a8'): 575,\n",
       " ('ecoinvent 3.9.1 cutoff', '7d4d5d299ec3c7d5c0153c0f25a4e399'): 576,\n",
       " ('ecoinvent 3.9.1 cutoff', 'dd6864cb8b450c5d4c743c91b760a8e1'): 577,\n",
       " ('ecoinvent 3.9.1 cutoff', '28a8b2ae814e8706d99ead9ba8f1b12f'): 578,\n",
       " ('ecoinvent 3.9.1 cutoff', '4e80275f003a47f2a6ed5799f5bf0ba2'): 579,\n",
       " ('ecoinvent 3.9.1 cutoff', 'fe3ce61b18cbf79a501cc4c80a9e3bc5'): 580,\n",
       " ('ecoinvent 3.9.1 cutoff', 'ce35451dc8dbb1c8b072260a111bdaa7'): 581,\n",
       " ('ecoinvent 3.9.1 cutoff', '0128f1307254111f13c164789b5d8a8f'): 582,\n",
       " ('ecoinvent 3.9.1 cutoff', '5263f69b7939ac473e695ab9e5c61c8f'): 583,\n",
       " ('ecoinvent 3.9.1 cutoff', '958b97179ce5f619cb2227a2cb4db020'): 584,\n",
       " ('ecoinvent 3.9.1 cutoff', 'ce4fd53de338d437079a03f92b6486ec'): 585,\n",
       " ('ecoinvent 3.9.1 cutoff', 'f3ea83eb92a29982043f5092c3896233'): 586,\n",
       " ('ecoinvent 3.9.1 cutoff', 'a0dfb4fe5e906bf383a08f2efc667b51'): 587,\n",
       " ('ecoinvent 3.9.1 cutoff', '633715e7d3eae06361eef95af8fa9445'): 588,\n",
       " ('ecoinvent 3.9.1 cutoff', '4698fc41f0c66e84fd453a7206568bd0'): 589,\n",
       " ('ecoinvent 3.9.1 cutoff', 'e5a36c4fa92df93d0a0864042de4ba89'): 590,\n",
       " ('ecoinvent 3.9.1 cutoff', '11214fd665f836f1cc9a57f282ba7df4'): 591,\n",
       " ('ecoinvent 3.9.1 cutoff', 'eebd3fad4b5782760466a510d2e654b5'): 592,\n",
       " ('ecoinvent 3.9.1 cutoff', 'cd22160e4adfaed7dc359b6268210311'): 593,\n",
       " ('ecoinvent 3.9.1 cutoff', 'f4f9607a95e7a6168cd1f0544b156d91'): 594,\n",
       " ('ecoinvent 3.9.1 cutoff', '9684a0a2fd1209422ff4c917633eacba'): 595,\n",
       " ('ecoinvent 3.9.1 cutoff', 'fbab3177434d78b701a6182d3407868a'): 596,\n",
       " ('ecoinvent 3.9.1 cutoff', 'bf16f06c1340c2ffc65b4f99b7210f85'): 597,\n",
       " ('ecoinvent 3.9.1 cutoff', '31e581ff13eac8f9e6c2c206eace810b'): 598,\n",
       " ('ecoinvent 3.9.1 cutoff', '67447ddfb9076a17cb2c5845fcabb9fd'): 599,\n",
       " ('ecoinvent 3.9.1 cutoff', '1a5654b42884d8d190670e5b6d6a2b74'): 600,\n",
       " ('ecoinvent 3.9.1 cutoff', 'a8c8faaf1b2f17ee9777f6ad0caa60cb'): 601,\n",
       " ('ecoinvent 3.9.1 cutoff', 'adc6bbccf3d5b2955b050510e647852a'): 602,\n",
       " ('ecoinvent 3.9.1 cutoff', '8b123363da970e3d854cdc986a83c75a'): 603,\n",
       " ('ecoinvent 3.9.1 cutoff', '90669c776b1818c3f113f0f1464390ed'): 604,\n",
       " ('ecoinvent 3.9.1 cutoff', '14cef19bdae1d765494c60b83267703e'): 605,\n",
       " ('ecoinvent 3.9.1 cutoff', '479b10df06e621a85d96fc67aca4e161'): 606,\n",
       " ('ecoinvent 3.9.1 cutoff', 'cfe458937a2d61f41220ba3fd59e8f7a'): 607,\n",
       " ('ecoinvent 3.9.1 cutoff', 'cc4351bd84820a90ea1da2509bb40d8a'): 608,\n",
       " ('ecoinvent 3.9.1 cutoff', '0bd3b02787dd4dae7081387aaade8222'): 609,\n",
       " ('ecoinvent 3.9.1 cutoff', 'be3fcedb3af7dccd6321a0a9825f05fd'): 610,\n",
       " ('ecoinvent 3.9.1 cutoff', 'db85f784a886f8048dbd27ae7ae1d076'): 611,\n",
       " ('ecoinvent 3.9.1 cutoff', '71e371ed63c6010084214ff385aa84bb'): 612,\n",
       " ('ecoinvent 3.9.1 cutoff', '878d9c2141693adcb5340045b77d3e05'): 613,\n",
       " ('ecoinvent 3.9.1 cutoff', '6c4ed20b68db442724ab40ac031e48cb'): 614,\n",
       " ('ecoinvent 3.9.1 cutoff', '06020ac5974bd7a09ea0b4ecdd667179'): 615,\n",
       " ('ecoinvent 3.9.1 cutoff', '952c17489a705401d756376719d6b8ed'): 616,\n",
       " ('ecoinvent 3.9.1 cutoff', 'efd4c0ffb98fbe1b6b8f48ae48197727'): 617,\n",
       " ('ecoinvent 3.9.1 cutoff', '74f2cacce53f906d8b8e18498ec408e6'): 618,\n",
       " ('ecoinvent 3.9.1 cutoff', 'cb1df0a8ab0977367fea18d4ad1b8ea9'): 619,\n",
       " ('ecoinvent 3.9.1 cutoff', '0224df1ef0381d72d37029497b2e1ca7'): 620,\n",
       " ('ecoinvent 3.9.1 cutoff', '051cf998e54d2bb976c547b7cd8e8604'): 621,\n",
       " ('ecoinvent 3.9.1 cutoff', '9740ae0d393463221360bee2975eef2c'): 622,\n",
       " ('ecoinvent 3.9.1 cutoff', '1bc863a377c63072694d33d69f9fd94f'): 623,\n",
       " ('ecoinvent 3.9.1 cutoff', '95cd863061414d4fdbf55c2811d45e17'): 624,\n",
       " ('ecoinvent 3.9.1 cutoff', '44a81751c3fe47ab996227401eabd040'): 625,\n",
       " ('ecoinvent 3.9.1 cutoff', '56d1e925b1744ccb1c801047f2728b6d'): 626,\n",
       " ('ecoinvent 3.9.1 cutoff', 'ac3ad0ae0cea00a36e5eb22070163ce1'): 627,\n",
       " ('ecoinvent 3.9.1 cutoff', '77a4e7769692eab7d0d0e55f1c425034'): 628,\n",
       " ('ecoinvent 3.9.1 cutoff', '34dd0410ae388e0643d20c97045e63d6'): 629,\n",
       " ('ecoinvent 3.9.1 cutoff', 'a3e904506ae579dd6e186eb7294dd2c4'): 630,\n",
       " ('ecoinvent 3.9.1 cutoff', 'cbd789f0b6d687a49b3a86a4c2954c83'): 631,\n",
       " ('ecoinvent 3.9.1 cutoff', 'abab94332c86322e9a9aee5a5f946057'): 632,\n",
       " ('ecoinvent 3.9.1 cutoff', 'ede0ad49c4b28a0998e58a8db4f62a66'): 633,\n",
       " ('ecoinvent 3.9.1 cutoff', 'ca911493e543cafee939a65118dafc4c'): 634,\n",
       " ('ecoinvent 3.9.1 cutoff', '0df5349be94959344c9c3b8262036b17'): 635,\n",
       " ('ecoinvent 3.9.1 cutoff', '0cfadf0ecdbae67e7f4a0f1a5b1d173e'): 636,\n",
       " ('ecoinvent 3.9.1 cutoff', '55e8298fad7e612acfb4bc99478d95c2'): 637,\n",
       " ('ecoinvent 3.9.1 cutoff', '5eaaa29a44cabd875e848b24e7f0cc40'): 638,\n",
       " ('ecoinvent 3.9.1 cutoff', 'ffe6a2e9373cea9aa682ac6ef56ee3c0'): 639,\n",
       " ('ecoinvent 3.9.1 cutoff', '77c2e8abdd3a011be36f474a205129e1'): 640,\n",
       " ('ecoinvent 3.9.1 cutoff', 'eaa04a47f3430fe07d301f6cd0b3128d'): 641,\n",
       " ('ecoinvent 3.9.1 cutoff', '8fbd7c9e0ceda7f69cb2dbaffca87175'): 642,\n",
       " ('ecoinvent 3.9.1 cutoff', 'a92a31d4d055865e1b3049e926effb9c'): 643,\n",
       " ('ecoinvent 3.9.1 cutoff', '42dd4659d51b658c85a628b12e1efbe3'): 644,\n",
       " ('ecoinvent 3.9.1 cutoff', 'a8d353a6d0138951953406cdd1c62469'): 645,\n",
       " ('ecoinvent 3.9.1 cutoff', '15b8ecb1ac0eb0984d6ee5781811c0b0'): 646,\n",
       " ('ecoinvent 3.9.1 cutoff', 'f70b7f71d607f8186f9e8e3833fc2a95'): 647,\n",
       " ('ecoinvent 3.9.1 cutoff', '126650b1365bf02b3a1081d958ef9733'): 648,\n",
       " ('ecoinvent 3.9.1 cutoff', '935f63eb0945e49cd3e50d69497447ab'): 649,\n",
       " ('ecoinvent 3.9.1 cutoff', '79e5fdfb7d39ce052524203a4a513cce'): 650,\n",
       " ('ecoinvent 3.9.1 cutoff', '23234034409f549ce64cab10e015c3bf'): 651,\n",
       " ('ecoinvent 3.9.1 cutoff', 'dc91d3ec6e7e22b7bc81a5b3a94db6ec'): 652,\n",
       " ('ecoinvent 3.9.1 cutoff', '401e178fb277d985eac1be6d0eb7b81a'): 653,\n",
       " ('ecoinvent 3.9.1 cutoff', 'b8d1b7c749539212d21d200503642de8'): 654,\n",
       " ('ecoinvent 3.9.1 cutoff', '6334589ce00d44d325a82e4a9a0ec8aa'): 655,\n",
       " ('ecoinvent 3.9.1 cutoff', '96d78033cfbf4f9302725904b0878198'): 656,\n",
       " ('ecoinvent 3.9.1 cutoff', 'd3664899c24ea7d80235f62afc3a91d6'): 657,\n",
       " ('ecoinvent 3.9.1 cutoff', '2ccf582fae11f961a8fed21d6d4a6ff2'): 658,\n",
       " ('ecoinvent 3.9.1 cutoff', 'b64aac4bf4e1e5f744f404facb1d0763'): 659,\n",
       " ('ecoinvent 3.9.1 cutoff', '492bc562567c44952ccfd3f031c1e433'): 660,\n",
       " ('ecoinvent 3.9.1 cutoff', '97a551a848949d12e1cb06a953d66025'): 661,\n",
       " ('ecoinvent 3.9.1 cutoff', 'dfc74b8073499cd3435aeb6d5cc60801'): 662,\n",
       " ('ecoinvent 3.9.1 cutoff', 'df5f90d8cfc3a6589f89f0c806ac3af6'): 663,\n",
       " ('ecoinvent 3.9.1 cutoff', 'bb921a940bb03a00081a51043579b7de'): 664,\n",
       " ('ecoinvent 3.9.1 cutoff', '4e0a12c2d96c333c5f4e8094db3f8c17'): 665,\n",
       " ('ecoinvent 3.9.1 cutoff', '18277df8a10170108ac21b60acb13c16'): 666,\n",
       " ('ecoinvent 3.9.1 cutoff', '81a9ffea9d65721b7e60c2edf98dc6db'): 667,\n",
       " ('ecoinvent 3.9.1 cutoff', '4b5c91c6fff2bd2072e6a29f84085e4b'): 668,\n",
       " ('ecoinvent 3.9.1 cutoff', 'cf2080991aa160259cd24bc8bd819f50'): 669,\n",
       " ('ecoinvent 3.9.1 cutoff', 'c3b054c970a5c96d14da244a200829ee'): 670,\n",
       " ('ecoinvent 3.9.1 cutoff', 'c5119ecef56bd19a9e9c4d6121659cc9'): 671,\n",
       " ('ecoinvent 3.9.1 cutoff', 'ff7400512ba12f010951c9d33ec1d34f'): 672,\n",
       " ('ecoinvent 3.9.1 cutoff', '4eb19b85e98c980588e40d31347f512e'): 673,\n",
       " ('ecoinvent 3.9.1 cutoff', '3a5b4a948eea974a6a18b1e615ca4002'): 674,\n",
       " ('ecoinvent 3.9.1 cutoff', '586aec0414247e42cfffff8f48e04ab9'): 675,\n",
       " ('ecoinvent 3.9.1 cutoff', '89690ad03452b115d95aee8657246880'): 676,\n",
       " ('ecoinvent 3.9.1 cutoff', 'b7e80540edceeec98aa24816d696e2b5'): 677,\n",
       " ('ecoinvent 3.9.1 cutoff', 'b2e4547eee413d90ff335015f047cc48'): 678,\n",
       " ('ecoinvent 3.9.1 cutoff', '1373b63314d03c42313a372bca1bd648'): 679,\n",
       " ('ecoinvent 3.9.1 cutoff', 'a073f3ac8414e343af72dc562401ed98'): 680,\n",
       " ('ecoinvent 3.9.1 cutoff', '1bb0afe88c73e144ef02fa79095a7761'): 681,\n",
       " ('ecoinvent 3.9.1 cutoff', '774a8b458a0b5fb8ea869f5a2c9d8e58'): 682,\n",
       " ('ecoinvent 3.9.1 cutoff', 'b1a2f6c1a4c751547a11f65165071c62'): 683,\n",
       " ('ecoinvent 3.9.1 cutoff', '942cfb405cfda264f6423fcbe5b26b77'): 684,\n",
       " ('ecoinvent 3.9.1 cutoff', '02c274ac6f63462abbadba8f93015e9b'): 685,\n",
       " ('ecoinvent 3.9.1 cutoff', 'dcd443b459a65526855154b643f43e8f'): 686,\n",
       " ('ecoinvent 3.9.1 cutoff', 'c0e3be70441752c40bdb0df64230799f'): 687,\n",
       " ('ecoinvent 3.9.1 cutoff', '990caa66e882f6711c2aaf87767faf01'): 688,\n",
       " ('ecoinvent 3.9.1 cutoff', '0156f7d1461f0ec68418c1e70ac6c939'): 689,\n",
       " ('ecoinvent 3.9.1 cutoff', '9a3de29f96f5264324a1465341dea871'): 690,\n",
       " ('ecoinvent 3.9.1 cutoff', '2d2e112af7cae93d8132567691cac7a9'): 691,\n",
       " ('ecoinvent 3.9.1 cutoff', '531d8f5d1699a659b0a4a48f1f62ee6c'): 692,\n",
       " ('ecoinvent 3.9.1 cutoff', '7571f3d8a9cf588b65c1c6ef7698667e'): 693,\n",
       " ('ecoinvent 3.9.1 cutoff', '74a217cef50c461062c4e07de29e09ce'): 694,\n",
       " ('ecoinvent 3.9.1 cutoff', '99bbaae65fbc38f6513fcbf8801939ac'): 695,\n",
       " ('ecoinvent 3.9.1 cutoff', 'dcbd6b0bb9ff87d7d39d218c0f8b6acb'): 696,\n",
       " ('ecoinvent 3.9.1 cutoff', '89e76b6544d8a3380e1e7f18c05bc658'): 697,\n",
       " ('ecoinvent 3.9.1 cutoff', '6d321308dad4c3fd6e90496afab08ecb'): 698,\n",
       " ('ecoinvent 3.9.1 cutoff', 'b8766e5e846a46b01f06a7fc6a458d31'): 699,\n",
       " ('ecoinvent 3.9.1 cutoff', 'b02908001808b85e4656c501f47a45f7'): 700,\n",
       " ('ecoinvent 3.9.1 cutoff', '10e21d33c3cffcabb5a566c1a47aa060'): 701,\n",
       " ('ecoinvent 3.9.1 cutoff', 'a0dfb05169605836ca1b35d087dda3d1'): 702,\n",
       " ('ecoinvent 3.9.1 cutoff', '5de0809a8f951f12d45f18274757501e'): 703,\n",
       " ('ecoinvent 3.9.1 cutoff', 'ef4800c41e40136d2adabcf3d16b7381'): 704,\n",
       " ('ecoinvent 3.9.1 cutoff', '0ccfca9a1ac35cbbe0ae5890899fab14'): 705,\n",
       " ('ecoinvent 3.9.1 cutoff', 'bc62c5330286e6df8bfbcf7d03502b2c'): 706,\n",
       " ('ecoinvent 3.9.1 cutoff', 'dafeafb0964c79bc42f2baabc373d47b'): 707,\n",
       " ('ecoinvent 3.9.1 cutoff', 'db462db0dbbe812ef8d5f2187c03c8f4'): 708,\n",
       " ('ecoinvent 3.9.1 cutoff', '2264dc4ddd33db429504beb79c50e5e8'): 709,\n",
       " ('ecoinvent 3.9.1 cutoff', '579dd62ddaceb170f34e10c202564dcd'): 710,\n",
       " ('ecoinvent 3.9.1 cutoff', '75279bdcbe14df7b43830507a78be951'): 711,\n",
       " ('ecoinvent 3.9.1 cutoff', '112c2938583912338e11c76f30cd36d5'): 712,\n",
       " ('ecoinvent 3.9.1 cutoff', 'ef8c54ba812529b6146d430c2b937106'): 713,\n",
       " ('ecoinvent 3.9.1 cutoff', '567a00a027bf9244856e2215074eb81d'): 714,\n",
       " ('ecoinvent 3.9.1 cutoff', 'cce547532214ca4b739d2b68314cc0df'): 715,\n",
       " ('ecoinvent 3.9.1 cutoff', '2b619c65c9f829867ef6690cdae73f1d'): 716,\n",
       " ('ecoinvent 3.9.1 cutoff', '1e0c92ec6f6b2ce9c2e18d118fd8e3c6'): 717,\n",
       " ('ecoinvent 3.9.1 cutoff', '7146533f7ff2ced95668d4fd752ac16a'): 718,\n",
       " ('ecoinvent 3.9.1 cutoff', '6013714f70d857232b898a6c71899f9d'): 719,\n",
       " ('ecoinvent 3.9.1 cutoff', 'd244e35917fb98da1a214ab31d27feda'): 720,\n",
       " ('ecoinvent 3.9.1 cutoff', '72c7f6ff5e4d1782f964339f4d5b7a99'): 721,\n",
       " ('ecoinvent 3.9.1 cutoff', 'ee9a445b4922bb9deb3c92a0a2b83f64'): 722,\n",
       " ('ecoinvent 3.9.1 cutoff', 'aca9a38892ec9c7d0c08c432526d0c9e'): 723,\n",
       " ('ecoinvent 3.9.1 cutoff', '9930502dddd65b2404d1f829c2a822da'): 724,\n",
       " ('ecoinvent 3.9.1 cutoff', '068918a70439bbc5d325e8236c6a01e4'): 725,\n",
       " ('ecoinvent 3.9.1 cutoff', 'cafed62c70672ba98c5e3406592d6e8a'): 726,\n",
       " ('ecoinvent 3.9.1 cutoff', '6a3ac3f937c4de4bcddbd02aaa4c0da7'): 727,\n",
       " ('ecoinvent 3.9.1 cutoff', '5cb69853f15e2cf372fcf87080a69dac'): 728,\n",
       " ('ecoinvent 3.9.1 cutoff', '41f92e15414058855ce5c891de7fc67d'): 729,\n",
       " ('ecoinvent 3.9.1 cutoff', '26d9e0a9dde7a27e29b223bf30f5f2d5'): 730,\n",
       " ('ecoinvent 3.9.1 cutoff', 'e881f5a6cf100d3b0f0fa3f2d2b1dc26'): 731,\n",
       " ('ecoinvent 3.9.1 cutoff', 'c63d08965ae737b6550b0334fbb2a4c2'): 732,\n",
       " ('ecoinvent 3.9.1 cutoff', '3495de6771bc55f51d66d91040b361c1'): 733,\n",
       " ('ecoinvent 3.9.1 cutoff', '6c7a1ad5a251110343c228cd279ff256'): 734,\n",
       " ('ecoinvent 3.9.1 cutoff', 'fdc046cf75593ebe477e2d07e8285cb9'): 735,\n",
       " ('ecoinvent 3.9.1 cutoff', 'e599811f37c4be113d0c82026ec22419'): 736,\n",
       " ('ecoinvent 3.9.1 cutoff', '30c67740e5eda984c21e794ae26b750f'): 737,\n",
       " ('ecoinvent 3.9.1 cutoff', '68f6541e16bca67099a598ec7efa6345'): 738,\n",
       " ('ecoinvent 3.9.1 cutoff', 'c3d1157c5530274fa1d58740741ea522'): 739,\n",
       " ('ecoinvent 3.9.1 cutoff', '4b1f6f4f067df53df00d7aa3c3dbcfc3'): 740,\n",
       " ('ecoinvent 3.9.1 cutoff', 'd8ba411ea8ac325a4c0b63e1db9b2fed'): 741,\n",
       " ('ecoinvent 3.9.1 cutoff', '917c3c115300de88dbda97715bab7599'): 742,\n",
       " ('ecoinvent 3.9.1 cutoff', 'ec3f6ede9f1bd6df6073e11cda7fec09'): 743,\n",
       " ('ecoinvent 3.9.1 cutoff', '2ef550fab6f8f901fbcefc15c2cb314b'): 744,\n",
       " ('ecoinvent 3.9.1 cutoff', '928db432f56cf416c4686c875382836d'): 745,\n",
       " ('ecoinvent 3.9.1 cutoff', 'c13ea3421990ede6b1ac4c1c52cd3256'): 746,\n",
       " ('ecoinvent 3.9.1 cutoff', 'd43a3ff000a0b0134791f5339169a517'): 747,\n",
       " ('ecoinvent 3.9.1 cutoff', '8ebce14c4dbd6e60d295df64d7d85f2d'): 748,\n",
       " ('ecoinvent 3.9.1 cutoff', '2a0e988c94b1cac94ce28db3e4a632bf'): 749,\n",
       " ('ecoinvent 3.9.1 cutoff', '851580e60e52074ecd7f641b0bd0b133'): 750,\n",
       " ('ecoinvent 3.9.1 cutoff', 'e68ee64e829b01b6d094c31cd8c2a9d7'): 751,\n",
       " ('ecoinvent 3.9.1 cutoff', 'cc6567f41e64c826f0eea8d0e9586cf2'): 752,\n",
       " ('ecoinvent 3.9.1 cutoff', '9f2d632a2633a6bd5b003a8311517d24'): 753,\n",
       " ('ecoinvent 3.9.1 cutoff', '55af041a2020418b4455bbb6b64dfec7'): 754,\n",
       " ('ecoinvent 3.9.1 cutoff', 'd82fe552188c4371a30ae09587c9afd8'): 755,\n",
       " ('ecoinvent 3.9.1 cutoff', 'a333cefd9c210ca6b5273314e213b13c'): 756,\n",
       " ('ecoinvent 3.9.1 cutoff', 'fce6b506c33344d186b61b83a4afe686'): 757,\n",
       " ('ecoinvent 3.9.1 cutoff', 'b475cd6c509c25cefc643f244d669e9b'): 758,\n",
       " ('ecoinvent 3.9.1 cutoff', '2aeaa58cbe37fd3742b2d9297027ead9'): 759,\n",
       " ('ecoinvent 3.9.1 cutoff', 'ac352b3c00703e0be458be923fe1b5a2'): 760,\n",
       " ('ecoinvent 3.9.1 cutoff', '1dac125c5ebfb62c4fe2fb7413723eb3'): 761,\n",
       " ('ecoinvent 3.9.1 cutoff', '3e27a4b34a93f9fd4c0703a34dd2839e'): 762,\n",
       " ('ecoinvent 3.9.1 cutoff', '1d390ee8dd4d2391e93388692bbcb319'): 763,\n",
       " ('ecoinvent 3.9.1 cutoff', '7f5d199b830d9424f8147219159eeb7b'): 764,\n",
       " ('ecoinvent 3.9.1 cutoff', '7d0678a88bdacf95ee2b528fe4b2e646'): 765,\n",
       " ('ecoinvent 3.9.1 cutoff', 'a5f2280b72eab45fac5be638870c61ae'): 766,\n",
       " ('ecoinvent 3.9.1 cutoff', '08767be863cdd8c43a95a0b3924ca35c'): 767,\n",
       " ('ecoinvent 3.9.1 cutoff', '0682bbc66a6d36621c1c83df2eb5473a'): 768,\n",
       " ('ecoinvent 3.9.1 cutoff', '174bee304a3e56da2b2b198d2f8f5fac'): 769,\n",
       " ('ecoinvent 3.9.1 cutoff', '2b711d306d4ddcf4098fbe87b753be26'): 770,\n",
       " ('ecoinvent 3.9.1 cutoff', 'e216ef558c2bdeaa49c38495bccc363d'): 771,\n",
       " ('ecoinvent 3.9.1 cutoff', '4240acf9b1ac3b50a94a141fb9e1ec1b'): 772,\n",
       " ('ecoinvent 3.9.1 cutoff', '022970e79aa7a703fcc12ab084e7ca00'): 773,\n",
       " ('ecoinvent 3.9.1 cutoff', '3fc90040083e0b3e89272c523511d17a'): 774,\n",
       " ('ecoinvent 3.9.1 cutoff', '970d8f8909acf2ac8b4923d8c9112949'): 775,\n",
       " ('ecoinvent 3.9.1 cutoff', 'e9204e86216df579a37963cd6183422a'): 776,\n",
       " ('ecoinvent 3.9.1 cutoff', 'a7415d01dd3906477e8b987c47c71e2c'): 777,\n",
       " ('ecoinvent 3.9.1 cutoff', 'a25c7c13721c4efdcf8712c1ebaba0ab'): 778,\n",
       " ('ecoinvent 3.9.1 cutoff', 'a9506bf8dc77d95ff2a0b35bbfdd144e'): 779,\n",
       " ('ecoinvent 3.9.1 cutoff', 'a71311350cde020b1cdbeeaf46189bb5'): 780,\n",
       " ('ecoinvent 3.9.1 cutoff', '52cb90121d0057b995246adf8e65af85'): 781,\n",
       " ('ecoinvent 3.9.1 cutoff', '19c0f0a59f270b946f8c74353b4915c7'): 782,\n",
       " ('ecoinvent 3.9.1 cutoff', '6930ede21609d7bab82fa1a9ce18fee7'): 783,\n",
       " ('ecoinvent 3.9.1 cutoff', 'a9423ef7ef538f3d58f9f93b5e1c46ae'): 784,\n",
       " ('ecoinvent 3.9.1 cutoff', 'aade32fb136966b2cb8344637d6f8b91'): 785,\n",
       " ('ecoinvent 3.9.1 cutoff', '70092ed4981c01849e5f88535a2ce228'): 786,\n",
       " ('ecoinvent 3.9.1 cutoff', '8746aba9854bfb5d12c1b55af893f744'): 787,\n",
       " ('ecoinvent 3.9.1 cutoff', '3c9fd326e30ac411e8300432e7812839'): 788,\n",
       " ('ecoinvent 3.9.1 cutoff', 'd855ee92bbf715d2d497c475469e2b95'): 789,\n",
       " ('ecoinvent 3.9.1 cutoff', '0b23bf5c153f34c00f631604d135eea9'): 790,\n",
       " ('ecoinvent 3.9.1 cutoff', '0453e7806400149ec8fe799ca7c95059'): 791,\n",
       " ('ecoinvent 3.9.1 cutoff', 'fd547c07109e2993b15e651895c011c6'): 792,\n",
       " ('ecoinvent 3.9.1 cutoff', '72087fa796618602cdf57fb15281b7cc'): 793,\n",
       " ('ecoinvent 3.9.1 cutoff', '2b0ebf51700ba8f7806d954dfe9c6e88'): 794,\n",
       " ('ecoinvent 3.9.1 cutoff', 'e81689e3157e165b5d5c9e0d31d72712'): 795,\n",
       " ('ecoinvent 3.9.1 cutoff', '21cd1306ec308a156bfb7aae2e7e0fff'): 796,\n",
       " ('ecoinvent 3.9.1 cutoff', 'c771a791c451bdd925a79a7e53049044'): 797,\n",
       " ('ecoinvent 3.9.1 cutoff', '770e335015df7c3bb7c2327d9e78bf21'): 798,\n",
       " ('ecoinvent 3.9.1 cutoff', 'df0fb123969159779ed72520d59a746e'): 799,\n",
       " ('ecoinvent 3.9.1 cutoff', 'e9e86902994b5231cea624ceec96b2d6'): 800,\n",
       " ('ecoinvent 3.9.1 cutoff', 'b4e86a1a12374dc15d5dc3c5da023a8e'): 801,\n",
       " ('ecoinvent 3.9.1 cutoff', '725e88d72f7afd5777fa4f94ca0d71cb'): 802,\n",
       " ('ecoinvent 3.9.1 cutoff', '06472e4df0613445bb026542ae6e334f'): 803,\n",
       " ('ecoinvent 3.9.1 cutoff', '6482d208f1bc601f8f94a4da2df7aef1'): 804,\n",
       " ('ecoinvent 3.9.1 cutoff', 'dba289213c21c57f69545fb7d53ae62b'): 805,\n",
       " ('ecoinvent 3.9.1 cutoff', '55ad07f8f06a331d8a234a2e564f43be'): 806,\n",
       " ('ecoinvent 3.9.1 cutoff', 'c2da04479af6f089181a94c6e4cda05d'): 807,\n",
       " ('ecoinvent 3.9.1 cutoff', '74ef75bcb4332e7da92b0c1f1d6f8a2e'): 808,\n",
       " ('ecoinvent 3.9.1 cutoff', '286880eb46e21377c7a0a4ea11b60590'): 809,\n",
       " ('ecoinvent 3.9.1 cutoff', '30c9df47b304646e9fb9770f96f058c4'): 810,\n",
       " ('ecoinvent 3.9.1 cutoff', '73e1b4ce1572de4b35551919d32f86b1'): 811,\n",
       " ('ecoinvent 3.9.1 cutoff', '1cdf1035076bd0f8da77cd69ba2ff602'): 812,\n",
       " ('ecoinvent 3.9.1 cutoff', '2cd4563848298f6b484f98073b8cd277'): 813,\n",
       " ('ecoinvent 3.9.1 cutoff', '95be048ea36fd3152fe1038de19e3dfc'): 814,\n",
       " ('ecoinvent 3.9.1 cutoff', 'ed610c7ba52c5540af304514004789f0'): 815,\n",
       " ('ecoinvent 3.9.1 cutoff', 'e178b3944435bcabc0a57867078e5285'): 816,\n",
       " ('ecoinvent 3.9.1 cutoff', 'c9f5e18f5dc885c8a6af95207ab86b09'): 817,\n",
       " ('ecoinvent 3.9.1 cutoff', 'fcfbc7a1053e57faab0e6515c9b9740d'): 818,\n",
       " ('ecoinvent 3.9.1 cutoff', 'a083b1377b2de0fc2834f8c0003f043f'): 819,\n",
       " ('ecoinvent 3.9.1 cutoff', '640d6867119f23ac15a8977d7dc2aa31'): 820,\n",
       " ('ecoinvent 3.9.1 cutoff', '8aeef01cbd7b431a112c1dcac104facd'): 821,\n",
       " ('ecoinvent 3.9.1 cutoff', '7f7abb966decf3487a6da1a91d11c55c'): 822,\n",
       " ('ecoinvent 3.9.1 cutoff', 'ff135d17573f3907b7e227584b146cae'): 823,\n",
       " ('ecoinvent 3.9.1 cutoff', 'b0add456b086bb6572dc5ab6b09e90bd'): 824,\n",
       " ('ecoinvent 3.9.1 cutoff', '31a0a5b3bc51146cd42843b098fa7efa'): 825,\n",
       " ('ecoinvent 3.9.1 cutoff', '32bafc46ffdbaa06f6ca84e815fdf1be'): 826,\n",
       " ('ecoinvent 3.9.1 cutoff', '1d22f6f161ae2bc91253e39ba705139c'): 827,\n",
       " ('ecoinvent 3.9.1 cutoff', 'ebfa07cc2809192c992a3ef10433bec4'): 828,\n",
       " ('ecoinvent 3.9.1 cutoff', 'ac52682bf304cb839c5c0cdcca0ec106'): 829,\n",
       " ('ecoinvent 3.9.1 cutoff', 'de57494a3a38210ddb843fb7a473d00f'): 830,\n",
       " ('ecoinvent 3.9.1 cutoff', 'eb33948c1111c74c8599b98f34c43ac6'): 831,\n",
       " ('ecoinvent 3.9.1 cutoff', '5969d12c72e038c0c6d7cba5687ab4ce'): 832,\n",
       " ('ecoinvent 3.9.1 cutoff', '7153aabc8f0b32675e49ebfac9305891'): 833,\n",
       " ('ecoinvent 3.9.1 cutoff', '0da27900c297a7047d58e1276f28e8c9'): 834,\n",
       " ('ecoinvent 3.9.1 cutoff', '9b1ed23d79cef9afabba07ec1dd4dbcb'): 835,\n",
       " ('ecoinvent 3.9.1 cutoff', '0889f5b4a45ed54c2a8f76eeab45a541'): 836,\n",
       " ('ecoinvent 3.9.1 cutoff', '332b08ae55f82bc8af3367ada48e4b8d'): 837,\n",
       " ('ecoinvent 3.9.1 cutoff', 'cc0027eb9554116012ed741c77693b95'): 838,\n",
       " ('ecoinvent 3.9.1 cutoff', '3a4bb4b0b56fa5cc9d1b6cd6cc0791f8'): 839,\n",
       " ('ecoinvent 3.9.1 cutoff', 'b89ca68cfb31e46fe7335666ebe6568a'): 840,\n",
       " ('ecoinvent 3.9.1 cutoff', '0c98592089f562e632c1d782a26a3d33'): 841,\n",
       " ('ecoinvent 3.9.1 cutoff', 'df3b7846473e9ff389b966887b405960'): 842,\n",
       " ('ecoinvent 3.9.1 cutoff', '22d9da9ebb6b31522f5a10bee1000555'): 843,\n",
       " ('ecoinvent 3.9.1 cutoff', 'dbc2dae24e9d2ed3809c00af4c26c93f'): 844,\n",
       " ('ecoinvent 3.9.1 cutoff', '00f412d1aedba7bf45ac8e166f38c6f5'): 845,\n",
       " ('ecoinvent 3.9.1 cutoff', 'c16dcffc37a27b5c02dee528e97c03e8'): 846,\n",
       " ('ecoinvent 3.9.1 cutoff', '1a12f919afd6d3e3d662ea7481cbe47e'): 847,\n",
       " ('ecoinvent 3.9.1 cutoff', '34be8d3f3678f372f7e97fa3b2254aa0'): 848,\n",
       " ('ecoinvent 3.9.1 cutoff', '4415d92b393bcf09bb357c3d9919b594'): 849,\n",
       " ('ecoinvent 3.9.1 cutoff', 'f6a649b400b6c49bdf9e465997262e4e'): 850,\n",
       " ('ecoinvent 3.9.1 cutoff', 'badd44eeee579c96eafa116bcc3d442d'): 851,\n",
       " ('ecoinvent 3.9.1 cutoff', '2e4be222f87f3bc10a72adfde5dadf12'): 852,\n",
       " ('ecoinvent 3.9.1 cutoff', 'fdfe684de3b8f5990a710aa0dc503daf'): 853,\n",
       " ('ecoinvent 3.9.1 cutoff', 'e01f270d8d7c3b9db3939fc0cc27b05b'): 854,\n",
       " ('ecoinvent 3.9.1 cutoff', '156bb62d6d54f22dbdcb7135d6d98d9c'): 855,\n",
       " ('ecoinvent 3.9.1 cutoff', '0c11de06c0bb75c5e3b0d96f0982e5cf'): 856,\n",
       " ('ecoinvent 3.9.1 cutoff', 'e465b77983c7d363283812adaa7bb249'): 857,\n",
       " ('ecoinvent 3.9.1 cutoff', '9dce5800695416824e4c653ca72bf3bf'): 858,\n",
       " ('ecoinvent 3.9.1 cutoff', '04adfb2f30539b8f7d0e4d0ad3f7d5b6'): 859,\n",
       " ('ecoinvent 3.9.1 cutoff', 'db75249799d25a057d5fd09899c9e722'): 860,\n",
       " ('ecoinvent 3.9.1 cutoff', 'f2d4d5a6e36a509956508d418c537945'): 861,\n",
       " ('ecoinvent 3.9.1 cutoff', '0d619914505277425fad74ef455684b2'): 862,\n",
       " ('ecoinvent 3.9.1 cutoff', 'a5d63f34b86d85d55a4af951a0010bde'): 863,\n",
       " ('ecoinvent 3.9.1 cutoff', '7a8d07103fc62e17254af4c6e49ca007'): 864,\n",
       " ('ecoinvent 3.9.1 cutoff', 'f79691893130beefe04d8f00482ff568'): 865,\n",
       " ('ecoinvent 3.9.1 cutoff', 'e5aaa18b109ac8a69a1ee2e33e630648'): 866,\n",
       " ('ecoinvent 3.9.1 cutoff', '3f797041a2b9e296322084b716dca9fa'): 867,\n",
       " ('ecoinvent 3.9.1 cutoff', '51a3e4e52cff1f98c1e9bb4195f029e2'): 868,\n",
       " ('ecoinvent 3.9.1 cutoff', '41f29a942fddb1dc75a05b2cdd03effe'): 869,\n",
       " ('ecoinvent 3.9.1 cutoff', 'b35f7214b7d746f7a0f3317b6775d0c0'): 870,\n",
       " ('ecoinvent 3.9.1 cutoff', '01db3171b28379d4168e3cb68de4b8e9'): 871,\n",
       " ('ecoinvent 3.9.1 cutoff', 'ae90714e13c711de2afb9f4e0ca815df'): 872,\n",
       " ('ecoinvent 3.9.1 cutoff', 'ac2f8e03003b0c2125bbe8296924190a'): 873,\n",
       " ('ecoinvent 3.9.1 cutoff', '02af7804c2ae6374a2cca968a3d09884'): 874,\n",
       " ('ecoinvent 3.9.1 cutoff', '98d38f6114359f968b2634e57c9f8a74'): 875,\n",
       " ('ecoinvent 3.9.1 cutoff', '4983da0d78421ab80dea56f92f999f13'): 876,\n",
       " ('ecoinvent 3.9.1 cutoff', 'ee3dd49679efb8d5af65b2ae13508d80'): 877,\n",
       " ('ecoinvent 3.9.1 cutoff', 'c0fd068c34f97a24ea4deb40632c616e'): 878,\n",
       " ('ecoinvent 3.9.1 cutoff', '5dc11bfa4bf1247f83847e5dae499c87'): 879,\n",
       " ('ecoinvent 3.9.1 cutoff', 'd4ebeee2483aead92b485bf333aaf1d9'): 880,\n",
       " ('ecoinvent 3.9.1 cutoff', '0e04995be1052c07824d26a52855138c'): 881,\n",
       " ('ecoinvent 3.9.1 cutoff', '9528b41a7d625f47d571bbff3be269e9'): 882,\n",
       " ('ecoinvent 3.9.1 cutoff', '9524c1c6403e6ba9c103062d3289c38a'): 883,\n",
       " ('ecoinvent 3.9.1 cutoff', 'dd199cee6575fc366c9ef7347c62657e'): 884,\n",
       " ('ecoinvent 3.9.1 cutoff', '71c6a54cc81bc9dedb1dc5db59321e3c'): 885,\n",
       " ('ecoinvent 3.9.1 cutoff', '6761db2e5f3efc9fbb8beb65323fe337'): 886,\n",
       " ('ecoinvent 3.9.1 cutoff', 'b8cd32578507b1695875d85cdcea5d3c'): 887,\n",
       " ('ecoinvent 3.9.1 cutoff', '9816838836977733d75f120de28f41e0'): 888,\n",
       " ('ecoinvent 3.9.1 cutoff', 'b589ab190e4b2020f28cb481116a9e9b'): 889,\n",
       " ('ecoinvent 3.9.1 cutoff', '2ff1ba5838e739018d0398b1f149c8a9'): 890,\n",
       " ('ecoinvent 3.9.1 cutoff', 'd0ebe4d3aec3eec7b8052b8cfc7ab083'): 891,\n",
       " ('ecoinvent 3.9.1 cutoff', 'adbc7d5cc2833d31ed0a221b4baca54c'): 892,\n",
       " ('ecoinvent 3.9.1 cutoff', '66b2b24dc19fcdb67d14b63891e3684e'): 893,\n",
       " ('ecoinvent 3.9.1 cutoff', '74731344fc6317e18d7083f1153c4d08'): 894,\n",
       " ('ecoinvent 3.9.1 cutoff', '4ba5853c8a7737d16a8401029a6486fb'): 895,\n",
       " ('ecoinvent 3.9.1 cutoff', '318e5792fc2c672c47a9d9391ab60d03'): 896,\n",
       " ('ecoinvent 3.9.1 cutoff', '1b8cbe73a21ba46c2e03297a996d2e7a'): 897,\n",
       " ('ecoinvent 3.9.1 cutoff', 'fd3ccc1990eb4e583a1785a2a8721ff4'): 898,\n",
       " ('ecoinvent 3.9.1 cutoff', '15075b46cb5ae4be19c483771187b44a'): 899,\n",
       " ('ecoinvent 3.9.1 cutoff', '076f157d3912ee401ae16c508fd857a7'): 900,\n",
       " ('ecoinvent 3.9.1 cutoff', 'e147db75c03f6efd791965ccb23d0b82'): 901,\n",
       " ('ecoinvent 3.9.1 cutoff', '15bba3a28d6de8850be98710b31273c0'): 902,\n",
       " ('ecoinvent 3.9.1 cutoff', 'b227b3f1c6bf37bf51e29654dd56ceee'): 903,\n",
       " ('ecoinvent 3.9.1 cutoff', '312ec3471055cdf44c829b272e834ac3'): 904,\n",
       " ('ecoinvent 3.9.1 cutoff', '80310b5021efcb8abcf6d15a9f5ce58e'): 905,\n",
       " ('ecoinvent 3.9.1 cutoff', 'eb0aca5052709420b75502b213aa0782'): 906,\n",
       " ('ecoinvent 3.9.1 cutoff', '732173184aebbc20eb17bc917db04080'): 907,\n",
       " ('ecoinvent 3.9.1 cutoff', '5f1acf3cc6ec24a42de3577404dcf039'): 908,\n",
       " ('ecoinvent 3.9.1 cutoff', 'ce3472b50ff7694ffd712f8757d1941d'): 909,\n",
       " ('ecoinvent 3.9.1 cutoff', 'c876d293cc1f5727cc0e2a700491dc57'): 910,\n",
       " ('ecoinvent 3.9.1 cutoff', '7fc11b59dcfdc4618763b6ccd71141ad'): 911,\n",
       " ('ecoinvent 3.9.1 cutoff', 'e1d69fa2818715197eab972c386850a5'): 912,\n",
       " ('ecoinvent 3.9.1 cutoff', 'd63010667a9f06c70b58375103d84097'): 913,\n",
       " ('ecoinvent 3.9.1 cutoff', '0499fa4e688990715acdaa77ef6fc3d4'): 914,\n",
       " ('ecoinvent 3.9.1 cutoff', '43299c17d7c0921388443e77525611ae'): 915,\n",
       " ('ecoinvent 3.9.1 cutoff', '236cf556395f97a454e9a4db9fb24957'): 916,\n",
       " ('ecoinvent 3.9.1 cutoff', '6aef5bff19eb1ed760fd60562aab8f29'): 917,\n",
       " ('ecoinvent 3.9.1 cutoff', 'cce4f7785bf55f7eb7ff7507e8d5c9d0'): 918,\n",
       " ('ecoinvent 3.9.1 cutoff', '12e6b948cc3e5703595d3c7e4caa0ec7'): 919,\n",
       " ('ecoinvent 3.9.1 cutoff', 'ebfa06d269890c1d1e9f2814b91ba146'): 920,\n",
       " ('ecoinvent 3.9.1 cutoff', '849a75a0ebb405870c063957ce212536'): 921,\n",
       " ('ecoinvent 3.9.1 cutoff', '2ae0c455043d5588b1b36c3ae5b056a0'): 922,\n",
       " ('ecoinvent 3.9.1 cutoff', 'd21fc29e41fd86b71567b7d93cdeff22'): 923,\n",
       " ('ecoinvent 3.9.1 cutoff', 'a065436368cfc96b077dc3da3f311f42'): 924,\n",
       " ('ecoinvent 3.9.1 cutoff', 'd50e1d8c625becd15d212f857b796828'): 925,\n",
       " ('ecoinvent 3.9.1 cutoff', '0f805466b2058f8bdafaee328b6984ce'): 926,\n",
       " ('ecoinvent 3.9.1 cutoff', '7f5d8f54b362eff0507a61f49e21eb65'): 927,\n",
       " ('ecoinvent 3.9.1 cutoff', '6cd89faa138a9fa1bd0b0f3e71fb602e'): 928,\n",
       " ('ecoinvent 3.9.1 cutoff', '3c32969b9b437e38177bc1d684384b7e'): 929,\n",
       " ('ecoinvent 3.9.1 cutoff', 'd7d8a3ba8c2f8e187909780f3a25517a'): 930,\n",
       " ('ecoinvent 3.9.1 cutoff', '3c5d95051f58f78cc140b11daeaabc59'): 931,\n",
       " ('ecoinvent 3.9.1 cutoff', 'c7bbbc05a6f6e9443d41734fa8787d27'): 932,\n",
       " ('ecoinvent 3.9.1 cutoff', '45c01ae50ef01486e3d972600700c885'): 933,\n",
       " ('ecoinvent 3.9.1 cutoff', 'd7e5c81108b7112febd148185e2490d0'): 934,\n",
       " ('ecoinvent 3.9.1 cutoff', '1ebc79deef136be992b37ded2b775399'): 935,\n",
       " ('ecoinvent 3.9.1 cutoff', 'bc93b0934f8cb69f077096d59db51511'): 936,\n",
       " ('ecoinvent 3.9.1 cutoff', '7fce902798cbbec1471cfe1b114fe906'): 937,\n",
       " ('ecoinvent 3.9.1 cutoff', '4c983749f7a504d6596167ffd2c35f75'): 938,\n",
       " ('ecoinvent 3.9.1 cutoff', '953165bb6a4c36e4e5bad6c59ad418b1'): 939,\n",
       " ('ecoinvent 3.9.1 cutoff', '0623a034627252756f6f223affe3f62b'): 940,\n",
       " ('ecoinvent 3.9.1 cutoff', '2feaec82aabebe06588d6d60959e5bb9'): 941,\n",
       " ('ecoinvent 3.9.1 cutoff', '4cf59d8f42046329f3c3db828e0393d2'): 942,\n",
       " ('ecoinvent 3.9.1 cutoff', 'bf9df4068344cdb51abb3e3154bda16c'): 943,\n",
       " ('ecoinvent 3.9.1 cutoff', '79f116aba4f57181cae6a4f97aa9e746'): 944,\n",
       " ('ecoinvent 3.9.1 cutoff', '3bf4ca48b84f3161c9aa29abb39d70cb'): 945,\n",
       " ('ecoinvent 3.9.1 cutoff', '165ac73fb2bdcd52aa2d2db3d2baaff7'): 946,\n",
       " ('ecoinvent 3.9.1 cutoff', 'ef52f7ff6322d7c110d2ebdd99eb7dd6'): 947,\n",
       " ('ecoinvent 3.9.1 cutoff', '63b3f3ed34463f671530dd0826b1bbb7'): 948,\n",
       " ('ecoinvent 3.9.1 cutoff', 'e92ea41a693c3a5284166f273b1d62f2'): 949,\n",
       " ('ecoinvent 3.9.1 cutoff', '642db87a420548a65505fab4e6c2ac12'): 950,\n",
       " ('ecoinvent 3.9.1 cutoff', '5c7213132a80b7fffd7727d6292fd2dd'): 951,\n",
       " ('ecoinvent 3.9.1 cutoff', '20ea43c84cebc2f7a31282c3dc0d2c9e'): 952,\n",
       " ('ecoinvent 3.9.1 cutoff', 'e73087e282f26de5d3a9fec2edc19e61'): 953,\n",
       " ('ecoinvent 3.9.1 cutoff', '5a235904c937a2195e1d6f93f35a4fba'): 954,\n",
       " ('ecoinvent 3.9.1 cutoff', 'e38e7a502235b0f56fc369746c816087'): 955,\n",
       " ('ecoinvent 3.9.1 cutoff', '944f4d6357140424a2ed2bc5b8a2c60f'): 956,\n",
       " ('ecoinvent 3.9.1 cutoff', '7c94299585fd4bd7fcb3671c36cd1618'): 957,\n",
       " ('ecoinvent 3.9.1 cutoff', '721ae79285226621f79832bab54b5aa3'): 958,\n",
       " ('ecoinvent 3.9.1 cutoff', '1f1f015f0eb5df5375839a532dfd2be2'): 959,\n",
       " ('ecoinvent 3.9.1 cutoff', '86f9b7a0b2e8b9958ce98da1bdb6534d'): 960,\n",
       " ('ecoinvent 3.9.1 cutoff', '9e30ea99559439a35ecddf5c5f2702b2'): 961,\n",
       " ('ecoinvent 3.9.1 cutoff', 'f16a8f1243e9009bf5da56630850a408'): 962,\n",
       " ('ecoinvent 3.9.1 cutoff', '8a8f5bc7c85fd4671ea527fab19621d8'): 963,\n",
       " ('ecoinvent 3.9.1 cutoff', 'feed384f74dd9c7bb7ec1bde7ee8ea17'): 964,\n",
       " ('ecoinvent 3.9.1 cutoff', '64a69b19fb8f9195a4ecb9a345bbe890'): 965,\n",
       " ('ecoinvent 3.9.1 cutoff', 'a8e38c246d88c9f2aff00eed34addb92'): 966,\n",
       " ('ecoinvent 3.9.1 cutoff', 'c02e8dd8466b0fa7d15e14a1eea8ca1b'): 967,\n",
       " ('ecoinvent 3.9.1 cutoff', '4b436201bb90eec23bd63002694988bf'): 968,\n",
       " ('ecoinvent 3.9.1 cutoff', 'e0ac4d31b158f812d8f730be432f7298'): 969,\n",
       " ('ecoinvent 3.9.1 cutoff', '7e997067d3ffeee07c338a11b8ca995b'): 970,\n",
       " ('ecoinvent 3.9.1 cutoff', '34b75ad92d172a88fd9efd7ed3c2ac6e'): 971,\n",
       " ('ecoinvent 3.9.1 cutoff', '09d373b36620a6c816284ade70acfa7d'): 972,\n",
       " ('ecoinvent 3.9.1 cutoff', 'a0e1f30f070427855f1242dd7197a11f'): 973,\n",
       " ('ecoinvent 3.9.1 cutoff', '5242fe46aff85436624348dde36999c7'): 974,\n",
       " ('ecoinvent 3.9.1 cutoff', '5d39ac23af7a21282fdf5bdac27480b2'): 975,\n",
       " ('ecoinvent 3.9.1 cutoff', '4e82a1f2c6e56513bb1bf2ae41d288ea'): 976,\n",
       " ('ecoinvent 3.9.1 cutoff', '689776646d7863d0932b2622bff8021f'): 977,\n",
       " ('ecoinvent 3.9.1 cutoff', '243d4a82943e188af9b29de344d83727'): 978,\n",
       " ('ecoinvent 3.9.1 cutoff', '3b3205f5785dd3887a8571a00c204ee0'): 979,\n",
       " ('ecoinvent 3.9.1 cutoff', 'cca2039abd7def9ed78fb33ce61c5d98'): 980,\n",
       " ('ecoinvent 3.9.1 cutoff', 'fd9419bc14e077ca33133be02728da0a'): 981,\n",
       " ('ecoinvent 3.9.1 cutoff', '5c48bd226e6ff64e3c147cff0d031b9a'): 982,\n",
       " ('ecoinvent 3.9.1 cutoff', 'cbd465406f945a34a876d6dd59a0feb1'): 983,\n",
       " ('ecoinvent 3.9.1 cutoff', '6223a7c6df557e70d51ba02015f12747'): 984,\n",
       " ('ecoinvent 3.9.1 cutoff', '2a3f6abf50827c5e5bbcfd239e2a7b64'): 985,\n",
       " ('ecoinvent 3.9.1 cutoff', '0d24f83959f5aaa0868fd6c2f7a81f16'): 986,\n",
       " ('ecoinvent 3.9.1 cutoff', '8bdcea421dbf8e54737ecff76e13e7fb'): 987,\n",
       " ('ecoinvent 3.9.1 cutoff', 'c193d0f882a1a5d38ed38dbad8484e37'): 988,\n",
       " ('ecoinvent 3.9.1 cutoff', '7911eadc945b3209644f7ddb2d80255f'): 989,\n",
       " ('ecoinvent 3.9.1 cutoff', '9cc61af3911ec13a7241f68694028083'): 990,\n",
       " ('ecoinvent 3.9.1 cutoff', 'c45081be533e001567594f1e2d42a216'): 991,\n",
       " ('ecoinvent 3.9.1 cutoff', '299b810b14af97d9d88dcc4e29169ce9'): 992,\n",
       " ('ecoinvent 3.9.1 cutoff', '1f69f64549a9bd8f86273831bb116360'): 993,\n",
       " ('ecoinvent 3.9.1 cutoff', '6203b16fef3134c1d0f01f552cf0bc04'): 994,\n",
       " ('ecoinvent 3.9.1 cutoff', '19365a29b7532004ce3674c4d98ff640'): 995,\n",
       " ('ecoinvent 3.9.1 cutoff', 'fa44db4ba7382e34423482718aabfea3'): 996,\n",
       " ('ecoinvent 3.9.1 cutoff', 'c331767827b5d9d56eb7ad98dc9b7063'): 997,\n",
       " ('ecoinvent 3.9.1 cutoff', 'fe14a325f410d6fd9b54e9a747e809f7'): 998,\n",
       " ('ecoinvent 3.9.1 cutoff', '80ba18ac209fcf0d3c68da2fa7cd9363'): 999,\n",
       " ...}"
      ]
     },
     "execution_count": 100,
     "metadata": {},
     "output_type": "execute_result"
    }
   ],
   "source": [
    "myFirstLCA.activity_dict"
   ]
  },
  {
   "cell_type": "markdown",
   "metadata": {
    "deletable": true,
    "editable": true
   },
   "source": [
    "So, if I know the key to my activity (which, again,  is a `tuple` consisting of the database name and the activity code), I can read the column index (from `activity_dict`) or row index (from `product_dict` or `biosphere_dict` for the $A$ or $B$ matrices, respectively). \n",
    "\n",
    "Let's find out what column is associated with the activity that is producing our final demand as reference flow."
   ]
  },
  {
   "cell_type": "code",
   "execution_count": 101,
   "metadata": {
    "collapsed": false,
    "deletable": true,
    "editable": true,
    "jupyter": {
     "outputs_hidden": false
    }
   },
   "outputs": [
    {
     "name": "stdout",
     "output_type": "stream",
     "text": [
      "The column index for activity ('ecoinvent 3.9.1 cutoff', 'a4ccabb4faa3d4ef5b98311414116c91') is 6331\n"
     ]
    }
   ],
   "source": [
    "# Getting the key from the `demand`attribute:\n",
    "act_key = list(myFirstLCA.demand)[0].key\n",
    "# Getting the column number from the activity_dict:\n",
    "col_index = myFirstLCA.activity_dict[act_key]\n",
    "print(\"The column index for activity {} is {}\".format(act_key, col_index))"
   ]
  },
  {
   "cell_type": "markdown",
   "metadata": {
    "deletable": true,
    "editable": true
   },
   "source": [
    "While this is useful, it is often more useful to determine what a row or column in the matrices actually refers to. In these cases, we need a dictionary that maps row or column indices to activity keys, and not the opposite.  \n",
    "We can do this by reversing our dictionaries:"
   ]
  },
  {
   "cell_type": "code",
   "execution_count": 102,
   "metadata": {
    "collapsed": false,
    "deletable": true,
    "editable": true,
    "jupyter": {
     "outputs_hidden": false
    }
   },
   "outputs": [
    {
     "data": {
      "text/plain": [
       "{0: ('ecoinvent 3.9.1 cutoff', 'f32ba57ebce8c08759275f740a88f370'),\n",
       " 1: ('ecoinvent 3.9.1 cutoff', '73a4483e483a28e471ceffb1e6ef8b0d'),\n",
       " 2: ('ecoinvent 3.9.1 cutoff', 'fb126ed85de69f5cac7f991f022d9b5c'),\n",
       " 3: ('ecoinvent 3.9.1 cutoff', '10302c31d0d4a1816bd8bb0032c0198f'),\n",
       " 4: ('ecoinvent 3.9.1 cutoff', 'bad56a905eb6f8bed4e273051a455157'),\n",
       " 5: ('ecoinvent 3.9.1 cutoff', '0d759a754439881bf0f5e934078dcedf'),\n",
       " 6: ('ecoinvent 3.9.1 cutoff', '17c9670f75f1b10a3ea8850c4bffdccb'),\n",
       " 7: ('ecoinvent 3.9.1 cutoff', '484ed4ed4737fac9849242b16d5a23c7'),\n",
       " 8: ('ecoinvent 3.9.1 cutoff', '6ea399ff612d73f5a4cde92a17992053'),\n",
       " 9: ('ecoinvent 3.9.1 cutoff', '2840342713a23d57067cb420745eb251'),\n",
       " 10: ('ecoinvent 3.9.1 cutoff', '6caa34be583700c562617d1cc473c1b5'),\n",
       " 11: ('ecoinvent 3.9.1 cutoff', '7d2e14ef80a94cebc66c3cff7c989496'),\n",
       " 12: ('ecoinvent 3.9.1 cutoff', '362c5d4e230434904ed2821d5ac1098c'),\n",
       " 13: ('ecoinvent 3.9.1 cutoff', 'ba4b47e0d1f15aff29e8b9ab1e1bb5ba'),\n",
       " 14: ('ecoinvent 3.9.1 cutoff', 'fd558441fc3d04fe59887ab30ce51119'),\n",
       " 15: ('ecoinvent 3.9.1 cutoff', '74ed92848731568ab051e79ab70c4097'),\n",
       " 16: ('ecoinvent 3.9.1 cutoff', '3c7f02be1dda1696aa4ee51a60c77b81'),\n",
       " 17: ('ecoinvent 3.9.1 cutoff', '8311780013b1bafd8a33cf5072e04705'),\n",
       " 18: ('ecoinvent 3.9.1 cutoff', 'e3a15500c3c58c6c469dbf2f2c49b56f'),\n",
       " 19: ('ecoinvent 3.9.1 cutoff', 'e2d3c731f67f8144f90429cd6ac885c8'),\n",
       " 20: ('ecoinvent 3.9.1 cutoff', '63ea017e389a07a36765e03be75c2485'),\n",
       " 21: ('ecoinvent 3.9.1 cutoff', '5154a90d092791a65100c269137789c7'),\n",
       " 22: ('ecoinvent 3.9.1 cutoff', 'cf676ee99b6cdb0905258bb04bb0f3a0'),\n",
       " 23: ('ecoinvent 3.9.1 cutoff', '93d98a8dd211ddd167d35cc95eb66f5f'),\n",
       " 24: ('ecoinvent 3.9.1 cutoff', 'e4c5b41dcde9685bc2131040d1fd870a'),\n",
       " 25: ('ecoinvent 3.9.1 cutoff', 'b755c4ba3685105d26176143c42e2f2a'),\n",
       " 26: ('ecoinvent 3.9.1 cutoff', '6257a25404ae9abf31ed548e85475df7'),\n",
       " 27: ('ecoinvent 3.9.1 cutoff', '4778fac49b5bffdcf80ad5650fe9b050'),\n",
       " 28: ('ecoinvent 3.9.1 cutoff', '161984d1e59b5c2c848ce21c67daae1e'),\n",
       " 29: ('ecoinvent 3.9.1 cutoff', 'aa5053ebcc4ba4811d01ea16e8c53692'),\n",
       " 30: ('ecoinvent 3.9.1 cutoff', '1e605dd55fe8bc84a3f4d8c1da589270'),\n",
       " 31: ('ecoinvent 3.9.1 cutoff', 'f841c8eeaac498721da2c12e6b5316e2'),\n",
       " 32: ('ecoinvent 3.9.1 cutoff', 'b843e93f4e81134438fa343a7279110a'),\n",
       " 33: ('ecoinvent 3.9.1 cutoff', '32973d509e20ba45e3cc95f7b3e4ab71'),\n",
       " 34: ('ecoinvent 3.9.1 cutoff', '6c832cf13947ee8f131fa3c2325a6b91'),\n",
       " 35: ('ecoinvent 3.9.1 cutoff', '60eccfb05dccf174b2561c7776f81973'),\n",
       " 36: ('ecoinvent 3.9.1 cutoff', '784f73d972061c425989938ae16aaa52'),\n",
       " 37: ('ecoinvent 3.9.1 cutoff', 'dfa62d42f9c3335ba32b022da00f477c'),\n",
       " 38: ('ecoinvent 3.9.1 cutoff', '4a321fdc8c74b2f471baed263b860d48'),\n",
       " 39: ('ecoinvent 3.9.1 cutoff', 'd8b2ce5d2112db0527d898b6ba2530bb'),\n",
       " 40: ('ecoinvent 3.9.1 cutoff', 'a605cb1691542a9b643a91adafe8e3fe'),\n",
       " 41: ('ecoinvent 3.9.1 cutoff', 'dda50173cd4b455eff6c0f92bfa6a0fb'),\n",
       " 42: ('ecoinvent 3.9.1 cutoff', 'b0450625dadb5eb63e4ced0e094f22af'),\n",
       " 43: ('ecoinvent 3.9.1 cutoff', '65a59a52f5396ad59802eeb669d42bf5'),\n",
       " 44: ('ecoinvent 3.9.1 cutoff', '8c796bb3d2fdce73306e7dcbdf8e595f'),\n",
       " 45: ('ecoinvent 3.9.1 cutoff', 'c6d1f05d71cdc9e93615eb8c6c55861c'),\n",
       " 46: ('ecoinvent 3.9.1 cutoff', '51c781cb9d00f21fad481dd8f1ae2645'),\n",
       " 47: ('ecoinvent 3.9.1 cutoff', '6edc04f5504105cfca6b4949ecf91c85'),\n",
       " 48: ('ecoinvent 3.9.1 cutoff', '896aee018828671ac111e4afdf9113b8'),\n",
       " 49: ('ecoinvent 3.9.1 cutoff', '76b8a5b3f6bee5ae376b86dfe1d42b84'),\n",
       " 50: ('ecoinvent 3.9.1 cutoff', '3a8accbf06701a9a4510fcce80e2c083'),\n",
       " 51: ('ecoinvent 3.9.1 cutoff', '514d3fb427d513a540fb5c118201d2e4'),\n",
       " 52: ('ecoinvent 3.9.1 cutoff', 'b27eeb91e3020c593cc8a713f1f800d3'),\n",
       " 53: ('ecoinvent 3.9.1 cutoff', '2747c5af40950e8e8402cf7f35c65f7b'),\n",
       " 54: ('ecoinvent 3.9.1 cutoff', 'bf81f22a10076a23b162ee1bc5806d75'),\n",
       " 55: ('ecoinvent 3.9.1 cutoff', '262e215dfa60eed26973ba459b2db10a'),\n",
       " 56: ('ecoinvent 3.9.1 cutoff', '7a910ec794edd8bf61176584f5c241ea'),\n",
       " 57: ('ecoinvent 3.9.1 cutoff', '69b287a7cf8ac3fc5ef4235d541cb62b'),\n",
       " 58: ('ecoinvent 3.9.1 cutoff', '739947f4c00a96cc479b4d63f7e429f7'),\n",
       " 59: ('ecoinvent 3.9.1 cutoff', '055f966750130a6b94d81874c14b913a'),\n",
       " 60: ('ecoinvent 3.9.1 cutoff', '13e49a5db063c58aab0304e4dbedf2a4'),\n",
       " 61: ('ecoinvent 3.9.1 cutoff', 'b87e62377cece6b8a62df55206e1189c'),\n",
       " 62: ('ecoinvent 3.9.1 cutoff', 'b249f628166b17ebcccf3d32c7048c90'),\n",
       " 63: ('ecoinvent 3.9.1 cutoff', 'bffb996eaca3b3bd2ea44487dd2b45ea'),\n",
       " 64: ('ecoinvent 3.9.1 cutoff', '5d3f18d1d01ccf6c5842ba43d400b808'),\n",
       " 65: ('ecoinvent 3.9.1 cutoff', 'a85a72087b9dcaac874b3d6c314dcb09'),\n",
       " 66: ('ecoinvent 3.9.1 cutoff', '0418fb60693885b06166390b9f3008f3'),\n",
       " 67: ('ecoinvent 3.9.1 cutoff', '04583a14a8acc2843e9b6e5a90bf3ba0'),\n",
       " 68: ('ecoinvent 3.9.1 cutoff', 'c0538595a23f519bb3421f85ec6e4d15'),\n",
       " 69: ('ecoinvent 3.9.1 cutoff', '671ddeb7e0d1cd30ef7f0955777acf5d'),\n",
       " 70: ('ecoinvent 3.9.1 cutoff', 'ea852302635dd9d99a09b1c983cc9f5b'),\n",
       " 71: ('ecoinvent 3.9.1 cutoff', '03c763ad66457736ebbd9caa65a373fd'),\n",
       " 72: ('ecoinvent 3.9.1 cutoff', '02a188eb9d7d87ffff32703c010faf53'),\n",
       " 73: ('ecoinvent 3.9.1 cutoff', '5a6e0edde7c7adb5d248ed73b00e7376'),\n",
       " 74: ('ecoinvent 3.9.1 cutoff', '6cca52b10377e29e2617d106d609c210'),\n",
       " 75: ('ecoinvent 3.9.1 cutoff', '0955d8f082bfb36f636d7556d0a45e6a'),\n",
       " 76: ('ecoinvent 3.9.1 cutoff', 'ec9bded66f51645eec5fcb968593a909'),\n",
       " 77: ('ecoinvent 3.9.1 cutoff', '956704e865e662848e5e56482ffcd015'),\n",
       " 78: ('ecoinvent 3.9.1 cutoff', '8e3e9f990e51c3986d3aac4ab4225d4a'),\n",
       " 79: ('ecoinvent 3.9.1 cutoff', '38555c1eedd89442376428c6bf075891'),\n",
       " 80: ('ecoinvent 3.9.1 cutoff', 'd7b541bc86ff085ef8885572608fa059'),\n",
       " 81: ('ecoinvent 3.9.1 cutoff', 'f6ae88e4d2648ae99bd42937bd819853'),\n",
       " 82: ('ecoinvent 3.9.1 cutoff', '17fd1e13b29b6ddf538b80711b187d50'),\n",
       " 83: ('ecoinvent 3.9.1 cutoff', '74b0a39f12606b7747e5b7ed822be57e'),\n",
       " 84: ('ecoinvent 3.9.1 cutoff', '6ec1967d6d1c656dec4feb0fb7d7a009'),\n",
       " 85: ('ecoinvent 3.9.1 cutoff', 'd39a2c0ea27f3f627f1fbf112a2e082f'),\n",
       " 86: ('ecoinvent 3.9.1 cutoff', '83f1b035cdd0b8b268c8a30d6bbf5fc6'),\n",
       " 87: ('ecoinvent 3.9.1 cutoff', '31ea7971afe205dacd39e67f0ed05bc3'),\n",
       " 88: ('ecoinvent 3.9.1 cutoff', '56938f13bb29678fb0d5186b4daca375'),\n",
       " 89: ('ecoinvent 3.9.1 cutoff', '698b12a3fade05d79f3d414c79a931ee'),\n",
       " 90: ('ecoinvent 3.9.1 cutoff', '84aa1da9811dc23d8588ab6f43ec232d'),\n",
       " 91: ('ecoinvent 3.9.1 cutoff', '4f4d94f579643c0db2fb2d2b7301373c'),\n",
       " 92: ('ecoinvent 3.9.1 cutoff', '7cd5ab8265d8f7c282c657ed90e3d8af'),\n",
       " 93: ('ecoinvent 3.9.1 cutoff', 'bc4470db8b0ce7b36005b03df4608207'),\n",
       " 94: ('ecoinvent 3.9.1 cutoff', 'bd81e54339a8aa1196a6ba266d70db2b'),\n",
       " 95: ('ecoinvent 3.9.1 cutoff', '0ad6341e6bd3465d1c34ab5c21a555e9'),\n",
       " 96: ('ecoinvent 3.9.1 cutoff', '39b7ba0fe3e85c6540ca6ac6e2faf8f6'),\n",
       " 97: ('ecoinvent 3.9.1 cutoff', 'ec38c1e6b792b33796e3ae69d73ac82c'),\n",
       " 98: ('ecoinvent 3.9.1 cutoff', 'dd6fabba83be0e67f6abb428d1ad5254'),\n",
       " 99: ('ecoinvent 3.9.1 cutoff', 'f332a15b4972392127554c3f2a87944f'),\n",
       " 100: ('ecoinvent 3.9.1 cutoff', '366b2ce2a52c20b5ebc3b2c71b9827b6'),\n",
       " 101: ('ecoinvent 3.9.1 cutoff', '258dca9f740aaf14496050f2395e463e'),\n",
       " 102: ('ecoinvent 3.9.1 cutoff', '55876088ce7c49e7f54a56ec1255ee78'),\n",
       " 103: ('ecoinvent 3.9.1 cutoff', '782616a55d84e31b5523f3a8258982e8'),\n",
       " 104: ('ecoinvent 3.9.1 cutoff', '3462ed747cfdcacaa52fd69a3ca3cd57'),\n",
       " 105: ('ecoinvent 3.9.1 cutoff', 'ffe2005822d3aaf5e99a81a09495c727'),\n",
       " 106: ('ecoinvent 3.9.1 cutoff', '245eaef2fb637e428e0425deb295ec37'),\n",
       " 107: ('ecoinvent 3.9.1 cutoff', 'dd76a95b5234654590269bde045c4c56'),\n",
       " 108: ('ecoinvent 3.9.1 cutoff', '648ca6a8c91e72725e28da0c8b6770d9'),\n",
       " 109: ('ecoinvent 3.9.1 cutoff', '89ff757c13dec244573975ac436b2c90'),\n",
       " 110: ('ecoinvent 3.9.1 cutoff', 'a5e3a6a206996f0b2efbda04d05a4276'),\n",
       " 111: ('ecoinvent 3.9.1 cutoff', 'f73c4db36f8b9510489b7f1c2fb90d29'),\n",
       " 112: ('ecoinvent 3.9.1 cutoff', '6e54f9ce32289fbc2a1500dd91210913'),\n",
       " 113: ('ecoinvent 3.9.1 cutoff', 'f69130b5b2986046713e9d6b1bfbe860'),\n",
       " 114: ('ecoinvent 3.9.1 cutoff', 'a32bb801fd61cb23457e285134d4893b'),\n",
       " 115: ('ecoinvent 3.9.1 cutoff', 'c254bf90499807cf43a87369786ced62'),\n",
       " 116: ('ecoinvent 3.9.1 cutoff', 'bda07e5ec57ce247244bb00d3ee909e5'),\n",
       " 117: ('ecoinvent 3.9.1 cutoff', 'c15a417acce2dc6d301385fc58ac0f5a'),\n",
       " 118: ('ecoinvent 3.9.1 cutoff', '5a3ee25228df102236bc2d7bb3a0cf89'),\n",
       " 119: ('ecoinvent 3.9.1 cutoff', 'c43e9205c40569ebd53e0a570820b130'),\n",
       " 120: ('ecoinvent 3.9.1 cutoff', '258c2fdcc508bb2fa6e5430367ee505a'),\n",
       " 121: ('ecoinvent 3.9.1 cutoff', '78850c6bdd3dcb134f4111d956bab936'),\n",
       " 122: ('ecoinvent 3.9.1 cutoff', 'd5d28c2d6951102dadb02983a31c1747'),\n",
       " 123: ('ecoinvent 3.9.1 cutoff', '4a42df253e405ab7869e7fabebd07130'),\n",
       " 124: ('ecoinvent 3.9.1 cutoff', '08ade2e378cf36041ec520867c77f81c'),\n",
       " 125: ('ecoinvent 3.9.1 cutoff', 'e891fd812caf651c8e8cabef33212069'),\n",
       " 126: ('ecoinvent 3.9.1 cutoff', '35d665cdeccbe8b2c632970ce69968b8'),\n",
       " 127: ('ecoinvent 3.9.1 cutoff', '4fb8ae7c7146a26156cb4dda0871c1ce'),\n",
       " 128: ('ecoinvent 3.9.1 cutoff', '82cd489a3909cdcb769da2537edee9c4'),\n",
       " 129: ('ecoinvent 3.9.1 cutoff', 'aeb7cac6ddf844cd566779c51d77a118'),\n",
       " 130: ('ecoinvent 3.9.1 cutoff', '75513360143f653749a5466e629599c9'),\n",
       " 131: ('ecoinvent 3.9.1 cutoff', 'dfad8f9f8095a84b71d5e00bebddf384'),\n",
       " 132: ('ecoinvent 3.9.1 cutoff', '50ffca50a31dae2f6868fd8bc2dd953b'),\n",
       " 133: ('ecoinvent 3.9.1 cutoff', '312e7ae462650171698b611adc78c081'),\n",
       " 134: ('ecoinvent 3.9.1 cutoff', '2938f4ae99a87cb70d1819bf28cb12ed'),\n",
       " 135: ('ecoinvent 3.9.1 cutoff', '51f753e02ea8b6aba9276a147d6d4176'),\n",
       " 136: ('ecoinvent 3.9.1 cutoff', '7ca1379b2e6c0bd9e6473895c523aa7f'),\n",
       " 137: ('ecoinvent 3.9.1 cutoff', '524822e267ee5d3f93ce341dc381662c'),\n",
       " 138: ('ecoinvent 3.9.1 cutoff', 'cb82a58d8221f774f2c2ad9ecb88c05c'),\n",
       " 139: ('ecoinvent 3.9.1 cutoff', '2625cb63569260f7aa001497c1d2ea1f'),\n",
       " 140: ('ecoinvent 3.9.1 cutoff', '0ed38d2018ecfc5d0537a368557666cf'),\n",
       " 141: ('ecoinvent 3.9.1 cutoff', '8b26ca9c7072ea527436ce057ba77460'),\n",
       " 142: ('ecoinvent 3.9.1 cutoff', '79f3471c292c153e6be97a06d050f6a3'),\n",
       " 143: ('ecoinvent 3.9.1 cutoff', '57895b5e87a9d131aa609e296c999279'),\n",
       " 144: ('ecoinvent 3.9.1 cutoff', '6d5c3a16244a7e34faf2ae5d7603d541'),\n",
       " 145: ('ecoinvent 3.9.1 cutoff', '7ec96866b7bbd1bf82435c112d6eba09'),\n",
       " 146: ('ecoinvent 3.9.1 cutoff', '93fbce1ae39ba72dae6fe95a0e3d79c1'),\n",
       " 147: ('ecoinvent 3.9.1 cutoff', '5e70709bd71d55c88527de46f7267aff'),\n",
       " 148: ('ecoinvent 3.9.1 cutoff', '0390dcd0ef5d7227116c51b72a8450b9'),\n",
       " 149: ('ecoinvent 3.9.1 cutoff', '77ba65dd636a98256fa2a61f0e1f7a03'),\n",
       " 150: ('ecoinvent 3.9.1 cutoff', '6be14d317eff6e3635ae054bae274149'),\n",
       " 151: ('ecoinvent 3.9.1 cutoff', 'a8ebeb7b36223eac48a3cc7860c0e711'),\n",
       " 152: ('ecoinvent 3.9.1 cutoff', '4b665eedeb1336efb9cbd5b2e0e32f26'),\n",
       " 153: ('ecoinvent 3.9.1 cutoff', '2ca88c77da5eca9727e465f331d378d3'),\n",
       " 154: ('ecoinvent 3.9.1 cutoff', 'e50a69cbcb58e48661c9f83f5dc32b75'),\n",
       " 155: ('ecoinvent 3.9.1 cutoff', '0883b31178629eb56739e6aaacb17552'),\n",
       " 156: ('ecoinvent 3.9.1 cutoff', 'c655f5b0ff84702a0077ad38fdf4f750'),\n",
       " 157: ('ecoinvent 3.9.1 cutoff', '7e0ceafa28859257a6d73a29cc988669'),\n",
       " 158: ('ecoinvent 3.9.1 cutoff', 'ac17a3d6e017444c41eb5ff3be407877'),\n",
       " 159: ('ecoinvent 3.9.1 cutoff', 'eba11f081cf123395ba1d3a570dc05e7'),\n",
       " 160: ('ecoinvent 3.9.1 cutoff', '12cfc1956a1f6c987cc3b5e26b47c7e2'),\n",
       " 161: ('ecoinvent 3.9.1 cutoff', '9dbcd90f3d15a2e44510dac2b0188248'),\n",
       " 162: ('ecoinvent 3.9.1 cutoff', '64094aebc0ce24ae9d57d402f923d688'),\n",
       " 163: ('ecoinvent 3.9.1 cutoff', '05f3bcea2adc0750ebeb720a82945eac'),\n",
       " 164: ('ecoinvent 3.9.1 cutoff', '2c99899c31fcc6421d5ac8bd05bd49ac'),\n",
       " 165: ('ecoinvent 3.9.1 cutoff', 'cfe80dd1883ca8df051887be0fdfa4ec'),\n",
       " 166: ('ecoinvent 3.9.1 cutoff', '3417e68b559f959ee49e5512abb50846'),\n",
       " 167: ('ecoinvent 3.9.1 cutoff', '18f701852c2e41a79563a6f3bc0a10db'),\n",
       " 168: ('ecoinvent 3.9.1 cutoff', 'e2ccfeeafd85f5b53f3e8c4371e736fd'),\n",
       " 169: ('ecoinvent 3.9.1 cutoff', 'b163fedb6a3ef23bc8990837e3311205'),\n",
       " 170: ('ecoinvent 3.9.1 cutoff', 'c9a05ccaffafadfdfdbf7a9559da5146'),\n",
       " 171: ('ecoinvent 3.9.1 cutoff', '77de23bfacdd7ae95555f6177b325828'),\n",
       " 172: ('ecoinvent 3.9.1 cutoff', 'd187af32d78706a42158a8ed3e09e714'),\n",
       " 173: ('ecoinvent 3.9.1 cutoff', '28d064dafa33526445db5d34e073c09d'),\n",
       " 174: ('ecoinvent 3.9.1 cutoff', 'baaddee099ca42fc2a54412557711fb5'),\n",
       " 175: ('ecoinvent 3.9.1 cutoff', '11373a42f15363b80251656bfcb1e55e'),\n",
       " 176: ('ecoinvent 3.9.1 cutoff', '38ffb774e666ebe27a3a6b51c12c1543'),\n",
       " 177: ('ecoinvent 3.9.1 cutoff', 'f7920dc2818621d0ef83320dbe12be8f'),\n",
       " 178: ('ecoinvent 3.9.1 cutoff', 'dd22be6a9064fc082552a63f737f8961'),\n",
       " 179: ('ecoinvent 3.9.1 cutoff', 'a08017ebd5b5ef15e24d98eaa05407ec'),\n",
       " 180: ('ecoinvent 3.9.1 cutoff', 'ee563c293050f0a6f70aac72a0824aa2'),\n",
       " 181: ('ecoinvent 3.9.1 cutoff', '54d28d7cfde49e7718bdf0bb474b78c1'),\n",
       " 182: ('ecoinvent 3.9.1 cutoff', '962ed20c2efd40a454ec189def4ac79e'),\n",
       " 183: ('ecoinvent 3.9.1 cutoff', 'e094d462e01474b7a12a56f342bba06e'),\n",
       " 184: ('ecoinvent 3.9.1 cutoff', '0e9578f84cf0e867bb6ef1b096afb371'),\n",
       " 185: ('ecoinvent 3.9.1 cutoff', '54f538c893808698cb3a89ae67c76c87'),\n",
       " 186: ('ecoinvent 3.9.1 cutoff', '36b73a4f4f1c296287a35d32590a65e5'),\n",
       " 187: ('ecoinvent 3.9.1 cutoff', '5468040eda7cb574bb395c6e51431245'),\n",
       " 188: ('ecoinvent 3.9.1 cutoff', '5c44e4dd2455d1daba57353e1c7344b2'),\n",
       " 189: ('ecoinvent 3.9.1 cutoff', '27f8570534cbb46112ebd1d4aaa84690'),\n",
       " 190: ('ecoinvent 3.9.1 cutoff', 'cff38930bb53b5d58a2244f27ef7655f'),\n",
       " 191: ('ecoinvent 3.9.1 cutoff', 'cbde931953f536b16e29fd800470a7e6'),\n",
       " 192: ('ecoinvent 3.9.1 cutoff', 'c8815db465f194491f8e1fd060aa0547'),\n",
       " 193: ('ecoinvent 3.9.1 cutoff', '3e51459f8f48c24ebfea06f0cefd707d'),\n",
       " 194: ('ecoinvent 3.9.1 cutoff', 'f68e0471e39ebcb406e21c3de53e8073'),\n",
       " 195: ('ecoinvent 3.9.1 cutoff', 'dc5898ac8d0d183f80b0c684def1df48'),\n",
       " 196: ('ecoinvent 3.9.1 cutoff', '7d27ef4afcef18410965dfd737f81eff'),\n",
       " 197: ('ecoinvent 3.9.1 cutoff', '23b593be9cbe8b3a1799fd14460fb283'),\n",
       " 198: ('ecoinvent 3.9.1 cutoff', 'f81617979bdf2cc54df8d2b17e018d90'),\n",
       " 199: ('ecoinvent 3.9.1 cutoff', 'df67b3d01b68766ae7d013488def9122'),\n",
       " 200: ('ecoinvent 3.9.1 cutoff', '2d112858912f55b7968b712cdb4d3e10'),\n",
       " 201: ('ecoinvent 3.9.1 cutoff', 'dca984abc15fc56b0685f7e8c5afdd57'),\n",
       " 202: ('ecoinvent 3.9.1 cutoff', 'ca831e355d887298471ebae4424e1bed'),\n",
       " 203: ('ecoinvent 3.9.1 cutoff', 'd3717baf390878fc3be0cb47b26698fc'),\n",
       " 204: ('ecoinvent 3.9.1 cutoff', '1c959df340af2917f9452d89c3b41198'),\n",
       " 205: ('ecoinvent 3.9.1 cutoff', '66af82684be47e04e90292a9ad78e8b4'),\n",
       " 206: ('ecoinvent 3.9.1 cutoff', 'f492ec9a9193ef9797e387370d7936d3'),\n",
       " 207: ('ecoinvent 3.9.1 cutoff', '2af2adb1cd07508db4c7a8b8ea62f0a8'),\n",
       " 208: ('ecoinvent 3.9.1 cutoff', '9c9c2a22b1e3c1745410715cc4a9ddb6'),\n",
       " 209: ('ecoinvent 3.9.1 cutoff', '9480616fdc4fc86522b48b630392aafa'),\n",
       " 210: ('ecoinvent 3.9.1 cutoff', '87f84c1df68c85a74abb2f5c4a8b7969'),\n",
       " 211: ('ecoinvent 3.9.1 cutoff', '483de08155f066ff7cd5650fe191a324'),\n",
       " 212: ('ecoinvent 3.9.1 cutoff', '90ac1c25d24832dcdbe1d8fc959e0ed8'),\n",
       " 213: ('ecoinvent 3.9.1 cutoff', '10fd11246ec8eb9637db4e2769970c09'),\n",
       " 214: ('ecoinvent 3.9.1 cutoff', '0e14636caafdac1a1fc484eab51711fb'),\n",
       " 215: ('ecoinvent 3.9.1 cutoff', '53cc28bc1c287564653d6c4c8d2bd807'),\n",
       " 216: ('ecoinvent 3.9.1 cutoff', 'f75eaead16f844349af5baa0c42ad45c'),\n",
       " 217: ('ecoinvent 3.9.1 cutoff', '27f66a2ee1705a0209fff166f9fd7773'),\n",
       " 218: ('ecoinvent 3.9.1 cutoff', '7018ea89ad16f57e164dc6c2b2cbf874'),\n",
       " 219: ('ecoinvent 3.9.1 cutoff', '1a6b34f15c89099512f64d6f7c9b58cc'),\n",
       " 220: ('ecoinvent 3.9.1 cutoff', '820299a10e55f5de669ef96e39aa6640'),\n",
       " 221: ('ecoinvent 3.9.1 cutoff', 'c0e71315da729aa6929274169a68aade'),\n",
       " 222: ('ecoinvent 3.9.1 cutoff', '786ca8ab899639c4f49e510dc40acb19'),\n",
       " 223: ('ecoinvent 3.9.1 cutoff', 'f6f931e77ca5ce3324e3166edb899fea'),\n",
       " 224: ('ecoinvent 3.9.1 cutoff', '83fff5892fa1d8e585bad0d7ccd52019'),\n",
       " 225: ('ecoinvent 3.9.1 cutoff', '86156d2c70aef7176e380735fb59009f'),\n",
       " 226: ('ecoinvent 3.9.1 cutoff', 'b60263d66ad176c18d900de55f495e72'),\n",
       " 227: ('ecoinvent 3.9.1 cutoff', 'fa2a7940f44e9fe7e9334a0281fdeb89'),\n",
       " 228: ('ecoinvent 3.9.1 cutoff', '0c8d50be661a3636547780b8ccab411e'),\n",
       " 229: ('ecoinvent 3.9.1 cutoff', '8e5511f388e4209a542ffabf89782278'),\n",
       " 230: ('ecoinvent 3.9.1 cutoff', '695452840bee2bf2c485c4e41d24f5d5'),\n",
       " 231: ('ecoinvent 3.9.1 cutoff', '71e2702de9846975cb3b3b80fc6cf40c'),\n",
       " 232: ('ecoinvent 3.9.1 cutoff', 'a9405bb2c3d95909304bea8650558149'),\n",
       " 233: ('ecoinvent 3.9.1 cutoff', 'bb75a7d0370f2a4976cc26645be67aa5'),\n",
       " 234: ('ecoinvent 3.9.1 cutoff', 'a946db2366efe57fefcec0cfb465bb9b'),\n",
       " 235: ('ecoinvent 3.9.1 cutoff', '0b51c9284202e6d4001759da269f33fc'),\n",
       " 236: ('ecoinvent 3.9.1 cutoff', 'a9808d05d37d2b520a26a1997e130990'),\n",
       " 237: ('ecoinvent 3.9.1 cutoff', 'fba6f073372c62c965ccff9926c7b77b'),\n",
       " 238: ('ecoinvent 3.9.1 cutoff', 'c353d990a13bdc9dc429777587509385'),\n",
       " 239: ('ecoinvent 3.9.1 cutoff', '6d9bd6fb795e1454edd7391eef708ec1'),\n",
       " 240: ('ecoinvent 3.9.1 cutoff', 'a967b1301f1e6c5dcc126ad045d6f66a'),\n",
       " 241: ('ecoinvent 3.9.1 cutoff', '8ded522e8da51a1248748a4a57c4d710'),\n",
       " 242: ('ecoinvent 3.9.1 cutoff', 'bf585acd91a45979fe0fdfd2616ed600'),\n",
       " 243: ('ecoinvent 3.9.1 cutoff', '1ce8f8b2627be095f90532423ddcc1af'),\n",
       " 244: ('ecoinvent 3.9.1 cutoff', '93e5f8b902408b6dd66a60ccfba71161'),\n",
       " 245: ('ecoinvent 3.9.1 cutoff', '2b0d6d112900d406530d5ec72f995707'),\n",
       " 246: ('ecoinvent 3.9.1 cutoff', '3a9513fe64e6ad25a4dd92a09827f816'),\n",
       " 247: ('ecoinvent 3.9.1 cutoff', 'd9f19145b24ecce90e8d7825fe90a526'),\n",
       " 248: ('ecoinvent 3.9.1 cutoff', 'bd940c7d5668468a171998eb5d8f4e67'),\n",
       " 249: ('ecoinvent 3.9.1 cutoff', 'aab52f4b17542439afe0c03f63599d80'),\n",
       " 250: ('ecoinvent 3.9.1 cutoff', 'c00bcd051405398c8b155a63543e458c'),\n",
       " 251: ('ecoinvent 3.9.1 cutoff', '203592d549e6f31d49059368cae39249'),\n",
       " 252: ('ecoinvent 3.9.1 cutoff', '751a4c2c16f860965bf727603ff157d6'),\n",
       " 253: ('ecoinvent 3.9.1 cutoff', 'f10bd33eb6618cb469ca7eb46bbfc490'),\n",
       " 254: ('ecoinvent 3.9.1 cutoff', '6ab97f628888c7d78addf6ffad5c163d'),\n",
       " 255: ('ecoinvent 3.9.1 cutoff', 'aae504943c4b051b40ff9a713c1e10ba'),\n",
       " 256: ('ecoinvent 3.9.1 cutoff', 'c409e7c1e3e92d9b97487b4feb7e5599'),\n",
       " 257: ('ecoinvent 3.9.1 cutoff', '0cf4e7f79be56af8bdf4dda15e69b40c'),\n",
       " 258: ('ecoinvent 3.9.1 cutoff', 'fbbc45c575d6004d4ef2227855b434dd'),\n",
       " 259: ('ecoinvent 3.9.1 cutoff', '2a484ad3fb21bbebd8fb7fc24da60985'),\n",
       " 260: ('ecoinvent 3.9.1 cutoff', '2d2bdea236a392e2d7dbc6c515609315'),\n",
       " 261: ('ecoinvent 3.9.1 cutoff', '59051ad3a68c768006093649dc678a9b'),\n",
       " 262: ('ecoinvent 3.9.1 cutoff', '2a47d1f45c6b5a6410f707b7330d442e'),\n",
       " 263: ('ecoinvent 3.9.1 cutoff', '0810326f53d2c4315c4c1eee2ba0f8d0'),\n",
       " 264: ('ecoinvent 3.9.1 cutoff', 'bb89d4c732d09b5f7791ef85c7872f9d'),\n",
       " 265: ('ecoinvent 3.9.1 cutoff', '45ac1e0896998a089f71c0f1ed98c481'),\n",
       " 266: ('ecoinvent 3.9.1 cutoff', '9c414ed7878be208370f42df027c8b2c'),\n",
       " 267: ('ecoinvent 3.9.1 cutoff', 'e939ebac78a74d3d1eca78c67c149257'),\n",
       " 268: ('ecoinvent 3.9.1 cutoff', 'e1dbb445694edaab0389d52f76952924'),\n",
       " 269: ('ecoinvent 3.9.1 cutoff', 'f157671637dfd8af61386fd96ddf7664'),\n",
       " 270: ('ecoinvent 3.9.1 cutoff', '739b62a416c112e2b66a6454e0ada1b5'),\n",
       " 271: ('ecoinvent 3.9.1 cutoff', '4a177b6a75d6da7e56c0df90779a922a'),\n",
       " 272: ('ecoinvent 3.9.1 cutoff', '495616378b5d9013197ab093e3181662'),\n",
       " 273: ('ecoinvent 3.9.1 cutoff', 'a64a5b1006d28078aa1cf248f37ca370'),\n",
       " 274: ('ecoinvent 3.9.1 cutoff', 'd0a3754f1562f76ae0fcb6427a16ee10'),\n",
       " 275: ('ecoinvent 3.9.1 cutoff', '40f5b7ea9d34ac39279a6d9905ae4fcd'),\n",
       " 276: ('ecoinvent 3.9.1 cutoff', '40a86b02b76779987c5abf2683bebbc4'),\n",
       " 277: ('ecoinvent 3.9.1 cutoff', 'a1445ce2d21bdc4c646c1fb530588f27'),\n",
       " 278: ('ecoinvent 3.9.1 cutoff', '45575acd2a9ee57a6ac807b6404a482b'),\n",
       " 279: ('ecoinvent 3.9.1 cutoff', '1e01f5f1d664bbd8cb890b2e6fe9cfdc'),\n",
       " 280: ('ecoinvent 3.9.1 cutoff', '699169f674afe839b1cf231aecdbc605'),\n",
       " 281: ('ecoinvent 3.9.1 cutoff', '1ef3d6f378d4054d410391a7398fc999'),\n",
       " 282: ('ecoinvent 3.9.1 cutoff', '4d8a62b0c0eb971a53a547cab120b176'),\n",
       " 283: ('ecoinvent 3.9.1 cutoff', '84ff7f042d2e2fced6e287ec61a2e31a'),\n",
       " 284: ('ecoinvent 3.9.1 cutoff', 'c7b2e1c9a769063e5acc60c53a7ca07a'),\n",
       " 285: ('ecoinvent 3.9.1 cutoff', '2048b7bdf86357a3e6079cc6a73bb4f9'),\n",
       " 286: ('ecoinvent 3.9.1 cutoff', '0fec8433296703fc003ffda8012a17b8'),\n",
       " 287: ('ecoinvent 3.9.1 cutoff', '9b671ec044f9424c65befd65ca0c765c'),\n",
       " 288: ('ecoinvent 3.9.1 cutoff', '90c153a158b56d17df0659319f67cdae'),\n",
       " 289: ('ecoinvent 3.9.1 cutoff', '9d1abbd31e9fd2b03fc891fed1eb5efc'),\n",
       " 290: ('ecoinvent 3.9.1 cutoff', '40e88f6835d6c3c5daa8f48cdb8e87ea'),\n",
       " 291: ('ecoinvent 3.9.1 cutoff', 'b2456bb2e61063a1a1adc6016c9c7b95'),\n",
       " 292: ('ecoinvent 3.9.1 cutoff', '34786547efdd611d64f63eccc8797326'),\n",
       " 293: ('ecoinvent 3.9.1 cutoff', '538fd3825d6b93fd230e3e0bbc9182e4'),\n",
       " 294: ('ecoinvent 3.9.1 cutoff', '4714c3bfd09f0c1039847a4c10ba98ec'),\n",
       " 295: ('ecoinvent 3.9.1 cutoff', '4951099be4ce8c202174aee9e060433c'),\n",
       " 296: ('ecoinvent 3.9.1 cutoff', '838e5534b7a4351570fc6a6558033641'),\n",
       " 297: ('ecoinvent 3.9.1 cutoff', 'f7785b548968be5826c408fd205aee92'),\n",
       " 298: ('ecoinvent 3.9.1 cutoff', '85a4a472a5f74c78301962ac8f7553d3'),\n",
       " 299: ('ecoinvent 3.9.1 cutoff', '3d42075432e4849c7582d0e0f196290c'),\n",
       " 300: ('ecoinvent 3.9.1 cutoff', '41170ea11aa84c43c27b1aeddb17528f'),\n",
       " 301: ('ecoinvent 3.9.1 cutoff', '5a19be8ebfd722643b6e2cecd9cd20c3'),\n",
       " 302: ('ecoinvent 3.9.1 cutoff', '90fbe3a0fed39b61781e7af4f3935a03'),\n",
       " 303: ('ecoinvent 3.9.1 cutoff', '72eb95566a79709f25360995ee05a07c'),\n",
       " 304: ('ecoinvent 3.9.1 cutoff', '302ab5bea8285e6aa37b5f7c8a816ad8'),\n",
       " 305: ('ecoinvent 3.9.1 cutoff', 'd1693041a80bdcda096f9c3587c6f5eb'),\n",
       " 306: ('ecoinvent 3.9.1 cutoff', 'fad770dee5c9545d47fff577cc896836'),\n",
       " 307: ('ecoinvent 3.9.1 cutoff', '41ba742bcdd2655889f0e732f2064723'),\n",
       " 308: ('ecoinvent 3.9.1 cutoff', '0c3b8f61860afff479088808ea1b014a'),\n",
       " 309: ('ecoinvent 3.9.1 cutoff', '9e7bad5a4749ff00cc91190825d94aa0'),\n",
       " 310: ('ecoinvent 3.9.1 cutoff', '853c5efa830301634ef4f24e0060333c'),\n",
       " 311: ('ecoinvent 3.9.1 cutoff', '66b9d2c86836e95212702a8621c42f22'),\n",
       " 312: ('ecoinvent 3.9.1 cutoff', '61c59bdc19ab6eefd116f504adcc754b'),\n",
       " 313: ('ecoinvent 3.9.1 cutoff', '3eca85ab277c4e62088f3b25d881c6a2'),\n",
       " 314: ('ecoinvent 3.9.1 cutoff', 'c17632aee277e137c03daf24c9d8a18a'),\n",
       " 315: ('ecoinvent 3.9.1 cutoff', '32df9c5f828b773a9b9e2e7cbc1cc469'),\n",
       " 316: ('ecoinvent 3.9.1 cutoff', 'ffb64f016425c23b0922c00e5807ecda'),\n",
       " 317: ('ecoinvent 3.9.1 cutoff', '1ebf858bb02e4831d6ddd9db53f54cca'),\n",
       " 318: ('ecoinvent 3.9.1 cutoff', 'ff6ebb501a3f6b1eca3fb6ebfac8b793'),\n",
       " 319: ('ecoinvent 3.9.1 cutoff', '6d8634428d45ca379953e82b97a3a56e'),\n",
       " 320: ('ecoinvent 3.9.1 cutoff', '20c4e961209aaad64b28e5bb48d679a2'),\n",
       " 321: ('ecoinvent 3.9.1 cutoff', 'bd45312a77ef5be8b8340cddd8d814c7'),\n",
       " 322: ('ecoinvent 3.9.1 cutoff', '4e666879ce6ae88fa1cc2a7e7e7a7533'),\n",
       " 323: ('ecoinvent 3.9.1 cutoff', '8c0a99afd9c222f67dd8cf661be0e658'),\n",
       " 324: ('ecoinvent 3.9.1 cutoff', 'f40f8355c2887c397395e613197b065f'),\n",
       " 325: ('ecoinvent 3.9.1 cutoff', '0ad2735ace3b0d2166e3dd5525088768'),\n",
       " 326: ('ecoinvent 3.9.1 cutoff', '28b198bffb1cb8303935303756e4001a'),\n",
       " 327: ('ecoinvent 3.9.1 cutoff', '0d5f51645e0a2b69019ea8f0344509cc'),\n",
       " 328: ('ecoinvent 3.9.1 cutoff', '3b7a9dbae734127c3a3145a945d3cc3a'),\n",
       " 329: ('ecoinvent 3.9.1 cutoff', 'e1cc308f0ec364435bc90c19311046a6'),\n",
       " 330: ('ecoinvent 3.9.1 cutoff', '914ee40dfe479760a5883a7962ce50cc'),\n",
       " 331: ('ecoinvent 3.9.1 cutoff', 'dd7b9f99e891fc46d4f52beb94245f75'),\n",
       " 332: ('ecoinvent 3.9.1 cutoff', '1c5338d9d8660450791fccf2322c1721'),\n",
       " 333: ('ecoinvent 3.9.1 cutoff', 'a39fa8035aaf9c8e029a46a344b629e7'),\n",
       " 334: ('ecoinvent 3.9.1 cutoff', 'bbcc24a62a7a425e708fa8967f0df2ee'),\n",
       " 335: ('ecoinvent 3.9.1 cutoff', 'd0c724bbf3c0cda9ae394557fbcb1a96'),\n",
       " 336: ('ecoinvent 3.9.1 cutoff', 'd8296d5323d49042f6730355a861139f'),\n",
       " 337: ('ecoinvent 3.9.1 cutoff', 'acf95acf991d2932c76e32509a2bf9b2'),\n",
       " 338: ('ecoinvent 3.9.1 cutoff', '99d97aca1efbc7eaaf44a99c3982f5ff'),\n",
       " 339: ('ecoinvent 3.9.1 cutoff', '732368a43476509bb333d81d104f67b0'),\n",
       " 340: ('ecoinvent 3.9.1 cutoff', '85c4bd2041087082456be0f19fce090b'),\n",
       " 341: ('ecoinvent 3.9.1 cutoff', '4f0693ef68120a39f711295a64db098f'),\n",
       " 342: ('ecoinvent 3.9.1 cutoff', 'eda5a9889a07fc6759f5e391cd76b24a'),\n",
       " 343: ('ecoinvent 3.9.1 cutoff', '9a647fad72b406d28275c585a82a93e6'),\n",
       " 344: ('ecoinvent 3.9.1 cutoff', '7549307336f18ef773558a1be5e1329f'),\n",
       " 345: ('ecoinvent 3.9.1 cutoff', '4649f0461a43a817181a0eb250f9ce04'),\n",
       " 346: ('ecoinvent 3.9.1 cutoff', '699406091375b0a709b82947bd8c1982'),\n",
       " 347: ('ecoinvent 3.9.1 cutoff', '08a684cd60d03f17de397396af5289ce'),\n",
       " 348: ('ecoinvent 3.9.1 cutoff', 'c8234c88a5e7d4f294f492f01487a351'),\n",
       " 349: ('ecoinvent 3.9.1 cutoff', '430c10dda95db2917c3295905bc109fc'),\n",
       " 350: ('ecoinvent 3.9.1 cutoff', '49d7a23a1bd2240b7a9eb75e68092047'),\n",
       " 351: ('ecoinvent 3.9.1 cutoff', '8c8c82e16d5392e88efdbea56d97b394'),\n",
       " 352: ('ecoinvent 3.9.1 cutoff', '4eebcaf9c1f715990605ddfa4f886b72'),\n",
       " 353: ('ecoinvent 3.9.1 cutoff', '3f168a0f12526e90ec5061e540326e5c'),\n",
       " 354: ('ecoinvent 3.9.1 cutoff', '059ccc54a0e014448afa9a0b0f9af98a'),\n",
       " 355: ('ecoinvent 3.9.1 cutoff', '1e6b7f4552249e2add36981101446e25'),\n",
       " 356: ('ecoinvent 3.9.1 cutoff', '73645511b70124cd6cecbdea4d66b3fa'),\n",
       " 357: ('ecoinvent 3.9.1 cutoff', '23810b0bbe04fca71b0f53fc97d56360'),\n",
       " 358: ('ecoinvent 3.9.1 cutoff', '9fb70a8fad616207387b2e316cf5b593'),\n",
       " 359: ('ecoinvent 3.9.1 cutoff', '47c24a47dbcd0128a3b3fe1c891db3eb'),\n",
       " 360: ('ecoinvent 3.9.1 cutoff', '141d30fee87b8fb379d6f5d179fb8f20'),\n",
       " 361: ('ecoinvent 3.9.1 cutoff', '7d8831cba33f207607e7ee4a2b9193d9'),\n",
       " 362: ('ecoinvent 3.9.1 cutoff', 'b0369a7a31757d7c2535c7d1d0cc5e33'),\n",
       " 363: ('ecoinvent 3.9.1 cutoff', 'c4c81dd3eac790e0f467285a98ca82d4'),\n",
       " 364: ('ecoinvent 3.9.1 cutoff', '26c8f644836c9b914b46911ca3b82f6d'),\n",
       " 365: ('ecoinvent 3.9.1 cutoff', '75428352cbba91962648fe146bb1c5ac'),\n",
       " 366: ('ecoinvent 3.9.1 cutoff', '5af58ee120bccd04fb4053c89ff1c9ea'),\n",
       " 367: ('ecoinvent 3.9.1 cutoff', 'd722526f6809661548989302b3482a13'),\n",
       " 368: ('ecoinvent 3.9.1 cutoff', '41885dc5b3ce5fe6d74fb7dd8c971e39'),\n",
       " 369: ('ecoinvent 3.9.1 cutoff', '79603102b9965446e5b997507af648a9'),\n",
       " 370: ('ecoinvent 3.9.1 cutoff', '0c2eab9445adc9efe1eafb7a2a06e1e4'),\n",
       " 371: ('ecoinvent 3.9.1 cutoff', '099a8b432861489fa3220d641e035c8c'),\n",
       " 372: ('ecoinvent 3.9.1 cutoff', 'efa1d6535ba36d66935f9d419c9db084'),\n",
       " 373: ('ecoinvent 3.9.1 cutoff', '76de973096c034312a24dae8f35ad7f7'),\n",
       " 374: ('ecoinvent 3.9.1 cutoff', '58c95b186dcd36b51e82c6928378726a'),\n",
       " 375: ('ecoinvent 3.9.1 cutoff', '02c1e856918387a63eee82addf807656'),\n",
       " 376: ('ecoinvent 3.9.1 cutoff', '2f1d5113530088fa162e8fa0fffb9887'),\n",
       " 377: ('ecoinvent 3.9.1 cutoff', 'c54fb832f5a288b04c4fc82f06170f57'),\n",
       " 378: ('ecoinvent 3.9.1 cutoff', '085ecbcca04e0bd9078f69ab1365a37f'),\n",
       " 379: ('ecoinvent 3.9.1 cutoff', 'e81b517c7792db6696aca932d400a5dd'),\n",
       " 380: ('ecoinvent 3.9.1 cutoff', '559939ba79c75435be91c1c425237106'),\n",
       " 381: ('ecoinvent 3.9.1 cutoff', 'cfbc05a41ac930e63398c926fe988239'),\n",
       " 382: ('ecoinvent 3.9.1 cutoff', '9ef8f7515e54a8f0248bb72b1e30d686'),\n",
       " 383: ('ecoinvent 3.9.1 cutoff', 'e0651437589a5561e5856b2aefabcc2e'),\n",
       " 384: ('ecoinvent 3.9.1 cutoff', '5d70da4f02121296de86d807529738d1'),\n",
       " 385: ('ecoinvent 3.9.1 cutoff', '5367e00a48c6b150866aa31205f61c58'),\n",
       " 386: ('ecoinvent 3.9.1 cutoff', '6900041fd2172853d1c023af3d5037ab'),\n",
       " 387: ('ecoinvent 3.9.1 cutoff', 'bb83be2001da7a01c9a91e7aa8849303'),\n",
       " 388: ('ecoinvent 3.9.1 cutoff', '8096f22c8b5e8d404e7c6a595d6c7314'),\n",
       " 389: ('ecoinvent 3.9.1 cutoff', '0a14afef87cd81d8e6185c1bebe95ec8'),\n",
       " 390: ('ecoinvent 3.9.1 cutoff', '744ccd13d9807c322687c4a67a341826'),\n",
       " 391: ('ecoinvent 3.9.1 cutoff', '82a63d54c0d98c7f7b18428bc781e189'),\n",
       " 392: ('ecoinvent 3.9.1 cutoff', '0013eecac5d35ec768cc8e933c69deb8'),\n",
       " 393: ('ecoinvent 3.9.1 cutoff', 'ffed19327fa56d006cf5760ccd9e91cd'),\n",
       " 394: ('ecoinvent 3.9.1 cutoff', '3a3f3bc4137ae0e3753f1ea59a97168e'),\n",
       " 395: ('ecoinvent 3.9.1 cutoff', 'cd3c8d718d5fe2b4a23b3e44983d9e83'),\n",
       " 396: ('ecoinvent 3.9.1 cutoff', '493740d4f2eaaa4d9e9302b356e42372'),\n",
       " 397: ('ecoinvent 3.9.1 cutoff', '106873f5e1120e4a8f279b989c7bba94'),\n",
       " 398: ('ecoinvent 3.9.1 cutoff', 'd36a947a505d74d9dec6eea2d4eb58a7'),\n",
       " 399: ('ecoinvent 3.9.1 cutoff', '00018a2608c38f1e5cdf5f6dbec86312'),\n",
       " 400: ('ecoinvent 3.9.1 cutoff', '360636def07f1eafd172bb4a5b7aea42'),\n",
       " 401: ('ecoinvent 3.9.1 cutoff', 'de76fc5a46ebab99ef2b343608299ac0'),\n",
       " 402: ('ecoinvent 3.9.1 cutoff', 'da173c1bdd8c240bdcc77584a9456c8a'),\n",
       " 403: ('ecoinvent 3.9.1 cutoff', 'fb9892cc8ae21391015a261efbfd2284'),\n",
       " 404: ('ecoinvent 3.9.1 cutoff', '8e99902a7d5a9940fca553f8f9efb813'),\n",
       " 405: ('ecoinvent 3.9.1 cutoff', 'f575621104a6653f8b7bc1d12f0f5a71'),\n",
       " 406: ('ecoinvent 3.9.1 cutoff', 'e26545f20151e555df08c992c284990a'),\n",
       " 407: ('ecoinvent 3.9.1 cutoff', 'f8a7c40945e5532c9c6d45c43e6a5e2e'),\n",
       " 408: ('ecoinvent 3.9.1 cutoff', '7e02be7831649502d41249e151d482ca'),\n",
       " 409: ('ecoinvent 3.9.1 cutoff', 'f2be200384d3aa64b0c18a53bf5ce3e2'),\n",
       " 410: ('ecoinvent 3.9.1 cutoff', '9d1ed41851f7883ee09daea95d4ee864'),\n",
       " 411: ('ecoinvent 3.9.1 cutoff', '6175b2df9656437aa94846ae62ad8fcd'),\n",
       " 412: ('ecoinvent 3.9.1 cutoff', '07ec8222254949e633412e479a0cebbe'),\n",
       " 413: ('ecoinvent 3.9.1 cutoff', 'c5b0e996d2c2c54b9b5e382ad051a3d1'),\n",
       " 414: ('ecoinvent 3.9.1 cutoff', '6fd953429014a7b19123f7d132810cf4'),\n",
       " 415: ('ecoinvent 3.9.1 cutoff', 'bc745fcb1391eb2b82d16ce4166280f2'),\n",
       " 416: ('ecoinvent 3.9.1 cutoff', '0153a1ab7fb39f5bd163721e3bd4a109'),\n",
       " 417: ('ecoinvent 3.9.1 cutoff', '1e29d602b77cd8d2d10976cf10622153'),\n",
       " 418: ('ecoinvent 3.9.1 cutoff', '310ce99699562ce3584b81df52bf3462'),\n",
       " 419: ('ecoinvent 3.9.1 cutoff', '6e670a32788d73e054f8245736c663b1'),\n",
       " 420: ('ecoinvent 3.9.1 cutoff', '53f6eabe6b31759e709ac5030271b7f4'),\n",
       " 421: ('ecoinvent 3.9.1 cutoff', 'd0d202a5b7708a4b839e9abe3f40da68'),\n",
       " 422: ('ecoinvent 3.9.1 cutoff', '1bc36a71fc93670eda192d923ee2bfe3'),\n",
       " 423: ('ecoinvent 3.9.1 cutoff', 'e8146e0c6b7efeb3b683449089e1d86a'),\n",
       " 424: ('ecoinvent 3.9.1 cutoff', '2e2215f785cc4ed3be85bf025f3ec81b'),\n",
       " 425: ('ecoinvent 3.9.1 cutoff', '6fae7898d34cd7a7d2b88d79644c6fdb'),\n",
       " 426: ('ecoinvent 3.9.1 cutoff', '747f46bca5870721d535c836cf8c6597'),\n",
       " 427: ('ecoinvent 3.9.1 cutoff', '19e5867c5e98a3b3b582d0ece930b8b2'),\n",
       " 428: ('ecoinvent 3.9.1 cutoff', '67be994191f5938d9a3ee1c9bd8c3e47'),\n",
       " 429: ('ecoinvent 3.9.1 cutoff', '355fa185d5cfb0fbff960b206dabdcd0'),\n",
       " 430: ('ecoinvent 3.9.1 cutoff', '2f5b684789b719d9af35f609b06563d4'),\n",
       " 431: ('ecoinvent 3.9.1 cutoff', '865c7a20cd8b4684bf48c146f105c5ea'),\n",
       " 432: ('ecoinvent 3.9.1 cutoff', '0d4ce52b9f184721b35a07766b68a014'),\n",
       " 433: ('ecoinvent 3.9.1 cutoff', 'c578b2b6b24a8fe94e2fabaae27942b9'),\n",
       " 434: ('ecoinvent 3.9.1 cutoff', 'ab9fcd99f5f6cd9b8a94b2cefa5d88e4'),\n",
       " 435: ('ecoinvent 3.9.1 cutoff', '7b38aee71facb3b5f3724170bbde773d'),\n",
       " 436: ('ecoinvent 3.9.1 cutoff', '872198c284fdcdbab2d81e9ed37e5dcd'),\n",
       " 437: ('ecoinvent 3.9.1 cutoff', '72b06d70c6d741eb4a4874413694f845'),\n",
       " 438: ('ecoinvent 3.9.1 cutoff', '0c16be957f2fbb933192c9fdf810e3f1'),\n",
       " 439: ('ecoinvent 3.9.1 cutoff', '61cfb543c0647733c5412dbd33fc5aaa'),\n",
       " 440: ('ecoinvent 3.9.1 cutoff', '75da16c809a91760a19f0338ac3388ae'),\n",
       " 441: ('ecoinvent 3.9.1 cutoff', '3a6586952eff793738eef72743703e90'),\n",
       " 442: ('ecoinvent 3.9.1 cutoff', '47472ca6017b6e8b751d638cec288a0d'),\n",
       " 443: ('ecoinvent 3.9.1 cutoff', '5b9110c5a13c9a421d6b87cf8ac7bec9'),\n",
       " 444: ('ecoinvent 3.9.1 cutoff', '3603265625a6c6c9702ede0aa7413665'),\n",
       " 445: ('ecoinvent 3.9.1 cutoff', '0a76e11c8b34db514631f52b35cc1897'),\n",
       " 446: ('ecoinvent 3.9.1 cutoff', '8aa735d42dc54b7baef97d13ea10e1ee'),\n",
       " 447: ('ecoinvent 3.9.1 cutoff', 'c34d80499a99d949cb1a38cae5838ee3'),\n",
       " 448: ('ecoinvent 3.9.1 cutoff', '8388d8054ea1d79b748fe68ccf9fb4e8'),\n",
       " 449: ('ecoinvent 3.9.1 cutoff', '56ac81c10d2adde86edc7f368eb79eaa'),\n",
       " 450: ('ecoinvent 3.9.1 cutoff', 'bc2d101dd2a466543296008ce8c342da'),\n",
       " 451: ('ecoinvent 3.9.1 cutoff', '1463cc2a4ee4765d5b8a42965cddaa15'),\n",
       " 452: ('ecoinvent 3.9.1 cutoff', '6a2493e09fc8c5fc8a5b35680a45e292'),\n",
       " 453: ('ecoinvent 3.9.1 cutoff', '33f187d2b8bdb52c593510b899b17759'),\n",
       " 454: ('ecoinvent 3.9.1 cutoff', '6f5456984855ca384444d304caf927fb'),\n",
       " 455: ('ecoinvent 3.9.1 cutoff', '303ceb4a91057559fed5cb1c3bf29149'),\n",
       " 456: ('ecoinvent 3.9.1 cutoff', '0a5950353e4cb6f6ad44bb7a455ba465'),\n",
       " 457: ('ecoinvent 3.9.1 cutoff', 'b32d59c3168bbbb0167fe0bd290bc8df'),\n",
       " 458: ('ecoinvent 3.9.1 cutoff', '838512bcecf14f99e1aa18b9f297ca3b'),\n",
       " 459: ('ecoinvent 3.9.1 cutoff', 'fff5b57441f64ef02ea869803a212120'),\n",
       " 460: ('ecoinvent 3.9.1 cutoff', 'e6c57edbd8456bbec31bf522604cc3d6'),\n",
       " 461: ('ecoinvent 3.9.1 cutoff', 'cb6beec3a04776ff98bbf28e1dc467a9'),\n",
       " 462: ('ecoinvent 3.9.1 cutoff', '15f475a53c59ef4224074301545d86ab'),\n",
       " 463: ('ecoinvent 3.9.1 cutoff', 'b38e0559c59b1be2c2fc66ebe65d56e6'),\n",
       " 464: ('ecoinvent 3.9.1 cutoff', 'dfd8dafa15514464a61eb5b968e6ba86'),\n",
       " 465: ('ecoinvent 3.9.1 cutoff', 'f70a903a7f5aadac01850fd27b17544a'),\n",
       " 466: ('ecoinvent 3.9.1 cutoff', '0cd40ef57970224bbf6d57d073596b75'),\n",
       " 467: ('ecoinvent 3.9.1 cutoff', '8d9cf1a79ce97f23da17746d4f3fbe7c'),\n",
       " 468: ('ecoinvent 3.9.1 cutoff', 'aa56c62c46a0dae412bc13b83fd4d524'),\n",
       " 469: ('ecoinvent 3.9.1 cutoff', 'fd61d919330074150bb28d9f97360994'),\n",
       " 470: ('ecoinvent 3.9.1 cutoff', '9a5d8b504b687999106456a802f9075e'),\n",
       " 471: ('ecoinvent 3.9.1 cutoff', 'c570966d606a8902ac73ff101305beef'),\n",
       " 472: ('ecoinvent 3.9.1 cutoff', 'dc67083d9d6fdddf50f6a82ec53fb805'),\n",
       " 473: ('ecoinvent 3.9.1 cutoff', 'f66d4cb858737451800d73c56b0b96aa'),\n",
       " 474: ('ecoinvent 3.9.1 cutoff', 'd255ac2e9418e2854e1f8d4f4c2b4180'),\n",
       " 475: ('ecoinvent 3.9.1 cutoff', '78ea189e63477241c3e13c9b501bb24d'),\n",
       " 476: ('ecoinvent 3.9.1 cutoff', '911bd1f9214e55a3edf6844c7c81df19'),\n",
       " 477: ('ecoinvent 3.9.1 cutoff', 'eab8ab3cefe550330ff413a73e2867db'),\n",
       " 478: ('ecoinvent 3.9.1 cutoff', 'a2e398ef5a0b5b883aba6f0513e3c5bb'),\n",
       " 479: ('ecoinvent 3.9.1 cutoff', '9177b177d7a52078622d255d0d6c7b49'),\n",
       " 480: ('ecoinvent 3.9.1 cutoff', 'f2a73f75d4e28be479d66de37f2d79cd'),\n",
       " 481: ('ecoinvent 3.9.1 cutoff', 'a18ffd81dbcaa17ad104189f6019eeae'),\n",
       " 482: ('ecoinvent 3.9.1 cutoff', '1fa519a80419ec64cf19a371c2078202'),\n",
       " 483: ('ecoinvent 3.9.1 cutoff', 'c29509574498ed98c26af747f65665df'),\n",
       " 484: ('ecoinvent 3.9.1 cutoff', '31188a004efe458b84b1c39d6644f042'),\n",
       " 485: ('ecoinvent 3.9.1 cutoff', '870a2c52aec6235e38893b83473c5c14'),\n",
       " 486: ('ecoinvent 3.9.1 cutoff', '42c314295fcead0dafef17c4346c45d8'),\n",
       " 487: ('ecoinvent 3.9.1 cutoff', '827f242c77bccd7c899e7376bfd1f8b7'),\n",
       " 488: ('ecoinvent 3.9.1 cutoff', 'bab51cbc5c22ac6f6b1c37acf74856a7'),\n",
       " 489: ('ecoinvent 3.9.1 cutoff', '9cc71803f2d887617f8a731028fece0f'),\n",
       " 490: ('ecoinvent 3.9.1 cutoff', '1caf7675422a5b52fe6e9bfb82ac11e3'),\n",
       " 491: ('ecoinvent 3.9.1 cutoff', '72931a7046660c97257548aa1bfd6565'),\n",
       " 492: ('ecoinvent 3.9.1 cutoff', '1fb0f5436cb75b53df069caed28a09cd'),\n",
       " 493: ('ecoinvent 3.9.1 cutoff', 'c3ee5d4c3ec111c911591c61f522f88e'),\n",
       " 494: ('ecoinvent 3.9.1 cutoff', '473055804622e48cc4f306c362c36925'),\n",
       " 495: ('ecoinvent 3.9.1 cutoff', '1f03d3641c97fa1d246e3a0a93adb4e6'),\n",
       " 496: ('ecoinvent 3.9.1 cutoff', '7828a943e134cb66b04a9e8c71bab201'),\n",
       " 497: ('ecoinvent 3.9.1 cutoff', 'c3cb481399ac70af7d59816f0457df64'),\n",
       " 498: ('ecoinvent 3.9.1 cutoff', '9c491ca9e45cd95b2edd74f4b3386f9c'),\n",
       " 499: ('ecoinvent 3.9.1 cutoff', '2256961bda47b6359456db4c7dca8553'),\n",
       " 500: ('ecoinvent 3.9.1 cutoff', 'e97fa8b32c22a155d672e4d6a7058c6a'),\n",
       " 501: ('ecoinvent 3.9.1 cutoff', '53ba8f9e43d897b596246e4b4820adcf'),\n",
       " 502: ('ecoinvent 3.9.1 cutoff', 'e67c5898587e40420bf9b075dc610e25'),\n",
       " 503: ('ecoinvent 3.9.1 cutoff', '68cd54a33dc9b8a0cc8fa627816ce53a'),\n",
       " 504: ('ecoinvent 3.9.1 cutoff', '5efd4061851b2bd322f17830fee57dff'),\n",
       " 505: ('ecoinvent 3.9.1 cutoff', '280c26a529ecb0c0b6ad2ed1f6984cc3'),\n",
       " 506: ('ecoinvent 3.9.1 cutoff', '555da7deacd3ca82bcdb406bd7795f81'),\n",
       " 507: ('ecoinvent 3.9.1 cutoff', 'a5dff97d0e9fb37553e2aad762e7fa2e'),\n",
       " 508: ('ecoinvent 3.9.1 cutoff', '2eb618b2c0347ae4551b8e563589b569'),\n",
       " 509: ('ecoinvent 3.9.1 cutoff', '57e0e55f7829c06e8671b4282612b2aa'),\n",
       " 510: ('ecoinvent 3.9.1 cutoff', 'c156a7876538483bea13171cfef6f1d9'),\n",
       " 511: ('ecoinvent 3.9.1 cutoff', '24a7ed95a6fd3f4678e7a02e26c05c91'),\n",
       " 512: ('ecoinvent 3.9.1 cutoff', 'a2836c2d7dac8ababf9ba207164e0e4a'),\n",
       " 513: ('ecoinvent 3.9.1 cutoff', '6c46eb2d0d3f48ad0d916f7969ad940c'),\n",
       " 514: ('ecoinvent 3.9.1 cutoff', '30d6ec17ba464490cf266b0f36c9e594'),\n",
       " 515: ('ecoinvent 3.9.1 cutoff', 'e4be524775d99609fc4ecc031cb39e16'),\n",
       " 516: ('ecoinvent 3.9.1 cutoff', '924596707cdaae0682742d3f4d8d205d'),\n",
       " 517: ('ecoinvent 3.9.1 cutoff', 'a4e506f2c34146b021f25f0460ebebf4'),\n",
       " 518: ('ecoinvent 3.9.1 cutoff', '7656777bec4271f2d78c3c4e581a2dc3'),\n",
       " 519: ('ecoinvent 3.9.1 cutoff', '49e550d28bda969c98f1080c036da524'),\n",
       " 520: ('ecoinvent 3.9.1 cutoff', '743576f3c8254142997bd3c159b7fd54'),\n",
       " 521: ('ecoinvent 3.9.1 cutoff', '913c5d119499fc8c91f5402469ea592e'),\n",
       " 522: ('ecoinvent 3.9.1 cutoff', 'a004ca7193090d7952f08e4264531b12'),\n",
       " 523: ('ecoinvent 3.9.1 cutoff', '5ac188d87a9117b371dfec1226d83838'),\n",
       " 524: ('ecoinvent 3.9.1 cutoff', 'a8fb091c6660c414d157d9438e4e00c1'),\n",
       " 525: ('ecoinvent 3.9.1 cutoff', '8fea69d0824110bc9d745996b1155041'),\n",
       " 526: ('ecoinvent 3.9.1 cutoff', '10584bcddb60ec95f2753916ed3ce83e'),\n",
       " 527: ('ecoinvent 3.9.1 cutoff', '44eb57ada5499566c962f58879647275'),\n",
       " 528: ('ecoinvent 3.9.1 cutoff', 'bb953ac821a28fe944cad0d4670af299'),\n",
       " 529: ('ecoinvent 3.9.1 cutoff', '55889c730b60394168e079603427e5c1'),\n",
       " 530: ('ecoinvent 3.9.1 cutoff', '8e0588a762abc8adefe9f05150b37c6b'),\n",
       " 531: ('ecoinvent 3.9.1 cutoff', 'ac5a5541841dd4c02cd5275f84c0ed98'),\n",
       " 532: ('ecoinvent 3.9.1 cutoff', '9ad5b05cbab4abd22c8e623ce779a0e0'),\n",
       " 533: ('ecoinvent 3.9.1 cutoff', 'a03d33eca4e2670632bc88178ed80146'),\n",
       " 534: ('ecoinvent 3.9.1 cutoff', 'f61ebd8209f18f7826779e51299cdef2'),\n",
       " 535: ('ecoinvent 3.9.1 cutoff', '475eed409ce96bfbb2b092215d5a12c8'),\n",
       " 536: ('ecoinvent 3.9.1 cutoff', '58de3387c1413bb191f1411afae02efb'),\n",
       " 537: ('ecoinvent 3.9.1 cutoff', '37a5b08b3e13bf76c8a1f23bd3a81230'),\n",
       " 538: ('ecoinvent 3.9.1 cutoff', '98d0b5bcb97f3f98730e03c132eb0d67'),\n",
       " 539: ('ecoinvent 3.9.1 cutoff', 'ba3860e14f90855c019df7c7cf043db6'),\n",
       " 540: ('ecoinvent 3.9.1 cutoff', '6c217855b836ba886ebcb20c105ad088'),\n",
       " 541: ('ecoinvent 3.9.1 cutoff', '867a871552e767ed52e8aaf4a138465f'),\n",
       " 542: ('ecoinvent 3.9.1 cutoff', '346568a8600f79d06541e100ddab5fe1'),\n",
       " 543: ('ecoinvent 3.9.1 cutoff', '902cecec60e7845317ee1b942d377f3f'),\n",
       " 544: ('ecoinvent 3.9.1 cutoff', '43c9af565c8378e9c3499181c43cd77b'),\n",
       " 545: ('ecoinvent 3.9.1 cutoff', '3da85b95610e6968c4a0a874549fbef8'),\n",
       " 546: ('ecoinvent 3.9.1 cutoff', '419243ae593d779ce102a6cde5f99de0'),\n",
       " 547: ('ecoinvent 3.9.1 cutoff', 'e0c5fc1a4904141bc139699b19f23bf1'),\n",
       " 548: ('ecoinvent 3.9.1 cutoff', '87783ade347640aba3b1d2c588d4ce77'),\n",
       " 549: ('ecoinvent 3.9.1 cutoff', 'a4d6322a775771b4eeed3e6bed5686fe'),\n",
       " 550: ('ecoinvent 3.9.1 cutoff', 'a5f5352ae8d8e7f4d38d56ea98852371'),\n",
       " 551: ('ecoinvent 3.9.1 cutoff', 'f3099fd9853592d671d2590f8a37f3fc'),\n",
       " 552: ('ecoinvent 3.9.1 cutoff', '475dbe44b357641147047cd7a66f6c03'),\n",
       " 553: ('ecoinvent 3.9.1 cutoff', '679467b3588782aff94f749f3bd4a084'),\n",
       " 554: ('ecoinvent 3.9.1 cutoff', 'e0dee162f5617a7540fbd4b319b843ef'),\n",
       " 555: ('ecoinvent 3.9.1 cutoff', '410625dd1e4de1f71562af36aede6b55'),\n",
       " 556: ('ecoinvent 3.9.1 cutoff', '3dd23b78d0f180d24081d7be6fb44499'),\n",
       " 557: ('ecoinvent 3.9.1 cutoff', '2b50bbbb43e3849538945675b7d006f9'),\n",
       " 558: ('ecoinvent 3.9.1 cutoff', 'be33116d9801dd9e6a161a7f97be15c4'),\n",
       " 559: ('ecoinvent 3.9.1 cutoff', 'c9a0ae0dbad4a15b39cc1de4541ad23a'),\n",
       " 560: ('ecoinvent 3.9.1 cutoff', '7198f5ff54c1b3161104853b0916ed74'),\n",
       " 561: ('ecoinvent 3.9.1 cutoff', '3fef6f14b2705f886a04763532941215'),\n",
       " 562: ('ecoinvent 3.9.1 cutoff', '9e822103697b49ed85c7c056c95d9a43'),\n",
       " 563: ('ecoinvent 3.9.1 cutoff', '26b7b36c99c358c65adb728020192066'),\n",
       " 564: ('ecoinvent 3.9.1 cutoff', 'c117325648bd95c66aa5d15eed8fe33c'),\n",
       " 565: ('ecoinvent 3.9.1 cutoff', '50ad49f522df462405f927a3a2e12000'),\n",
       " 566: ('ecoinvent 3.9.1 cutoff', '81284e6ffa4fe0221fa1fbec0f0d23a9'),\n",
       " 567: ('ecoinvent 3.9.1 cutoff', 'b4cf9bef49c25e06bf9ccfba45c7d955'),\n",
       " 568: ('ecoinvent 3.9.1 cutoff', '9328809152594d47c3f5a98422744b64'),\n",
       " 569: ('ecoinvent 3.9.1 cutoff', '5c488bb51ae5192064bac821d2360e28'),\n",
       " 570: ('ecoinvent 3.9.1 cutoff', '173b6065c70b230c1f422c69e222ca7b'),\n",
       " 571: ('ecoinvent 3.9.1 cutoff', '43ab4e514c101536a77210171cd24d19'),\n",
       " 572: ('ecoinvent 3.9.1 cutoff', '1a3d7b9381157cdda1d1a1026dbbe83e'),\n",
       " 573: ('ecoinvent 3.9.1 cutoff', 'b517fcdbd866b9d6e0dea5201810cbca'),\n",
       " 574: ('ecoinvent 3.9.1 cutoff', 'ea03c88f279f972cf40f0783212534eb'),\n",
       " 575: ('ecoinvent 3.9.1 cutoff', '0515b27bc2b759a3a98bf3f1422725a8'),\n",
       " 576: ('ecoinvent 3.9.1 cutoff', '7d4d5d299ec3c7d5c0153c0f25a4e399'),\n",
       " 577: ('ecoinvent 3.9.1 cutoff', 'dd6864cb8b450c5d4c743c91b760a8e1'),\n",
       " 578: ('ecoinvent 3.9.1 cutoff', '28a8b2ae814e8706d99ead9ba8f1b12f'),\n",
       " 579: ('ecoinvent 3.9.1 cutoff', '4e80275f003a47f2a6ed5799f5bf0ba2'),\n",
       " 580: ('ecoinvent 3.9.1 cutoff', 'fe3ce61b18cbf79a501cc4c80a9e3bc5'),\n",
       " 581: ('ecoinvent 3.9.1 cutoff', 'ce35451dc8dbb1c8b072260a111bdaa7'),\n",
       " 582: ('ecoinvent 3.9.1 cutoff', '0128f1307254111f13c164789b5d8a8f'),\n",
       " 583: ('ecoinvent 3.9.1 cutoff', '5263f69b7939ac473e695ab9e5c61c8f'),\n",
       " 584: ('ecoinvent 3.9.1 cutoff', '958b97179ce5f619cb2227a2cb4db020'),\n",
       " 585: ('ecoinvent 3.9.1 cutoff', 'ce4fd53de338d437079a03f92b6486ec'),\n",
       " 586: ('ecoinvent 3.9.1 cutoff', 'f3ea83eb92a29982043f5092c3896233'),\n",
       " 587: ('ecoinvent 3.9.1 cutoff', 'a0dfb4fe5e906bf383a08f2efc667b51'),\n",
       " 588: ('ecoinvent 3.9.1 cutoff', '633715e7d3eae06361eef95af8fa9445'),\n",
       " 589: ('ecoinvent 3.9.1 cutoff', '4698fc41f0c66e84fd453a7206568bd0'),\n",
       " 590: ('ecoinvent 3.9.1 cutoff', 'e5a36c4fa92df93d0a0864042de4ba89'),\n",
       " 591: ('ecoinvent 3.9.1 cutoff', '11214fd665f836f1cc9a57f282ba7df4'),\n",
       " 592: ('ecoinvent 3.9.1 cutoff', 'eebd3fad4b5782760466a510d2e654b5'),\n",
       " 593: ('ecoinvent 3.9.1 cutoff', 'cd22160e4adfaed7dc359b6268210311'),\n",
       " 594: ('ecoinvent 3.9.1 cutoff', 'f4f9607a95e7a6168cd1f0544b156d91'),\n",
       " 595: ('ecoinvent 3.9.1 cutoff', '9684a0a2fd1209422ff4c917633eacba'),\n",
       " 596: ('ecoinvent 3.9.1 cutoff', 'fbab3177434d78b701a6182d3407868a'),\n",
       " 597: ('ecoinvent 3.9.1 cutoff', 'bf16f06c1340c2ffc65b4f99b7210f85'),\n",
       " 598: ('ecoinvent 3.9.1 cutoff', '31e581ff13eac8f9e6c2c206eace810b'),\n",
       " 599: ('ecoinvent 3.9.1 cutoff', '67447ddfb9076a17cb2c5845fcabb9fd'),\n",
       " 600: ('ecoinvent 3.9.1 cutoff', '1a5654b42884d8d190670e5b6d6a2b74'),\n",
       " 601: ('ecoinvent 3.9.1 cutoff', 'a8c8faaf1b2f17ee9777f6ad0caa60cb'),\n",
       " 602: ('ecoinvent 3.9.1 cutoff', 'adc6bbccf3d5b2955b050510e647852a'),\n",
       " 603: ('ecoinvent 3.9.1 cutoff', '8b123363da970e3d854cdc986a83c75a'),\n",
       " 604: ('ecoinvent 3.9.1 cutoff', '90669c776b1818c3f113f0f1464390ed'),\n",
       " 605: ('ecoinvent 3.9.1 cutoff', '14cef19bdae1d765494c60b83267703e'),\n",
       " 606: ('ecoinvent 3.9.1 cutoff', '479b10df06e621a85d96fc67aca4e161'),\n",
       " 607: ('ecoinvent 3.9.1 cutoff', 'cfe458937a2d61f41220ba3fd59e8f7a'),\n",
       " 608: ('ecoinvent 3.9.1 cutoff', 'cc4351bd84820a90ea1da2509bb40d8a'),\n",
       " 609: ('ecoinvent 3.9.1 cutoff', '0bd3b02787dd4dae7081387aaade8222'),\n",
       " 610: ('ecoinvent 3.9.1 cutoff', 'be3fcedb3af7dccd6321a0a9825f05fd'),\n",
       " 611: ('ecoinvent 3.9.1 cutoff', 'db85f784a886f8048dbd27ae7ae1d076'),\n",
       " 612: ('ecoinvent 3.9.1 cutoff', '71e371ed63c6010084214ff385aa84bb'),\n",
       " 613: ('ecoinvent 3.9.1 cutoff', '878d9c2141693adcb5340045b77d3e05'),\n",
       " 614: ('ecoinvent 3.9.1 cutoff', '6c4ed20b68db442724ab40ac031e48cb'),\n",
       " 615: ('ecoinvent 3.9.1 cutoff', '06020ac5974bd7a09ea0b4ecdd667179'),\n",
       " 616: ('ecoinvent 3.9.1 cutoff', '952c17489a705401d756376719d6b8ed'),\n",
       " 617: ('ecoinvent 3.9.1 cutoff', 'efd4c0ffb98fbe1b6b8f48ae48197727'),\n",
       " 618: ('ecoinvent 3.9.1 cutoff', '74f2cacce53f906d8b8e18498ec408e6'),\n",
       " 619: ('ecoinvent 3.9.1 cutoff', 'cb1df0a8ab0977367fea18d4ad1b8ea9'),\n",
       " 620: ('ecoinvent 3.9.1 cutoff', '0224df1ef0381d72d37029497b2e1ca7'),\n",
       " 621: ('ecoinvent 3.9.1 cutoff', '051cf998e54d2bb976c547b7cd8e8604'),\n",
       " 622: ('ecoinvent 3.9.1 cutoff', '9740ae0d393463221360bee2975eef2c'),\n",
       " 623: ('ecoinvent 3.9.1 cutoff', '1bc863a377c63072694d33d69f9fd94f'),\n",
       " 624: ('ecoinvent 3.9.1 cutoff', '95cd863061414d4fdbf55c2811d45e17'),\n",
       " 625: ('ecoinvent 3.9.1 cutoff', '44a81751c3fe47ab996227401eabd040'),\n",
       " 626: ('ecoinvent 3.9.1 cutoff', '56d1e925b1744ccb1c801047f2728b6d'),\n",
       " 627: ('ecoinvent 3.9.1 cutoff', 'ac3ad0ae0cea00a36e5eb22070163ce1'),\n",
       " 628: ('ecoinvent 3.9.1 cutoff', '77a4e7769692eab7d0d0e55f1c425034'),\n",
       " 629: ('ecoinvent 3.9.1 cutoff', '34dd0410ae388e0643d20c97045e63d6'),\n",
       " 630: ('ecoinvent 3.9.1 cutoff', 'a3e904506ae579dd6e186eb7294dd2c4'),\n",
       " 631: ('ecoinvent 3.9.1 cutoff', 'cbd789f0b6d687a49b3a86a4c2954c83'),\n",
       " 632: ('ecoinvent 3.9.1 cutoff', 'abab94332c86322e9a9aee5a5f946057'),\n",
       " 633: ('ecoinvent 3.9.1 cutoff', 'ede0ad49c4b28a0998e58a8db4f62a66'),\n",
       " 634: ('ecoinvent 3.9.1 cutoff', 'ca911493e543cafee939a65118dafc4c'),\n",
       " 635: ('ecoinvent 3.9.1 cutoff', '0df5349be94959344c9c3b8262036b17'),\n",
       " 636: ('ecoinvent 3.9.1 cutoff', '0cfadf0ecdbae67e7f4a0f1a5b1d173e'),\n",
       " 637: ('ecoinvent 3.9.1 cutoff', '55e8298fad7e612acfb4bc99478d95c2'),\n",
       " 638: ('ecoinvent 3.9.1 cutoff', '5eaaa29a44cabd875e848b24e7f0cc40'),\n",
       " 639: ('ecoinvent 3.9.1 cutoff', 'ffe6a2e9373cea9aa682ac6ef56ee3c0'),\n",
       " 640: ('ecoinvent 3.9.1 cutoff', '77c2e8abdd3a011be36f474a205129e1'),\n",
       " 641: ('ecoinvent 3.9.1 cutoff', 'eaa04a47f3430fe07d301f6cd0b3128d'),\n",
       " 642: ('ecoinvent 3.9.1 cutoff', '8fbd7c9e0ceda7f69cb2dbaffca87175'),\n",
       " 643: ('ecoinvent 3.9.1 cutoff', 'a92a31d4d055865e1b3049e926effb9c'),\n",
       " 644: ('ecoinvent 3.9.1 cutoff', '42dd4659d51b658c85a628b12e1efbe3'),\n",
       " 645: ('ecoinvent 3.9.1 cutoff', 'a8d353a6d0138951953406cdd1c62469'),\n",
       " 646: ('ecoinvent 3.9.1 cutoff', '15b8ecb1ac0eb0984d6ee5781811c0b0'),\n",
       " 647: ('ecoinvent 3.9.1 cutoff', 'f70b7f71d607f8186f9e8e3833fc2a95'),\n",
       " 648: ('ecoinvent 3.9.1 cutoff', '126650b1365bf02b3a1081d958ef9733'),\n",
       " 649: ('ecoinvent 3.9.1 cutoff', '935f63eb0945e49cd3e50d69497447ab'),\n",
       " 650: ('ecoinvent 3.9.1 cutoff', '79e5fdfb7d39ce052524203a4a513cce'),\n",
       " 651: ('ecoinvent 3.9.1 cutoff', '23234034409f549ce64cab10e015c3bf'),\n",
       " 652: ('ecoinvent 3.9.1 cutoff', 'dc91d3ec6e7e22b7bc81a5b3a94db6ec'),\n",
       " 653: ('ecoinvent 3.9.1 cutoff', '401e178fb277d985eac1be6d0eb7b81a'),\n",
       " 654: ('ecoinvent 3.9.1 cutoff', 'b8d1b7c749539212d21d200503642de8'),\n",
       " 655: ('ecoinvent 3.9.1 cutoff', '6334589ce00d44d325a82e4a9a0ec8aa'),\n",
       " 656: ('ecoinvent 3.9.1 cutoff', '96d78033cfbf4f9302725904b0878198'),\n",
       " 657: ('ecoinvent 3.9.1 cutoff', 'd3664899c24ea7d80235f62afc3a91d6'),\n",
       " 658: ('ecoinvent 3.9.1 cutoff', '2ccf582fae11f961a8fed21d6d4a6ff2'),\n",
       " 659: ('ecoinvent 3.9.1 cutoff', 'b64aac4bf4e1e5f744f404facb1d0763'),\n",
       " 660: ('ecoinvent 3.9.1 cutoff', '492bc562567c44952ccfd3f031c1e433'),\n",
       " 661: ('ecoinvent 3.9.1 cutoff', '97a551a848949d12e1cb06a953d66025'),\n",
       " 662: ('ecoinvent 3.9.1 cutoff', 'dfc74b8073499cd3435aeb6d5cc60801'),\n",
       " 663: ('ecoinvent 3.9.1 cutoff', 'df5f90d8cfc3a6589f89f0c806ac3af6'),\n",
       " 664: ('ecoinvent 3.9.1 cutoff', 'bb921a940bb03a00081a51043579b7de'),\n",
       " 665: ('ecoinvent 3.9.1 cutoff', '4e0a12c2d96c333c5f4e8094db3f8c17'),\n",
       " 666: ('ecoinvent 3.9.1 cutoff', '18277df8a10170108ac21b60acb13c16'),\n",
       " 667: ('ecoinvent 3.9.1 cutoff', '81a9ffea9d65721b7e60c2edf98dc6db'),\n",
       " 668: ('ecoinvent 3.9.1 cutoff', '4b5c91c6fff2bd2072e6a29f84085e4b'),\n",
       " 669: ('ecoinvent 3.9.1 cutoff', 'cf2080991aa160259cd24bc8bd819f50'),\n",
       " 670: ('ecoinvent 3.9.1 cutoff', 'c3b054c970a5c96d14da244a200829ee'),\n",
       " 671: ('ecoinvent 3.9.1 cutoff', 'c5119ecef56bd19a9e9c4d6121659cc9'),\n",
       " 672: ('ecoinvent 3.9.1 cutoff', 'ff7400512ba12f010951c9d33ec1d34f'),\n",
       " 673: ('ecoinvent 3.9.1 cutoff', '4eb19b85e98c980588e40d31347f512e'),\n",
       " 674: ('ecoinvent 3.9.1 cutoff', '3a5b4a948eea974a6a18b1e615ca4002'),\n",
       " 675: ('ecoinvent 3.9.1 cutoff', '586aec0414247e42cfffff8f48e04ab9'),\n",
       " 676: ('ecoinvent 3.9.1 cutoff', '89690ad03452b115d95aee8657246880'),\n",
       " 677: ('ecoinvent 3.9.1 cutoff', 'b7e80540edceeec98aa24816d696e2b5'),\n",
       " 678: ('ecoinvent 3.9.1 cutoff', 'b2e4547eee413d90ff335015f047cc48'),\n",
       " 679: ('ecoinvent 3.9.1 cutoff', '1373b63314d03c42313a372bca1bd648'),\n",
       " 680: ('ecoinvent 3.9.1 cutoff', 'a073f3ac8414e343af72dc562401ed98'),\n",
       " 681: ('ecoinvent 3.9.1 cutoff', '1bb0afe88c73e144ef02fa79095a7761'),\n",
       " 682: ('ecoinvent 3.9.1 cutoff', '774a8b458a0b5fb8ea869f5a2c9d8e58'),\n",
       " 683: ('ecoinvent 3.9.1 cutoff', 'b1a2f6c1a4c751547a11f65165071c62'),\n",
       " 684: ('ecoinvent 3.9.1 cutoff', '942cfb405cfda264f6423fcbe5b26b77'),\n",
       " 685: ('ecoinvent 3.9.1 cutoff', '02c274ac6f63462abbadba8f93015e9b'),\n",
       " 686: ('ecoinvent 3.9.1 cutoff', 'dcd443b459a65526855154b643f43e8f'),\n",
       " 687: ('ecoinvent 3.9.1 cutoff', 'c0e3be70441752c40bdb0df64230799f'),\n",
       " 688: ('ecoinvent 3.9.1 cutoff', '990caa66e882f6711c2aaf87767faf01'),\n",
       " 689: ('ecoinvent 3.9.1 cutoff', '0156f7d1461f0ec68418c1e70ac6c939'),\n",
       " 690: ('ecoinvent 3.9.1 cutoff', '9a3de29f96f5264324a1465341dea871'),\n",
       " 691: ('ecoinvent 3.9.1 cutoff', '2d2e112af7cae93d8132567691cac7a9'),\n",
       " 692: ('ecoinvent 3.9.1 cutoff', '531d8f5d1699a659b0a4a48f1f62ee6c'),\n",
       " 693: ('ecoinvent 3.9.1 cutoff', '7571f3d8a9cf588b65c1c6ef7698667e'),\n",
       " 694: ('ecoinvent 3.9.1 cutoff', '74a217cef50c461062c4e07de29e09ce'),\n",
       " 695: ('ecoinvent 3.9.1 cutoff', '99bbaae65fbc38f6513fcbf8801939ac'),\n",
       " 696: ('ecoinvent 3.9.1 cutoff', 'dcbd6b0bb9ff87d7d39d218c0f8b6acb'),\n",
       " 697: ('ecoinvent 3.9.1 cutoff', '89e76b6544d8a3380e1e7f18c05bc658'),\n",
       " 698: ('ecoinvent 3.9.1 cutoff', '6d321308dad4c3fd6e90496afab08ecb'),\n",
       " 699: ('ecoinvent 3.9.1 cutoff', 'b8766e5e846a46b01f06a7fc6a458d31'),\n",
       " 700: ('ecoinvent 3.9.1 cutoff', 'b02908001808b85e4656c501f47a45f7'),\n",
       " 701: ('ecoinvent 3.9.1 cutoff', '10e21d33c3cffcabb5a566c1a47aa060'),\n",
       " 702: ('ecoinvent 3.9.1 cutoff', 'a0dfb05169605836ca1b35d087dda3d1'),\n",
       " 703: ('ecoinvent 3.9.1 cutoff', '5de0809a8f951f12d45f18274757501e'),\n",
       " 704: ('ecoinvent 3.9.1 cutoff', 'ef4800c41e40136d2adabcf3d16b7381'),\n",
       " 705: ('ecoinvent 3.9.1 cutoff', '0ccfca9a1ac35cbbe0ae5890899fab14'),\n",
       " 706: ('ecoinvent 3.9.1 cutoff', 'bc62c5330286e6df8bfbcf7d03502b2c'),\n",
       " 707: ('ecoinvent 3.9.1 cutoff', 'dafeafb0964c79bc42f2baabc373d47b'),\n",
       " 708: ('ecoinvent 3.9.1 cutoff', 'db462db0dbbe812ef8d5f2187c03c8f4'),\n",
       " 709: ('ecoinvent 3.9.1 cutoff', '2264dc4ddd33db429504beb79c50e5e8'),\n",
       " 710: ('ecoinvent 3.9.1 cutoff', '579dd62ddaceb170f34e10c202564dcd'),\n",
       " 711: ('ecoinvent 3.9.1 cutoff', '75279bdcbe14df7b43830507a78be951'),\n",
       " 712: ('ecoinvent 3.9.1 cutoff', '112c2938583912338e11c76f30cd36d5'),\n",
       " 713: ('ecoinvent 3.9.1 cutoff', 'ef8c54ba812529b6146d430c2b937106'),\n",
       " 714: ('ecoinvent 3.9.1 cutoff', '567a00a027bf9244856e2215074eb81d'),\n",
       " 715: ('ecoinvent 3.9.1 cutoff', 'cce547532214ca4b739d2b68314cc0df'),\n",
       " 716: ('ecoinvent 3.9.1 cutoff', '2b619c65c9f829867ef6690cdae73f1d'),\n",
       " 717: ('ecoinvent 3.9.1 cutoff', '1e0c92ec6f6b2ce9c2e18d118fd8e3c6'),\n",
       " 718: ('ecoinvent 3.9.1 cutoff', '7146533f7ff2ced95668d4fd752ac16a'),\n",
       " 719: ('ecoinvent 3.9.1 cutoff', '6013714f70d857232b898a6c71899f9d'),\n",
       " 720: ('ecoinvent 3.9.1 cutoff', 'd244e35917fb98da1a214ab31d27feda'),\n",
       " 721: ('ecoinvent 3.9.1 cutoff', '72c7f6ff5e4d1782f964339f4d5b7a99'),\n",
       " 722: ('ecoinvent 3.9.1 cutoff', 'ee9a445b4922bb9deb3c92a0a2b83f64'),\n",
       " 723: ('ecoinvent 3.9.1 cutoff', 'aca9a38892ec9c7d0c08c432526d0c9e'),\n",
       " 724: ('ecoinvent 3.9.1 cutoff', '9930502dddd65b2404d1f829c2a822da'),\n",
       " 725: ('ecoinvent 3.9.1 cutoff', '068918a70439bbc5d325e8236c6a01e4'),\n",
       " 726: ('ecoinvent 3.9.1 cutoff', 'cafed62c70672ba98c5e3406592d6e8a'),\n",
       " 727: ('ecoinvent 3.9.1 cutoff', '6a3ac3f937c4de4bcddbd02aaa4c0da7'),\n",
       " 728: ('ecoinvent 3.9.1 cutoff', '5cb69853f15e2cf372fcf87080a69dac'),\n",
       " 729: ('ecoinvent 3.9.1 cutoff', '41f92e15414058855ce5c891de7fc67d'),\n",
       " 730: ('ecoinvent 3.9.1 cutoff', '26d9e0a9dde7a27e29b223bf30f5f2d5'),\n",
       " 731: ('ecoinvent 3.9.1 cutoff', 'e881f5a6cf100d3b0f0fa3f2d2b1dc26'),\n",
       " 732: ('ecoinvent 3.9.1 cutoff', 'c63d08965ae737b6550b0334fbb2a4c2'),\n",
       " 733: ('ecoinvent 3.9.1 cutoff', '3495de6771bc55f51d66d91040b361c1'),\n",
       " 734: ('ecoinvent 3.9.1 cutoff', '6c7a1ad5a251110343c228cd279ff256'),\n",
       " 735: ('ecoinvent 3.9.1 cutoff', 'fdc046cf75593ebe477e2d07e8285cb9'),\n",
       " 736: ('ecoinvent 3.9.1 cutoff', 'e599811f37c4be113d0c82026ec22419'),\n",
       " 737: ('ecoinvent 3.9.1 cutoff', '30c67740e5eda984c21e794ae26b750f'),\n",
       " 738: ('ecoinvent 3.9.1 cutoff', '68f6541e16bca67099a598ec7efa6345'),\n",
       " 739: ('ecoinvent 3.9.1 cutoff', 'c3d1157c5530274fa1d58740741ea522'),\n",
       " 740: ('ecoinvent 3.9.1 cutoff', '4b1f6f4f067df53df00d7aa3c3dbcfc3'),\n",
       " 741: ('ecoinvent 3.9.1 cutoff', 'd8ba411ea8ac325a4c0b63e1db9b2fed'),\n",
       " 742: ('ecoinvent 3.9.1 cutoff', '917c3c115300de88dbda97715bab7599'),\n",
       " 743: ('ecoinvent 3.9.1 cutoff', 'ec3f6ede9f1bd6df6073e11cda7fec09'),\n",
       " 744: ('ecoinvent 3.9.1 cutoff', '2ef550fab6f8f901fbcefc15c2cb314b'),\n",
       " 745: ('ecoinvent 3.9.1 cutoff', '928db432f56cf416c4686c875382836d'),\n",
       " 746: ('ecoinvent 3.9.1 cutoff', 'c13ea3421990ede6b1ac4c1c52cd3256'),\n",
       " 747: ('ecoinvent 3.9.1 cutoff', 'd43a3ff000a0b0134791f5339169a517'),\n",
       " 748: ('ecoinvent 3.9.1 cutoff', '8ebce14c4dbd6e60d295df64d7d85f2d'),\n",
       " 749: ('ecoinvent 3.9.1 cutoff', '2a0e988c94b1cac94ce28db3e4a632bf'),\n",
       " 750: ('ecoinvent 3.9.1 cutoff', '851580e60e52074ecd7f641b0bd0b133'),\n",
       " 751: ('ecoinvent 3.9.1 cutoff', 'e68ee64e829b01b6d094c31cd8c2a9d7'),\n",
       " 752: ('ecoinvent 3.9.1 cutoff', 'cc6567f41e64c826f0eea8d0e9586cf2'),\n",
       " 753: ('ecoinvent 3.9.1 cutoff', '9f2d632a2633a6bd5b003a8311517d24'),\n",
       " 754: ('ecoinvent 3.9.1 cutoff', '55af041a2020418b4455bbb6b64dfec7'),\n",
       " 755: ('ecoinvent 3.9.1 cutoff', 'd82fe552188c4371a30ae09587c9afd8'),\n",
       " 756: ('ecoinvent 3.9.1 cutoff', 'a333cefd9c210ca6b5273314e213b13c'),\n",
       " 757: ('ecoinvent 3.9.1 cutoff', 'fce6b506c33344d186b61b83a4afe686'),\n",
       " 758: ('ecoinvent 3.9.1 cutoff', 'b475cd6c509c25cefc643f244d669e9b'),\n",
       " 759: ('ecoinvent 3.9.1 cutoff', '2aeaa58cbe37fd3742b2d9297027ead9'),\n",
       " 760: ('ecoinvent 3.9.1 cutoff', 'ac352b3c00703e0be458be923fe1b5a2'),\n",
       " 761: ('ecoinvent 3.9.1 cutoff', '1dac125c5ebfb62c4fe2fb7413723eb3'),\n",
       " 762: ('ecoinvent 3.9.1 cutoff', '3e27a4b34a93f9fd4c0703a34dd2839e'),\n",
       " 763: ('ecoinvent 3.9.1 cutoff', '1d390ee8dd4d2391e93388692bbcb319'),\n",
       " 764: ('ecoinvent 3.9.1 cutoff', '7f5d199b830d9424f8147219159eeb7b'),\n",
       " 765: ('ecoinvent 3.9.1 cutoff', '7d0678a88bdacf95ee2b528fe4b2e646'),\n",
       " 766: ('ecoinvent 3.9.1 cutoff', 'a5f2280b72eab45fac5be638870c61ae'),\n",
       " 767: ('ecoinvent 3.9.1 cutoff', '08767be863cdd8c43a95a0b3924ca35c'),\n",
       " 768: ('ecoinvent 3.9.1 cutoff', '0682bbc66a6d36621c1c83df2eb5473a'),\n",
       " 769: ('ecoinvent 3.9.1 cutoff', '174bee304a3e56da2b2b198d2f8f5fac'),\n",
       " 770: ('ecoinvent 3.9.1 cutoff', '2b711d306d4ddcf4098fbe87b753be26'),\n",
       " 771: ('ecoinvent 3.9.1 cutoff', 'e216ef558c2bdeaa49c38495bccc363d'),\n",
       " 772: ('ecoinvent 3.9.1 cutoff', '4240acf9b1ac3b50a94a141fb9e1ec1b'),\n",
       " 773: ('ecoinvent 3.9.1 cutoff', '022970e79aa7a703fcc12ab084e7ca00'),\n",
       " 774: ('ecoinvent 3.9.1 cutoff', '3fc90040083e0b3e89272c523511d17a'),\n",
       " 775: ('ecoinvent 3.9.1 cutoff', '970d8f8909acf2ac8b4923d8c9112949'),\n",
       " 776: ('ecoinvent 3.9.1 cutoff', 'e9204e86216df579a37963cd6183422a'),\n",
       " 777: ('ecoinvent 3.9.1 cutoff', 'a7415d01dd3906477e8b987c47c71e2c'),\n",
       " 778: ('ecoinvent 3.9.1 cutoff', 'a25c7c13721c4efdcf8712c1ebaba0ab'),\n",
       " 779: ('ecoinvent 3.9.1 cutoff', 'a9506bf8dc77d95ff2a0b35bbfdd144e'),\n",
       " 780: ('ecoinvent 3.9.1 cutoff', 'a71311350cde020b1cdbeeaf46189bb5'),\n",
       " 781: ('ecoinvent 3.9.1 cutoff', '52cb90121d0057b995246adf8e65af85'),\n",
       " 782: ('ecoinvent 3.9.1 cutoff', '19c0f0a59f270b946f8c74353b4915c7'),\n",
       " 783: ('ecoinvent 3.9.1 cutoff', '6930ede21609d7bab82fa1a9ce18fee7'),\n",
       " 784: ('ecoinvent 3.9.1 cutoff', 'a9423ef7ef538f3d58f9f93b5e1c46ae'),\n",
       " 785: ('ecoinvent 3.9.1 cutoff', 'aade32fb136966b2cb8344637d6f8b91'),\n",
       " 786: ('ecoinvent 3.9.1 cutoff', '70092ed4981c01849e5f88535a2ce228'),\n",
       " 787: ('ecoinvent 3.9.1 cutoff', '8746aba9854bfb5d12c1b55af893f744'),\n",
       " 788: ('ecoinvent 3.9.1 cutoff', '3c9fd326e30ac411e8300432e7812839'),\n",
       " 789: ('ecoinvent 3.9.1 cutoff', 'd855ee92bbf715d2d497c475469e2b95'),\n",
       " 790: ('ecoinvent 3.9.1 cutoff', '0b23bf5c153f34c00f631604d135eea9'),\n",
       " 791: ('ecoinvent 3.9.1 cutoff', '0453e7806400149ec8fe799ca7c95059'),\n",
       " 792: ('ecoinvent 3.9.1 cutoff', 'fd547c07109e2993b15e651895c011c6'),\n",
       " 793: ('ecoinvent 3.9.1 cutoff', '72087fa796618602cdf57fb15281b7cc'),\n",
       " 794: ('ecoinvent 3.9.1 cutoff', '2b0ebf51700ba8f7806d954dfe9c6e88'),\n",
       " 795: ('ecoinvent 3.9.1 cutoff', 'e81689e3157e165b5d5c9e0d31d72712'),\n",
       " 796: ('ecoinvent 3.9.1 cutoff', '21cd1306ec308a156bfb7aae2e7e0fff'),\n",
       " 797: ('ecoinvent 3.9.1 cutoff', 'c771a791c451bdd925a79a7e53049044'),\n",
       " 798: ('ecoinvent 3.9.1 cutoff', '770e335015df7c3bb7c2327d9e78bf21'),\n",
       " 799: ('ecoinvent 3.9.1 cutoff', 'df0fb123969159779ed72520d59a746e'),\n",
       " 800: ('ecoinvent 3.9.1 cutoff', 'e9e86902994b5231cea624ceec96b2d6'),\n",
       " 801: ('ecoinvent 3.9.1 cutoff', 'b4e86a1a12374dc15d5dc3c5da023a8e'),\n",
       " 802: ('ecoinvent 3.9.1 cutoff', '725e88d72f7afd5777fa4f94ca0d71cb'),\n",
       " 803: ('ecoinvent 3.9.1 cutoff', '06472e4df0613445bb026542ae6e334f'),\n",
       " 804: ('ecoinvent 3.9.1 cutoff', '6482d208f1bc601f8f94a4da2df7aef1'),\n",
       " 805: ('ecoinvent 3.9.1 cutoff', 'dba289213c21c57f69545fb7d53ae62b'),\n",
       " 806: ('ecoinvent 3.9.1 cutoff', '55ad07f8f06a331d8a234a2e564f43be'),\n",
       " 807: ('ecoinvent 3.9.1 cutoff', 'c2da04479af6f089181a94c6e4cda05d'),\n",
       " 808: ('ecoinvent 3.9.1 cutoff', '74ef75bcb4332e7da92b0c1f1d6f8a2e'),\n",
       " 809: ('ecoinvent 3.9.1 cutoff', '286880eb46e21377c7a0a4ea11b60590'),\n",
       " 810: ('ecoinvent 3.9.1 cutoff', '30c9df47b304646e9fb9770f96f058c4'),\n",
       " 811: ('ecoinvent 3.9.1 cutoff', '73e1b4ce1572de4b35551919d32f86b1'),\n",
       " 812: ('ecoinvent 3.9.1 cutoff', '1cdf1035076bd0f8da77cd69ba2ff602'),\n",
       " 813: ('ecoinvent 3.9.1 cutoff', '2cd4563848298f6b484f98073b8cd277'),\n",
       " 814: ('ecoinvent 3.9.1 cutoff', '95be048ea36fd3152fe1038de19e3dfc'),\n",
       " 815: ('ecoinvent 3.9.1 cutoff', 'ed610c7ba52c5540af304514004789f0'),\n",
       " 816: ('ecoinvent 3.9.1 cutoff', 'e178b3944435bcabc0a57867078e5285'),\n",
       " 817: ('ecoinvent 3.9.1 cutoff', 'c9f5e18f5dc885c8a6af95207ab86b09'),\n",
       " 818: ('ecoinvent 3.9.1 cutoff', 'fcfbc7a1053e57faab0e6515c9b9740d'),\n",
       " 819: ('ecoinvent 3.9.1 cutoff', 'a083b1377b2de0fc2834f8c0003f043f'),\n",
       " 820: ('ecoinvent 3.9.1 cutoff', '640d6867119f23ac15a8977d7dc2aa31'),\n",
       " 821: ('ecoinvent 3.9.1 cutoff', '8aeef01cbd7b431a112c1dcac104facd'),\n",
       " 822: ('ecoinvent 3.9.1 cutoff', '7f7abb966decf3487a6da1a91d11c55c'),\n",
       " 823: ('ecoinvent 3.9.1 cutoff', 'ff135d17573f3907b7e227584b146cae'),\n",
       " 824: ('ecoinvent 3.9.1 cutoff', 'b0add456b086bb6572dc5ab6b09e90bd'),\n",
       " 825: ('ecoinvent 3.9.1 cutoff', '31a0a5b3bc51146cd42843b098fa7efa'),\n",
       " 826: ('ecoinvent 3.9.1 cutoff', '32bafc46ffdbaa06f6ca84e815fdf1be'),\n",
       " 827: ('ecoinvent 3.9.1 cutoff', '1d22f6f161ae2bc91253e39ba705139c'),\n",
       " 828: ('ecoinvent 3.9.1 cutoff', 'ebfa07cc2809192c992a3ef10433bec4'),\n",
       " 829: ('ecoinvent 3.9.1 cutoff', 'ac52682bf304cb839c5c0cdcca0ec106'),\n",
       " 830: ('ecoinvent 3.9.1 cutoff', 'de57494a3a38210ddb843fb7a473d00f'),\n",
       " 831: ('ecoinvent 3.9.1 cutoff', 'eb33948c1111c74c8599b98f34c43ac6'),\n",
       " 832: ('ecoinvent 3.9.1 cutoff', '5969d12c72e038c0c6d7cba5687ab4ce'),\n",
       " 833: ('ecoinvent 3.9.1 cutoff', '7153aabc8f0b32675e49ebfac9305891'),\n",
       " 834: ('ecoinvent 3.9.1 cutoff', '0da27900c297a7047d58e1276f28e8c9'),\n",
       " 835: ('ecoinvent 3.9.1 cutoff', '9b1ed23d79cef9afabba07ec1dd4dbcb'),\n",
       " 836: ('ecoinvent 3.9.1 cutoff', '0889f5b4a45ed54c2a8f76eeab45a541'),\n",
       " 837: ('ecoinvent 3.9.1 cutoff', '332b08ae55f82bc8af3367ada48e4b8d'),\n",
       " 838: ('ecoinvent 3.9.1 cutoff', 'cc0027eb9554116012ed741c77693b95'),\n",
       " 839: ('ecoinvent 3.9.1 cutoff', '3a4bb4b0b56fa5cc9d1b6cd6cc0791f8'),\n",
       " 840: ('ecoinvent 3.9.1 cutoff', 'b89ca68cfb31e46fe7335666ebe6568a'),\n",
       " 841: ('ecoinvent 3.9.1 cutoff', '0c98592089f562e632c1d782a26a3d33'),\n",
       " 842: ('ecoinvent 3.9.1 cutoff', 'df3b7846473e9ff389b966887b405960'),\n",
       " 843: ('ecoinvent 3.9.1 cutoff', '22d9da9ebb6b31522f5a10bee1000555'),\n",
       " 844: ('ecoinvent 3.9.1 cutoff', 'dbc2dae24e9d2ed3809c00af4c26c93f'),\n",
       " 845: ('ecoinvent 3.9.1 cutoff', '00f412d1aedba7bf45ac8e166f38c6f5'),\n",
       " 846: ('ecoinvent 3.9.1 cutoff', 'c16dcffc37a27b5c02dee528e97c03e8'),\n",
       " 847: ('ecoinvent 3.9.1 cutoff', '1a12f919afd6d3e3d662ea7481cbe47e'),\n",
       " 848: ('ecoinvent 3.9.1 cutoff', '34be8d3f3678f372f7e97fa3b2254aa0'),\n",
       " 849: ('ecoinvent 3.9.1 cutoff', '4415d92b393bcf09bb357c3d9919b594'),\n",
       " 850: ('ecoinvent 3.9.1 cutoff', 'f6a649b400b6c49bdf9e465997262e4e'),\n",
       " 851: ('ecoinvent 3.9.1 cutoff', 'badd44eeee579c96eafa116bcc3d442d'),\n",
       " 852: ('ecoinvent 3.9.1 cutoff', '2e4be222f87f3bc10a72adfde5dadf12'),\n",
       " 853: ('ecoinvent 3.9.1 cutoff', 'fdfe684de3b8f5990a710aa0dc503daf'),\n",
       " 854: ('ecoinvent 3.9.1 cutoff', 'e01f270d8d7c3b9db3939fc0cc27b05b'),\n",
       " 855: ('ecoinvent 3.9.1 cutoff', '156bb62d6d54f22dbdcb7135d6d98d9c'),\n",
       " 856: ('ecoinvent 3.9.1 cutoff', '0c11de06c0bb75c5e3b0d96f0982e5cf'),\n",
       " 857: ('ecoinvent 3.9.1 cutoff', 'e465b77983c7d363283812adaa7bb249'),\n",
       " 858: ('ecoinvent 3.9.1 cutoff', '9dce5800695416824e4c653ca72bf3bf'),\n",
       " 859: ('ecoinvent 3.9.1 cutoff', '04adfb2f30539b8f7d0e4d0ad3f7d5b6'),\n",
       " 860: ('ecoinvent 3.9.1 cutoff', 'db75249799d25a057d5fd09899c9e722'),\n",
       " 861: ('ecoinvent 3.9.1 cutoff', 'f2d4d5a6e36a509956508d418c537945'),\n",
       " 862: ('ecoinvent 3.9.1 cutoff', '0d619914505277425fad74ef455684b2'),\n",
       " 863: ('ecoinvent 3.9.1 cutoff', 'a5d63f34b86d85d55a4af951a0010bde'),\n",
       " 864: ('ecoinvent 3.9.1 cutoff', '7a8d07103fc62e17254af4c6e49ca007'),\n",
       " 865: ('ecoinvent 3.9.1 cutoff', 'f79691893130beefe04d8f00482ff568'),\n",
       " 866: ('ecoinvent 3.9.1 cutoff', 'e5aaa18b109ac8a69a1ee2e33e630648'),\n",
       " 867: ('ecoinvent 3.9.1 cutoff', '3f797041a2b9e296322084b716dca9fa'),\n",
       " 868: ('ecoinvent 3.9.1 cutoff', '51a3e4e52cff1f98c1e9bb4195f029e2'),\n",
       " 869: ('ecoinvent 3.9.1 cutoff', '41f29a942fddb1dc75a05b2cdd03effe'),\n",
       " 870: ('ecoinvent 3.9.1 cutoff', 'b35f7214b7d746f7a0f3317b6775d0c0'),\n",
       " 871: ('ecoinvent 3.9.1 cutoff', '01db3171b28379d4168e3cb68de4b8e9'),\n",
       " 872: ('ecoinvent 3.9.1 cutoff', 'ae90714e13c711de2afb9f4e0ca815df'),\n",
       " 873: ('ecoinvent 3.9.1 cutoff', 'ac2f8e03003b0c2125bbe8296924190a'),\n",
       " 874: ('ecoinvent 3.9.1 cutoff', '02af7804c2ae6374a2cca968a3d09884'),\n",
       " 875: ('ecoinvent 3.9.1 cutoff', '98d38f6114359f968b2634e57c9f8a74'),\n",
       " 876: ('ecoinvent 3.9.1 cutoff', '4983da0d78421ab80dea56f92f999f13'),\n",
       " 877: ('ecoinvent 3.9.1 cutoff', 'ee3dd49679efb8d5af65b2ae13508d80'),\n",
       " 878: ('ecoinvent 3.9.1 cutoff', 'c0fd068c34f97a24ea4deb40632c616e'),\n",
       " 879: ('ecoinvent 3.9.1 cutoff', '5dc11bfa4bf1247f83847e5dae499c87'),\n",
       " 880: ('ecoinvent 3.9.1 cutoff', 'd4ebeee2483aead92b485bf333aaf1d9'),\n",
       " 881: ('ecoinvent 3.9.1 cutoff', '0e04995be1052c07824d26a52855138c'),\n",
       " 882: ('ecoinvent 3.9.1 cutoff', '9528b41a7d625f47d571bbff3be269e9'),\n",
       " 883: ('ecoinvent 3.9.1 cutoff', '9524c1c6403e6ba9c103062d3289c38a'),\n",
       " 884: ('ecoinvent 3.9.1 cutoff', 'dd199cee6575fc366c9ef7347c62657e'),\n",
       " 885: ('ecoinvent 3.9.1 cutoff', '71c6a54cc81bc9dedb1dc5db59321e3c'),\n",
       " 886: ('ecoinvent 3.9.1 cutoff', '6761db2e5f3efc9fbb8beb65323fe337'),\n",
       " 887: ('ecoinvent 3.9.1 cutoff', 'b8cd32578507b1695875d85cdcea5d3c'),\n",
       " 888: ('ecoinvent 3.9.1 cutoff', '9816838836977733d75f120de28f41e0'),\n",
       " 889: ('ecoinvent 3.9.1 cutoff', 'b589ab190e4b2020f28cb481116a9e9b'),\n",
       " 890: ('ecoinvent 3.9.1 cutoff', '2ff1ba5838e739018d0398b1f149c8a9'),\n",
       " 891: ('ecoinvent 3.9.1 cutoff', 'd0ebe4d3aec3eec7b8052b8cfc7ab083'),\n",
       " 892: ('ecoinvent 3.9.1 cutoff', 'adbc7d5cc2833d31ed0a221b4baca54c'),\n",
       " 893: ('ecoinvent 3.9.1 cutoff', '66b2b24dc19fcdb67d14b63891e3684e'),\n",
       " 894: ('ecoinvent 3.9.1 cutoff', '74731344fc6317e18d7083f1153c4d08'),\n",
       " 895: ('ecoinvent 3.9.1 cutoff', '4ba5853c8a7737d16a8401029a6486fb'),\n",
       " 896: ('ecoinvent 3.9.1 cutoff', '318e5792fc2c672c47a9d9391ab60d03'),\n",
       " 897: ('ecoinvent 3.9.1 cutoff', '1b8cbe73a21ba46c2e03297a996d2e7a'),\n",
       " 898: ('ecoinvent 3.9.1 cutoff', 'fd3ccc1990eb4e583a1785a2a8721ff4'),\n",
       " 899: ('ecoinvent 3.9.1 cutoff', '15075b46cb5ae4be19c483771187b44a'),\n",
       " 900: ('ecoinvent 3.9.1 cutoff', '076f157d3912ee401ae16c508fd857a7'),\n",
       " 901: ('ecoinvent 3.9.1 cutoff', 'e147db75c03f6efd791965ccb23d0b82'),\n",
       " 902: ('ecoinvent 3.9.1 cutoff', '15bba3a28d6de8850be98710b31273c0'),\n",
       " 903: ('ecoinvent 3.9.1 cutoff', 'b227b3f1c6bf37bf51e29654dd56ceee'),\n",
       " 904: ('ecoinvent 3.9.1 cutoff', '312ec3471055cdf44c829b272e834ac3'),\n",
       " 905: ('ecoinvent 3.9.1 cutoff', '80310b5021efcb8abcf6d15a9f5ce58e'),\n",
       " 906: ('ecoinvent 3.9.1 cutoff', 'eb0aca5052709420b75502b213aa0782'),\n",
       " 907: ('ecoinvent 3.9.1 cutoff', '732173184aebbc20eb17bc917db04080'),\n",
       " 908: ('ecoinvent 3.9.1 cutoff', '5f1acf3cc6ec24a42de3577404dcf039'),\n",
       " 909: ('ecoinvent 3.9.1 cutoff', 'ce3472b50ff7694ffd712f8757d1941d'),\n",
       " 910: ('ecoinvent 3.9.1 cutoff', 'c876d293cc1f5727cc0e2a700491dc57'),\n",
       " 911: ('ecoinvent 3.9.1 cutoff', '7fc11b59dcfdc4618763b6ccd71141ad'),\n",
       " 912: ('ecoinvent 3.9.1 cutoff', 'e1d69fa2818715197eab972c386850a5'),\n",
       " 913: ('ecoinvent 3.9.1 cutoff', 'd63010667a9f06c70b58375103d84097'),\n",
       " 914: ('ecoinvent 3.9.1 cutoff', '0499fa4e688990715acdaa77ef6fc3d4'),\n",
       " 915: ('ecoinvent 3.9.1 cutoff', '43299c17d7c0921388443e77525611ae'),\n",
       " 916: ('ecoinvent 3.9.1 cutoff', '236cf556395f97a454e9a4db9fb24957'),\n",
       " 917: ('ecoinvent 3.9.1 cutoff', '6aef5bff19eb1ed760fd60562aab8f29'),\n",
       " 918: ('ecoinvent 3.9.1 cutoff', 'cce4f7785bf55f7eb7ff7507e8d5c9d0'),\n",
       " 919: ('ecoinvent 3.9.1 cutoff', '12e6b948cc3e5703595d3c7e4caa0ec7'),\n",
       " 920: ('ecoinvent 3.9.1 cutoff', 'ebfa06d269890c1d1e9f2814b91ba146'),\n",
       " 921: ('ecoinvent 3.9.1 cutoff', '849a75a0ebb405870c063957ce212536'),\n",
       " 922: ('ecoinvent 3.9.1 cutoff', '2ae0c455043d5588b1b36c3ae5b056a0'),\n",
       " 923: ('ecoinvent 3.9.1 cutoff', 'd21fc29e41fd86b71567b7d93cdeff22'),\n",
       " 924: ('ecoinvent 3.9.1 cutoff', 'a065436368cfc96b077dc3da3f311f42'),\n",
       " 925: ('ecoinvent 3.9.1 cutoff', 'd50e1d8c625becd15d212f857b796828'),\n",
       " 926: ('ecoinvent 3.9.1 cutoff', '0f805466b2058f8bdafaee328b6984ce'),\n",
       " 927: ('ecoinvent 3.9.1 cutoff', '7f5d8f54b362eff0507a61f49e21eb65'),\n",
       " 928: ('ecoinvent 3.9.1 cutoff', '6cd89faa138a9fa1bd0b0f3e71fb602e'),\n",
       " 929: ('ecoinvent 3.9.1 cutoff', '3c32969b9b437e38177bc1d684384b7e'),\n",
       " 930: ('ecoinvent 3.9.1 cutoff', 'd7d8a3ba8c2f8e187909780f3a25517a'),\n",
       " 931: ('ecoinvent 3.9.1 cutoff', '3c5d95051f58f78cc140b11daeaabc59'),\n",
       " 932: ('ecoinvent 3.9.1 cutoff', 'c7bbbc05a6f6e9443d41734fa8787d27'),\n",
       " 933: ('ecoinvent 3.9.1 cutoff', '45c01ae50ef01486e3d972600700c885'),\n",
       " 934: ('ecoinvent 3.9.1 cutoff', 'd7e5c81108b7112febd148185e2490d0'),\n",
       " 935: ('ecoinvent 3.9.1 cutoff', '1ebc79deef136be992b37ded2b775399'),\n",
       " 936: ('ecoinvent 3.9.1 cutoff', 'bc93b0934f8cb69f077096d59db51511'),\n",
       " 937: ('ecoinvent 3.9.1 cutoff', '7fce902798cbbec1471cfe1b114fe906'),\n",
       " 938: ('ecoinvent 3.9.1 cutoff', '4c983749f7a504d6596167ffd2c35f75'),\n",
       " 939: ('ecoinvent 3.9.1 cutoff', '953165bb6a4c36e4e5bad6c59ad418b1'),\n",
       " 940: ('ecoinvent 3.9.1 cutoff', '0623a034627252756f6f223affe3f62b'),\n",
       " 941: ('ecoinvent 3.9.1 cutoff', '2feaec82aabebe06588d6d60959e5bb9'),\n",
       " 942: ('ecoinvent 3.9.1 cutoff', '4cf59d8f42046329f3c3db828e0393d2'),\n",
       " 943: ('ecoinvent 3.9.1 cutoff', 'bf9df4068344cdb51abb3e3154bda16c'),\n",
       " 944: ('ecoinvent 3.9.1 cutoff', '79f116aba4f57181cae6a4f97aa9e746'),\n",
       " 945: ('ecoinvent 3.9.1 cutoff', '3bf4ca48b84f3161c9aa29abb39d70cb'),\n",
       " 946: ('ecoinvent 3.9.1 cutoff', '165ac73fb2bdcd52aa2d2db3d2baaff7'),\n",
       " 947: ('ecoinvent 3.9.1 cutoff', 'ef52f7ff6322d7c110d2ebdd99eb7dd6'),\n",
       " 948: ('ecoinvent 3.9.1 cutoff', '63b3f3ed34463f671530dd0826b1bbb7'),\n",
       " 949: ('ecoinvent 3.9.1 cutoff', 'e92ea41a693c3a5284166f273b1d62f2'),\n",
       " 950: ('ecoinvent 3.9.1 cutoff', '642db87a420548a65505fab4e6c2ac12'),\n",
       " 951: ('ecoinvent 3.9.1 cutoff', '5c7213132a80b7fffd7727d6292fd2dd'),\n",
       " 952: ('ecoinvent 3.9.1 cutoff', '20ea43c84cebc2f7a31282c3dc0d2c9e'),\n",
       " 953: ('ecoinvent 3.9.1 cutoff', 'e73087e282f26de5d3a9fec2edc19e61'),\n",
       " 954: ('ecoinvent 3.9.1 cutoff', '5a235904c937a2195e1d6f93f35a4fba'),\n",
       " 955: ('ecoinvent 3.9.1 cutoff', 'e38e7a502235b0f56fc369746c816087'),\n",
       " 956: ('ecoinvent 3.9.1 cutoff', '944f4d6357140424a2ed2bc5b8a2c60f'),\n",
       " 957: ('ecoinvent 3.9.1 cutoff', '7c94299585fd4bd7fcb3671c36cd1618'),\n",
       " 958: ('ecoinvent 3.9.1 cutoff', '721ae79285226621f79832bab54b5aa3'),\n",
       " 959: ('ecoinvent 3.9.1 cutoff', '1f1f015f0eb5df5375839a532dfd2be2'),\n",
       " 960: ('ecoinvent 3.9.1 cutoff', '86f9b7a0b2e8b9958ce98da1bdb6534d'),\n",
       " 961: ('ecoinvent 3.9.1 cutoff', '9e30ea99559439a35ecddf5c5f2702b2'),\n",
       " 962: ('ecoinvent 3.9.1 cutoff', 'f16a8f1243e9009bf5da56630850a408'),\n",
       " 963: ('ecoinvent 3.9.1 cutoff', '8a8f5bc7c85fd4671ea527fab19621d8'),\n",
       " 964: ('ecoinvent 3.9.1 cutoff', 'feed384f74dd9c7bb7ec1bde7ee8ea17'),\n",
       " 965: ('ecoinvent 3.9.1 cutoff', '64a69b19fb8f9195a4ecb9a345bbe890'),\n",
       " 966: ('ecoinvent 3.9.1 cutoff', 'a8e38c246d88c9f2aff00eed34addb92'),\n",
       " 967: ('ecoinvent 3.9.1 cutoff', 'c02e8dd8466b0fa7d15e14a1eea8ca1b'),\n",
       " 968: ('ecoinvent 3.9.1 cutoff', '4b436201bb90eec23bd63002694988bf'),\n",
       " 969: ('ecoinvent 3.9.1 cutoff', 'e0ac4d31b158f812d8f730be432f7298'),\n",
       " 970: ('ecoinvent 3.9.1 cutoff', '7e997067d3ffeee07c338a11b8ca995b'),\n",
       " 971: ('ecoinvent 3.9.1 cutoff', '34b75ad92d172a88fd9efd7ed3c2ac6e'),\n",
       " 972: ('ecoinvent 3.9.1 cutoff', '09d373b36620a6c816284ade70acfa7d'),\n",
       " 973: ('ecoinvent 3.9.1 cutoff', 'a0e1f30f070427855f1242dd7197a11f'),\n",
       " 974: ('ecoinvent 3.9.1 cutoff', '5242fe46aff85436624348dde36999c7'),\n",
       " 975: ('ecoinvent 3.9.1 cutoff', '5d39ac23af7a21282fdf5bdac27480b2'),\n",
       " 976: ('ecoinvent 3.9.1 cutoff', '4e82a1f2c6e56513bb1bf2ae41d288ea'),\n",
       " 977: ('ecoinvent 3.9.1 cutoff', '689776646d7863d0932b2622bff8021f'),\n",
       " 978: ('ecoinvent 3.9.1 cutoff', '243d4a82943e188af9b29de344d83727'),\n",
       " 979: ('ecoinvent 3.9.1 cutoff', '3b3205f5785dd3887a8571a00c204ee0'),\n",
       " 980: ('ecoinvent 3.9.1 cutoff', 'cca2039abd7def9ed78fb33ce61c5d98'),\n",
       " 981: ('ecoinvent 3.9.1 cutoff', 'fd9419bc14e077ca33133be02728da0a'),\n",
       " 982: ('ecoinvent 3.9.1 cutoff', '5c48bd226e6ff64e3c147cff0d031b9a'),\n",
       " 983: ('ecoinvent 3.9.1 cutoff', 'cbd465406f945a34a876d6dd59a0feb1'),\n",
       " 984: ('ecoinvent 3.9.1 cutoff', '6223a7c6df557e70d51ba02015f12747'),\n",
       " 985: ('ecoinvent 3.9.1 cutoff', '2a3f6abf50827c5e5bbcfd239e2a7b64'),\n",
       " 986: ('ecoinvent 3.9.1 cutoff', '0d24f83959f5aaa0868fd6c2f7a81f16'),\n",
       " 987: ('ecoinvent 3.9.1 cutoff', '8bdcea421dbf8e54737ecff76e13e7fb'),\n",
       " 988: ('ecoinvent 3.9.1 cutoff', 'c193d0f882a1a5d38ed38dbad8484e37'),\n",
       " 989: ('ecoinvent 3.9.1 cutoff', '7911eadc945b3209644f7ddb2d80255f'),\n",
       " 990: ('ecoinvent 3.9.1 cutoff', '9cc61af3911ec13a7241f68694028083'),\n",
       " 991: ('ecoinvent 3.9.1 cutoff', 'c45081be533e001567594f1e2d42a216'),\n",
       " 992: ('ecoinvent 3.9.1 cutoff', '299b810b14af97d9d88dcc4e29169ce9'),\n",
       " 993: ('ecoinvent 3.9.1 cutoff', '1f69f64549a9bd8f86273831bb116360'),\n",
       " 994: ('ecoinvent 3.9.1 cutoff', '6203b16fef3134c1d0f01f552cf0bc04'),\n",
       " 995: ('ecoinvent 3.9.1 cutoff', '19365a29b7532004ce3674c4d98ff640'),\n",
       " 996: ('ecoinvent 3.9.1 cutoff', 'fa44db4ba7382e34423482718aabfea3'),\n",
       " 997: ('ecoinvent 3.9.1 cutoff', 'c331767827b5d9d56eb7ad98dc9b7063'),\n",
       " 998: ('ecoinvent 3.9.1 cutoff', 'fe14a325f410d6fd9b54e9a747e809f7'),\n",
       " 999: ('ecoinvent 3.9.1 cutoff', '80ba18ac209fcf0d3c68da2fa7cd9363'),\n",
       " ...}"
      ]
     },
     "execution_count": 102,
     "metadata": {},
     "output_type": "execute_result"
    }
   ],
   "source": [
    "myFirstLCA_rev_activity_dict = {value:key for key, value in myFirstLCA.activity_dict.items()}\n",
    "myFirstLCA_rev_activity_dict"
   ]
  },
  {
   "cell_type": "markdown",
   "metadata": {
    "deletable": true,
    "editable": true
   },
   "source": [
    "As a convenience, Brightway offers a method that will generate the three reverse dictionaries simultaneously.  \n",
    "`.reverse_dict()` returns three reverse dicts (reverse activity dict,  reverse product dict,  reverse biosphere dict) *in that order*. The syntax for creating and assigning these reverse dicts is therefore: "
   ]
  },
  {
   "cell_type": "code",
   "execution_count": 103,
   "metadata": {
    "deletable": true,
    "editable": true,
    "tags": []
   },
   "outputs": [],
   "source": [
    "myFirstLCA_rev_act_dict, myFirstLCA_rev_product_dict, myFirstLCA_rev_bio_dict = myFirstLCA.reverse_dict()"
   ]
  },
  {
   "cell_type": "markdown",
   "metadata": {
    "deletable": true,
    "editable": true
   },
   "source": [
    "#### $A$ and $B$ Matrices"
   ]
  },
  {
   "cell_type": "markdown",
   "metadata": {
    "deletable": true,
    "editable": true
   },
   "source": [
    "We can also access the matrices that were constructed. Let's look at the technosphere matrix ($A$).  \n",
    "The ** $A$ matrix**, with each element $a_{ij}$ provides information on the amount of input or output of product $i$ from activity $j$. When $i=j$, the element $a_{ij}$ is the *reference flow* for the activity described in the column."
   ]
  },
  {
   "cell_type": "code",
   "execution_count": 104,
   "metadata": {
    "collapsed": false,
    "deletable": true,
    "editable": true,
    "jupyter": {
     "outputs_hidden": false
    }
   },
   "outputs": [
    {
     "data": {
      "text/plain": [
       "<21238x21238 sparse matrix of type '<class 'numpy.float64'>'\n",
       "\twith 266440 stored elements in Compressed Sparse Row format>"
      ]
     },
     "execution_count": 104,
     "metadata": {},
     "output_type": "execute_result"
    }
   ],
   "source": [
    "myFirstLCA.technosphere_matrix"
   ]
  },
  {
   "cell_type": "markdown",
   "metadata": {
    "deletable": true,
    "editable": true
   },
   "source": [
    "I am told that the dimensions of the matrix is $n*n$ where $n$ is the number of activities in my product system, and that the amount of actually stored elements is much less than $n^2$ (because the matrix is *sparse* and zero values are not stored).  "
   ]
  },
  {
   "cell_type": "markdown",
   "metadata": {
    "deletable": true,
    "editable": true
   },
   "source": [
    "We can have an idea of what it stores by printing it out:"
   ]
  },
  {
   "cell_type": "code",
   "execution_count": 105,
   "metadata": {
    "collapsed": false,
    "deletable": true,
    "editable": true,
    "jupyter": {
     "outputs_hidden": false
    }
   },
   "outputs": [
    {
     "name": "stdout",
     "output_type": "stream",
     "text": [
      "  (0, 0)\t1.0\n",
      "  (0, 4224)\t-0.9473657011985779\n",
      "  (0, 10568)\t-0.9473657011985779\n",
      "  (1, 1)\t1.0\n",
      "  (1, 11549)\t-1.1300685405731201\n",
      "  (2, 2)\t1.0\n",
      "  (2, 15150)\t-0.003932278603315353\n",
      "  (3, 3)\t1.0\n",
      "  (3, 2491)\t-1.0\n",
      "  (3, 9604)\t-1.0\n",
      "  (4, 4)\t1.0\n",
      "  (4, 172)\t-0.5820000171661377\n",
      "  (4, 418)\t-0.5820000171661377\n",
      "  (4, 586)\t-1.4500000476837158\n",
      "  (4, 599)\t-1.2799999713897705\n",
      "  (4, 1055)\t-1.4500000476837158\n",
      "  (4, 2171)\t-1.2799999713897705\n",
      "  (4, 2385)\t-0.8730000257492065\n",
      "  (4, 2664)\t-0.29100000858306885\n",
      "  (4, 2764)\t-1.159999966621399\n",
      "  (4, 3348)\t-1.2799999713897705\n",
      "  (4, 3515)\t-1.2799999713897705\n",
      "  (4, 3648)\t-1.2799999713897705\n",
      "  (4, 3887)\t-1.2799999713897705\n",
      "  (4, 3917)\t-0.0025500000920146704\n",
      "  :\t:\n",
      "  (21234, 11567)\t-9.424257818579918e-09\n",
      "  (21234, 11776)\t-7.215120945147646e-08\n",
      "  (21234, 11921)\t-3.066593876610568e-07\n",
      "  (21234, 12374)\t-4.442864565135096e-08\n",
      "  (21234, 12570)\t-2.277102112202556e-06\n",
      "  (21234, 13023)\t-101316.5859375\n",
      "  (21234, 13500)\t-8.500683179590851e-08\n",
      "  (21234, 15423)\t-2.0852837678830838e-07\n",
      "  (21234, 16136)\t-4.0446568760899027e-08\n",
      "  (21234, 16198)\t-4.738324399511384e-09\n",
      "  (21234, 16403)\t-4.601975334139752e-08\n",
      "  (21234, 17270)\t-1.6241985534293235e-10\n",
      "  (21234, 18037)\t-5.41005062970612e-09\n",
      "  (21234, 18626)\t-4.6509324391763585e-08\n",
      "  (21234, 18872)\t-4.2936909583346505e-10\n",
      "  (21234, 18985)\t-4.895718275221839e-10\n",
      "  (21234, 20242)\t-3.075743734370917e-05\n",
      "  (21234, 20677)\t-0.0026142073329538107\n",
      "  (21234, 21234)\t0.9994378723204136\n",
      "  (21235, 7252)\t-9.444335591979325e-05\n",
      "  (21235, 21235)\t1.0\n",
      "  (21236, 12426)\t-0.006172738038003445\n",
      "  (21236, 21236)\t1.0\n",
      "  (21237, 1620)\t-0.19749009609222412\n",
      "  (21237, 21237)\t1.0\n"
     ]
    }
   ],
   "source": [
    "print(myFirstLCA.technosphere_matrix)"
   ]
  },
  {
   "cell_type": "markdown",
   "metadata": {
    "deletable": true,
    "editable": true
   },
   "source": [
    "It therefore stores both the coordinates and the values (as expected).\n",
    "We can slice this matrix using coordinates. For example, let's say we wanted a view of the exchanges associated with the unit process providing our functional unit.  \n",
    "We already know found the column number for that activity: "
   ]
  },
  {
   "cell_type": "code",
   "execution_count": 106,
   "metadata": {
    "collapsed": false,
    "deletable": true,
    "editable": true,
    "jupyter": {
     "outputs_hidden": false
    }
   },
   "outputs": [
    {
     "name": "stdout",
     "output_type": "stream",
     "text": [
      "As a reminder, the column index for  ('ecoinvent 3.9.1 cutoff', 'a4ccabb4faa3d4ef5b98311414116c91') is  6331\n"
     ]
    }
   ],
   "source": [
    "print(\"As a reminder, the column index for  {} is  {}\".format(act_key, col_index))"
   ]
  },
  {
   "cell_type": "markdown",
   "metadata": {
    "deletable": true,
    "editable": true
   },
   "source": [
    "To return the whole column from the $A$ matrix, we therefore slice the $A$ matrix.  \n",
    "Python notes:  \n",
    "  - In Python, slicing is done using []\n",
    "  - We specify rows first, then columns  \n",
    "  - `:` refers to \"the whole row\" or \"the whole column\" (depending if it is passed first or second in the []) "
   ]
  },
  {
   "cell_type": "code",
   "execution_count": 107,
   "metadata": {
    "collapsed": false,
    "deletable": true,
    "editable": true,
    "jupyter": {
     "outputs_hidden": false
    }
   },
   "outputs": [
    {
     "data": {
      "text/plain": [
       "<21238x1 sparse matrix of type '<class 'numpy.float64'>'\n",
       "\twith 10 stored elements in Compressed Sparse Row format>"
      ]
     },
     "execution_count": 107,
     "metadata": {},
     "output_type": "execute_result"
    }
   ],
   "source": [
    "myColumn = myFirstLCA.technosphere_matrix[:, col_index]\n",
    "myColumn"
   ]
  },
  {
   "cell_type": "markdown",
   "metadata": {
    "deletable": true,
    "editable": true
   },
   "source": [
    "Printing this out gives:"
   ]
  },
  {
   "cell_type": "code",
   "execution_count": 108,
   "metadata": {
    "collapsed": false,
    "deletable": true,
    "editable": true,
    "jupyter": {
     "outputs_hidden": false
    }
   },
   "outputs": [
    {
     "name": "stdout",
     "output_type": "stream",
     "text": [
      "  (28, 0)\t-0.07539821416139603\n",
      "  (1718, 0)\t-0.06740900129079819\n",
      "  (6331, 0)\t1.0\n",
      "  (7456, 0)\t-0.0032955510541796684\n",
      "  (7883, 0)\t-0.05043191835284233\n",
      "  (12583, 0)\t-0.028461577370762825\n",
      "  (14140, 0)\t-0.004993258975446224\n",
      "  (16532, 0)\t-0.004993258975446224\n",
      "  (20398, 0)\t-0.11834023892879486\n",
      "  (20998, 0)\t-0.6466769576072693\n"
     ]
    }
   ],
   "source": [
    "print(myColumn)"
   ]
  },
  {
   "cell_type": "markdown",
   "metadata": {
    "deletable": true,
    "editable": true
   },
   "source": [
    "Not too useful: it would be better to get the *names* to these exchanges.  \n",
    "We need to do two things:  \n",
    "  - Get the indices from the CSR matrix (we can do this by converting it to a sparse matrix in `COOrdinate` format first)  \n",
    "  - Get the activity code for the each index (we can do this using the reverse of the `activity_dict`)  \n",
    "  - Use `get_activity` to access the actual names of the activities.  "
   ]
  },
  {
   "cell_type": "markdown",
   "metadata": {
    "deletable": true,
    "editable": true
   },
   "source": [
    "1) Converting the CSR matrix to a COO matrix:  "
   ]
  },
  {
   "cell_type": "code",
   "execution_count": 109,
   "metadata": {
    "collapsed": false,
    "deletable": true,
    "editable": true,
    "jupyter": {
     "outputs_hidden": false
    }
   },
   "outputs": [
    {
     "data": {
      "text/plain": [
       "<21238x1 sparse matrix of type '<class 'numpy.float64'>'\n",
       "\twith 10 stored elements in COOrdinate format>"
      ]
     },
     "execution_count": 109,
     "metadata": {},
     "output_type": "execute_result"
    }
   ],
   "source": [
    "myColumnCOO = myColumn.tocoo()\n",
    "myColumnCOO"
   ]
  },
  {
   "cell_type": "markdown",
   "metadata": {
    "deletable": true,
    "editable": true
   },
   "source": [
    "It is still a sparse matrix with the same number of elements, and it looks quite like the CSR version when we print it out:"
   ]
  },
  {
   "cell_type": "code",
   "execution_count": 110,
   "metadata": {
    "collapsed": false,
    "deletable": true,
    "editable": true,
    "jupyter": {
     "outputs_hidden": false
    }
   },
   "outputs": [
    {
     "name": "stdout",
     "output_type": "stream",
     "text": [
      "  (28, 0)\t-0.07539821416139603\n",
      "  (1718, 0)\t-0.06740900129079819\n",
      "  (6331, 0)\t1.0\n",
      "  (7456, 0)\t-0.0032955510541796684\n",
      "  (7883, 0)\t-0.05043191835284233\n",
      "  (12583, 0)\t-0.028461577370762825\n",
      "  (14140, 0)\t-0.004993258975446224\n",
      "  (16532, 0)\t-0.004993258975446224\n",
      "  (20398, 0)\t-0.11834023892879486\n",
      "  (20998, 0)\t-0.6466769576072693\n"
     ]
    }
   ],
   "source": [
    "print(myColumnCOO)"
   ]
  },
  {
   "cell_type": "markdown",
   "metadata": {
    "deletable": true,
    "editable": true
   },
   "source": [
    "However, we can directly access the rows and column indices using `row` and `col`:  "
   ]
  },
  {
   "cell_type": "code",
   "execution_count": 111,
   "metadata": {
    "collapsed": false,
    "deletable": true,
    "editable": true,
    "jupyter": {
     "outputs_hidden": false
    }
   },
   "outputs": [
    {
     "data": {
      "text/plain": [
       "array([   28,  1718,  6331,  7456,  7883, 12583, 14140, 16532, 20398,\n",
       "       20998], dtype=int32)"
      ]
     },
     "execution_count": 111,
     "metadata": {},
     "output_type": "execute_result"
    }
   ],
   "source": [
    "myColumnCOO.row"
   ]
  },
  {
   "cell_type": "markdown",
   "metadata": {
    "deletable": true,
    "editable": true
   },
   "source": [
    "2) Get the activity code for each element using the **reverse** product dictionary we produced above:"
   ]
  },
  {
   "cell_type": "code",
   "execution_count": 112,
   "metadata": {
    "collapsed": false,
    "deletable": true,
    "editable": true,
    "jupyter": {
     "outputs_hidden": false
    }
   },
   "outputs": [
    {
     "data": {
      "text/plain": [
       "[('ecoinvent 3.9.1 cutoff', '161984d1e59b5c2c848ce21c67daae1e'),\n",
       " ('ecoinvent 3.9.1 cutoff', '47857b377abfbecf418a31735068f864'),\n",
       " ('ecoinvent 3.9.1 cutoff', 'a4ccabb4faa3d4ef5b98311414116c91'),\n",
       " ('ecoinvent 3.9.1 cutoff', '10d23c6d3e472b759fa1dbb16863fb15'),\n",
       " ('ecoinvent 3.9.1 cutoff', '61b41ca5178bf9c128add5d481711a90'),\n",
       " ('ecoinvent 3.9.1 cutoff', '9da00800cdf8418a8bd8b92e0bd32e00'),\n",
       " ('ecoinvent 3.9.1 cutoff', '265cbad11a0b375e4a0952a1ba4f9ac7'),\n",
       " ('ecoinvent 3.9.1 cutoff', '728f56846f5db2159298b0a5f9f8c539'),\n",
       " ('ecoinvent 3.9.1 cutoff', '5c33b9727fec9cc0dd2bca736e40356d'),\n",
       " ('ecoinvent 3.9.1 cutoff', 'e635d0b108d447648c921ce2f76889e2')]"
      ]
     },
     "execution_count": 112,
     "metadata": {},
     "output_type": "execute_result"
    }
   ],
   "source": [
    "# Using a list comprehension:\n",
    "[myFirstLCA_rev_product_dict[i] for i in myColumnCOO.row]"
   ]
  },
  {
   "cell_type": "markdown",
   "metadata": {
    "deletable": true,
    "editable": true
   },
   "source": [
    "It would be even nicer to get the names for these:"
   ]
  },
  {
   "cell_type": "code",
   "execution_count": 113,
   "metadata": {
    "collapsed": false,
    "deletable": true,
    "editable": true,
    "jupyter": {
     "outputs_hidden": false
    }
   },
   "outputs": [
    {
     "data": {
      "text/plain": [
       "['nutrient supply from urea ammonium nitrate mix',\n",
       " 'nutrient supply from urea',\n",
       " 'market for inorganic nitrogen fertiliser, as N',\n",
       " 'nutrient supply from calcium ammonium nitrate',\n",
       " 'nutrient supply from monoammonium phosphate',\n",
       " 'nutrient supply from ammonium sulfate',\n",
       " 'nutrient supply from ammonium nitrate phosphate',\n",
       " 'nutrient supply from diammonium phosphate',\n",
       " 'nutrient supply from NPK (15-15-15) fertiliser',\n",
       " 'nutrient supply from ammonium nitrate']"
      ]
     },
     "execution_count": 113,
     "metadata": {},
     "output_type": "execute_result"
    }
   ],
   "source": [
    "names_of_my_inputs = [bw.get_activity(myFirstLCA_rev_product_dict[i])['name'] for i in myColumnCOO.row]\n",
    "names_of_my_inputs"
   ]
  },
  {
   "cell_type": "markdown",
   "metadata": {
    "deletable": true,
    "editable": true
   },
   "source": [
    "We can put these in a neat Pandas Series, with actual names and amounts:"
   ]
  },
  {
   "cell_type": "code",
   "execution_count": 114,
   "metadata": {
    "collapsed": false,
    "deletable": true,
    "editable": true,
    "jupyter": {
     "outputs_hidden": false
    }
   },
   "outputs": [
    {
     "data": {
      "text/plain": [
       "nutrient supply from urea ammonium nitrate mix    -0.075398\n",
       "nutrient supply from urea                         -0.067409\n",
       "market for inorganic nitrogen fertiliser, as N     1.000000\n",
       "nutrient supply from calcium ammonium nitrate     -0.003296\n",
       "nutrient supply from monoammonium phosphate       -0.050432\n",
       "nutrient supply from ammonium sulfate             -0.028462\n",
       "nutrient supply from ammonium nitrate phosphate   -0.004993\n",
       "nutrient supply from diammonium phosphate         -0.004993\n",
       "nutrient supply from NPK (15-15-15) fertiliser    -0.118340\n",
       "nutrient supply from ammonium nitrate             -0.646677\n",
       "Name: Nice series with information on exchanges in my foreground process, dtype: float64"
      ]
     },
     "execution_count": 114,
     "metadata": {},
     "output_type": "execute_result"
    }
   ],
   "source": [
    "# First create a dict with the information I want:\n",
    "myColumnAsDict = dict(zip(names_of_my_inputs,myColumnCOO.data))\n",
    "# Create Pandas Series from dict\n",
    "pd.Series(myColumnAsDict, name=\"Nice series with information on exchanges in my foreground process\")"
   ]
  },
  {
   "cell_type": "markdown",
   "metadata": {
    "deletable": true,
    "editable": true,
    "solution": "shown",
    "solution_first": true
   },
   "source": [
    "Alternative way to generate similar information without even looking at the matrices:"
   ]
  },
  {
   "cell_type": "code",
   "execution_count": 115,
   "metadata": {
    "collapsed": false,
    "deletable": true,
    "editable": true,
    "jupyter": {
     "outputs_hidden": false
    },
    "solution": "shown"
   },
   "outputs": [
    {
     "data": {
      "text/plain": [
       "nutrient supply from urea                          0.067409\n",
       "nutrient supply from calcium ammonium nitrate      0.003296\n",
       "nutrient supply from monoammonium phosphate        0.050432\n",
       "nutrient supply from ammonium nitrate phosphate    0.004993\n",
       "nutrient supply from urea ammonium nitrate mix     0.075398\n",
       "nutrient supply from ammonium sulfate              0.028462\n",
       "nutrient supply from diammonium phosphate          0.004993\n",
       "nutrient supply from NPK (15-15-15) fertiliser     0.118340\n",
       "nutrient supply from ammonium nitrate              0.646677\n",
       "Name: alternative way to generate exchanges, dtype: float64"
      ]
     },
     "execution_count": 115,
     "metadata": {},
     "output_type": "execute_result"
    }
   ],
   "source": [
    "pd.Series({bw.get_activity(exc.input)['name']:exc.amount for exc in random_act.technosphere()}, \n",
    "          name=\"alternative way to generate exchanges\")"
   ]
  },
  {
   "cell_type": "markdown",
   "metadata": {
    "deletable": true,
    "editable": true,
    "solution": "shown"
   },
   "source": [
    "Note the differences:  \n",
    "  - The reference flow is not there (activity.technosphere() only returns technoshere exchanges where the input is not equal to the output)  \n",
    "  - The values are positive, not negative (because the $A$ matrix is $I-Z$ where $Z$ contains the information on these inputs."
   ]
  },
  {
   "cell_type": "markdown",
   "metadata": {
    "deletable": true,
    "editable": true,
    "solution": "shown",
    "solution2": "shown",
    "solution2_first": true
   },
   "source": [
    "**Exercise**: Create a Pandas Series with the elementary flows of the activity supplying the reference flow for myFirstLCA."
   ]
  },
  {
   "cell_type": "code",
   "execution_count": 116,
   "metadata": {
    "collapsed": false,
    "deletable": true,
    "editable": true,
    "jupyter": {
     "outputs_hidden": false
    },
    "solution2": "shown"
   },
   "outputs": [
    {
     "data": {
      "text/plain": [
       "Series([], dtype: object)"
      ]
     },
     "execution_count": 116,
     "metadata": {},
     "output_type": "execute_result"
    }
   ],
   "source": [
    "# Solution\n",
    "myBioColumn = myFirstLCA.biosphere_matrix[:, col_index]\n",
    "myBioValues = myBioColumn.tocoo().data\n",
    "myBioNames = [bw.get_activity(myFirstLCA_rev_bio_dict[row])['name'] for row in myBioColumn.tocoo().row]\n",
    "pd.Series(dict(zip(myBioNames, myBioValues)))"
   ]
  },
  {
   "cell_type": "markdown",
   "metadata": {
    "deletable": true,
    "editable": true
   },
   "source": [
    "#### Demand array $f$"
   ]
  },
  {
   "cell_type": "markdown",
   "metadata": {
    "deletable": true,
    "editable": true
   },
   "source": [
    "The demand array is the $f$ in $As=f$. \n",
    "It is an attribute of the LCA object:"
   ]
  },
  {
   "cell_type": "code",
   "execution_count": 117,
   "metadata": {
    "collapsed": false,
    "deletable": true,
    "editable": true,
    "jupyter": {
     "outputs_hidden": false
    }
   },
   "outputs": [
    {
     "data": {
      "text/plain": [
       "array([0., 0., 0., ..., 0., 0., 0.])"
      ]
     },
     "execution_count": 117,
     "metadata": {},
     "output_type": "execute_result"
    }
   ],
   "source": [
    "myFirstLCA.demand_array"
   ]
  },
  {
   "cell_type": "markdown",
   "metadata": {
    "deletable": true,
    "editable": true
   },
   "source": [
    "Looks like it is all zeros, but not so:"
   ]
  },
  {
   "cell_type": "code",
   "execution_count": 118,
   "metadata": {
    "collapsed": false,
    "deletable": true,
    "editable": true,
    "jupyter": {
     "outputs_hidden": false
    }
   },
   "outputs": [
    {
     "data": {
      "text/plain": [
       "1.0"
      ]
     },
     "execution_count": 118,
     "metadata": {},
     "output_type": "execute_result"
    }
   ],
   "source": [
    "myFirstLCA.demand_array.sum()"
   ]
  },
  {
   "cell_type": "markdown",
   "metadata": {
    "deletable": true,
    "editable": true
   },
   "source": [
    "So where is the one? We can know this by using our `activity_dict`."
   ]
  },
  {
   "cell_type": "code",
   "execution_count": 119,
   "metadata": {
    "collapsed": false,
    "deletable": true,
    "editable": true,
    "jupyter": {
     "outputs_hidden": false
    }
   },
   "outputs": [
    {
     "data": {
      "text/plain": [
       "('ecoinvent 3.9.1 cutoff', 'a4ccabb4faa3d4ef5b98311414116c91')"
      ]
     },
     "execution_count": 119,
     "metadata": {},
     "output_type": "execute_result"
    }
   ],
   "source": [
    "demand_database = list(myFirstLCA.demand.keys())[0]['database']\n",
    "demand_code = list(myFirstLCA.demand.keys())[0]['code']\n",
    "(demand_database, demand_code)"
   ]
  },
  {
   "cell_type": "code",
   "execution_count": 120,
   "metadata": {
    "collapsed": false,
    "deletable": true,
    "editable": true,
    "jupyter": {
     "outputs_hidden": false
    }
   },
   "outputs": [
    {
     "data": {
      "text/plain": [
       "6331"
      ]
     },
     "execution_count": 120,
     "metadata": {},
     "output_type": "execute_result"
    }
   ],
   "source": [
    "row_of_demand = myFirstLCA.activity_dict[(demand_database, demand_code)]\n",
    "row_of_demand # Row number of our demand vector containing the functional unit."
   ]
  },
  {
   "cell_type": "code",
   "execution_count": 121,
   "metadata": {
    "collapsed": false,
    "deletable": true,
    "editable": true,
    "jupyter": {
     "outputs_hidden": false
    }
   },
   "outputs": [
    {
     "data": {
      "text/plain": [
       "1.0"
      ]
     },
     "execution_count": 121,
     "metadata": {},
     "output_type": "execute_result"
    }
   ],
   "source": [
    "myFirstLCA.demand_array[row_of_demand]"
   ]
  },
  {
   "cell_type": "markdown",
   "metadata": {
    "deletable": true,
    "editable": true
   },
   "source": [
    "### 2.5) Solution to the inventory calculation"
   ]
  },
  {
   "cell_type": "markdown",
   "metadata": {
    "deletable": true,
    "editable": true
   },
   "source": [
    "We saw above how `.lci()` produced the $A$ and $B$ matrices.  \n",
    "`.lci()` also *solves* the equation $As=f$ and calculated the inventory by multiplying the solution to this equation by the biosphere matrix.  "
   ]
  },
  {
   "cell_type": "markdown",
   "metadata": {
    "deletable": true,
    "editable": true
   },
   "source": [
    "#### Supply array"
   ]
  },
  {
   "cell_type": "markdown",
   "metadata": {
    "deletable": true,
    "editable": true
   },
   "source": [
    "Vector containing the amount each activity will need to provide to meet the functional demand, i.e. $s=A^{-1}f$."
   ]
  },
  {
   "cell_type": "code",
   "execution_count": 122,
   "metadata": {
    "collapsed": false,
    "deletable": true,
    "editable": true,
    "jupyter": {
     "outputs_hidden": false
    }
   },
   "outputs": [
    {
     "data": {
      "text/plain": [
       "array([2.54889347e-08, 4.49003197e-06, 1.06095390e-06, ...,\n",
       "       1.78644947e-13, 1.09447703e-05, 6.17730187e-09])"
      ]
     },
     "execution_count": 122,
     "metadata": {},
     "output_type": "execute_result"
    }
   ],
   "source": [
    "myFirstLCA.supply_array"
   ]
  },
  {
   "cell_type": "code",
   "execution_count": 123,
   "metadata": {
    "collapsed": false,
    "deletable": true,
    "editable": true,
    "jupyter": {
     "outputs_hidden": false
    }
   },
   "outputs": [
    {
     "data": {
      "text/plain": [
       "(21238,)"
      ]
     },
     "execution_count": 123,
     "metadata": {},
     "output_type": "execute_result"
    }
   ],
   "source": [
    "myFirstLCA.supply_array.shape"
   ]
  },
  {
   "cell_type": "markdown",
   "metadata": {
    "deletable": true,
    "editable": true
   },
   "source": [
    "**Inventory matrix**  \n",
    "Contains the inventory *by activity* (i.e. not summed). In other words, we do not have $g=BA^{-1}f$, but rather $G=B \\cdot diag(A^{-1}f)$"
   ]
  },
  {
   "cell_type": "code",
   "execution_count": 124,
   "metadata": {
    "collapsed": false,
    "deletable": true,
    "editable": true,
    "jupyter": {
     "outputs_hidden": false
    }
   },
   "outputs": [
    {
     "data": {
      "text/plain": [
       "<2420x21238 sparse matrix of type '<class 'numpy.float64'>'\n",
       "\twith 300560 stored elements in Compressed Sparse Row format>"
      ]
     },
     "execution_count": 124,
     "metadata": {},
     "output_type": "execute_result"
    }
   ],
   "source": [
    "myFirstLCA.inventory"
   ]
  },
  {
   "cell_type": "markdown",
   "metadata": {
    "deletable": true,
    "editable": true
   },
   "source": [
    "We can aggregate the LCI results along the columns (i.e. calculate the cradle-to-gate inventory):"
   ]
  },
  {
   "cell_type": "code",
   "execution_count": 125,
   "metadata": {
    "collapsed": false,
    "deletable": true,
    "editable": true,
    "jupyter": {
     "outputs_hidden": false
    }
   },
   "outputs": [
    {
     "data": {
      "text/plain": [
       "(2420, 1)"
      ]
     },
     "execution_count": 125,
     "metadata": {},
     "output_type": "execute_result"
    }
   ],
   "source": [
    "LCI_cradle_to_gate = myFirstLCA.inventory.sum(axis=1)\n",
    "LCI_cradle_to_gate.shape"
   ]
  },
  {
   "cell_type": "markdown",
   "metadata": {
    "deletable": true,
    "editable": true,
    "solution2": "shown",
    "solution2_first": true
   },
   "source": [
    "**Exercise:** Get the total (cradle-to-gate) emissions of nitrous oxide emitted to air in the \"urban air\" subcompartment."
   ]
  },
  {
   "cell_type": "code",
   "execution_count": 126,
   "metadata": {
    "collapsed": false,
    "deletable": true,
    "editable": true,
    "jupyter": {
     "outputs_hidden": false
    },
    "solution2": "shown"
   },
   "outputs": [
    {
     "data": {
      "text/plain": [
       "('biosphere3', '6dc1b46f-ee89-4495-95c4-b8a637bcd6cb')"
      ]
     },
     "execution_count": 126,
     "metadata": {},
     "output_type": "execute_result"
    }
   ],
   "source": [
    "NOx_act = [act for act in my_bio if 'Dinitrogen monoxide' in act['name']\n",
    "                       and 'urban air close to ground' in str(act['categories'])\n",
    "         ][0]\n",
    "NOx_act.key"
   ]
  },
  {
   "cell_type": "code",
   "execution_count": 127,
   "metadata": {
    "collapsed": false,
    "deletable": true,
    "editable": true,
    "jupyter": {
     "outputs_hidden": false
    },
    "solution2": "shown"
   },
   "outputs": [
    {
     "data": {
      "text/plain": [
       "2396"
      ]
     },
     "execution_count": 127,
     "metadata": {},
     "output_type": "execute_result"
    }
   ],
   "source": [
    "NOx_row = myFirstLCA.biosphere_dict[NOx_act]\n",
    "NOx_row"
   ]
  },
  {
   "cell_type": "code",
   "execution_count": 128,
   "metadata": {
    "collapsed": false,
    "deletable": true,
    "editable": true,
    "jupyter": {
     "outputs_hidden": false
    },
    "solution2": "shown"
   },
   "outputs": [
    {
     "data": {
      "text/plain": [
       "0.007833047111930919"
      ]
     },
     "execution_count": 128,
     "metadata": {},
     "output_type": "execute_result"
    }
   ],
   "source": [
    "myFirstLCA.inventory[NOx_row, :].sum()"
   ]
  },
  {
   "cell_type": "markdown",
   "metadata": {
    "deletable": true,
    "editable": true
   },
   "source": [
    "### 2.7) LCIA"
   ]
  },
  {
   "cell_type": "markdown",
   "metadata": {
    "deletable": true,
    "editable": true
   },
   "source": [
    "The LCIA calculation is done via the `.lcia()` method."
   ]
  },
  {
   "cell_type": "code",
   "execution_count": 129,
   "metadata": {
    "deletable": true,
    "editable": true,
    "tags": []
   },
   "outputs": [],
   "source": [
    "myFirstLCA.lcia()"
   ]
  },
  {
   "cell_type": "markdown",
   "metadata": {
    "deletable": true,
    "editable": true
   },
   "source": [
    "A number of other matrices are now available:"
   ]
  },
  {
   "cell_type": "code",
   "execution_count": 130,
   "metadata": {
    "collapsed": false,
    "deletable": true,
    "editable": true,
    "jupyter": {
     "outputs_hidden": false
    }
   },
   "outputs": [
    {
     "data": {
      "text/plain": [
       "<2420x2420 sparse matrix of type '<class 'numpy.float64'>'\n",
       "\twith 86 stored elements in Compressed Sparse Row format>"
      ]
     },
     "execution_count": 130,
     "metadata": {},
     "output_type": "execute_result"
    }
   ],
   "source": [
    "# Matrix of characterization factors:\n",
    "myFirstLCA.characterization_matrix"
   ]
  },
  {
   "cell_type": "code",
   "execution_count": 131,
   "metadata": {
    "collapsed": false,
    "deletable": true,
    "editable": true,
    "jupyter": {
     "outputs_hidden": false
    }
   },
   "outputs": [
    {
     "data": {
      "text/plain": [
       "(2420, 2420)"
      ]
     },
     "execution_count": 131,
     "metadata": {},
     "output_type": "execute_result"
    }
   ],
   "source": [
    "myFirstLCA.characterization_matrix.shape"
   ]
  },
  {
   "cell_type": "code",
   "execution_count": 132,
   "metadata": {
    "collapsed": false,
    "deletable": true,
    "editable": true,
    "jupyter": {
     "outputs_hidden": false
    }
   },
   "outputs": [
    {
     "data": {
      "text/plain": [
       "<2420x21238 sparse matrix of type '<class 'numpy.float64'>'\n",
       "\twith 18382 stored elements in Compressed Sparse Row format>"
      ]
     },
     "execution_count": 132,
     "metadata": {},
     "output_type": "execute_result"
    }
   ],
   "source": [
    "# Matrix of characterized inventory flows\n",
    "myFirstLCA.characterized_inventory"
   ]
  },
  {
   "cell_type": "markdown",
   "metadata": {
    "deletable": true,
    "editable": true
   },
   "source": [
    "Question: would there be more, less or just as many elements in the inventory matrix as there are in the characterized inventory matrix?"
   ]
  },
  {
   "cell_type": "markdown",
   "metadata": {
    "deletable": true,
    "editable": true
   },
   "source": [
    "The overall score is now an attribute of the LCA object: "
   ]
  },
  {
   "cell_type": "code",
   "execution_count": 133,
   "metadata": {
    "collapsed": false,
    "deletable": true,
    "editable": true,
    "jupyter": {
     "outputs_hidden": false
    }
   },
   "outputs": [
    {
     "data": {
      "text/plain": [
       "7.714622980257542"
      ]
     },
     "execution_count": 133,
     "metadata": {},
     "output_type": "execute_result"
    }
   ],
   "source": [
    "myFirstLCA.score"
   ]
  },
  {
   "cell_type": "markdown",
   "metadata": {
    "deletable": true,
    "editable": true
   },
   "source": [
    "We also could have determined what this score was by summing the elements of our `characterized_inventory` matrix:"
   ]
  },
  {
   "cell_type": "code",
   "execution_count": 134,
   "metadata": {
    "collapsed": false,
    "deletable": true,
    "editable": true,
    "jupyter": {
     "outputs_hidden": false
    }
   },
   "outputs": [
    {
     "data": {
      "text/plain": [
       "7.714622980257542"
      ]
     },
     "execution_count": 134,
     "metadata": {},
     "output_type": "execute_result"
    }
   ],
   "source": [
    "myFirstLCA.characterized_inventory.sum()"
   ]
  },
  {
   "cell_type": "markdown",
   "metadata": {
    "deletable": true,
    "editable": true
   },
   "source": [
    "We could also have calculated it by multiplying the inventory and characterization factors ourselves:"
   ]
  },
  {
   "cell_type": "code",
   "execution_count": 135,
   "metadata": {
    "collapsed": false,
    "deletable": true,
    "editable": true,
    "jupyter": {
     "outputs_hidden": false
    }
   },
   "outputs": [
    {
     "data": {
      "text/plain": [
       "7.714622980257542"
      ]
     },
     "execution_count": 135,
     "metadata": {},
     "output_type": "execute_result"
    }
   ],
   "source": [
    "(myFirstLCA.characterization_matrix * myFirstLCA.inventory).sum()"
   ]
  },
  {
   "cell_type": "markdown",
   "metadata": {
    "deletable": true,
    "editable": true
   },
   "source": [
    "We could also calculate the score by elementary flow (summing columns for each rows), irrespective of the unit process that produced it:"
   ]
  },
  {
   "cell_type": "code",
   "execution_count": 136,
   "metadata": {
    "deletable": true,
    "editable": true,
    "tags": []
   },
   "outputs": [],
   "source": [
    "elementary_flow_contribution = myFirstLCA.characterized_inventory.sum(axis=1) #Axis is the dimension I want to sum over:"
   ]
  },
  {
   "cell_type": "code",
   "execution_count": 137,
   "metadata": {
    "collapsed": false,
    "deletable": true,
    "editable": true,
    "jupyter": {
     "outputs_hidden": false
    }
   },
   "outputs": [
    {
     "data": {
      "text/plain": [
       "(2420, 1)"
      ]
     },
     "execution_count": 137,
     "metadata": {},
     "output_type": "execute_result"
    }
   ],
   "source": [
    "elementary_flow_contribution.shape"
   ]
  },
  {
   "cell_type": "markdown",
   "metadata": {
    "deletable": true,
    "editable": true
   },
   "source": [
    "Notice that is has **two** dimensions. The result is in fact a one-dimensional matrix:"
   ]
  },
  {
   "cell_type": "code",
   "execution_count": 138,
   "metadata": {
    "collapsed": false,
    "deletable": true,
    "editable": true,
    "jupyter": {
     "outputs_hidden": false
    }
   },
   "outputs": [
    {
     "data": {
      "text/plain": [
       "numpy.matrix"
      ]
     },
     "execution_count": 138,
     "metadata": {},
     "output_type": "execute_result"
    }
   ],
   "source": [
    "type(elementary_flow_contribution)"
   ]
  },
  {
   "cell_type": "markdown",
   "metadata": {
    "deletable": true,
    "editable": true
   },
   "source": [
    "To convert it to an array (probably more useful for many purposes), you can use any of the following approaches:"
   ]
  },
  {
   "cell_type": "code",
   "execution_count": 139,
   "metadata": {
    "collapsed": false,
    "deletable": true,
    "editable": true,
    "jupyter": {
     "outputs_hidden": false
    }
   },
   "outputs": [
    {
     "data": {
      "text/plain": [
       "array([0., 0., 0., ..., 0., 0., 0.])"
      ]
     },
     "execution_count": 139,
     "metadata": {},
     "output_type": "execute_result"
    }
   ],
   "source": [
    "elementary_flow_contribution.A1 \n",
    "#np.squeeze(np.asarray(elementary_flow_contribution))\n",
    "#np.asarray(elementary_flow_contribution).reshape(-1)\n",
    "#np.array(elementary_flow_contribution).flatten()\n",
    "#np.array(elementary_flow_contribution).ravel()"
   ]
  },
  {
   "cell_type": "markdown",
   "metadata": {
    "deletable": true,
    "editable": true,
    "solution2": "shown",
    "solution2_first": true
   },
   "source": [
    "**Exercise:** Create a Pandas series that has the scores per unit process, sorted by value (contribution analysis)"
   ]
  },
  {
   "cell_type": "code",
   "execution_count": 140,
   "metadata": {
    "tags": []
   },
   "outputs": [],
   "source": [
    "# Create array with the results per column (i.e. per activity)\n",
    "results_by_activity = (myFirstLCA.characterized_inventory.sum(axis=0)).A1"
   ]
  },
  {
   "cell_type": "code",
   "execution_count": 141,
   "metadata": {
    "collapsed": false,
    "jupyter": {
     "outputs_hidden": false
    }
   },
   "outputs": [],
   "source": [
    "# Create a list of names in columns\n",
    "list_of_names_in_columns = [bw.get_activity(myFirstLCA_rev_act_dict[col])['name'] \n",
    "                            for col in range(myFirstLCA.characterized_inventory.shape[1])]"
   ]
  },
  {
   "cell_type": "code",
   "execution_count": 142,
   "metadata": {
    "collapsed": false,
    "jupyter": {
     "outputs_hidden": false
    }
   },
   "outputs": [
    {
     "data": {
      "text/plain": [
       "ammonia production, partial oxidation, liquid                0.730527\n",
       "ammonia production, steam reforming, liquid                  0.694135\n",
       "nitric acid production, product in 50% solution state        0.637149\n",
       "nitric acid production, product in 50% solution state        0.559927\n",
       "heat production, at hard coal industrial furnace 1-10MW      0.461318\n",
       "heat production, natural gas, at boiler modulating >100kW    0.415166\n",
       "nitric acid production, product in 50% solution state        0.281599\n",
       "natural gas venting from petroleum/natural gas production    0.258086\n",
       "nitric acid production, product in 50% solution state        0.256871\n",
       "nitric acid production, product in 50% solution state        0.225158\n",
       "dtype: float64"
      ]
     },
     "execution_count": 142,
     "metadata": {},
     "output_type": "execute_result"
    }
   ],
   "source": [
    "pd.Series(index=list_of_names_in_columns, data=results_by_activity).sort_values(ascending=False).head(10)"
   ]
  },
  {
   "cell_type": "markdown",
   "metadata": {
    "deletable": true,
    "editable": true
   },
   "source": [
    "## 3) My second LCA: Comparative LCA"
   ]
  },
  {
   "cell_type": "markdown",
   "metadata": {
    "deletable": true,
    "editable": true
   },
   "source": [
    "Let's choose two activities to compare, say Swiss electricity produced from respectively a run-of-river hydropower plant and a wind turbine."
   ]
  },
  {
   "cell_type": "markdown",
   "metadata": {
    "deletable": true,
    "editable": true,
    "solution2": "shown",
    "solution2_first": true
   },
   "source": [
    "**Exercise**: assign the two activities to variables `hydro` and `wind` respectively."
   ]
  },
  {
   "cell_type": "code",
   "execution_count": 143,
   "metadata": {
    "collapsed": false,
    "deletable": true,
    "editable": true,
    "jupyter": {
     "outputs_hidden": false
    },
    "solution2": "shown"
   },
   "outputs": [
    {
     "data": {
      "text/plain": [
       "['electricity production, wind, <1MW turbine, onshore' (kilowatt hour, CH, None),\n",
       " 'electricity production, wind, >3MW turbine, onshore' (kilowatt hour, CH, None),\n",
       " 'electricity, high voltage, wind power, import from Germany' (kilowatt hour, CH, None),\n",
       " 'electricity production, wind, 1-3MW turbine, onshore' (kilowatt hour, CH, None),\n",
       " 'electricity production, wind, <1MW turbine, onshore, renewable energy products' (kilowatt hour, CH, None),\n",
       " 'electricity production, wind, >3MW turbine, onshore, renewable energy products' (kilowatt hour, CH, None),\n",
       " 'electricity, high voltage, wind power, import from Germany, renewable energy products' (kilowatt hour, CH, None),\n",
       " 'electricity production, wind, 1-3MW turbine, onshore, renewable energy products' (kilowatt hour, CH, None)]"
      ]
     },
     "execution_count": 143,
     "metadata": {},
     "output_type": "execute_result"
    }
   ],
   "source": [
    "[act for act in eidb if \"wind\" in act['name'] and \"electricity\" in act['name'] and \"CH\" in act['location']]"
   ]
  },
  {
   "cell_type": "code",
   "execution_count": 144,
   "metadata": {
    "collapsed": false,
    "deletable": true,
    "editable": true,
    "jupyter": {
     "outputs_hidden": false
    },
    "solution2": "shown"
   },
   "outputs": [
    {
     "data": {
      "text/plain": [
       "'electricity production, wind, <1MW turbine, onshore' (kilowatt hour, IR, None)"
      ]
     },
     "execution_count": 144,
     "metadata": {},
     "output_type": "execute_result"
    }
   ],
   "source": [
    "wind = [act for act in eidb if \"wind\" in act['name']\n",
    "        and \"<1MW\" in act['name'] \n",
    "        and \"kilowatt hour\" in act['unit']][0]\n",
    "wind"
   ]
  },
  {
   "cell_type": "code",
   "execution_count": 146,
   "metadata": {
    "collapsed": false,
    "deletable": true,
    "editable": true,
    "jupyter": {
     "outputs_hidden": false
    },
    "solution2": "shown"
   },
   "outputs": [
    {
     "data": {
      "text/plain": [
       "'electricity production, hydro, run-of-river' (kilowatt hour, CH, None)"
      ]
     },
     "execution_count": 146,
     "metadata": {},
     "output_type": "execute_result"
    }
   ],
   "source": [
    "hydro = [act for act in eidb if \"hydro\" in act['name'] \n",
    "                     and \"river\" in act['name'] \n",
    "                     and \"CH\" in act['location']\n",
    "                     and \"kilowatt hour\" in act['unit']\n",
    "                     ][0]\n",
    "hydro"
   ]
  },
  {
   "cell_type": "markdown",
   "metadata": {
    "deletable": true,
    "editable": true
   },
   "source": [
    "Let's also compare these according to their carbon footprint as measured with the IPCC method we already selected above:"
   ]
  },
  {
   "cell_type": "code",
   "execution_count": 147,
   "metadata": {
    "collapsed": false,
    "deletable": true,
    "editable": true,
    "jupyter": {
     "outputs_hidden": false
    }
   },
   "outputs": [
    {
     "data": {
      "text/plain": [
       "Brightway2 Method: IPCC 2021: climate change: global warming potential (GWP100)"
      ]
     },
     "execution_count": 147,
     "metadata": {},
     "output_type": "execute_result"
    }
   ],
   "source": [
    "ipcc_2021_method"
   ]
  },
  {
   "cell_type": "markdown",
   "metadata": {
    "deletable": true,
    "editable": true
   },
   "source": [
    "#### One at a time approach:"
   ]
  },
  {
   "cell_type": "code",
   "execution_count": 149,
   "metadata": {
    "collapsed": false,
    "deletable": true,
    "editable": true,
    "jupyter": {
     "outputs_hidden": false
    }
   },
   "outputs": [
    {
     "name": "stderr",
     "output_type": "stream",
     "text": [
      "/opt/homebrew/Caskroom/miniforge/base/envs/bw/lib/python3.11/site-packages/scikits/umfpack/umfpack.py:736: UmfpackWarning: (almost) singular matrix! (estimated cond. number: 3.58e+13)\n",
      "  warnings.warn(msg, UmfpackWarning)\n"
     ]
    },
    {
     "data": {
      "text/plain": [
       "0.0036101599302794827"
      ]
     },
     "execution_count": 149,
     "metadata": {},
     "output_type": "execute_result"
    }
   ],
   "source": [
    "hydroLCA = bw.LCA({hydro:1}, ipcc_2021_method.name)\n",
    "hydroLCA.lci()\n",
    "hydroLCA.lcia()\n",
    "hydroLCA.score"
   ]
  },
  {
   "cell_type": "markdown",
   "metadata": {
    "deletable": true,
    "editable": true,
    "solution2": "shown",
    "solution2_first": true
   },
   "source": [
    "**Exercise:** Do the LCA for `wind`:"
   ]
  },
  {
   "cell_type": "code",
   "execution_count": 150,
   "metadata": {
    "collapsed": false,
    "deletable": true,
    "editable": true,
    "jupyter": {
     "outputs_hidden": false
    },
    "solution2": "shown"
   },
   "outputs": [
    {
     "name": "stderr",
     "output_type": "stream",
     "text": [
      "/opt/homebrew/Caskroom/miniforge/base/envs/bw/lib/python3.11/site-packages/scikits/umfpack/umfpack.py:736: UmfpackWarning: (almost) singular matrix! (estimated cond. number: 3.58e+13)\n",
      "  warnings.warn(msg, UmfpackWarning)\n"
     ]
    },
    {
     "data": {
      "text/plain": [
       "0.014585099367722097"
      ]
     },
     "execution_count": 150,
     "metadata": {},
     "output_type": "execute_result"
    }
   ],
   "source": [
    "windLCA = bw.LCA({wind:1}, ipcc_2021_method.name)\n",
    "windLCA.lci()\n",
    "windLCA.lcia()\n",
    "windLCA.score"
   ]
  },
  {
   "cell_type": "code",
   "execution_count": 151,
   "metadata": {
    "collapsed": false,
    "deletable": true,
    "editable": true,
    "jupyter": {
     "outputs_hidden": false
    }
   },
   "outputs": [
    {
     "name": "stdout",
     "output_type": "stream",
     "text": [
      "Hydro is preferable\n"
     ]
    }
   ],
   "source": [
    "#Compare results:\n",
    "if windLCA.score>hydroLCA.score:\n",
    "    print(\"Hydro is preferable\")\n",
    "elif windLCA.score<hydroLCA.score:\n",
    "    print(\"Wind is preferable\")\n",
    "else:\n",
    "    print(\"Both options have the same climate change indicator result\")"
   ]
  },
  {
   "cell_type": "markdown",
   "metadata": {
    "deletable": true,
    "editable": true
   },
   "source": [
    "Do one \"delta\" LCA:"
   ]
  },
  {
   "cell_type": "code",
   "execution_count": 152,
   "metadata": {
    "collapsed": false,
    "deletable": true,
    "editable": true,
    "jupyter": {
     "outputs_hidden": false
    }
   },
   "outputs": [
    {
     "data": {
      "text/plain": [
       "0.010974939437442589"
      ]
     },
     "execution_count": 152,
     "metadata": {},
     "output_type": "execute_result"
    }
   ],
   "source": [
    "deltaLCA = bw.LCA({wind:1, hydro:-1}, ipcc_2021_method.name)\n",
    "deltaLCA.lci()\n",
    "deltaLCA.lcia()\n",
    "deltaLCA.score"
   ]
  },
  {
   "cell_type": "code",
   "execution_count": 153,
   "metadata": {
    "collapsed": false,
    "deletable": true,
    "editable": true,
    "jupyter": {
     "outputs_hidden": false
    }
   },
   "outputs": [
    {
     "name": "stdout",
     "output_type": "stream",
     "text": [
      "Hydro is preferable\n"
     ]
    }
   ],
   "source": [
    "if deltaLCA.score>0:\n",
    "    print(\"Hydro is preferable\")\n",
    "elif deltaLCA.score<0:\n",
    "    print(\"Wind is preferable\")\n",
    "else:\n",
    "    print(\"Both options have the same climate change indicator result\")"
   ]
  },
  {
   "cell_type": "markdown",
   "metadata": {
    "deletable": true,
    "editable": true
   },
   "source": [
    "## 4) My third LCA - Multiple impact categories"
   ]
  },
  {
   "cell_type": "markdown",
   "metadata": {
    "deletable": true,
    "editable": true
   },
   "source": [
    "Say we want to evaluate the indicator results for our randomAct for all EF v3 categories (with long-term emissions)."
   ]
  },
  {
   "cell_type": "code",
   "execution_count": 177,
   "metadata": {
    "collapsed": false,
    "deletable": true,
    "editable": true,
    "jupyter": {
     "outputs_hidden": false
    }
   },
   "outputs": [
    {
     "data": {
      "text/plain": [
       "[('EF v3.1', 'acidification', 'accumulated exceedance (AE)'),\n",
       " ('EF v3.1', 'climate change', 'global warming potential (GWP100)'),\n",
       " ('EF v3.1', 'climate change: biogenic', 'global warming potential (GWP100)'),\n",
       " ('EF v3.1', 'climate change: fossil', 'global warming potential (GWP100)'),\n",
       " ('EF v3.1',\n",
       "  'climate change: land use and land use change',\n",
       "  'global warming potential (GWP100)'),\n",
       " ('EF v3.1',\n",
       "  'ecotoxicity: freshwater',\n",
       "  'comparative toxic unit for ecosystems (CTUe)'),\n",
       " ('EF v3.1',\n",
       "  'ecotoxicity: freshwater, inorganics',\n",
       "  'comparative toxic unit for ecosystems (CTUe)'),\n",
       " ('EF v3.1',\n",
       "  'ecotoxicity: freshwater, organics',\n",
       "  'comparative toxic unit for ecosystems (CTUe)')]"
      ]
     },
     "execution_count": 177,
     "metadata": {},
     "output_type": "execute_result"
    }
   ],
   "source": [
    "# Make a list of all impact method names (tuples):\n",
    "EFV3 = [method for method in bw.methods if \"EF v3.1\" in str(method) \n",
    "        and \"no LT\" not in str(method)\n",
    "        and \"EN15804\" not in str(method)][:8]\n",
    "EFV3"
   ]
  },
  {
   "cell_type": "markdown",
   "metadata": {
    "deletable": true,
    "editable": true
   },
   "source": [
    "Simplest way: for loop, using `switch method`"
   ]
  },
  {
   "cell_type": "code",
   "execution_count": 178,
   "metadata": {
    "collapsed": false,
    "deletable": true,
    "editable": true,
    "jupyter": {
     "outputs_hidden": false
    }
   },
   "outputs": [
    {
     "name": "stdout",
     "output_type": "stream",
     "text": [
      "Score is 0.040256 mol H+-Eq for category ('EF v3.1', 'acidification', 'accumulated exceedance (AE)')\n",
      "Score is 7.714623 kg CO2-Eq for category ('EF v3.1', 'climate change', 'global warming potential (GWP100)')\n",
      "Score is 0.004875 kg CO2-Eq for category ('EF v3.1', 'climate change: biogenic', 'global warming potential (GWP100)')\n",
      "Score is 7.701102 kg CO2-Eq for category ('EF v3.1', 'climate change: fossil', 'global warming potential (GWP100)')\n",
      "Score is 0.008646 kg CO2-Eq for category ('EF v3.1', 'climate change: land use and land use change', 'global warming potential (GWP100)')\n",
      "Score is 85.212570 CTUe for category ('EF v3.1', 'ecotoxicity: freshwater', 'comparative toxic unit for ecosystems (CTUe)')\n",
      "Score is 83.636611 CTUe for category ('EF v3.1', 'ecotoxicity: freshwater, inorganics', 'comparative toxic unit for ecosystems (CTUe)')\n",
      "Score is 1.575959 CTUe for category ('EF v3.1', 'ecotoxicity: freshwater, organics', 'comparative toxic unit for ecosystems (CTUe)')\n"
     ]
    },
    {
     "name": "stderr",
     "output_type": "stream",
     "text": [
      "/opt/homebrew/Caskroom/miniforge/base/envs/bw/lib/python3.11/site-packages/scikits/umfpack/umfpack.py:736: UmfpackWarning: (almost) singular matrix! (estimated cond. number: 3.58e+13)\n",
      "  warnings.warn(msg, UmfpackWarning)\n"
     ]
    }
   ],
   "source": [
    "myThirdLCA = bw.LCA({random_act:1}, EFV3[0]) # Do LCA with one impact category\n",
    "myThirdLCA.lci()\n",
    "myThirdLCA.lcia()\n",
    "for category in EFV3:\n",
    "    myThirdLCA.switch_method(category)\n",
    "    myThirdLCA.lcia()\n",
    "    print(\"Score is {:f} {} for category {}\".format(myThirdLCA.score, \n",
    "                                                 bw.Method(category).metadata['unit'],\n",
    "                                                 bw.Method(category).name)\n",
    "          )"
   ]
  },
  {
   "cell_type": "code",
   "execution_count": 179,
   "metadata": {
    "collapsed": false,
    "deletable": true,
    "editable": true,
    "jupyter": {
     "outputs_hidden": false
    }
   },
   "outputs": [],
   "source": [
    "myFirstLCA_unitProcessContribution = myFirstLCA.characterized_inventory.sum(axis=0).A1\n",
    "myFirstLCA_unitProcessRelativeContribution = myFirstLCA_unitProcessContribution/myFirstLCA.score"
   ]
  },
  {
   "cell_type": "markdown",
   "metadata": {
    "deletable": true,
    "editable": true
   },
   "source": [
    "## Revising my second and third LCA with `MultiLCA`"
   ]
  },
  {
   "cell_type": "markdown",
   "metadata": {
    "deletable": true,
    "editable": true
   },
   "source": [
    "The `MultiLCA` allows the calculation of LCA results for multiple functional units and impact categories.  \n",
    "One simply needs to create a `calculation setup`, i.e. a named set of functional units and LCIA methods."
   ]
  },
  {
   "cell_type": "markdown",
   "metadata": {
    "deletable": true,
    "editable": true
   },
   "source": [
    "Calculation setups: dictionary with lists of functional units and methods."
   ]
  },
  {
   "cell_type": "code",
   "execution_count": 180,
   "metadata": {
    "deletable": true,
    "editable": true,
    "tags": []
   },
   "outputs": [],
   "source": [
    "list_functional_units = [{wind.key:1}, {hydro.key:1}]\n",
    "list_methods = EFV3"
   ]
  },
  {
   "cell_type": "code",
   "execution_count": 181,
   "metadata": {
    "deletable": true,
    "editable": true,
    "tags": []
   },
   "outputs": [],
   "source": [
    "bw.calculation_setups['wind_vs_hydro'] = {'inv':list_functional_units, 'ia':list_methods}"
   ]
  },
  {
   "cell_type": "code",
   "execution_count": 182,
   "metadata": {
    "collapsed": false,
    "deletable": true,
    "editable": true,
    "jupyter": {
     "outputs_hidden": false
    }
   },
   "outputs": [
    {
     "data": {
      "text/plain": [
       "{'inv': [{('ecoinvent 3.9.1 cutoff', '2b0ebf51700ba8f7806d954dfe9c6e88'): 1},\n",
       "  {('ecoinvent 3.9.1 cutoff', '26d969deb5a11f75bcc501eac33cac48'): 1}],\n",
       " 'ia': [('EF v3.1', 'acidification', 'accumulated exceedance (AE)'),\n",
       "  ('EF v3.1', 'climate change', 'global warming potential (GWP100)'),\n",
       "  ('EF v3.1', 'climate change: biogenic', 'global warming potential (GWP100)'),\n",
       "  ('EF v3.1', 'climate change: fossil', 'global warming potential (GWP100)'),\n",
       "  ('EF v3.1',\n",
       "   'climate change: land use and land use change',\n",
       "   'global warming potential (GWP100)'),\n",
       "  ('EF v3.1',\n",
       "   'ecotoxicity: freshwater',\n",
       "   'comparative toxic unit for ecosystems (CTUe)'),\n",
       "  ('EF v3.1',\n",
       "   'ecotoxicity: freshwater, inorganics',\n",
       "   'comparative toxic unit for ecosystems (CTUe)'),\n",
       "  ('EF v3.1',\n",
       "   'ecotoxicity: freshwater, organics',\n",
       "   'comparative toxic unit for ecosystems (CTUe)')]}"
      ]
     },
     "execution_count": 182,
     "metadata": {},
     "output_type": "execute_result"
    }
   ],
   "source": [
    "bw.calculation_setups['wind_vs_hydro']"
   ]
  },
  {
   "cell_type": "code",
   "execution_count": 183,
   "metadata": {
    "collapsed": false,
    "deletable": true,
    "editable": true,
    "jupyter": {
     "outputs_hidden": false
    }
   },
   "outputs": [
    {
     "name": "stderr",
     "output_type": "stream",
     "text": [
      "/opt/homebrew/Caskroom/miniforge/base/envs/bw/lib/python3.11/site-packages/scikits/umfpack/umfpack.py:736: UmfpackWarning: (almost) singular matrix! (estimated cond. number: 1.55e+12)\n",
      "  warnings.warn(msg, UmfpackWarning)\n"
     ]
    }
   ],
   "source": [
    "myMultiLCA = bw.MultiLCA('wind_vs_hydro')"
   ]
  },
  {
   "cell_type": "code",
   "execution_count": 184,
   "metadata": {
    "collapsed": false,
    "deletable": true,
    "editable": true,
    "jupyter": {
     "outputs_hidden": false
    }
   },
   "outputs": [
    {
     "data": {
      "text/plain": [
       "(2, 8)"
      ]
     },
     "execution_count": 184,
     "metadata": {},
     "output_type": "execute_result"
    }
   ],
   "source": [
    "myMultiLCA.results.shape"
   ]
  },
  {
   "cell_type": "code",
   "execution_count": 185,
   "metadata": {
    "collapsed": false,
    "deletable": true,
    "editable": true,
    "jupyter": {
     "outputs_hidden": false
    }
   },
   "outputs": [
    {
     "data": {
      "text/plain": [
       "array([[9.11496471e-05, 1.45850994e-02, 1.86880817e-05, 1.45535343e-02,\n",
       "        1.28770270e-05, 9.32541204e-02, 8.79196112e-02, 5.33450920e-03],\n",
       "       [1.56553877e-05, 3.61015993e-03, 3.55513871e-06, 3.60531712e-03,\n",
       "        1.28766695e-06, 1.32246918e-02, 1.24500615e-02, 7.74630278e-04]])"
      ]
     },
     "execution_count": 185,
     "metadata": {},
     "output_type": "execute_result"
    }
   ],
   "source": [
    "myMultiLCA.results"
   ]
  },
  {
   "cell_type": "code",
   "execution_count": 186,
   "metadata": {
    "collapsed": false,
    "deletable": true,
    "editable": true,
    "jupyter": {
     "outputs_hidden": false
    }
   },
   "outputs": [],
   "source": [
    "df = pd.DataFrame(index=EFV3, columns=[wind['name'], hydro['name']], data=myMultiLCA.results.T)"
   ]
  },
  {
   "cell_type": "code",
   "execution_count": 187,
   "metadata": {},
   "outputs": [
    {
     "data": {
      "text/html": [
       "<div>\n",
       "<style scoped>\n",
       "    .dataframe tbody tr th:only-of-type {\n",
       "        vertical-align: middle;\n",
       "    }\n",
       "\n",
       "    .dataframe tbody tr th {\n",
       "        vertical-align: top;\n",
       "    }\n",
       "\n",
       "    .dataframe thead th {\n",
       "        text-align: right;\n",
       "    }\n",
       "</style>\n",
       "<table border=\"1\" class=\"dataframe\">\n",
       "  <thead>\n",
       "    <tr style=\"text-align: right;\">\n",
       "      <th></th>\n",
       "      <th>electricity production, wind, &lt;1MW turbine, onshore</th>\n",
       "      <th>electricity production, hydro, run-of-river</th>\n",
       "    </tr>\n",
       "  </thead>\n",
       "  <tbody>\n",
       "    <tr>\n",
       "      <th>(EF v3.1, acidification, accumulated exceedance (AE))</th>\n",
       "      <td>0.000091</td>\n",
       "      <td>0.000016</td>\n",
       "    </tr>\n",
       "    <tr>\n",
       "      <th>(EF v3.1, climate change, global warming potential (GWP100))</th>\n",
       "      <td>0.014585</td>\n",
       "      <td>0.003610</td>\n",
       "    </tr>\n",
       "    <tr>\n",
       "      <th>(EF v3.1, climate change: biogenic, global warming potential (GWP100))</th>\n",
       "      <td>0.000019</td>\n",
       "      <td>0.000004</td>\n",
       "    </tr>\n",
       "    <tr>\n",
       "      <th>(EF v3.1, climate change: fossil, global warming potential (GWP100))</th>\n",
       "      <td>0.014554</td>\n",
       "      <td>0.003605</td>\n",
       "    </tr>\n",
       "    <tr>\n",
       "      <th>(EF v3.1, climate change: land use and land use change, global warming potential (GWP100))</th>\n",
       "      <td>0.000013</td>\n",
       "      <td>0.000001</td>\n",
       "    </tr>\n",
       "  </tbody>\n",
       "</table>\n",
       "</div>"
      ],
      "text/plain": [
       "                                                    electricity production, wind, <1MW turbine, onshore  \\\n",
       "(EF v3.1, acidification, accumulated exceedance...                                           0.000091     \n",
       "(EF v3.1, climate change, global warming potent...                                           0.014585     \n",
       "(EF v3.1, climate change: biogenic, global warm...                                           0.000019     \n",
       "(EF v3.1, climate change: fossil, global warmin...                                           0.014554     \n",
       "(EF v3.1, climate change: land use and land use...                                           0.000013     \n",
       "\n",
       "                                                    electricity production, hydro, run-of-river  \n",
       "(EF v3.1, acidification, accumulated exceedance...                                     0.000016  \n",
       "(EF v3.1, climate change, global warming potent...                                     0.003610  \n",
       "(EF v3.1, climate change: biogenic, global warm...                                     0.000004  \n",
       "(EF v3.1, climate change: fossil, global warmin...                                     0.003605  \n",
       "(EF v3.1, climate change: land use and land use...                                     0.000001  "
      ]
     },
     "execution_count": 187,
     "metadata": {},
     "output_type": "execute_result"
    }
   ],
   "source": [
    "df.head()"
   ]
  },
  {
   "cell_type": "code",
   "execution_count": 188,
   "metadata": {},
   "outputs": [
    {
     "data": {
      "text/plain": [
       "<Axes: >"
      ]
     },
     "execution_count": 188,
     "metadata": {},
     "output_type": "execute_result"
    },
    {
     "data": {
      "image/png": "[encoded data removed]",
      "text/plain": [
       "<Figure size 640x480 with 1 Axes>"
      ]
     },
     "metadata": {},
     "output_type": "display_data"
    }
   ],
   "source": [
    "df.div(df.iloc[:, -1], 0).plot(kind=\"bar\")"
   ]
  },
  {
   "cell_type": "markdown",
   "metadata": {
    "deletable": true,
    "editable": true
   },
   "source": [
    "You can also create \"fuller\" DataFrames. Here is with code from [here](http://stackoverflow.com/questions/42984831/create-a-dataframe-from-multilca-results-in-brightway2): "
   ]
  },
  {
   "cell_type": "code",
   "execution_count": 189,
   "metadata": {
    "collapsed": false,
    "deletable": true,
    "editable": true,
    "jupyter": {
     "outputs_hidden": false
    }
   },
   "outputs": [
    {
     "data": {
      "text/html": [
       "<div>\n",
       "<style scoped>\n",
       "    .dataframe tbody tr th:only-of-type {\n",
       "        vertical-align: middle;\n",
       "    }\n",
       "\n",
       "    .dataframe tbody tr th {\n",
       "        vertical-align: top;\n",
       "    }\n",
       "\n",
       "    .dataframe thead th {\n",
       "        text-align: right;\n",
       "    }\n",
       "</style>\n",
       "<table border=\"1\" class=\"dataframe\">\n",
       "  <thead>\n",
       "    <tr style=\"text-align: right;\">\n",
       "      <th></th>\n",
       "      <th>0</th>\n",
       "      <th>1</th>\n",
       "    </tr>\n",
       "  </thead>\n",
       "  <tbody>\n",
       "    <tr>\n",
       "      <th>Database</th>\n",
       "      <td>ecoinvent 3.9.1 cutoff</td>\n",
       "      <td>ecoinvent 3.9.1 cutoff</td>\n",
       "    </tr>\n",
       "    <tr>\n",
       "      <th>Code</th>\n",
       "      <td>2b0ebf51700ba8f7806d954dfe9c6e88</td>\n",
       "      <td>26d969deb5a11f75bcc501eac33cac48</td>\n",
       "    </tr>\n",
       "    <tr>\n",
       "      <th>Name</th>\n",
       "      <td>electricity production, wind, &lt;1MW turbine, on...</td>\n",
       "      <td>electricity production, hydro, run-of-river</td>\n",
       "    </tr>\n",
       "    <tr>\n",
       "      <th>Location</th>\n",
       "      <td>IR</td>\n",
       "      <td>CH</td>\n",
       "    </tr>\n",
       "    <tr>\n",
       "      <th>Unit</th>\n",
       "      <td>kilowatt hour</td>\n",
       "      <td>kilowatt hour</td>\n",
       "    </tr>\n",
       "    <tr>\n",
       "      <th>Amount</th>\n",
       "      <td>1</td>\n",
       "      <td>1</td>\n",
       "    </tr>\n",
       "    <tr>\n",
       "      <th>(EF v3.1, acidification, accumulated exceedance (AE))</th>\n",
       "      <td>0.000091</td>\n",
       "      <td>0.000016</td>\n",
       "    </tr>\n",
       "    <tr>\n",
       "      <th>(EF v3.1, climate change, global warming potential (GWP100))</th>\n",
       "      <td>0.014585</td>\n",
       "      <td>0.00361</td>\n",
       "    </tr>\n",
       "    <tr>\n",
       "      <th>(EF v3.1, climate change: biogenic, global warming potential (GWP100))</th>\n",
       "      <td>0.000019</td>\n",
       "      <td>0.000004</td>\n",
       "    </tr>\n",
       "    <tr>\n",
       "      <th>(EF v3.1, climate change: fossil, global warming potential (GWP100))</th>\n",
       "      <td>0.014554</td>\n",
       "      <td>0.003605</td>\n",
       "    </tr>\n",
       "    <tr>\n",
       "      <th>(EF v3.1, climate change: land use and land use change, global warming potential (GWP100))</th>\n",
       "      <td>0.000013</td>\n",
       "      <td>0.000001</td>\n",
       "    </tr>\n",
       "    <tr>\n",
       "      <th>(EF v3.1, ecotoxicity: freshwater, comparative toxic unit for ecosystems (CTUe))</th>\n",
       "      <td>0.093254</td>\n",
       "      <td>0.013225</td>\n",
       "    </tr>\n",
       "    <tr>\n",
       "      <th>(EF v3.1, ecotoxicity: freshwater, inorganics, comparative toxic unit for ecosystems (CTUe))</th>\n",
       "      <td>0.08792</td>\n",
       "      <td>0.01245</td>\n",
       "    </tr>\n",
       "    <tr>\n",
       "      <th>(EF v3.1, ecotoxicity: freshwater, organics, comparative toxic unit for ecosystems (CTUe))</th>\n",
       "      <td>0.005335</td>\n",
       "      <td>0.000775</td>\n",
       "    </tr>\n",
       "  </tbody>\n",
       "</table>\n",
       "</div>"
      ],
      "text/plain": [
       "                                                                                                    0  \\\n",
       "Database                                                                       ecoinvent 3.9.1 cutoff   \n",
       "Code                                                                 2b0ebf51700ba8f7806d954dfe9c6e88   \n",
       "Name                                                electricity production, wind, <1MW turbine, on...   \n",
       "Location                                                                                           IR   \n",
       "Unit                                                                                    kilowatt hour   \n",
       "Amount                                                                                              1   \n",
       "(EF v3.1, acidification, accumulated exceedance...                                           0.000091   \n",
       "(EF v3.1, climate change, global warming potent...                                           0.014585   \n",
       "(EF v3.1, climate change: biogenic, global warm...                                           0.000019   \n",
       "(EF v3.1, climate change: fossil, global warmin...                                           0.014554   \n",
       "(EF v3.1, climate change: land use and land use...                                           0.000013   \n",
       "(EF v3.1, ecotoxicity: freshwater, comparative ...                                           0.093254   \n",
       "(EF v3.1, ecotoxicity: freshwater, inorganics, ...                                            0.08792   \n",
       "(EF v3.1, ecotoxicity: freshwater, organics, co...                                           0.005335   \n",
       "\n",
       "                                                                                              1  \n",
       "Database                                                                 ecoinvent 3.9.1 cutoff  \n",
       "Code                                                           26d969deb5a11f75bcc501eac33cac48  \n",
       "Name                                                electricity production, hydro, run-of-river  \n",
       "Location                                                                                     CH  \n",
       "Unit                                                                              kilowatt hour  \n",
       "Amount                                                                                        1  \n",
       "(EF v3.1, acidification, accumulated exceedance...                                     0.000016  \n",
       "(EF v3.1, climate change, global warming potent...                                      0.00361  \n",
       "(EF v3.1, climate change: biogenic, global warm...                                     0.000004  \n",
       "(EF v3.1, climate change: fossil, global warmin...                                     0.003605  \n",
       "(EF v3.1, climate change: land use and land use...                                     0.000001  \n",
       "(EF v3.1, ecotoxicity: freshwater, comparative ...                                     0.013225  \n",
       "(EF v3.1, ecotoxicity: freshwater, inorganics, ...                                      0.01245  \n",
       "(EF v3.1, ecotoxicity: freshwater, organics, co...                                     0.000775  "
      ]
     },
     "execution_count": 189,
     "metadata": {},
     "output_type": "execute_result"
    }
   ],
   "source": [
    "scores = pd.DataFrame(myMultiLCA.results, columns=myMultiLCA.methods)\n",
    "as_activities = [\n",
    "    (bw.get_activity(key), amount) \n",
    "    for dct in myMultiLCA.func_units \n",
    "    for key, amount in dct.items()\n",
    "]\n",
    "nicer_fu = pd.DataFrame(\n",
    "    [\n",
    "        (x['database'], x['code'], x['name'], x['location'], x['unit'], y) \n",
    "        for x, y in as_activities\n",
    "    ], \n",
    "    columns=('Database', 'Code', 'Name', 'Location', 'Unit', 'Amount')\n",
    ")\n",
    "pd.concat([nicer_fu, scores], axis=1).T"
   ]
  },
  {
   "cell_type": "markdown",
   "metadata": {},
   "source": [
    "## Uncertainty"
   ]
  },
  {
   "cell_type": "markdown",
   "metadata": {},
   "source": [
    "Values of exchanges in datasets may come with uncertainty.\n",
    "See [documentation](https://stats-arrays.readthedocs.io/en/latest/) of `stats_array`.\n",
    "\n",
    "Let's find out how uncertainty is defined in ecoinvent:"
   ]
  },
  {
   "cell_type": "code",
   "execution_count": 195,
   "metadata": {},
   "outputs": [
    {
     "name": "stdout",
     "output_type": "stream",
     "text": [
      "{'activity': '89aac91d-10df-5ca4-8625-b723a68432e1',\n",
      " 'amount': 1.5,\n",
      " 'classifications': {'CPC': ['41431: Unwrought aluminium']},\n",
      " 'comment': 'EcoSpold01Location=RER\\nEstimation:5% of aluminium parts replaced',\n",
      " 'flow': 'e77d9460-e423-4e88-8c44-d1a4545b0b07',\n",
      " 'input': ('ecoinvent 3.9.1 cutoff', 'f3128ab8a7df03c2c38e306c2967cd92'),\n",
      " 'loc': 0.4054651081081644,\n",
      " 'name': 'aluminium alloy, AlMg3',\n",
      " 'output': ('ecoinvent 3.9.1 cutoff', '872a0d9422aff8d44786042ba3df4a37'),\n",
      " 'pedigree': {'completeness': 2,\n",
      "              'further technological correlation': 3,\n",
      "              'geographical correlation': 5,\n",
      "              'reliability': 2,\n",
      "              'temporal correlation': 5},\n",
      " 'production volume': 0.0,\n",
      " 'properties': {'carbon allocation': {'amount': 0.0, 'unit': 'kg'},\n",
      "                'carbon content': {'amount': 0.0, 'unit': 'dimensionless'},\n",
      "                'carbon content, fossil': {'amount': 0.0,\n",
      "                                           'comment': 'AlMg3',\n",
      "                                           'unit': 'dimensionless'},\n",
      "                'carbon content, non-fossil': {'amount': 0.0,\n",
      "                                               'comment': 'AlMg3',\n",
      "                                               'unit': 'dimensionless'},\n",
      "                'dry mass': {'amount': 1.0, 'unit': 'kg'},\n",
      "                'water content': {'amount': 0.0,\n",
      "                                  'comment': 'water mass/dry mass',\n",
      "                                  'unit': 'dimensionless'},\n",
      "                'water in wet mass': {'amount': 0.0, 'unit': 'kg'},\n",
      "                'wet mass': {'amount': 1.0, 'unit': 'kg'}},\n",
      " 'scale': 0.24637369989509839,\n",
      " 'scale without pedigree': 0.1,\n",
      " 'type': 'technosphere',\n",
      " 'uncertainty type': 2,\n",
      " 'unit': 'kilogram'}\n",
      "<class 'stats_arrays.distributions.lognormal.LognormalUncertainty'>\n",
      "{'uncertainty type': 2, 'loc': 0.4054651081081644, 'scale': 0.24637369989509839}\n"
     ]
    }
   ],
   "source": [
    "act = bw.Database(\"ecoinvent 3.9.1 cutoff\").random()\n",
    "for e in act.exchanges():\n",
    "    if e[\"type\"] == \"technosphere\":\n",
    "        pprint(e.as_dict())\n",
    "        print(e.uncertainty_type)\n",
    "        print(e.uncertainty)\n",
    "        break"
   ]
  },
  {
   "cell_type": "markdown",
   "metadata": {},
   "source": [
    "### Running a stochastic analysis (Monte Carlo)"
   ]
  },
  {
   "cell_type": "code",
   "execution_count": 199,
   "metadata": {},
   "outputs": [],
   "source": [
    "iterations = 100\n",
    "results = np.zeros((2, iterations))"
   ]
  },
  {
   "cell_type": "code",
   "execution_count": 200,
   "metadata": {},
   "outputs": [],
   "source": [
    "FU_multi = [{wind.key:1}, {hydro.key:1}]"
   ]
  },
  {
   "cell_type": "code",
   "execution_count": 202,
   "metadata": {},
   "outputs": [
    {
     "name": "stdout",
     "output_type": "stream",
     "text": [
      "0\n"
     ]
    },
    {
     "name": "stderr",
     "output_type": "stream",
     "text": [
      "/opt/homebrew/Caskroom/miniforge/base/envs/bw/lib/python3.11/site-packages/scikits/umfpack/umfpack.py:736: UmfpackWarning: (almost) singular matrix! (estimated cond. number: 7.50e+13)\n",
      "  warnings.warn(msg, UmfpackWarning)\n"
     ]
    },
    {
     "name": "stdout",
     "output_type": "stream",
     "text": [
      "1\n"
     ]
    },
    {
     "name": "stderr",
     "output_type": "stream",
     "text": [
      "/opt/homebrew/Caskroom/miniforge/base/envs/bw/lib/python3.11/site-packages/scikits/umfpack/umfpack.py:736: UmfpackWarning: (almost) singular matrix! (estimated cond. number: 1.46e+13)\n",
      "  warnings.warn(msg, UmfpackWarning)\n"
     ]
    },
    {
     "name": "stdout",
     "output_type": "stream",
     "text": [
      "2\n"
     ]
    },
    {
     "name": "stderr",
     "output_type": "stream",
     "text": [
      "/opt/homebrew/Caskroom/miniforge/base/envs/bw/lib/python3.11/site-packages/scikits/umfpack/umfpack.py:736: UmfpackWarning: (almost) singular matrix! (estimated cond. number: 1.60e+13)\n",
      "  warnings.warn(msg, UmfpackWarning)\n"
     ]
    },
    {
     "name": "stdout",
     "output_type": "stream",
     "text": [
      "3\n"
     ]
    },
    {
     "name": "stderr",
     "output_type": "stream",
     "text": [
      "/opt/homebrew/Caskroom/miniforge/base/envs/bw/lib/python3.11/site-packages/scikits/umfpack/umfpack.py:736: UmfpackWarning: (almost) singular matrix! (estimated cond. number: 5.77e+13)\n",
      "  warnings.warn(msg, UmfpackWarning)\n"
     ]
    },
    {
     "name": "stdout",
     "output_type": "stream",
     "text": [
      "4\n"
     ]
    },
    {
     "name": "stderr",
     "output_type": "stream",
     "text": [
      "/opt/homebrew/Caskroom/miniforge/base/envs/bw/lib/python3.11/site-packages/scikits/umfpack/umfpack.py:736: UmfpackWarning: (almost) singular matrix! (estimated cond. number: 3.71e+13)\n",
      "  warnings.warn(msg, UmfpackWarning)\n"
     ]
    },
    {
     "name": "stdout",
     "output_type": "stream",
     "text": [
      "5\n"
     ]
    },
    {
     "name": "stderr",
     "output_type": "stream",
     "text": [
      "/opt/homebrew/Caskroom/miniforge/base/envs/bw/lib/python3.11/site-packages/scikits/umfpack/umfpack.py:736: UmfpackWarning: (almost) singular matrix! (estimated cond. number: 3.98e+13)\n",
      "  warnings.warn(msg, UmfpackWarning)\n"
     ]
    },
    {
     "name": "stdout",
     "output_type": "stream",
     "text": [
      "6\n"
     ]
    },
    {
     "name": "stderr",
     "output_type": "stream",
     "text": [
      "/opt/homebrew/Caskroom/miniforge/base/envs/bw/lib/python3.11/site-packages/scikits/umfpack/umfpack.py:736: UmfpackWarning: (almost) singular matrix! (estimated cond. number: 1.25e+14)\n",
      "  warnings.warn(msg, UmfpackWarning)\n"
     ]
    },
    {
     "name": "stdout",
     "output_type": "stream",
     "text": [
      "7\n"
     ]
    },
    {
     "name": "stderr",
     "output_type": "stream",
     "text": [
      "/opt/homebrew/Caskroom/miniforge/base/envs/bw/lib/python3.11/site-packages/scikits/umfpack/umfpack.py:736: UmfpackWarning: (almost) singular matrix! (estimated cond. number: 1.46e+14)\n",
      "  warnings.warn(msg, UmfpackWarning)\n"
     ]
    },
    {
     "name": "stdout",
     "output_type": "stream",
     "text": [
      "8\n",
      "9\n"
     ]
    },
    {
     "name": "stderr",
     "output_type": "stream",
     "text": [
      "/opt/homebrew/Caskroom/miniforge/base/envs/bw/lib/python3.11/site-packages/scikits/umfpack/umfpack.py:736: UmfpackWarning: (almost) singular matrix! (estimated cond. number: 1.18e+13)\n",
      "  warnings.warn(msg, UmfpackWarning)\n"
     ]
    },
    {
     "name": "stdout",
     "output_type": "stream",
     "text": [
      "10\n",
      "11\n"
     ]
    },
    {
     "name": "stderr",
     "output_type": "stream",
     "text": [
      "/opt/homebrew/Caskroom/miniforge/base/envs/bw/lib/python3.11/site-packages/scikits/umfpack/umfpack.py:736: UmfpackWarning: (almost) singular matrix! (estimated cond. number: 2.13e+13)\n",
      "  warnings.warn(msg, UmfpackWarning)\n"
     ]
    },
    {
     "name": "stdout",
     "output_type": "stream",
     "text": [
      "12\n",
      "13\n",
      "14\n"
     ]
    },
    {
     "name": "stderr",
     "output_type": "stream",
     "text": [
      "/opt/homebrew/Caskroom/miniforge/base/envs/bw/lib/python3.11/site-packages/scikits/umfpack/umfpack.py:736: UmfpackWarning: (almost) singular matrix! (estimated cond. number: 1.89e+13)\n",
      "  warnings.warn(msg, UmfpackWarning)\n"
     ]
    },
    {
     "name": "stdout",
     "output_type": "stream",
     "text": [
      "15\n"
     ]
    },
    {
     "name": "stderr",
     "output_type": "stream",
     "text": [
      "/opt/homebrew/Caskroom/miniforge/base/envs/bw/lib/python3.11/site-packages/scikits/umfpack/umfpack.py:736: UmfpackWarning: (almost) singular matrix! (estimated cond. number: 5.37e+13)\n",
      "  warnings.warn(msg, UmfpackWarning)\n"
     ]
    },
    {
     "name": "stdout",
     "output_type": "stream",
     "text": [
      "16\n",
      "17\n"
     ]
    },
    {
     "name": "stderr",
     "output_type": "stream",
     "text": [
      "/opt/homebrew/Caskroom/miniforge/base/envs/bw/lib/python3.11/site-packages/scikits/umfpack/umfpack.py:736: UmfpackWarning: (almost) singular matrix! (estimated cond. number: 6.29e+13)\n",
      "  warnings.warn(msg, UmfpackWarning)\n"
     ]
    },
    {
     "name": "stdout",
     "output_type": "stream",
     "text": [
      "18\n"
     ]
    },
    {
     "name": "stderr",
     "output_type": "stream",
     "text": [
      "/opt/homebrew/Caskroom/miniforge/base/envs/bw/lib/python3.11/site-packages/scikits/umfpack/umfpack.py:736: UmfpackWarning: (almost) singular matrix! (estimated cond. number: 4.07e+13)\n",
      "  warnings.warn(msg, UmfpackWarning)\n"
     ]
    },
    {
     "name": "stdout",
     "output_type": "stream",
     "text": [
      "19\n",
      "20\n"
     ]
    },
    {
     "ename": "KeyboardInterrupt",
     "evalue": "",
     "output_type": "error",
     "traceback": [
      "\u001b[0;31m---------------------------------------------------------------------------\u001b[0m",
      "\u001b[0;31mKeyboardInterrupt\u001b[0m                         Traceback (most recent call last)",
      "Cell \u001b[0;32mIn[202], line 10\u001b[0m\n\u001b[1;32m      8\u001b[0m \u001b[38;5;28;01mfor\u001b[39;00m i \u001b[38;5;129;01min\u001b[39;00m \u001b[38;5;28mrange\u001b[39m(iterations):\n\u001b[1;32m      9\u001b[0m     \u001b[38;5;28mprint\u001b[39m(i)\n\u001b[0;32m---> 10\u001b[0m     \u001b[38;5;28mnext\u001b[39m(mc)\n\u001b[1;32m     11\u001b[0m     \u001b[38;5;28;01mfor\u001b[39;00m j, fu \u001b[38;5;129;01min\u001b[39;00m \u001b[38;5;28menumerate\u001b[39m(FU_multi):\n\u001b[1;32m     12\u001b[0m         mc\u001b[38;5;241m.\u001b[39mredo_lcia(fu)\n",
      "File \u001b[0;32m/opt/homebrew/Caskroom/miniforge/base/envs/bw/lib/python3.11/site-packages/bw2calc/monte_carlo.py:115\u001b[0m, in \u001b[0;36mMonteCarloLCA.__next__\u001b[0;34m(self)\u001b[0m\n\u001b[1;32m    112\u001b[0m \u001b[38;5;28;01mif\u001b[39;00m \u001b[38;5;129;01mnot\u001b[39;00m \u001b[38;5;28mhasattr\u001b[39m(\u001b[38;5;28mself\u001b[39m, \u001b[38;5;124m\"\u001b[39m\u001b[38;5;124mdemand_array\u001b[39m\u001b[38;5;124m\"\u001b[39m):\n\u001b[1;32m    113\u001b[0m     \u001b[38;5;28mself\u001b[39m\u001b[38;5;241m.\u001b[39mbuild_demand_array()\n\u001b[0;32m--> 115\u001b[0m \u001b[38;5;28mself\u001b[39m\u001b[38;5;241m.\u001b[39mlci_calculation()\n\u001b[1;32m    116\u001b[0m \u001b[38;5;28;01mif\u001b[39;00m \u001b[38;5;28mself\u001b[39m\u001b[38;5;241m.\u001b[39mlcia:\n\u001b[1;32m    117\u001b[0m     \u001b[38;5;28mself\u001b[39m\u001b[38;5;241m.\u001b[39mlcia_calculation()\n",
      "File \u001b[0;32m/opt/homebrew/Caskroom/miniforge/base/envs/bw/lib/python3.11/site-packages/bw2calc/lca.py:350\u001b[0m, in \u001b[0;36mLCA.lci_calculation\u001b[0;34m(self)\u001b[0m\n\u001b[1;32m    344\u001b[0m \u001b[38;5;28;01mdef\u001b[39;00m \u001b[38;5;21mlci_calculation\u001b[39m(\u001b[38;5;28mself\u001b[39m):\n\u001b[1;32m    345\u001b[0m \u001b[38;5;250m    \u001b[39m\u001b[38;5;124;03m\"\"\"The actual LCI calculation.\u001b[39;00m\n\u001b[1;32m    346\u001b[0m \n\u001b[1;32m    347\u001b[0m \u001b[38;5;124;03m    Separated from ``lci`` to be reusable in cases where the matrices are already built, e.g. ``redo_lci`` and Monte Carlo classes.\u001b[39;00m\n\u001b[1;32m    348\u001b[0m \n\u001b[1;32m    349\u001b[0m \u001b[38;5;124;03m    \"\"\"\u001b[39;00m\n\u001b[0;32m--> 350\u001b[0m     \u001b[38;5;28mself\u001b[39m\u001b[38;5;241m.\u001b[39msupply_array \u001b[38;5;241m=\u001b[39m \u001b[38;5;28mself\u001b[39m\u001b[38;5;241m.\u001b[39msolve_linear_system()\n\u001b[1;32m    351\u001b[0m     \u001b[38;5;66;03m# Turn 1-d array into diagonal matrix\u001b[39;00m\n\u001b[1;32m    352\u001b[0m     count \u001b[38;5;241m=\u001b[39m \u001b[38;5;28mlen\u001b[39m(\u001b[38;5;28mself\u001b[39m\u001b[38;5;241m.\u001b[39mactivity_dict)\n",
      "File \u001b[0;32m/opt/homebrew/Caskroom/miniforge/base/envs/bw/lib/python3.11/site-packages/bw2calc/monte_carlo.py:71\u001b[0m, in \u001b[0;36mIterativeMonteCarlo.solve_linear_system\u001b[0;34m(self)\u001b[0m\n\u001b[1;32m     64\u001b[0m solution, status \u001b[38;5;241m=\u001b[39m \u001b[38;5;28mself\u001b[39m\u001b[38;5;241m.\u001b[39miter_solver(\n\u001b[1;32m     65\u001b[0m     \u001b[38;5;28mself\u001b[39m\u001b[38;5;241m.\u001b[39mtechnosphere_matrix,\n\u001b[1;32m     66\u001b[0m     \u001b[38;5;28mself\u001b[39m\u001b[38;5;241m.\u001b[39mdemand_array,\n\u001b[1;32m     67\u001b[0m     x0\u001b[38;5;241m=\u001b[39m\u001b[38;5;28mself\u001b[39m\u001b[38;5;241m.\u001b[39mguess,\n\u001b[1;32m     68\u001b[0m     atol\u001b[38;5;241m=\u001b[39m\u001b[38;5;124m'\u001b[39m\u001b[38;5;124mlegacy\u001b[39m\u001b[38;5;124m'\u001b[39m,\n\u001b[1;32m     69\u001b[0m     maxiter\u001b[38;5;241m=\u001b[39m\u001b[38;5;241m1000\u001b[39m)\n\u001b[1;32m     70\u001b[0m \u001b[38;5;28;01mif\u001b[39;00m status \u001b[38;5;241m!=\u001b[39m \u001b[38;5;241m0\u001b[39m:\n\u001b[0;32m---> 71\u001b[0m     \u001b[38;5;28;01mreturn\u001b[39;00m spsolve(\n\u001b[1;32m     72\u001b[0m         \u001b[38;5;28mself\u001b[39m\u001b[38;5;241m.\u001b[39mtechnosphere_matrix,\n\u001b[1;32m     73\u001b[0m         \u001b[38;5;28mself\u001b[39m\u001b[38;5;241m.\u001b[39mdemand_array\n\u001b[1;32m     74\u001b[0m     )\n\u001b[1;32m     75\u001b[0m \u001b[38;5;28;01mreturn\u001b[39;00m solution\n",
      "File \u001b[0;32m/opt/homebrew/Caskroom/miniforge/base/envs/bw/lib/python3.11/site-packages/scipy/sparse/linalg/_dsolve/linsolve.py:274\u001b[0m, in \u001b[0;36mspsolve\u001b[0;34m(A, b, permc_spec, use_umfpack)\u001b[0m\n\u001b[1;32m    272\u001b[0m     umf_family, A \u001b[38;5;241m=\u001b[39m _get_umf_family(A)\n\u001b[1;32m    273\u001b[0m     umf \u001b[38;5;241m=\u001b[39m umfpack\u001b[38;5;241m.\u001b[39mUmfpackContext(umf_family)\n\u001b[0;32m--> 274\u001b[0m     x \u001b[38;5;241m=\u001b[39m umf\u001b[38;5;241m.\u001b[39mlinsolve(umfpack\u001b[38;5;241m.\u001b[39mUMFPACK_A, A, b_vec,\n\u001b[1;32m    275\u001b[0m                      autoTranspose\u001b[38;5;241m=\u001b[39m\u001b[38;5;28;01mTrue\u001b[39;00m)\n\u001b[1;32m    276\u001b[0m \u001b[38;5;28;01melse\u001b[39;00m:\n\u001b[1;32m    277\u001b[0m     \u001b[38;5;28;01mif\u001b[39;00m b_is_vector \u001b[38;5;129;01mand\u001b[39;00m b_is_sparse:\n",
      "File \u001b[0;32m/opt/homebrew/Caskroom/miniforge/base/envs/bw/lib/python3.11/site-packages/scikits/umfpack/umfpack.py:771\u001b[0m, in \u001b[0;36mUmfpackContext.linsolve\u001b[0;34m(self, sys, mtx, rhs, autoTranspose)\u001b[0m\n\u001b[1;32m    768\u001b[0m     \u001b[38;5;28;01mraise\u001b[39;00m \u001b[38;5;167;01mValueError\u001b[39;00m(\u001b[38;5;124m'\u001b[39m\u001b[38;5;124msys must be in\u001b[39m\u001b[38;5;124m'\u001b[39m \u001b[38;5;241m%\u001b[39m umfSys)\n\u001b[1;32m    770\u001b[0m \u001b[38;5;28;01mif\u001b[39;00m \u001b[38;5;28mself\u001b[39m\u001b[38;5;241m.\u001b[39m_numeric \u001b[38;5;129;01mis\u001b[39;00m \u001b[38;5;28;01mNone\u001b[39;00m:\n\u001b[0;32m--> 771\u001b[0m     \u001b[38;5;28mself\u001b[39m\u001b[38;5;241m.\u001b[39mnumeric(mtx)\n\u001b[1;32m    772\u001b[0m \u001b[38;5;28;01melse\u001b[39;00m:\n\u001b[1;32m    773\u001b[0m     \u001b[38;5;28;01mif\u001b[39;00m \u001b[38;5;28mself\u001b[39m\u001b[38;5;241m.\u001b[39mmtx \u001b[38;5;129;01mis\u001b[39;00m \u001b[38;5;129;01mnot\u001b[39;00m mtx:\n",
      "File \u001b[0;32m/opt/homebrew/Caskroom/miniforge/base/envs/bw/lib/python3.11/site-packages/scikits/umfpack/umfpack.py:557\u001b[0m, in \u001b[0;36mUmfpackContext.numeric\u001b[0;34m(self, mtx)\u001b[0m\n\u001b[1;32m    554\u001b[0m \u001b[38;5;28mself\u001b[39m\u001b[38;5;241m.\u001b[39mfree_numeric()\n\u001b[1;32m    556\u001b[0m \u001b[38;5;28;01mif\u001b[39;00m \u001b[38;5;28mself\u001b[39m\u001b[38;5;241m.\u001b[39m_symbolic \u001b[38;5;129;01mis\u001b[39;00m \u001b[38;5;28;01mNone\u001b[39;00m:\n\u001b[0;32m--> 557\u001b[0m     \u001b[38;5;28mself\u001b[39m\u001b[38;5;241m.\u001b[39msymbolic(mtx)\n\u001b[1;32m    559\u001b[0m indx \u001b[38;5;241m=\u001b[39m \u001b[38;5;28mself\u001b[39m\u001b[38;5;241m.\u001b[39m_getIndx(mtx)\n\u001b[1;32m    561\u001b[0m failCount \u001b[38;5;241m=\u001b[39m \u001b[38;5;241m0\u001b[39m\n",
      "File \u001b[0;32m/opt/homebrew/Caskroom/miniforge/base/envs/bw/lib/python3.11/site-packages/scikits/umfpack/umfpack.py:522\u001b[0m, in \u001b[0;36mUmfpackContext.symbolic\u001b[0;34m(self, mtx)\u001b[0m\n\u001b[1;32m    518\u001b[0m     mtx\u001b[38;5;241m.\u001b[39msort_indices()\n\u001b[1;32m    520\u001b[0m \u001b[38;5;28;01mif\u001b[39;00m \u001b[38;5;28mself\u001b[39m\u001b[38;5;241m.\u001b[39misReal:\n\u001b[1;32m    521\u001b[0m     status, \u001b[38;5;28mself\u001b[39m\u001b[38;5;241m.\u001b[39m_symbolic\\\n\u001b[0;32m--> 522\u001b[0m             \u001b[38;5;241m=\u001b[39m \u001b[38;5;28mself\u001b[39m\u001b[38;5;241m.\u001b[39mfuns\u001b[38;5;241m.\u001b[39msymbolic(mtx\u001b[38;5;241m.\u001b[39mshape[\u001b[38;5;241m0\u001b[39m], mtx\u001b[38;5;241m.\u001b[39mshape[\u001b[38;5;241m1\u001b[39m],\n\u001b[1;32m    523\u001b[0m                                   mtx\u001b[38;5;241m.\u001b[39mindptr,\n\u001b[1;32m    524\u001b[0m                                   indx,\n\u001b[1;32m    525\u001b[0m                                   mtx\u001b[38;5;241m.\u001b[39mdata,\n\u001b[1;32m    526\u001b[0m                                   \u001b[38;5;28mself\u001b[39m\u001b[38;5;241m.\u001b[39mcontrol, \u001b[38;5;28mself\u001b[39m\u001b[38;5;241m.\u001b[39minfo)\n\u001b[1;32m    527\u001b[0m \u001b[38;5;28;01melse\u001b[39;00m:\n\u001b[1;32m    528\u001b[0m     real, imag \u001b[38;5;241m=\u001b[39m mtx\u001b[38;5;241m.\u001b[39mdata\u001b[38;5;241m.\u001b[39mreal\u001b[38;5;241m.\u001b[39mcopy(), mtx\u001b[38;5;241m.\u001b[39mdata\u001b[38;5;241m.\u001b[39mimag\u001b[38;5;241m.\u001b[39mcopy()\n",
      "File \u001b[0;32m/opt/homebrew/Caskroom/miniforge/base/envs/bw/lib/python3.11/site-packages/scikits/umfpack/_umfpack.py:572\u001b[0m, in \u001b[0;36mumfpack_dl_symbolic\u001b[0;34m(n_row, n_col, Ap, Ai, Ax, Control, Info)\u001b[0m\n\u001b[1;32m    570\u001b[0m \u001b[38;5;28;01mdef\u001b[39;00m \u001b[38;5;21mumfpack_dl_symbolic\u001b[39m(n_row, n_col, Ap, Ai, Ax, Control, Info):\n\u001b[1;32m    571\u001b[0m \u001b[38;5;250m    \u001b[39m\u001b[38;5;124mr\u001b[39m\u001b[38;5;124;03m\"\"\"umfpack_dl_symbolic(SuiteSparse_long n_row, SuiteSparse_long n_col, SuiteSparse_long const [] Ap, SuiteSparse_long const [] Ai, double const [] Ax, double const [20] Control, double [90] Info) -> SuiteSparse_long\"\"\"\u001b[39;00m\n\u001b[0;32m--> 572\u001b[0m     \u001b[38;5;28;01mreturn\u001b[39;00m __umfpack\u001b[38;5;241m.\u001b[39mumfpack_dl_symbolic(n_row, n_col, Ap, Ai, Ax, Control, Info)\n",
      "\u001b[0;31mKeyboardInterrupt\u001b[0m: "
     ]
    }
   ],
   "source": [
    "mc = bw.MonteCarloLCA(\n",
    "    FU_multi[0],\n",
    "    ipcc_2021_method.name,\n",
    "    #seed=1,\n",
    "    #presamples=[stochastic_filepath]\n",
    ")\n",
    "\n",
    "for i in range(iterations):\n",
    "    print(i)\n",
    "    next(mc)\n",
    "    for j, fu in enumerate(FU_multi):\n",
    "        mc.redo_lcia(fu)\n",
    "        results[j, i] = mc.score"
   ]
  },
  {
   "cell_type": "markdown",
   "metadata": {},
   "source": [
    "Let's visualize the results:"
   ]
  },
  {
   "cell_type": "code",
   "execution_count": 207,
   "metadata": {},
   "outputs": [
    {
     "data": {
      "text/html": [
       "<div>\n",
       "<style scoped>\n",
       "    .dataframe tbody tr th:only-of-type {\n",
       "        vertical-align: middle;\n",
       "    }\n",
       "\n",
       "    .dataframe tbody tr th {\n",
       "        vertical-align: top;\n",
       "    }\n",
       "\n",
       "    .dataframe thead th {\n",
       "        text-align: right;\n",
       "    }\n",
       "</style>\n",
       "<table border=\"1\" class=\"dataframe\">\n",
       "  <thead>\n",
       "    <tr style=\"text-align: right;\">\n",
       "      <th></th>\n",
       "      <th>Wind</th>\n",
       "      <th>Hydro</th>\n",
       "    </tr>\n",
       "  </thead>\n",
       "  <tbody>\n",
       "    <tr>\n",
       "      <th>0</th>\n",
       "      <td>0.014540</td>\n",
       "      <td>0.006751</td>\n",
       "    </tr>\n",
       "    <tr>\n",
       "      <th>1</th>\n",
       "      <td>0.015230</td>\n",
       "      <td>0.004918</td>\n",
       "    </tr>\n",
       "    <tr>\n",
       "      <th>2</th>\n",
       "      <td>0.044646</td>\n",
       "      <td>0.006851</td>\n",
       "    </tr>\n",
       "    <tr>\n",
       "      <th>3</th>\n",
       "      <td>0.017049</td>\n",
       "      <td>0.002987</td>\n",
       "    </tr>\n",
       "    <tr>\n",
       "      <th>4</th>\n",
       "      <td>0.014708</td>\n",
       "      <td>0.004179</td>\n",
       "    </tr>\n",
       "    <tr>\n",
       "      <th>...</th>\n",
       "      <td>...</td>\n",
       "      <td>...</td>\n",
       "    </tr>\n",
       "    <tr>\n",
       "      <th>95</th>\n",
       "      <td>0.000000</td>\n",
       "      <td>0.000000</td>\n",
       "    </tr>\n",
       "    <tr>\n",
       "      <th>96</th>\n",
       "      <td>0.000000</td>\n",
       "      <td>0.000000</td>\n",
       "    </tr>\n",
       "    <tr>\n",
       "      <th>97</th>\n",
       "      <td>0.000000</td>\n",
       "      <td>0.000000</td>\n",
       "    </tr>\n",
       "    <tr>\n",
       "      <th>98</th>\n",
       "      <td>0.000000</td>\n",
       "      <td>0.000000</td>\n",
       "    </tr>\n",
       "    <tr>\n",
       "      <th>99</th>\n",
       "      <td>0.000000</td>\n",
       "      <td>0.000000</td>\n",
       "    </tr>\n",
       "  </tbody>\n",
       "</table>\n",
       "<p>100 rows × 2 columns</p>\n",
       "</div>"
      ],
      "text/plain": [
       "        Wind     Hydro\n",
       "0   0.014540  0.006751\n",
       "1   0.015230  0.004918\n",
       "2   0.044646  0.006851\n",
       "3   0.017049  0.002987\n",
       "4   0.014708  0.004179\n",
       "..       ...       ...\n",
       "95  0.000000  0.000000\n",
       "96  0.000000  0.000000\n",
       "97  0.000000  0.000000\n",
       "98  0.000000  0.000000\n",
       "99  0.000000  0.000000\n",
       "\n",
       "[100 rows x 2 columns]"
      ]
     },
     "execution_count": 207,
     "metadata": {},
     "output_type": "execute_result"
    }
   ],
   "source": [
    "df = pd.DataFrame(results.T, columns=[\"Wind\", \"Hydro\"])\n",
    "df"
   ]
  },
  {
   "cell_type": "code",
   "execution_count": 209,
   "metadata": {},
   "outputs": [
    {
     "data": {
      "text/plain": [
       "<Axes: >"
      ]
     },
     "execution_count": 209,
     "metadata": {},
     "output_type": "execute_result"
    },
    {
     "data": {
      "image/png": "[encoded data removed]",
      "text/plain": [
       "<Figure size 640x480 with 1 Axes>"
      ]
     },
     "metadata": {},
     "output_type": "display_data"
    }
   ],
   "source": [
    "df[df.sum(axis=1)>0].boxplot()"
   ]
  },
  {
   "cell_type": "markdown",
   "metadata": {},
   "source": [
    "## Let's now look at the import and export of data\n",
    "\n",
    "Open the second notebook."
   ]
  },
  {
   "cell_type": "code",
   "execution_count": 211,
   "metadata": {},
   "outputs": [
    {
     "data": {
      "text/plain": [
       "('IPCC 2021', 'climate change', 'global warming potential (GWP100)')"
      ]
     },
     "execution_count": 211,
     "metadata": {},
     "output_type": "execute_result"
    }
   ],
   "source": [
    "ipcc_2021_method.name"
   ]
  },
  {
   "cell_type": "code",
   "execution_count": null,
   "metadata": {},
   "outputs": [],
   "source": []
  }
 ],
 "metadata": {
  "kernelspec": {
   "display_name": "Python 3 (ipykernel)",
   "language": "python",
   "name": "python3"
  },
  "language_info": {
   "codemirror_mode": {
    "name": "ipython",
    "version": 3
   },
   "file_extension": ".py",
   "mimetype": "text/x-python",
   "name": "python",
   "nbconvert_exporter": "python",
   "pygments_lexer": "ipython3",
   "version": "3.11.8"
  },
  "widgets": {
   "state": {},
   "version": "1.1.2"
  }
 },
 "nbformat": 4,
 "nbformat_minor": 4
}
