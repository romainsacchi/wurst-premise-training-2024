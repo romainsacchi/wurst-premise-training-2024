{
 "cells": [
  {
   "cell_type": "markdown",
   "id": "3451dd88",
   "metadata": {},
   "source": [
    "## Wurst Tutorial\n",
    "\n",
    "#### Github repository: [https://github.com/polca/wurst](https://github.com/polca/wurst)\n",
    "#### Documentation: [https://wurst.readthedocs.io/](https://wurst.readthedocs.io/)\n",
    "#### Wurst authors: Chris Mutel, Brian Cox\n",
    "#### Tutorial author: Romain Sacchi\n",
    "#### Duration: 1.5 hours"
   ]
  },
  {
   "cell_type": "markdown",
   "id": "5e1b5708-7ae8-4959-bb8c-99e459934ee6",
   "metadata": {},
   "source": [
    "### Exercise 1: Prospective Assessment of Future Solar PV Technologies\n",
    "\n",
    "#### Background:\n",
    "The European energy agency is keen on understanding the potential future of solar PV technology. \n",
    "With advances in research, there are predictions of enhanced module efficiency, changes in supply chains, \n",
    "and extended lifetimes for PV modules in the next decade.\n",
    "\n",
    "#### Objective:\n",
    "To modify the ecoinvent data to reflect these anticipated changes and evaluate the prospective environmental \n",
    "benefits or potential concerns of these future solar PV technologies."
   ]
  },
  {
   "cell_type": "markdown",
   "id": "275d199a",
   "metadata": {},
   "source": [
    "### 1. Introduction:"
   ]
  },
  {
   "cell_type": "markdown",
   "id": "b69c6b40",
   "metadata": {},
   "source": [
    "`wurst` is a Python library tailored for performing operations Life Cycle Assessment (LCA) data, especially the [ecoinvent](https://ecoinvent.org/) database. It provides tools to search, filter, modify, and link LCA datasets. It is a core library of [`premise`](https://github.com/polca/premise), and certainly a core library of the [POLCA](https://github.com/polca/) tool kit."
   ]
  },
  {
   "cell_type": "markdown",
   "id": "3fef1684-04a9-4f55-9363-b92fb5f2a7a5",
   "metadata": {},
   "source": [
    "### Data Exploration:\n",
    "\n",
    "1. Load the ecoinvent database.\n",
    "2. Extract all processes related to European solar PV."
   ]
  },
  {
   "cell_type": "markdown",
   "id": "ca24f424",
   "metadata": {},
   "source": [
    "### 2. Import"
   ]
  },
  {
   "cell_type": "markdown",
   "id": "155488c4-8659-49c6-9e2e-efc233542a20",
   "metadata": {},
   "source": [
    "#### 2.1 activate a project with ecoinvent"
   ]
  },
  {
   "cell_type": "markdown",
   "id": "a90b83d3-80d7-48e4-ac54-c9d7d60d32a6",
   "metadata": {},
   "source": [
    "#### 2.2 list databases"
   ]
  },
  {
   "cell_type": "markdown",
   "id": "17124253",
   "metadata": {},
   "source": [
    "### 3. Extracting Data:"
   ]
  },
  {
   "cell_type": "markdown",
   "id": "eaf67653-e8b8-4153-8669-5c551aea4073",
   "metadata": {},
   "source": [
    "Import additional inventories"
   ]
  },
  {
   "cell_type": "markdown",
   "id": "5e0f6851-f57d-4983-8ec3-6c320d1d541a",
   "metadata": {},
   "source": [
    "#### 3.1 Pickle database\n",
    "Doing so allows us to load directly the database without going through extraction again."
   ]
  },
  {
   "cell_type": "markdown",
   "id": "d01fb01a-ded6-4db8-8219-de2e47d28d60",
   "metadata": {},
   "source": [
    "#### 3.2 Load database\n",
    "Create a function that will unpickle our database, to avoid extracting it from the brightway project."
   ]
  },
  {
   "cell_type": "markdown",
   "id": "98cac1c8",
   "metadata": {},
   "source": [
    "### 4. Searching for Processes:"
   ]
  },
  {
   "cell_type": "markdown",
   "id": "050207de-f0c3-4f3c-af93-293b2a70d1a6",
   "metadata": {},
   "source": [
    "Let's search for European solar panels in ecoinvent."
   ]
  },
  {
   "cell_type": "markdown",
   "id": "41f03dd4-24f7-447a-a566-01d04a2ff963",
   "metadata": {},
   "source": [
    "Let's remove markets"
   ]
  },
  {
   "cell_type": "markdown",
   "id": "698cc4ad-481c-4c47-87de-c474b42984d7",
   "metadata": {},
   "source": [
    "Let's also remove electricity producing datasets"
   ]
  },
  {
   "cell_type": "markdown",
   "id": "21ab8097",
   "metadata": {},
   "source": [
    "### 5. Filtering Data:\n",
    "List only European datasets"
   ]
  },
  {
   "attachments": {},
   "cell_type": "markdown",
   "id": "e12912c5-2e81-4b84-a492-0219563eab02",
   "metadata": {},
   "source": [
    "### Modify Module Efficiency:\n",
    "\n",
    "Increase the efficiency of solar PV modules by a certain amount based on future predictions.\n",
    "We can do so by reducing the area of panels needed per kilowatt-peak installation.\n",
    "\n",
    "Here are some efficiency projections we can use:\n",
    "\t\t\t\t\t\t\t\r",
    "| Synthesis           |           |      |          |           |          |      |      |      |\n",
    "|---------------------|-----------|------|----------|-----------|----------|------|------|------|\n",
    "| % module efficiency | ribbon-Si | a-Si | micro-Si | single-Si | multi-Si | CIGS | CIS  | CdTe |\n",
    "| 2005                |           |      |          |           |          |      |      |      |\n",
    "| 2010                | 9         | 9.5  | 10       | 15.1      | 14       | 11   | 11   | 10   |\n",
    "| 2020                | 12        | 12.5 | 11.9     | 17.9      | 16.8     | 14   | 14   | 16.8 |\n",
    "| 2050                | 13.5      | 14.2 | 12.5     | 26.7      | 24.4     | 23.4 | 23.4 | 21   |4\t21\n"
   ]
  },
  {
   "cell_type": "markdown",
   "id": "72a1c547",
   "metadata": {},
   "source": [
    "### 6. Transforming Datasets:\n",
    "\n",
    "#### Module efficiency\n",
    "We want to look into the solar PV installation datasets and:\n",
    "1. Identify the installation power\n",
    "2. Identify the current efficiency\n",
    "3. Identifiy the technology\n",
    "4. Fetch the new efficiency\n",
    "5. Modify the inputs accodingly"
   ]
  },
  {
   "cell_type": "markdown",
   "id": "ff69df80-f1ef-443c-a53e-ebc0475a3960",
   "metadata": {},
   "source": [
    "### Extend Module Lifetime:\n",
    "\n",
    "Increase the operational lifetime of the solar PV modules from the typical 25 years to, say, 30 years in 2035 and 40 years in 2050.\n",
    "This modification will affect the input requirements per kilowatt hour produced."
   ]
  },
  {
   "cell_type": "markdown",
   "id": "c531e9cd-de3e-4e44-b17f-9d26599c8fc4",
   "metadata": {},
   "source": [
    "### Decarbonize the production of aluminium\n",
    "\n",
    "PV panel installations require substantial amounts of aliminium for the panel frame itself, but also, and mostly, for the mounting system.\n",
    "\n",
    "The production of alumiminium in certain regions still relies to a significant extent on fossil-based electricity (see *market for electricity, high voltage, aluminium industry*). The European Environmental Agency foresees that, while natural gas-based electricity will still be used by aluminum smelters, coal will slowly be phased out: by half by 2035, and completely by 2050.\n",
    "\n",
    "The European Environmental Agency also thinks that natural gas-fired power plants will be 5% and 10% more efficient by 2035 and 2050, relative to today. "
   ]
  },
  {
   "cell_type": "markdown",
   "id": "29fba6e3-9331-404d-94f5-ec1048707c5e",
   "metadata": {},
   "source": [
    "### 7. Running the script:\n",
    "\n",
    "Run the three transformation functions for 2035 and 2050"
   ]
  },
  {
   "cell_type": "markdown",
   "id": "d4183539",
   "metadata": {},
   "source": [
    "### 8. Exporting Databases:"
   ]
  },
  {
   "cell_type": "markdown",
   "id": "7a5784ac-3084-4cdb-a1c8-081bf08abfb2",
   "metadata": {},
   "source": [
    "### 9. Comparing results:"
   ]
  },
  {
   "cell_type": "markdown",
   "id": "503ee7f2-ee6d-490d-b136-288d72319b14",
   "metadata": {},
   "source": [
    "### 10. Bonus: can you show the respective tranformation contributions?"
   ]
  },
  {
   "cell_type": "markdown",
   "id": "6d629aea-6716-4671-ab15-2a783185468a",
   "metadata": {},
   "source": [
    "### 11. Bonus 2: Home storage systems\n",
    "\n",
    "#### Exercise 2: Estimating Home Energy Storage Capacity\n",
    "\n",
    "#### Background:\n",
    "You want to purchase a solar photovoltaic system for the roof of your residence. \n",
    "This system converts sunlight into electricity that powers your home. \n",
    "On days when the system produces more electricity than your home consumes, \n",
    "the excess energy can be stored in batteries for use during nighttime or on days when the sun isn't shining.\n",
    "\n",
    "#### Objective:\n",
    "\n",
    "1. Estimate the solar PV installation and storage capacities required for your home energy storage system, considering only \n",
    "the excess solar production that isn't consumed directly by the household during daylight time.\n",
    "2. Add the storage capacity in photovoltaic electricity production datasets\n",
    "3. Estimate the increase in carbon footprint resulting from home energy storage.\n",
    "\n",
    "Given:\n",
    "\n",
    "1. On average, your location in Switzerland receives 5 hours of effective sunlight per day (i.e., full load).\n",
    "2. Your household's electricity consumption is 10 kWh during daylight, and 5 kWh during nighttime.\n",
    "3. You want the storage system to provide enough for the nighttime.\n",
    "4. Batteries typically have a recommended Depth of Discharge (DoD) of 90%, meaning only 90% of their total capacity should be used to ensure a longer lifespan.\n",
    "Energy storage systems have a round-trip efficiency of 80%. This accounts for energy losses during the charging and discharging processes. Also,\n",
    "we assume a 3,000 cycles lifetime for the battery cells (where 1 day = 1 cycle), while the Balance of Plant can outlast the PV installation.\n",
    "Finally, 30% of the battery system mass is the Balance of Plant."
   ]
  },
  {
   "cell_type": "code",
   "execution_count": null,
   "id": "b3906d8c-1bfa-4713-92c8-e0ca084796b7",
   "metadata": {},
   "outputs": [],
   "source": []
  }
 ],
 "metadata": {
  "kernelspec": {
   "display_name": "Python 3 (ipykernel)",
   "language": "python",
   "name": "python3"
  },
  "language_info": {
   "codemirror_mode": {
    "name": "ipython",
    "version": 3
   },
   "file_extension": ".py",
   "mimetype": "text/x-python",
   "name": "python",
   "nbconvert_exporter": "python",
   "pygments_lexer": "ipython3",
   "version": "3.11.8"
  }
 },
 "nbformat": 4,
 "nbformat_minor": 5
}
