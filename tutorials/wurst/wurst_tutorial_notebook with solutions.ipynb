{
 "cells": [
  {
   "cell_type": "markdown",
   "id": "3451dd88",
   "metadata": {},
   "source": [
    "## Wurst Tutorial\n",
    "\n",
    "#### Github repository: [https://github.com/polca/wurst](https://github.com/polca/wurst)\n",
    "#### Documentation: [https://wurst.readthedocs.io/](https://wurst.readthedocs.io/)\n",
    "#### Wurst authors: Chris Mutel, Brian Cox\n",
    "#### Tutorial author: Romain Sacchi\n",
    "#### Duration: 1.5 hours"
   ]
  },
  {
   "cell_type": "markdown",
   "id": "5e1b5708-7ae8-4959-bb8c-99e459934ee6",
   "metadata": {},
   "source": [
    "### Scenario: Prospective Assessment of Future Solar PV Technologies\n",
    "\n",
    "#### Background:\n",
    "The Canadian energy agency is keen on understanding the potential future of solar PV technology. \n",
    "With advances in research, there are predictions of enhanced module efficiency, changes in supply chains, \n",
    "and extended lifetimes for PV modules in the next decade.\n",
    "\n",
    "#### Objective:\n",
    "To modify the ecoinvent data to reflect these anticipated changes and evaluate the prospective environmental \n",
    "benefits or potential concerns of these future solar PV technologies."
   ]
  },
  {
   "cell_type": "markdown",
   "id": "275d199a",
   "metadata": {},
   "source": [
    "### 1. Introduction:"
   ]
  },
  {
   "cell_type": "markdown",
   "id": "b69c6b40",
   "metadata": {},
   "source": [
    "`wurst` is a Python library tailored for performing operations Life Cycle Assessment (LCA) data, especially the [ecoinvent](https://ecoinvent.org/) database. It provides tools to search, filter, modify, and link LCA datasets. It is a core library of [`premise`](https://github.com/polca/premise)."
   ]
  },
  {
   "cell_type": "markdown",
   "id": "3fef1684-04a9-4f55-9363-b92fb5f2a7a5",
   "metadata": {},
   "source": [
    "### Data Exploration:\n",
    "\n",
    "1. Load the ecoinvent database.\n",
    "2. Extract all processes related to European solar PV."
   ]
  },
  {
   "cell_type": "markdown",
   "id": "ca24f424",
   "metadata": {},
   "source": [
    "### 2. Import:"
   ]
  },
  {
   "cell_type": "code",
   "execution_count": null,
   "id": "f28948db-e55c-4da3-b9b0-fa51add5403a",
   "metadata": {
    "tags": []
   },
   "outputs": [],
   "source": [
    "import wurst\n",
    "import bw2io, bw2data"
   ]
  },
  {
   "cell_type": "code",
   "execution_count": null,
   "id": "251b22ef-a424-4000-bf8e-228b7e3fc01c",
   "metadata": {},
   "outputs": [],
   "source": [
    "bw2data.projects"
   ]
  },
  {
   "cell_type": "code",
   "execution_count": null,
   "id": "5ee5e944-8bff-49fe-b05a-197d40e3ff7f",
   "metadata": {},
   "outputs": [],
   "source": [
    "if \"wurst\" in bw2data.projects:\n",
    "    bw2data.projects.delete_project(\"wurst\", delete_dir=True)"
   ]
  },
  {
   "cell_type": "code",
   "execution_count": null,
   "id": "51044d66-ce33-4d8b-bf55-f8bceb72a220",
   "metadata": {},
   "outputs": [],
   "source": [
    "bw2data.projects.set_current(\"toronto\")"
   ]
  },
  {
   "cell_type": "code",
   "execution_count": null,
   "id": "47a27fc7-b943-451d-96d2-167553ff2eda",
   "metadata": {},
   "outputs": [],
   "source": [
    "bw2data.projects.dir"
   ]
  },
  {
   "cell_type": "code",
   "execution_count": null,
   "id": "02ab28fb-6d57-4476-a9de-93382cf4def7",
   "metadata": {},
   "outputs": [],
   "source": [
    "bw2io.bw2setup()"
   ]
  },
  {
   "cell_type": "code",
   "execution_count": null,
   "id": "a744a6e6-0cfe-4677-9ea2-ee90150f47b8",
   "metadata": {},
   "outputs": [],
   "source": [
    "# file path to the place with the ecoinvent spold files (datasets directory)\n",
    "fpei39 = \"/Users/romain/Documents/ecoinvent 3.9.1_cutoff_ecoSpold02/datasets\"\n",
    "if 'ecoinvent 3.9.1 cutoff' in bw2data.databases:\n",
    "    print(\"Database has already been imported\")\n",
    "else:\n",
    "    ei39 = bw2io.SingleOutputEcospold2Importer(fpei39, 'ecoinvent 3.9.1 cutoff')\n",
    "    ei39.apply_strategies()\n",
    "    ei39.statistics()\n",
    "\n",
    "    if len(list(ei39.unlinked)) == 0:\n",
    "        ei39.write_database()"
   ]
  },
  {
   "cell_type": "code",
   "execution_count": null,
   "id": "e272b907-0d83-4400-82b0-40d9e6b44f38",
   "metadata": {},
   "outputs": [],
   "source": [
    "ei39.write_database()"
   ]
  },
  {
   "cell_type": "markdown",
   "id": "155488c4-8659-49c6-9e2e-efc233542a20",
   "metadata": {},
   "source": [
    "#### 2.1 activate a project with ecoinvent"
   ]
  },
  {
   "cell_type": "code",
   "execution_count": null,
   "id": "cf6f4850-a44d-45e2-8daf-f6587ae16f51",
   "metadata": {},
   "outputs": [],
   "source": [
    "bw2data.projects"
   ]
  },
  {
   "cell_type": "code",
   "execution_count": null,
   "id": "26948edf-d45a-4082-a233-1151276905b5",
   "metadata": {
    "tags": []
   },
   "outputs": [],
   "source": [
    "bw2data.projects.set_current(\"toronto\")"
   ]
  },
  {
   "cell_type": "markdown",
   "id": "a90b83d3-80d7-48e4-ac54-c9d7d60d32a6",
   "metadata": {},
   "source": [
    "#### 2.2 list databases"
   ]
  },
  {
   "cell_type": "code",
   "execution_count": null,
   "id": "5e868c55-4a3d-445f-b0a7-45b88a471dc8",
   "metadata": {
    "tags": []
   },
   "outputs": [],
   "source": [
    "bw2data.databases"
   ]
  },
  {
   "cell_type": "markdown",
   "id": "17124253",
   "metadata": {},
   "source": [
    "### 3. Extracting Data:"
   ]
  },
  {
   "cell_type": "markdown",
   "id": "dfefe154-427e-4efc-ac5b-d09b9e4339aa",
   "metadata": {},
   "source": [
    "Here, we demonstrate `wurst`'s `extract_brightway2_databases`, which extracts \n",
    "a database from a `brightway` project and turns it into a list of dictionaries."
   ]
  },
  {
   "cell_type": "code",
   "execution_count": null,
   "id": "d062bc8e",
   "metadata": {
    "tags": []
   },
   "outputs": [],
   "source": [
    "database = wurst.extract_brightway2_databases(\"ei39cutoff\")"
   ]
  },
  {
   "cell_type": "code",
   "execution_count": null,
   "id": "e6249e6e-244c-4e64-8627-37204a131876",
   "metadata": {},
   "outputs": [],
   "source": [
    "type(database)"
   ]
  },
  {
   "cell_type": "code",
   "execution_count": null,
   "id": "8af50cdf-04ce-4b42-a457-98efc7224220",
   "metadata": {},
   "outputs": [],
   "source": [
    "len(database)"
   ]
  },
  {
   "cell_type": "markdown",
   "id": "eaf67653-e8b8-4153-8669-5c551aea4073",
   "metadata": {},
   "source": [
    "Import additional inventories"
   ]
  },
  {
   "cell_type": "markdown",
   "id": "5e0f6851-f57d-4983-8ec3-6c320d1d541a",
   "metadata": {},
   "source": [
    "#### 3.1 Pickle database\n",
    "Doing so allows us to load directly the database without going through extraction again."
   ]
  },
  {
   "cell_type": "code",
   "execution_count": null,
   "id": "18cfed51-a86b-46c5-bffe-315521fea094",
   "metadata": {
    "tags": []
   },
   "outputs": [],
   "source": [
    "import pickle\n",
    "\n",
    "with open(r\"ei391.pickle\", \"wb\") as output_file:\n",
    "    pickle.dump(database, output_file)"
   ]
  },
  {
   "cell_type": "markdown",
   "id": "d01fb01a-ded6-4db8-8219-de2e47d28d60",
   "metadata": {},
   "source": [
    "#### 3.2 Load database\n",
    "Create a function that will unpickle our database, to avoid extracting it from the brightway project."
   ]
  },
  {
   "cell_type": "code",
   "execution_count": null,
   "id": "d00bc09d-9034-461f-b3e2-ebc435b99980",
   "metadata": {
    "tags": []
   },
   "outputs": [],
   "source": [
    "import pickle\n",
    "\n",
    "def load_db():\n",
    "    with open(r\"ei391.pickle\", \"rb\") as input_file:\n",
    "        db = pickle.load(input_file)\n",
    "\n",
    "    for ds in db:\n",
    "        if \"categories\" in ds:\n",
    "            del ds[\"categories\"]\n",
    "            \n",
    "    return db"
   ]
  },
  {
   "cell_type": "code",
   "execution_count": null,
   "id": "bbdbff97-1311-410d-88ef-2c29d2632a34",
   "metadata": {
    "tags": []
   },
   "outputs": [],
   "source": [
    "db = load_db()"
   ]
  },
  {
   "cell_type": "code",
   "execution_count": null,
   "id": "c5ab02ea-2ef0-4f98-8b6d-37e369fc547e",
   "metadata": {
    "tags": []
   },
   "outputs": [],
   "source": [
    "len(db)"
   ]
  },
  {
   "cell_type": "code",
   "execution_count": null,
   "id": "b93129f3-9599-4158-9c37-da107650842f",
   "metadata": {
    "tags": []
   },
   "outputs": [],
   "source": [
    "database == db"
   ]
  },
  {
   "cell_type": "code",
   "execution_count": null,
   "id": "529bbd06-5d60-4c9f-9bb0-f476aa5cffe7",
   "metadata": {
    "tags": []
   },
   "outputs": [],
   "source": [
    "# let's create three databases for 2020, 2035 and 2050\n",
    "db_2020 = load_db()\n",
    "db_2035 = load_db()\n",
    "db_2050 = load_db()"
   ]
  },
  {
   "cell_type": "code",
   "execution_count": null,
   "id": "7ca6d5c2-7480-4fda-88a0-83ecffbb7c27",
   "metadata": {},
   "outputs": [],
   "source": [
    "len(db_2050)"
   ]
  },
  {
   "cell_type": "code",
   "execution_count": null,
   "id": "ccab7c50-f1f7-4fbc-a41e-feee3fc30d43",
   "metadata": {
    "tags": []
   },
   "outputs": [],
   "source": [
    "# and we delete database and db\n",
    "del database\n",
    "del db"
   ]
  },
  {
   "cell_type": "markdown",
   "id": "98cac1c8",
   "metadata": {},
   "source": [
    "### 4. Searching for Processes:"
   ]
  },
  {
   "cell_type": "markdown",
   "id": "050207de-f0c3-4f3c-af93-293b2a70d1a6",
   "metadata": {},
   "source": [
    "Let's search for Cnadian solar panels in ecoinvent."
   ]
  },
  {
   "cell_type": "markdown",
   "id": "f088f749-7025-49c3-a0bc-dcf540294ab6",
   "metadata": {},
   "source": [
    "Here, we deomnstrate `wurst`'s searching capabilities, with:\n",
    "- `get_one()`: return many datasets that meet the search criteria\n",
    "- `get_many()`: return only one dataset that meet the search criteria"
   ]
  },
  {
   "cell_type": "code",
   "execution_count": null,
   "id": "9926ea7f-148a-487e-8196-5916f25e539c",
   "metadata": {
    "tags": []
   },
   "outputs": [],
   "source": [
    "import wurst.searching as ws"
   ]
  },
  {
   "cell_type": "code",
   "execution_count": null,
   "id": "1acfeaf8",
   "metadata": {
    "tags": []
   },
   "outputs": [],
   "source": [
    "solar_pv = ws.get_many(db_2020, \n",
    "    ws.contains(\"name\", \"photovoltaic\")\n",
    ")\n",
    "\n",
    "for ds in solar_pv:\n",
    "    print(ds[\"name\"])"
   ]
  },
  {
   "cell_type": "markdown",
   "id": "41f03dd4-24f7-447a-a566-01d04a2ff963",
   "metadata": {},
   "source": [
    "Let's remove markets"
   ]
  },
  {
   "cell_type": "code",
   "execution_count": null,
   "id": "078650b0-d7b6-41c4-9fa9-e7c94499fe3e",
   "metadata": {
    "tags": []
   },
   "outputs": [],
   "source": [
    "solar_pv = ws.get_many(db_2020, \n",
    "    ws.contains(\"name\", \"photovoltaic\"),\n",
    "    ws.exclude(\n",
    "        ws.contains(\"name\", \"market for\"),\n",
    "    )\n",
    ")\n",
    "\n",
    "for ds in solar_pv:\n",
    "    print(ds[\"name\"])"
   ]
  },
  {
   "cell_type": "markdown",
   "id": "698cc4ad-481c-4c47-87de-c474b42984d7",
   "metadata": {},
   "source": [
    "Let's also remove electricity producing datasets"
   ]
  },
  {
   "cell_type": "code",
   "execution_count": null,
   "id": "4efc94f9-e6ac-4f05-b0c3-6f6f3d2e82b0",
   "metadata": {
    "tags": []
   },
   "outputs": [],
   "source": [
    "pv_filter = [\n",
    "    ws.contains(\"name\", \"photovoltaic\"),\n",
    "    ws.either(\n",
    "        ws.contains(\"name\", \"installation\"),\n",
    "        ws.contains(\"name\", \"construction\"),\n",
    "    ),\n",
    "    ws.exclude(ws.contains(\"name\", \"market for\"),),\n",
    "    ws.exclude(ws.contains(\"name\", \"electricity\")),\n",
    "    ws.exclude(ws.contains(\"name\", \"factory\")),\n",
    "    ws.exclude(ws.contains(\"name\", \"module\")),\n",
    "    ws.equals(\"unit\", \"unit\"),\n",
    "    \n",
    "]\n",
    "solar_pv = ws.get_many(\n",
    "    db_2020, \n",
    "    *pv_filter\n",
    ")\n",
    "\n",
    "for ds in solar_pv:\n",
    "    print(ds[\"name\"], ds[\"location\"])"
   ]
  },
  {
   "cell_type": "markdown",
   "id": "21ab8097",
   "metadata": {},
   "source": [
    "### 5. Filtering Data:\n",
    "List only Canadian datasets"
   ]
  },
  {
   "cell_type": "markdown",
   "id": "64bacbf3-3d73-48f6-930c-51f95876909c",
   "metadata": {},
   "source": [
    "Here, we deomonstrate how ot combine `wurst`'s search capabilities with other libraries,\n",
    "such as `constructive_geometries`."
   ]
  },
  {
   "cell_type": "code",
   "execution_count": null,
   "id": "3bf2a361",
   "metadata": {
    "tags": []
   },
   "outputs": [],
   "source": [
    "from constructive_geometries import geomatcher"
   ]
  },
  {
   "cell_type": "code",
   "execution_count": null,
   "id": "1433e05d-98cf-4e3b-93a7-ccd4643233c3",
   "metadata": {
    "tags": []
   },
   "outputs": [],
   "source": [
    "geo = geomatcher.Geomatcher()"
   ]
  },
  {
   "cell_type": "code",
   "execution_count": null,
   "id": "cbbe3c53-455c-424c-bb1c-1e44fe4758af",
   "metadata": {
    "tags": []
   },
   "outputs": [],
   "source": [
    "ca_provinces = geo.contained(\"CA\")"
   ]
  },
  {
   "cell_type": "code",
   "execution_count": null,
   "id": "a3d0803c-ec46-4683-9157-cf2745f70ba7",
   "metadata": {},
   "outputs": [],
   "source": [
    "ca_provinces"
   ]
  },
  {
   "cell_type": "code",
   "execution_count": null,
   "id": "aa08cce9-d3c0-4974-9c76-a152364f88fc",
   "metadata": {},
   "outputs": [],
   "source": [
    "ca_provinces = [loc if isinstance(loc, str) else loc[1] for loc in ca_provinces]\n",
    "ca_provinces"
   ]
  },
  {
   "cell_type": "code",
   "execution_count": null,
   "id": "65dfdc7d-4a8b-4c11-b009-698cbb730e95",
   "metadata": {
    "tags": []
   },
   "outputs": [],
   "source": [
    "pv_filter.append(\n",
    "    ws.either(*[\n",
    "        ws.equals(\"location\", loc) for loc in ca_provinces\n",
    "    ])\n",
    ")\n",
    "\n",
    "for ds in ws.get_many(\n",
    "    db_2020,\n",
    "    *pv_filter\n",
    "):\n",
    "    print(ds[\"name\"], ds[\"location\"])"
   ]
  },
  {
   "cell_type": "markdown",
   "id": "f5d1b226-f4ab-42a5-abd1-cf4f16808c09",
   "metadata": {},
   "source": [
    "It seems ecoinvent does not have PV manufacture dataset for Canada.\n",
    "Let's consider instead Global and RoW geographies."
   ]
  },
  {
   "cell_type": "code",
   "execution_count": null,
   "id": "450bbc53-3041-4c35-89fd-333d90bb9c83",
   "metadata": {},
   "outputs": [],
   "source": [
    "pv_filter = pv_filter[:-1]\n",
    "pv_filter.append(\n",
    "    ws.either(*[\n",
    "        ws.equals(\"location\", loc) for loc in [\"GLO\", \"RoW\"]\n",
    "    ])\n",
    ")\n",
    "\n",
    "for ds in ws.get_many(\n",
    "    db_2020,\n",
    "    *pv_filter\n",
    "):\n",
    "    print(ds[\"name\"], ds[\"location\"])"
   ]
  },
  {
   "cell_type": "markdown",
   "id": "e12912c5-2e81-4b84-a492-0219563eab02",
   "metadata": {},
   "source": [
    "### Modify Module Efficiency:\n",
    "\n",
    "Increase the efficiency of solar PV modules by a certain amount based on future predictions.\n",
    "We can do so by reducing the area of panels needed per kilowatt-peak installation.\n",
    "\n",
    "Here are some efficiency projections we can use:\n",
    "\t\t\t\t\t\t\t\n",
    "| Synthesis           |           |      |          |           |          |      |      |      |\n",
    "|---------------------|-----------|------|----------|-----------|----------|------|------|------|\n",
    "| % module efficiency | ribbon-Si | a-Si | micro-Si | single-Si | multi-Si | CIGS | CIS  | CdTe |\n",
    "| 2005                |           |      |          |           |          |      |      |      |\n",
    "| 2010                | 9         | 9.5  | 10       | 15.1      | 14       | 11   | 11   | 10   |\n",
    "| 2020                | 12        | 12.5 | 11.9     | 17.9      | 16.8     | 14   | 14   | 16.8 |\n",
    "| 2050                | 13.5      | 14.2 | 12.5     | 26.7      | 24.4     | 23.4 | 23.4 | 21   |4\t21\n"
   ]
  },
  {
   "cell_type": "code",
   "execution_count": null,
   "id": "6de794d6-f46c-4917-b83a-4ae6c071f1f7",
   "metadata": {
    "tags": []
   },
   "outputs": [],
   "source": [
    "import xarray as xr\n",
    "# let's store this as a dict\n",
    "# Creating the dictionary from the provided data\n",
    "\n",
    "efficiency_data = {\n",
    "    \"ribbon-Si\": {\n",
    "        2010: 9,\n",
    "        2020: 12,\n",
    "        2050: 13.5\n",
    "    },\n",
    "    \"a-Si\": {\n",
    "        2010: 9.5,\n",
    "        2020: 12.5,\n",
    "        2050: 14.2\n",
    "    },\n",
    "    \"micro-Si\": {\n",
    "        2010: 10,\n",
    "        2020: 11.9,\n",
    "        2050: 12.5\n",
    "    },\n",
    "    \"single-Si\": {\n",
    "        2010: 15.1,\n",
    "        2020: 17.9,\n",
    "        2050: 26.7\n",
    "    },\n",
    "    \"multi-Si\": {\n",
    "        2010: 14,\n",
    "        2020: 16.8,\n",
    "        2050: 24.4\n",
    "    },\n",
    "    \"CIGS\": {\n",
    "        2010: 11,\n",
    "        2020: 14,\n",
    "        2050: 23.4\n",
    "    },\n",
    "    \"CIS\": {\n",
    "        2010: 11,\n",
    "        2020: 14,\n",
    "        2050: 23.4\n",
    "    },\n",
    "    \"CdTe\": {\n",
    "        2010: 10,\n",
    "        2020: 16.8,\n",
    "        2050: 21\n",
    "    }\n",
    "}\n",
    "\n",
    "# Adjusting the structure of the dictionary to fit into a DataArray\n",
    "data_values = []\n",
    "technologies = list(efficiency_data.keys())\n",
    "years = sorted(list(efficiency_data[technologies[0]].keys()))\n",
    "\n",
    "for technology in technologies:\n",
    "    data_values.append([efficiency_data[technology][year] for year in years])\n",
    "\n",
    "# Creating the xarray DataArray\n",
    "efficiency_da = xr.DataArray(\n",
    "    data_values,\n",
    "    coords=[technologies, years],\n",
    "    dims=[\"technology\", \"year\"]\n",
    ")\n"
   ]
  },
  {
   "cell_type": "code",
   "execution_count": null,
   "id": "ca4e5780-9423-435f-b9af-bc9368b4494c",
   "metadata": {},
   "outputs": [],
   "source": [
    "efficiency_da"
   ]
  },
  {
   "cell_type": "code",
   "execution_count": null,
   "id": "2e18ec8b-c82e-4fca-8457-8ed8b0879803",
   "metadata": {},
   "outputs": [],
   "source": [
    "efficiency_da.interp(year=2035)"
   ]
  },
  {
   "cell_type": "markdown",
   "id": "72a1c547",
   "metadata": {},
   "source": [
    "### 6. Transforming Datasets:\n",
    "\n",
    "#### Module efficiency\n",
    "We want to look into the solar PV installation datasets and:\n",
    "1. Identify the installed power\n",
    "2. Identify the current efficiency\n",
    "3. Identifiy the technology\n",
    "4. Fetch the new efficiency\n",
    "5. Modify the inputs accodingly"
   ]
  },
  {
   "cell_type": "code",
   "execution_count": null,
   "id": "2b3b2616",
   "metadata": {
    "tags": []
   },
   "outputs": [],
   "source": [
    "import re\n",
    "import numpy as np\n",
    "from prettytable import PrettyTable\n",
    "\n",
    "def fetch_pv_power(name):\n",
    "    # we use regular expression to extract the power from the dataset name (in kW)\n",
    "    power = float(re.findall(r\"[-+]?\\d*\\.\\d+|\\d+\", name)[0])\n",
    "    \n",
    "    # if in MW, convert to kW\n",
    "    if \"mwp\" in name.lower():\n",
    "        power *= 1000\n",
    "\n",
    "    return power\n",
    "\n",
    "def modify_module_efficiency(db, year):\n",
    "\n",
    "    modifications = []\n",
    "    \n",
    "    for dataset in ws.get_many(\n",
    "        db,\n",
    "        *pv_filter\n",
    "    ):\n",
    "    \n",
    "        power = fetch_pv_power(dataset[\"name\"])\n",
    "    \n",
    "        # we look for an input of PV panel, in square meters\n",
    "        for exc in ws.technosphere(\n",
    "            dataset,\n",
    "            *[\n",
    "                ws.either(\n",
    "                    ws.contains(\"name\", \"photovoltaic panel\"),\n",
    "                    ws.contains(\"name\", \"photovoltaic laminate\"),\n",
    "                ),\n",
    "                ws.equals(\"unit\", \"square meter\"),\n",
    "            ],\n",
    "        ):\n",
    "            surface = float(exc[\"amount\"])\n",
    "            max_power = surface  # in kW, since we assume a constant 1,000W/m^2\n",
    "            current_eff = power / max_power\n",
    "    \n",
    "            possible_techs = [\n",
    "                \"ribbon-Si\",\n",
    "                \"a-Si\",\n",
    "                \"micro-Si\",\n",
    "                \"single-Si\",\n",
    "                \"multi-Si\",\n",
    "                \"CIGS\",\n",
    "                \"CIS\",\n",
    "                \"CdTe\",\n",
    "            ]\n",
    "            \n",
    "            pv_tech = [\n",
    "                i for i in possible_techs if i.lower() in exc[\"name\"].lower()\n",
    "            ]\n",
    "    \n",
    "            if len(pv_tech) > 0:\n",
    "                pv_tech = pv_tech[0]\n",
    "    \n",
    "                new_eff = efficiency_da.sel(technology=pv_tech).interp(year=year).values/100\n",
    "                \n",
    "                modifications.append(\n",
    "                    [dataset[\"name\"][-60:], power, pv_tech, round(current_eff, 2), round(new_eff, 2), round(float(current_eff / new_eff), 2)]\n",
    "                )\n",
    "                exc[\"amount\"] *= float(current_eff / new_eff)\n",
    "    \n",
    "    table = PrettyTable([\"Name\", \"Power\", \"Tech\", \"Current eff\", \"New eff\", \"Scaling factor\"])\n",
    "    table.add_rows(modifications)\n",
    "    print(table)\n",
    "\n",
    "    return db"
   ]
  },
  {
   "cell_type": "code",
   "execution_count": null,
   "id": "bd5e4d9e-682b-44a5-b39e-c859614036f8",
   "metadata": {},
   "outputs": [],
   "source": [
    "a = modify_module_efficiency(db_2035, 2035)"
   ]
  },
  {
   "cell_type": "markdown",
   "id": "ff69df80-f1ef-443c-a53e-ebc0475a3960",
   "metadata": {},
   "source": [
    "### Extend Module Lifetime:\n",
    "\n",
    "Increase the operational lifetime of the solar PV modules from the typical 25 years to, say, 30 years in 2035 and 40 years in 2050.\n",
    "This modification will affect the input requirements per kilowatt hour produced."
   ]
  },
  {
   "cell_type": "code",
   "execution_count": null,
   "id": "5c65fe0a-eabd-4010-bbd8-7a1b7c3bcb6d",
   "metadata": {},
   "outputs": [],
   "source": [
    "ca_provinces"
   ]
  },
  {
   "cell_type": "code",
   "execution_count": null,
   "id": "b53bb001-8ae9-4b2d-8b1c-084fc326edd0",
   "metadata": {
    "tags": []
   },
   "outputs": [],
   "source": [
    "def modify_pv_lifetime(db, current_lifetime, new_lifetime):\n",
    "\n",
    "    modifications = []\n",
    "    \n",
    "    # search where our PV panels are used:\n",
    "    for ds in ws.get_many(\n",
    "        db,\n",
    "        ws.contains(\"name\", \"electricity\"),\n",
    "        ws.equals(\"unit\", \"kilowatt hour\"),\n",
    "        ws.exclude(ws.contains(\"name\", \"renewable\")),\n",
    "        ws.either(*[\n",
    "            ws.equals(\"location\", loc) for loc in ca_provinces\n",
    "        ])\n",
    "    ):\n",
    "\n",
    "        for exc in ws.technosphere(\n",
    "            ds,\n",
    "            ws.contains(\"name\", \"photovoltaic\"),\n",
    "            ws.equals(\"unit\", \"unit\")\n",
    "        ):\n",
    "            power = fetch_pv_power(exc[\"name\"])\n",
    "    \n",
    "            panel_fraction = exc[\"amount\"]\n",
    "            lifetime_production = 1/exc[\"amount\"]\n",
    "            annual_production = 1/exc[\"amount\"]/current_lifetime\n",
    "            annual_prod_per_kW = annual_production / power\n",
    "\n",
    "            exc[\"amount\"] *= current_lifetime/new_lifetime\n",
    "    \n",
    "            modifications.append(\n",
    "                [\n",
    "                    ds[\"name\"][-40:],\n",
    "                    ds[\"location\"],\n",
    "                    int(lifetime_production),\n",
    "                    int(annual_production),\n",
    "                    int(annual_prod_per_kW),\n",
    "                    '{:.2E}'.format(exc[\"amount\"]),\n",
    "                    '{:.2E}'.format(exc[\"amount\"] * current_lifetime/new_lifetime)\n",
    "                ]\n",
    "            )\n",
    "    \n",
    "    table = PrettyTable([\"Name\", \"Loc\", \"kWh/lifetime\", \"kWh/year\", \"kWh/year/kW\", \"Old input\", \"New input\"])\n",
    "    table.add_rows(modifications)\n",
    "    print(table)\n",
    "\n",
    "    return db"
   ]
  },
  {
   "cell_type": "code",
   "execution_count": null,
   "id": "73feb786-dce3-495e-a2e1-50db663800df",
   "metadata": {},
   "outputs": [],
   "source": [
    "a = modify_pv_lifetime(db_2035, 25, 40)"
   ]
  },
  {
   "cell_type": "markdown",
   "id": "c531e9cd-de3e-4e44-b17f-9d26599c8fc4",
   "metadata": {},
   "source": [
    "### Decarbonize the production of aluminium\n",
    "\n",
    "PV panel installations require substantial amounts of aluminium for the panel frame itself but also, and mostly, for the mounting system.\n",
    "\n",
    "The production of aluminium in certain regions still relies significantly on fossil-based electricity (see *market for electricity, high voltage, aluminium industry*). The Canadian Environmental Agency foresees that, while natural gas-based electricity will still be used by aluminium smelters, coal will slowly be phased out by half by 2035 and completely by 2050.\n",
    "\n",
    "The Canadian Environmental Agency also thinks that natural gas-fired power plants will be 5% and 10% more efficient by 2035 and 2050, relative to today. "
   ]
  },
  {
   "cell_type": "code",
   "execution_count": null,
   "id": "c379e3a2-477f-464a-a48f-d6802876b14d",
   "metadata": {
    "tags": []
   },
   "outputs": [],
   "source": [
    "def modify_al_electricity_mix(db, scaling_factor_coal, scaling_factor_coal_ng):\n",
    "\n",
    "    ############### Aluminium electricity mix #################\n",
    "    modifications = []\n",
    "\n",
    "    for ds in ws.get_many(\n",
    "            db,\n",
    "            ws.contains(\"name\", \"market for electricity, high voltage, aluminium industry\"),\n",
    "            ws.equals(\"unit\", \"kilowatt hour\"),\n",
    "        ):\n",
    "\n",
    "        shares, surplus = {}, 0\n",
    "\n",
    "        for exc in ws.technosphere(\n",
    "            ds,\n",
    "            ws.contains(\"name\", \"electricity production\"),\n",
    "            ws.contains(\"unit\", \"kilowatt hour\")\n",
    "        ):\n",
    "            shares[exc[\"name\"]] = {\"old\": exc[\"amount\"]}\n",
    "\n",
    "        \n",
    "        for tech, share in shares.items():\n",
    "            if \"coal\" in tech:\n",
    "                shares[tech][\"new\"] = share[\"old\"] * scaling_factor_coal\n",
    "                surplus = share[\"old\"] - share[\"new\"]\n",
    "\n",
    "        \n",
    "        for tech, share in shares.items():\n",
    "            if \"coal\" not in tech:\n",
    "                shares[tech][\"new\"] = share[\"old\"] + (surplus / (len(shares) - 1))\n",
    "                \n",
    "        for exc in ws.technosphere(\n",
    "            ds,\n",
    "            ws.contains(\"name\", \"electricity production\")             \n",
    "        ):\n",
    "            if exc[\"name\"] in shares:\n",
    "                exc[\"amount\"] = shares[exc[\"name\"]][\"new\"]\n",
    "\n",
    "        modifications.extend(\n",
    "            [\n",
    "                ds[\"name\"][-30:], ds[\"location\"][:15], tech[:30], round(v[\"old\"], 3), round(v[\"new\"], 3), round(sum(x[\"new\"] for x in shares.values()), 2)\n",
    "            ] for tech, v in shares.items()\n",
    "        )\n",
    "\n",
    "    table = PrettyTable([\"Name\", \"Loc\", \"Tech\", \"Old share\", \"New share\", \"Sum shares\"])\n",
    "    table.add_rows(modifications)\n",
    "    print(table)\n",
    "\n",
    "    ################ NG POWER PLANTS #####################\n",
    "\n",
    "    generation_filters = [\n",
    "        ws.contains('name', 'electricity production'),\n",
    "        ws.contains(\"name\", \"natural gas\"),\n",
    "        ws.equals('unit', 'kilowatt hour'),\n",
    "    ]\n",
    "\n",
    "    fuel_independent_cooling = ws.doesnt_contain_any('name', (\n",
    "        'water, decarbonised', ))\n",
    "\n",
    "    fuel_independent = ws.doesnt_contain_any('name', (\n",
    "        'Methane, fossil', 'Sulfur dioxide', 'Carbon monoxide, fossil',\n",
    "        'Nitrogen oxides', 'Dinitrogen monoxide', 'Particulates'\n",
    "    ))\n",
    "\n",
    "    for ds in ws.get_many(db, *generation_filters):\n",
    "        wurst.transformations.change_exchanges_by_constant_factor(\n",
    "            ds,\n",
    "            scaling_factor_coal_ng,  # Or whatever from input data\n",
    "            [fuel_independent_cooling],\n",
    "            [fuel_independent]\n",
    "        )\n",
    "    \n",
    "    return db"
   ]
  },
  {
   "cell_type": "code",
   "execution_count": null,
   "id": "7bcd0fad-e198-4a94-a1d9-f4a19085dbcc",
   "metadata": {},
   "outputs": [],
   "source": [
    "a = modify_al_electricity_mix(db_2035, .5, .95)"
   ]
  },
  {
   "cell_type": "markdown",
   "id": "29fba6e3-9331-404d-94f5-ec1048707c5e",
   "metadata": {},
   "source": [
    "### 7. Running the script:\n",
    "\n",
    "Run the three transformation functions for 2035 and 2050"
   ]
  },
  {
   "cell_type": "code",
   "execution_count": null,
   "id": "5b27f46e-2bdb-4ccf-ada4-1e997d729973",
   "metadata": {},
   "outputs": [],
   "source": [
    "db_2035 = load_db()\n",
    "db_2050 = load_db()"
   ]
  },
  {
   "cell_type": "code",
   "execution_count": null,
   "id": "81a5cd5f-76bb-43ee-a63d-c6490db758f9",
   "metadata": {
    "tags": []
   },
   "outputs": [],
   "source": [
    "db_2035 = modify_module_efficiency(db_2035, 2035)\n",
    "db_2050 = modify_module_efficiency(db_2050, 2050)\n",
    "\n",
    "db_2035 = modify_pv_lifetime(db_2035, 25, 30)\n",
    "db_2050 = modify_pv_lifetime(db_2050, 25, 40)\n",
    "\n",
    "db_2035 = modify_al_electricity_mix(db_2035, .5, .95)\n",
    "db_2050 = modify_al_electricity_mix(db_2050, 0, .9)"
   ]
  },
  {
   "cell_type": "markdown",
   "id": "d4183539",
   "metadata": {},
   "source": [
    "### 8. Exporting Databases:"
   ]
  },
  {
   "cell_type": "markdown",
   "id": "5e2d1da9-9adc-4e2f-aef1-54e195662c35",
   "metadata": {},
   "source": [
    "Here, we demonstrate the use of `wurst`'s export capability. In this case,\n",
    "we export the modified databases back to the `brightway` project."
   ]
  },
  {
   "cell_type": "code",
   "execution_count": null,
   "id": "4e3fe55a-a68c-4a70-8d03-7a4fbab83274",
   "metadata": {
    "tags": []
   },
   "outputs": [],
   "source": [
    "if \"PV 2035\" in bw2data.databases:\n",
    "    del bw2data.databases[\"PV 2035\"]\n",
    "\n",
    "if \"PV 2050\" in bw2data.databases:\n",
    "    del bw2data.databases[\"PV 2050\"]"
   ]
  },
  {
   "cell_type": "code",
   "execution_count": null,
   "id": "69b6f900-b405-4708-aa5e-4fb2b3b4b63b",
   "metadata": {
    "tags": []
   },
   "outputs": [],
   "source": [
    "wurst.write_brightway2_database(db_2035, \"PV 2035\")\n",
    "wurst.write_brightway2_database(db_2050, \"PV 2050\")"
   ]
  },
  {
   "cell_type": "markdown",
   "id": "7a5784ac-3084-4cdb-a1c8-081bf08abfb2",
   "metadata": {},
   "source": [
    "### 9. Comparing results:"
   ]
  },
  {
   "cell_type": "code",
   "execution_count": null,
   "id": "2a9e5c4f-ea70-4ed1-a134-f596c66885fa",
   "metadata": {},
   "outputs": [],
   "source": [
    "bw2data.databases"
   ]
  },
  {
   "cell_type": "code",
   "execution_count": null,
   "id": "4cef9ec0-9a38-483b-a4de-2a6b6e078c03",
   "metadata": {},
   "outputs": [],
   "source": [
    "FU = [\n",
    "    {act: 1} for db in [\n",
    "        \"ei39cutoff\", \"PV 2035\", \"PV 2050\"\n",
    "    ] for act in bw2data.Database(db) if \"electricity production\" in act[\"name\"]\n",
    "    and \"photovoltaic\" in act[\"name\"] and act[\"unit\"] == \"kilowatt hour\" \n",
    "    and \"CA\" in act[\"location\"]\n",
    "]"
   ]
  },
  {
   "cell_type": "code",
   "execution_count": null,
   "id": "3d49c59a-4195-4c26-b7fa-4ad02e51110f",
   "metadata": {},
   "outputs": [],
   "source": [
    "len(FU)"
   ]
  },
  {
   "cell_type": "code",
   "execution_count": null,
   "id": "35563e42-b8e3-4437-8a16-6dcc67dcf3ee",
   "metadata": {},
   "outputs": [],
   "source": [
    "FU"
   ]
  },
  {
   "cell_type": "code",
   "execution_count": null,
   "id": "beda0a26-ff2d-4c66-8fed-cb33a4ffb1b7",
   "metadata": {},
   "outputs": [],
   "source": [
    "import bw2calc\n",
    "import matplotlib.pyplot as plt\n",
    "bw2data.projects.set_current(\"toronto\")"
   ]
  },
  {
   "cell_type": "code",
   "execution_count": null,
   "id": "47a56177-91fa-4d50-8d30-2c9bd8ce8c4c",
   "metadata": {},
   "outputs": [],
   "source": [
    "method = [('IPCC 2021', 'climate change: fossil', 'global warming potential (GWP100)')]"
   ]
  },
  {
   "cell_type": "code",
   "execution_count": null,
   "id": "a0ac26d6-8b18-4d3c-b1e2-32fdaa42bc8e",
   "metadata": {},
   "outputs": [],
   "source": [
    "bw2calc.multi_lca.calculation_setups[\"PVs\"] = {\n",
    "    \"inv\": FU,\n",
    "    \"ia\": method\n",
    "}"
   ]
  },
  {
   "cell_type": "code",
   "execution_count": null,
   "id": "5dcb935f-1d14-4a59-8a62-802682bac5bc",
   "metadata": {},
   "outputs": [],
   "source": [
    "lca = bw2calc.MultiLCA(\"PVs\")"
   ]
  },
  {
   "cell_type": "code",
   "execution_count": null,
   "id": "92382bfc-a2b8-42f8-a8f2-de89cfc1eb7a",
   "metadata": {},
   "outputs": [],
   "source": [
    "acts = [list(d.keys())[0] for d in lca.func_units]"
   ]
  },
  {
   "cell_type": "code",
   "execution_count": null,
   "id": "06e6ed7d-7cc5-4f67-847c-7c915eb629cd",
   "metadata": {},
   "outputs": [],
   "source": [
    "import pandas as pd\n",
    "results = pd.DataFrame(\n",
    "    zip(\n",
    "        [(a[\"name\"], a[\"location\"]) for a in acts],\n",
    "        [a[\"database\"] for a in acts],\n",
    "        lca.results.flatten()\n",
    "    ),\n",
    "    columns=[\"name\", \"year\", \"GWP\"]\n",
    ")"
   ]
  },
  {
   "cell_type": "code",
   "execution_count": null,
   "id": "c38eba03-d026-4e49-a25f-7e9e4583722e",
   "metadata": {},
   "outputs": [],
   "source": [
    "results = results.replace(\"ecoinvent 3.9.1 cutoff\", 2020)\n",
    "results = results.replace(\"PV 2035\", 2035)\n",
    "results = results.replace(\"PV 2050\", 2050)\n",
    "results[\"year\"] = results[\"year\"].astype(\"str\")"
   ]
  },
  {
   "cell_type": "code",
   "execution_count": null,
   "id": "4c6a1c6c-4836-4658-ae83-385cbfe45373",
   "metadata": {},
   "outputs": [],
   "source": [
    "import seaborn as sns\n",
    "plt.figure(figsize=(18,8))\n",
    "\n",
    "# plot with seaborn barplot\n",
    "sns.barplot(data=results, x='name', y='GWP', hue='year',)\n",
    "\n",
    "plt.xticks([])\n",
    "plt.ylabel(\"kg CO$_2$-eq./kWh\")"
   ]
  },
  {
   "cell_type": "markdown",
   "id": "503ee7f2-ee6d-490d-b136-288d72319b14",
   "metadata": {},
   "source": [
    "### 10. Bonus: can you show the respective tranformation contributions?"
   ]
  },
  {
   "cell_type": "code",
   "execution_count": null,
   "id": "4d5bcac7-d85e-4d71-bf4f-37dba4b721cd",
   "metadata": {},
   "outputs": [],
   "source": [
    "db_2050_1 = load_db()\n",
    "db_2050_1 = modify_module_efficiency(db_2050_1, 2050)\n",
    "\n",
    "if \"PV 2050 - eff\" in bw2data.databases:\n",
    "    del bw2data.databases[\"PV 2050 - eff\"]\n",
    "    \n",
    "wurst.write_brightway2_database(db_2050_1, \"PV 2050 - eff\")\n",
    "\n",
    "db_2050_2 = load_db()\n",
    "db_2050_2 = modify_module_efficiency(db_2050_2, 2050)\n",
    "db_2050_2 = modify_pv_lifetime(db_2050_2, 25, 40)\n",
    "\n",
    "if \"PV 2050 - eff - lifetime\" in bw2data.databases:\n",
    "    del bw2data.databases[\"PV 2050 - eff - lifetime\"]\n",
    "    \n",
    "wurst.write_brightway2_database(db_2050_2, \"PV 2050 - eff - lifetime\")"
   ]
  },
  {
   "cell_type": "code",
   "execution_count": null,
   "id": "263b2194-b266-4150-92ae-486c7affdf0d",
   "metadata": {},
   "outputs": [],
   "source": [
    "FU_contributions = [\n",
    "    {act: 1} for db in [\n",
    "        \"ei39cutoff\", \"PV 2050 - eff\", \"PV 2050 - eff - lifetime\", \"PV 2050\"\n",
    "    ] for act in bw2data.Database(db) if \"electricity production\" in act[\"name\"]\n",
    "    and \"photovoltaic\" in act[\"name\"] and act[\"unit\"] == \"kilowatt hour\" \n",
    "    and \"CA\" in act[\"location\"]\n",
    "]"
   ]
  },
  {
   "cell_type": "code",
   "execution_count": null,
   "id": "8e3367d4-c31e-4f39-9f5c-b103a9fde31b",
   "metadata": {},
   "outputs": [],
   "source": [
    "bw2calc.multi_lca.calculation_setups[\"PVs - transf contributions\"] = {\n",
    "    \"inv\": FU_contributions,\n",
    "    \"ia\": method\n",
    "}"
   ]
  },
  {
   "cell_type": "code",
   "execution_count": null,
   "id": "f7edd26a-b8f6-4f12-9d1f-88f17858b70c",
   "metadata": {},
   "outputs": [],
   "source": [
    "lca = bw2calc.MultiLCA(\"PVs - transf contributions\")"
   ]
  },
  {
   "cell_type": "code",
   "execution_count": null,
   "id": "d0d6e450-fbd5-4d98-8a73-c1e43a615981",
   "metadata": {},
   "outputs": [],
   "source": [
    "acts = [list(d.keys())[0] for d in lca.func_units]"
   ]
  },
  {
   "cell_type": "code",
   "execution_count": null,
   "id": "8dd7f8a7-0581-4c36-8e3f-0770d8de57ba",
   "metadata": {},
   "outputs": [],
   "source": [
    "results = pd.DataFrame(\n",
    "    zip(\n",
    "        [(a[\"name\"], a[\"location\"]) for a in acts],\n",
    "        [a[\"database\"] for a in acts],\n",
    "        lca.results.flatten()\n",
    "    ),\n",
    "    columns=[\"name\", \"year\", \"GWP\"]\n",
    ")"
   ]
  },
  {
   "cell_type": "code",
   "execution_count": null,
   "id": "49b0c26e-739c-4df5-9ff8-9e0499d8302d",
   "metadata": {},
   "outputs": [],
   "source": [
    "results = results.replace(\"ecoinvent 3.9.1 cutoff\", 2020)\n",
    "results = results.replace(\"PV 2050 - eff\", \"2050 -- 1 eff only\")\n",
    "results = results.replace(\"PV 2050 - eff - lifetime\", \"2050 -- 2 eff + lifetime ext.\")\n",
    "results = results.replace(\"PV 2050\", \"2050 -- 3 eff + lifetime ext. + coal phase out\")\n",
    "results[\"year\"] = results[\"year\"].astype(\"str\")"
   ]
  },
  {
   "cell_type": "code",
   "execution_count": null,
   "id": "485d0694-7407-4986-942e-1650dd76b511",
   "metadata": {},
   "outputs": [],
   "source": [
    "# plot with seaborn barplot\n",
    "plt.figure(figsize=(18,8))\n",
    "sns.barplot(data=results, x='name', y='GWP', hue='year')\n",
    "plt.xticks([])\n",
    "plt.ylabel(\"kg CO$_2$-eq./kWh\")"
   ]
  },
  {
   "cell_type": "markdown",
   "id": "6d629aea-6716-4671-ab15-2a783185468a",
   "metadata": {},
   "source": [
    "### 11. Bonus 2: Home storage systems\n",
    "\n",
    "#### Exercise: Estimating Home Energy Storage Capacity\n",
    "\n",
    "#### Background:\n",
    "You want to purchase a solar photovoltaic system for the roof of your residence. \n",
    "This system converts sunlight into electricity that powers your home. \n",
    "On days when the system produces more electricity than your home consumes, \n",
    "the excess energy can be stored in batteries for use during nighttime or on days when the sun isn't shining.\n",
    "\n",
    "#### Objective:\n",
    "\n",
    "1. Estimate the solar PV installation and storage capacities required for your home energy storage system, considering only \n",
    "the excess solar production that isn't consumed directly by the household during daylight time.\n",
    "2. Add the storage capacity in photovoltaic electricity production datasets\n",
    "3. Estimate the increase in carbon footprint resulting from home energy storage.\n",
    "\n",
    "Given:\n",
    "\n",
    "1. On average, your location receives 5 hours of effective sunlight per day (i.e., full load).\n",
    "2. Your household's electricity consumption is 10 kWh during daylight, and 5 kWh during nighttime.\n",
    "3. You want the storage system to provide enough for the nighttime.\n",
    "4. Batteries typically have a recommended Depth of Discharge (DoD) of 90%, meaning only 90% of their total capacity should be used to ensure a longer lifespan.\n",
    "Energy storage systems have a round-trip efficiency of 80%. This accounts for energy losses during the charging and discharging processes. Also,\n",
    "we assume a 3,000 cycles lifetime for the battery cells (where 1 day = 1 cycle), while the Balance of Plant can outlast the PV installation.\n",
    "Finally, 30% of the battery system mass is the Balance of Plant."
   ]
  },
  {
   "cell_type": "code",
   "execution_count": null,
   "id": "a7094b3d-50c1-4d4d-a9f6-edc23c0b21ec",
   "metadata": {},
   "outputs": [],
   "source": [
    "# Given values for total daily consumption\n",
    "total_daily_consumption = 15  # kWh (10 kWh daytime + 5 kWh evening)\n",
    "average_sunlight_hours = 5 # hours\n",
    "\n",
    "# Calculate the required solar installation capacity for total daily consumption\n",
    "required_total_solar_capacity = total_daily_consumption / average_sunlight_hours\n",
    "required_total_solar_capacity # kWp"
   ]
  },
  {
   "cell_type": "code",
   "execution_count": null,
   "id": "f9b25ee9-08c0-4f70-9b56-e1e789646ec6",
   "metadata": {},
   "outputs": [],
   "source": [
    "# storage capacity\n",
    "net_storage_capacity = 5 # kWh\n",
    "net_storage_capacity /= .9 # Depth of Discharge\n",
    "net_storage_capacity /= .8 # 80% round-trip efficiency\n",
    "\n",
    "round(net_storage_capacity)"
   ]
  },
  {
   "cell_type": "code",
   "execution_count": null,
   "id": "f94c0410-f9e9-4d12-97b8-6e07eb33ea23",
   "metadata": {},
   "outputs": [],
   "source": [
    "db = load_db()"
   ]
  },
  {
   "cell_type": "code",
   "execution_count": null,
   "id": "feff6ed1-0184-4e4f-b772-1188c30e8a8f",
   "metadata": {},
   "outputs": [],
   "source": [
    "import wurst.searching as ws\n",
    "# let's find battery cell LCIs\n",
    "for ds in ws.get_many(\n",
    "    db,\n",
    "    ws.contains(\"name\", \"battery cell, Li-ion\")\n",
    "):\n",
    "    print(ds[\"name\"])"
   ]
  },
  {
   "cell_type": "code",
   "execution_count": null,
   "id": "7547f4a7-2203-4bcb-89fd-4bbb6a8924a9",
   "metadata": {},
   "outputs": [],
   "source": [
    "cells = ws.get_one(db, ws.contains(\"name\", \"market for battery cell, Li-ion, NMC811\"))\n",
    "BoP = ws.get_one(db, ws.contains(\"name\", \"battery management system production\"))"
   ]
  },
  {
   "cell_type": "code",
   "execution_count": null,
   "id": "fc8d0b13-031a-4970-a706-a1ab11b61add",
   "metadata": {},
   "outputs": [],
   "source": [
    "# battery sizing\n",
    "# we assume 1 kg NMC cell = 0.2 kWh storage\n",
    "# and 30% of the system mass is the Balance of Plant\n",
    "cell_mass = round(net_storage_capacity) / 0.2\n",
    "BoP_mass = .3 * cell_mass / .7"
   ]
  },
  {
   "cell_type": "code",
   "execution_count": null,
   "id": "986373fd-7611-4382-b85d-4c8b30dd7684",
   "metadata": {},
   "outputs": [],
   "source": [
    "cell_mass"
   ]
  },
  {
   "cell_type": "code",
   "execution_count": null,
   "id": "212edaf5-21ca-427c-9f5f-8910abfac791",
   "metadata": {},
   "outputs": [],
   "source": [
    "BoP_mass"
   ]
  },
  {
   "cell_type": "code",
   "execution_count": null,
   "id": "b60117fe-43bb-49d6-917e-b85235ddcbf8",
   "metadata": {},
   "outputs": [],
   "source": [
    "lifetime_replacements = (25 * 365) / 3000 # 25 years lifetime for the PV, 3000 cycles for the battery\n",
    "lifetime_replacements"
   ]
  },
  {
   "cell_type": "code",
   "execution_count": null,
   "id": "1eccc150-fe33-4ca7-9b1d-43c833a8e54a",
   "metadata": {},
   "outputs": [],
   "source": [
    "for ds in ws.get_many(\n",
    "    db,\n",
    "    ws.contains(\"name\", \"electricity production, photovoltaic\"),\n",
    "    ws.contains(\"name\", \"3kWp\"),\n",
    "    ws.either(*[\n",
    "        ws.equals(\"location\", loc) for loc in ca_provinces\n",
    "    ]),\n",
    "    ws.equals(\"unit\", \"kilowatt hour\")\n",
    "):\n",
    "    for exc in ws.technosphere(ds, ws.equals(\"unit\", \"unit\"), ws.contains(\"name\", \"photovoltaic\")):\n",
    "        production = 1 / exc[\"amount\"] #kWh/lifetime\n",
    "    ds[\"exchanges\"].extend(\n",
    "        [\n",
    "            {\"name\": cells[\"name\"], \"product\": cells[\"reference product\"], \"location\": cells[\"location\"], \"unit\": cells[\"unit\"], \"amount\": cell_mass * lifetime_replacements / production, \"type\": \"technosphere\"},\n",
    "            {\"name\": BoP[\"name\"], \"product\": BoP[\"reference product\"], \"location\": BoP[\"location\"], \"unit\": BoP[\"unit\"], \"amount\": BoP_mass / production, \"type\": \"technosphere\"},\n",
    "        ]\n",
    "        \n",
    "    )"
   ]
  },
  {
   "cell_type": "code",
   "execution_count": null,
   "id": "50b975b5-dcdd-42fe-8b2f-e68942f94db5",
   "metadata": {},
   "outputs": [],
   "source": [
    "if \"PV + storage\" in bw2data.databases:\n",
    "    del bw2data.databases[\"PV + storage\"]\n",
    "wurst.write_brightway2_database(db, \"PV + storage\")"
   ]
  },
  {
   "cell_type": "code",
   "execution_count": null,
   "id": "68cf1993-577a-4d16-8321-4d0a12a6a874",
   "metadata": {},
   "outputs": [],
   "source": [
    "FU_storage = [\n",
    "    {act: 1} for db in [\n",
    "        \"ei39cutoff\", \"PV + storage\", \n",
    "    ] for act in bw2data.Database(db) if \"electricity production\" in act[\"name\"]\n",
    "    and \"photovoltaic\" in act[\"name\"] and act[\"unit\"] == \"kilowatt hour\" \n",
    "    and act[\"location\"] in ca_provinces and \"3kWp\" in act[\"name\"]\n",
    "]"
   ]
  },
  {
   "cell_type": "code",
   "execution_count": null,
   "id": "435e1b89-688d-4739-8ca6-dd1195327ada",
   "metadata": {},
   "outputs": [],
   "source": [
    "bw2calc.multi_lca.calculation_setups[\"PVs - energy storage\"] = {\n",
    "    \"inv\": FU_storage,\n",
    "    \"ia\": method\n",
    "}"
   ]
  },
  {
   "cell_type": "code",
   "execution_count": null,
   "id": "9071896c-7b66-418f-9e82-b54a03f0872b",
   "metadata": {},
   "outputs": [],
   "source": [
    "lca = bw2calc.MultiLCA(\"PVs - energy storage\")\n",
    "acts = [list(d.keys())[0] for d in lca.func_units]"
   ]
  },
  {
   "cell_type": "code",
   "execution_count": null,
   "id": "21d53093-9a03-477e-bd97-79c1f7df07bd",
   "metadata": {},
   "outputs": [],
   "source": [
    "results = pd.DataFrame(\n",
    "    zip(\n",
    "        [(a[\"name\"], a[\"location\"]) for a in acts],\n",
    "        [a[\"database\"] for a in acts],\n",
    "        lca.results.flatten()\n",
    "    ),\n",
    "    columns=[\"name\", \"storage\", \"GWP\"]\n",
    ")"
   ]
  },
  {
   "cell_type": "code",
   "execution_count": null,
   "id": "06f55e3d-514d-4603-b895-ff46c97187a0",
   "metadata": {},
   "outputs": [],
   "source": [
    "results = results.replace(\"ecoinvent 3.9.1 cutoff\", \"No storage\")\n",
    "results[\"year\"] = results[\"storage\"].astype(\"str\")"
   ]
  },
  {
   "cell_type": "code",
   "execution_count": null,
   "id": "51904ede-8a7b-4eca-b614-20218d4b8dc7",
   "metadata": {},
   "outputs": [],
   "source": [
    "# plot with seaborn barplot\n",
    "plt.figure(figsize=(18,8))\n",
    "sns.barplot(data=results, x='name', y='GWP', hue='storage')\n",
    "plt.xticks([])\n",
    "plt.ylabel(\"kg CO$_2$-eq./kWh\")"
   ]
  },
  {
   "cell_type": "markdown",
   "id": "625f0ac4-e2db-43db-a383-98d7e9bd4236",
   "metadata": {},
   "source": [
    "### 12. Let's code together\n",
    "\n",
    "#### Think of a case to solve together within 30-45 min. "
   ]
  },
  {
   "cell_type": "markdown",
   "id": "80f24201-2278-4bd5-b0f3-8b4d52c5c348",
   "metadata": {},
   "source": [
    "### ... or the Montreal Protocol case."
   ]
  },
  {
   "cell_type": "markdown",
   "id": "f1ae5dc9-7a86-4406-a587-70db1f6193b7",
   "metadata": {},
   "source": [
    "| Year   | Region       | ODS to Replace                        | Replacement Strategy                                                                                                                                                   |\n",
    "|--------|--------------|---------------------------------------|------------------------------------------------------------------------------------------------------------------------------------------------------------------------|\n",
    "| 2000   | North America | CFCs, HCFCs                           | - Replace CFCs with HCFCs as transitional substitutes. - Evaluate the feasibility of transitioning to HFCs or natural refrigerants in select applications.          |\n",
    "| 2010   | Europe       | HCFCs                                 | - Replace HCFCs with low-GWP alternatives such as HFCs with reduced GWP or natural refrigerants like CO2 or hydrocarbons.                                            |\n",
    "| 2020   | Asia-Pacific | HCFCs, High-GWP HFCs                 | - Implement comprehensive phase-out of HCFCs and high-GWP HFCs. - Prioritize adoption of natural refrigerants (ammonia, CO2, hydrocarbons) where technically feasible. |\n",
    "| 2030   | Global       | HCFCs, High-GWP HFCs                 | - Complete phase-out of HCFCs and high-GWP HFCs globally. - Transition to low-GWP alternatives such as natural refrigerants and HFCs with reduced GWP.                  |\n",
    "| 2040   | Global       | Remaining High-GWP HFCs               | - Target phase-out of remaining high-GWP HFCs. - Encourage adoption of natural refrigerants and low-GWP HFCs.                                                        |\n",
    "| 2050   | Global       | High-GWP HFCs                         | - Achieve near-complete phase-out of high-GWP HFCs. - Shift entirely to low-GWP alternatives and natural refrigerants.                                                |\n",
    "\n",
    "What would be the benefits in terms of ozon layer preservation if the 2050 objectives are fulfilled? Consider such scenario using CO2 as a substitute.\n",
    "\n",
    "Let's assume R744 (CO2-based refrigerant) replaces all instances of:\n",
    "- CFCs (ratio 1:1)\n",
    "- and HCFCs (ratio 1:2)\n",
    "\n",
    "and R717 (ammonia) reaplces all instaces of:\n",
    "- HFCs (ratio 1:1.5)\n",
    "\n",
    ".. note:\n",
    "These are completely made up numbers!\n",
    "\n",
    "Substitute all instances of ODS gases' supply and leakage with the corresponding subsitute and identify the activities that are the most influenced by such change."
   ]
  },
  {
   "cell_type": "code",
   "execution_count": null,
   "id": "3bf71538-5bbc-460b-b7b4-62972401c5d8",
   "metadata": {},
   "outputs": [],
   "source": [
    "import wurst\n",
    "import bw2io, bw2data\n",
    "bw2data.projects.set_current(\"wurst\")\n"
   ]
  },
  {
   "cell_type": "code",
   "execution_count": null,
   "id": "d728aee7-4617-4b1e-8d51-0efe031614aa",
   "metadata": {},
   "outputs": [],
   "source": [
    "db = load_db()"
   ]
  },
  {
   "cell_type": "code",
   "execution_count": null,
   "id": "d59f1784-f15a-4860-a02c-0a848ee2c123",
   "metadata": {},
   "outputs": [],
   "source": [
    "co2 = [\n",
    "    f for f in bw2data.Database(\"biosphere3\")\n",
    "    if f[\"name\"] == \"Carbon dioxide, fossil\"\n",
    "    and f[\"categories\"] == (\"air\", )\n",
    "][0]\n",
    "co2"
   ]
  },
  {
   "cell_type": "code",
   "execution_count": null,
   "id": "11e2979c-f066-4146-856b-decc2d8b8d85",
   "metadata": {},
   "outputs": [],
   "source": [
    "nh3 = [\n",
    "    f for f in bw2data.Database(\"biosphere3\")\n",
    "    if f[\"name\"] == \"Ammonia\"\n",
    "    and f[\"categories\"] == (\"air\", )\n",
    "][0]\n",
    "nh3"
   ]
  },
  {
   "cell_type": "code",
   "execution_count": null,
   "id": "1740b0ed-cbda-4d4d-b61b-ed7b5365fc2f",
   "metadata": {},
   "outputs": [],
   "source": [
    "def update_exc(e):\n",
    "    if e[\"categories\"][0] == \"air\":\n",
    "        if any(i in e[\"name\"] for i in [\"CFC\", \"HCFC\"]):\n",
    "            print(e[\"name\"])\n",
    "            e[\"name\"] = co2[\"name\"]\n",
    "            e[\"categories\"] = co2[\"categories\"]\n",
    "            e[\"input\"] = co2.key\n",
    "            \n",
    "        \n",
    "        if any(i in e[\"name\"] for i in [\"HFC\", \"Halon\", \"R-10\", \"R-40\"]):\n",
    "            print(e[\"name\"])\n",
    "            e[\"name\"] = nh3[\"name\"]\n",
    "            e[\"categories\"] = nh3[\"categories\"]\n",
    "            e[\"input\"] = nh3.key\n",
    "            e[\"amount\"] *= 1.5\n",
    "    return e, e[\"amount\"]\n",
    "    "
   ]
  },
  {
   "cell_type": "code",
   "execution_count": null,
   "id": "7878ce7c-ba1c-457f-84c2-d0141dd13cc7",
   "metadata": {},
   "outputs": [],
   "source": [
    "import wurst.searching as ws\n",
    "liquid_co2 = ws.get_many(\n",
    "    db,\n",
    "    ws.equals(\"name\", \"market for carbon dioxide, liquid\")\n",
    ")"
   ]
  },
  {
   "cell_type": "code",
   "execution_count": null,
   "id": "2b0fa3b5-4d57-4565-a923-ece03de3a2f4",
   "metadata": {},
   "outputs": [],
   "source": [
    "for ds in db:\n",
    "    amount_refrigerant = 0\n",
    "    for exc in ws.biosphere(\n",
    "        ds,\n",
    "        ws.either(\n",
    "            *[ws.contains(\"name\", x) for x in [\"CFC\", \"HFC\", \"HCFC\", \"Halon\", \"R-10\", \"R-40\"]]\n",
    "        ),\n",
    "    ):\n",
    "        exc, amount = update_exc(exc)\n",
    "        amount_refrigerant += amount\n",
    "\n",
    "    for exc in ws.technosphere(\n",
    "        ds,\n",
    "        ws.contains(\"name\", \"market for\"),\n",
    "        ws.either(\n",
    "            *[ws.contains(\"name\", x) for x in [\"CFC\", \"HFC\", \"HCFC\"]]\n",
    "        )\n",
    "    ):\n",
    "        exc[\"amount\"] = 0\n",
    "\n",
    "    if amount_refrigerant > 0:\n",
    "        ds[\"exchanges\"].append(\n",
    "            {\n",
    "                \"name\": \"market for carbon dioxide, liquid\",\n",
    "                \"product\": \"carbon dioxide, liquid\",\n",
    "                \"type\": \"technosphere\",\n",
    "                \"unit\": \"kilogram\",\n",
    "                \"amount\": amount_refrigerant\n",
    "            }\n",
    "        )\n",
    "\n",
    "        try:\n",
    "            ds = wurst.relink_technosphere_exchanges(\n",
    "                ds,\n",
    "                db\n",
    "            )\n",
    "        except:\n",
    "            # RoE is not defined in constructive_geometries 0.9.5\n",
    "            for exc in ws.technosphere(\n",
    "                ds,\n",
    "                ws.equals(\"name\", \"market for carbon dioxide, liquid\")\n",
    "            ):\n",
    "                exc[\"location\"] = \"RoW\""
   ]
  },
  {
   "cell_type": "code",
   "execution_count": null,
   "id": "65db92dd-9a3e-482d-ba6a-99b873acec14",
   "metadata": {},
   "outputs": [],
   "source": [
    "if \"montreal_protocol\" in bw2data.databases:\n",
    "    del bw2data.databases[\"montreal_protocol\"]\n",
    "wurst.write_brightway2_database(db, \"montreal_protocol\")"
   ]
  },
  {
   "cell_type": "code",
   "execution_count": null,
   "id": "b0403108-db84-4151-8167-972fbf9a8d8c",
   "metadata": {},
   "outputs": [],
   "source": []
  }
 ],
 "metadata": {
  "kernelspec": {
   "display_name": "Python 3 (ipykernel)",
   "language": "python",
   "name": "python3"
  },
  "language_info": {
   "codemirror_mode": {
    "name": "ipython",
    "version": 3
   },
   "file_extension": ".py",
   "mimetype": "text/x-python",
   "name": "python",
   "nbconvert_exporter": "python",
   "pygments_lexer": "ipython3",
   "version": "3.11.8"
  }
 },
 "nbformat": 4,
 "nbformat_minor": 5
}
