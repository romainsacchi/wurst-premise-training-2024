{
 "cells": [
  {
   "cell_type": "markdown",
   "id": "ecc8a830-ac86-48ea-a932-f5221c61fdf9",
   "metadata": {},
   "source": [
    "## Custom scenarios using `premise`\n",
    "\n",
    "#### Github repository: [https://github.com/premise-community-scenarios](https://github.com/premise-community-scenarios)\n",
    "#### Documentation: [https://premise.readthedocs.io/en/latest/user_scenarios.html](https://premise.readthedocs.io/en/latest/user_scenarios.html)\n",
    "#### Tutorial author: Romain Sacchi\n",
    "#### Duration: 2 hours"
   ]
  },
  {
   "cell_type": "markdown",
   "id": "610f0047-e5b8-4a39-975e-d4388532354b",
   "metadata": {},
   "source": [
    "`premise` accepts [`datapackages`](https://specs.frictionlessdata.io/data-package/) which contain enough information to build and implement a scenario.\n",
    "\n",
    "Datapackages for `premise` essentially contain:\n",
    "1. a datapackage.json file, describing the resources contained by the datapackage\n",
    "2. an inventory file (optional), if `premise` needs to import some inventories not present in ecoinvent\n",
    "3. a scenario data table, contianing variables and their values for each time step\n",
    "4. a config-yaml file, telling `premise` how to interpret the variables contained in the scenario data table."
   ]
  },
  {
   "cell_type": "markdown",
   "id": "06e4a357-f23f-42c8-83ab-9d8f8a3b9b3c",
   "metadata": {},
   "source": [
    "In this exercise, we will want to model a market for bread which will present varying shares for three bread recipes:\n",
    "\n",
    "* Activated Dough Development\n",
    "* Straight Dough Method\n",
    "* Delayed Salt Method\n",
    "\n",
    "The resulting datapackage [already exists](https://github.com/premise-community-scenarios/scenario-example-bread), let's have a look at it."
   ]
  },
  {
   "cell_type": "markdown",
   "id": "b1b50547-38f5-4f39-8ca7-3de369f62d8b",
   "metadata": {},
   "source": [
    "## datapackage.json"
   ]
  },
  {
   "cell_type": "markdown",
   "id": "bbfdfbe1-00c4-4660-874c-464cd6760bf1",
   "metadata": {},
   "source": [
    "- It defines the datapackage\n",
    "- Allows you to fill in metadata (author of the scenario, license, etc.)\n",
    "- Defines resources (files) and where to find the,"
   ]
  },
  {
   "cell_type": "markdown",
   "id": "463879a4-a810-4216-b85b-00d89edcbf49",
   "metadata": {},
   "source": [
    "## Scenario data"
   ]
  },
  {
   "cell_type": "markdown",
   "id": "68f8cf40-e66f-4d58-be8f-e3b8e2afdd0e",
   "metadata": {},
   "source": [
    "- Tabular data\n",
    "- CSV format\n",
    "- Variables: production volumes, efficiencies, etc.\n",
    "- Timeseries"
   ]
  },
  {
   "cell_type": "markdown",
   "id": "9cf4c53e-090a-49de-acf6-eb2807db5ae8",
   "metadata": {},
   "source": [
    "## config.yaml"
   ]
  },
  {
   "cell_type": "markdown",
   "id": "69810df8-1ee2-4caa-b74c-0291f9809a9b",
   "metadata": {},
   "source": [
    "- YAML file\n",
    "- Gives instructions to premise on what to do.\n",
    "- One can declare technologies/suppliers, modify their efficiency over time, create markets and substitute suppliers with new ones."
   ]
  },
  {
   "cell_type": "markdown",
   "id": "0b3c6225-14ce-496f-a727-743ceadc42a6",
   "metadata": {},
   "source": [
    "## Additional inventories"
   ]
  },
  {
   "cell_type": "markdown",
   "id": "c7e9e3a3-a301-4a28-a4f6-5c434408099b",
   "metadata": {},
   "source": [
    "- Optional. If your cscenario reuires inventories not prensent in the premise database."
   ]
  },
  {
   "cell_type": "markdown",
   "id": "6d898c41-ab81-490c-b8b2-04430ed3c55c",
   "metadata": {},
   "source": [
    "## Running custom scenario in `premise`"
   ]
  },
  {
   "cell_type": "markdown",
   "id": "f13dbda8-fb85-4a34-8d30-537224867310",
   "metadata": {},
   "source": [
    "In theory, your datapackage is now defined, the necessary metadata is filled and the resources declared, and all the components are present for `premise` to interpret it."
   ]
  },
  {
   "cell_type": "markdown",
   "id": "4b82cab5-d391-40f1-bdc4-6984d651be21",
   "metadata": {},
   "source": [
    "Now, let's have a look at the content of these files, and when this is done, we can run it, like so:"
   ]
  },
  {
   "cell_type": "code",
   "execution_count": 1,
   "id": "80ac6f31-2713-42ee-8929-5525347b2a4b",
   "metadata": {},
   "outputs": [],
   "source": [
    "from premise import *\n",
    "from datapackage import Package\n",
    "import bw2data as bw"
   ]
  },
  {
   "cell_type": "code",
   "execution_count": 2,
   "id": "68f5574a-4334-4d99-b18e-076ae3b4de79",
   "metadata": {},
   "outputs": [],
   "source": [
    "bw.projects.set_current(\"ei39\")"
   ]
  },
  {
   "cell_type": "code",
   "execution_count": 3,
   "id": "5424fda3-657a-470e-bc2f-b5237078be7e",
   "metadata": {},
   "outputs": [],
   "source": [
    "urls = [\n",
    "    \"/Users/romain/GitHub/scenario-example-bread-/datapackage.json\",\n",
    "]"
   ]
  },
  {
   "cell_type": "code",
   "execution_count": 4,
   "id": "943e4ba8-edc7-48ac-8c91-0aeda924b2c2",
   "metadata": {},
   "outputs": [
    {
     "name": "stdout",
     "output_type": "stream",
     "text": [
      "premise v.(1, 7, 8)\n",
      "+------------------------------------------------------------------+\n",
      "| Warning                                                          |\n",
      "+------------------------------------------------------------------+\n",
      "| Because some of the scenarios can yield LCI databases            |\n",
      "| containing net negative emission technologies (NET),             |\n",
      "| it is advised to account for biogenic CO2 flows when calculating |\n",
      "| Global Warming potential indicators.                             |\n",
      "| `premise_gwp` provides characterization factors for such flows.  |\n",
      "| It also provides factors for hydrogen emissions to air.          |\n",
      "|                                                                  |\n",
      "| Within your bw2 project:                                         |\n",
      "| from premise_gwp import add_premise_gwp                          |\n",
      "| add_premise_gwp()                                                |\n",
      "+------------------------------------------------------------------+\n",
      "+--------------------------------+----------------------------------+\n",
      "| Utils functions                | Description                      |\n",
      "+--------------------------------+----------------------------------+\n",
      "| clear_cache()                  | Clears the cache folder. Useful  |\n",
      "|                                | when updating `premise`or        |\n",
      "|                                | encountering issues with         |\n",
      "|                                | inventories.                     |\n",
      "+--------------------------------+----------------------------------+\n",
      "| get_regions_definition(model)  | Retrieves the list of countries  |\n",
      "|                                | for each region of the model.    |\n",
      "+--------------------------------+----------------------------------+\n",
      "| ndb.NewDatabase(...)           | Generates a summary of the most  |\n",
      "| ndb.generate_scenario_report() | important scenarios' variables.  |\n",
      "+--------------------------------+----------------------------------+\n",
      "Keep uncertainty data?\n",
      "NewDatabase(..., keep_uncertainty_data=True)\n",
      "\n",
      "Disable multiprocessing?\n",
      "NewDatabase(..., use_multiprocessing=False)\n",
      "\n",
      "Hide these messages?\n",
      "NewDatabase(..., quiet=True)\n",
      "\n",
      "//////////////////// EXTRACTING SOURCE DATABASE ////////////////////\n",
      "Done!\n",
      "\n",
      "////////////////// IMPORTING DEFAULT INVENTORIES ///////////////////\n",
      "Done!\n",
      "\n",
      "/////////////////////// EXTRACTING IAM DATA ////////////////////////\n",
      "Done!\n"
     ]
    }
   ],
   "source": [
    "scenarios = [\n",
    "    {\"model\": \"image\", \"pathway\":\"SSP2-Base\", \"year\": 2030},\n",
    "    {\"model\": \"image\", \"pathway\":\"SSP2-Base\", \"year\": 2050},\n",
    "]\n",
    "\n",
    "ndb = NewDatabase(\n",
    "        scenarios = scenarios,        \n",
    "        source_db=\"ecoinvent 3.9.1 cutoff\",\n",
    "        source_version=\"3.9\",\n",
    "        key='tUePmX_S5B8ieZkkM7WUU2CnO8SmShwmAeWK9x2rTFo=',\n",
    "        external_scenarios=[Package(url) for url in urls]\n",
    ")"
   ]
  },
  {
   "cell_type": "code",
   "execution_count": 5,
   "id": "5f921d8e-d5c9-4359-97bf-1851d986636e",
   "metadata": {},
   "outputs": [
    {
     "name": "stdout",
     "output_type": "stream",
     "text": [
      "\n",
      "//////////////// IMPORTING USER-DEFINED INVENTORIES ////////////////\n",
      "Extracted 1 worksheets in 0.02 seconds\n",
      "Applying strategy: migrate_datasets\n",
      "Applying strategy: migrate_exchanges\n",
      "Applying strategy: migrate_datasets\n",
      "Applying strategy: migrate_exchanges\n",
      "Create custom markets.\n",
      "\n",
      "//////////////// IMPORTING USER-DEFINED INVENTORIES ////////////////\n",
      "Extracted 1 worksheets in 0.01 seconds\n",
      "Applying strategy: migrate_datasets\n",
      "Applying strategy: migrate_exchanges\n",
      "Applying strategy: migrate_datasets\n",
      "Applying strategy: migrate_exchanges\n",
      "Create custom markets.\n",
      "Log file of exchanges saved under /Users/romain/GitHub/premise/premise/data/logs.\n",
      "Done!\n",
      "\n"
     ]
    }
   ],
   "source": [
    "ndb.update_external_scenario()"
   ]
  },
  {
   "cell_type": "code",
   "execution_count": 17,
   "id": "4759fbf9-848e-4bcf-8eae-b2e771e27a79",
   "metadata": {},
   "outputs": [
    {
     "name": "stdout",
     "output_type": "stream",
     "text": [
      "Write new database(s) to Brightway2.\n"
     ]
    },
    {
     "name": "stderr",
     "output_type": "stream",
     "text": [
      "Writing activities to SQLite3 database:\n",
      "0% [##############################] 100% | ETA: 00:00:00\n",
      "Total time elapsed: 00:00:25\n"
     ]
    },
    {
     "name": "stdout",
     "output_type": "stream",
     "text": [
      "Title: Writing activities to SQLite3 database:\n",
      "  Started: 10/08/2023 13:16:46\n",
      "  Finished: 10/08/2023 13:17:12\n",
      "  Total time elapsed: 00:00:25\n",
      "  CPU %: 92.80\n",
      "  Memory %: 11.88\n",
      "Created database: bread 2030\n"
     ]
    },
    {
     "name": "stderr",
     "output_type": "stream",
     "text": [
      "Writing activities to SQLite3 database:\n",
      "0% [##############################] 100% | ETA: 00:00:00\n",
      "Total time elapsed: 00:00:27\n"
     ]
    },
    {
     "name": "stdout",
     "output_type": "stream",
     "text": [
      "Title: Writing activities to SQLite3 database:\n",
      "  Started: 10/08/2023 13:20:22\n",
      "  Finished: 10/08/2023 13:20:50\n",
      "  Total time elapsed: 00:00:27\n",
      "  CPU %: 96.70\n",
      "  Memory %: 14.08\n",
      "Created database: bread 2050\n",
      "Generate scenario report.\n",
      "Report saved under /Users/romain/GitHub/autumn_school_2023/tutorials/custom scenarios/export/scenario_report.\n",
      "Generate change report.\n",
      "Report saved under /Users/romain/GitHub/autumn_school_2023/tutorials/custom scenarios.\n"
     ]
    }
   ],
   "source": [
    "ndb.write_db_to_brightway([\"bread 2030\", \"bread 2050\"])"
   ]
  },
  {
   "cell_type": "markdown",
   "id": "c0354c8c-212f-410e-85d5-7bd3196ff80e",
   "metadata": {},
   "source": [
    "# Exercise"
   ]
  },
  {
   "cell_type": "markdown",
   "id": "987bc604-7e57-45d4-b28e-6a32c8431d60",
   "metadata": {},
   "source": [
    "Copy the bread scenario folder and adapt it to \n",
    "* model the progression of battey electric cars in Europe.\n",
    "* import EURO-6 cars in ecoinvent (copy a EURO-5 car, make it 30% more fuel-efficient and reduce NOx and PMs emission by 90% and 505%, respectively)\n",
    "* model the phasing out of EURO-3 to EURO-5 cars in Europe.\n",
    "* model efficiency improvement of ICEVs cars in Europe.\n",
    "\n",
    "Estimate the impacts over time for *market for transport, passenger car [RER]*\n",
    "\n",
    "Publish your scenario on Github, share the link of your datapackage.json on the general chat."
   ]
  },
  {
   "cell_type": "code",
   "execution_count": 1,
   "id": "f9a29b28-a26c-44fc-b7ea-ad7a8c2586e4",
   "metadata": {
    "tags": []
   },
   "outputs": [],
   "source": [
    "from premise import *\n",
    "from datapackage import Package\n",
    "import bw2data as bw"
   ]
  },
  {
   "cell_type": "code",
   "execution_count": 2,
   "id": "5002fd2e-22dc-4ced-ad22-ed92618487fd",
   "metadata": {
    "tags": []
   },
   "outputs": [],
   "source": [
    "bw.projects.set_current(\"ei39\")"
   ]
  },
  {
   "cell_type": "code",
   "execution_count": 11,
   "id": "c210c824-4172-44e6-8698-03cc71c27dc6",
   "metadata": {
    "tags": []
   },
   "outputs": [],
   "source": [
    "import bw2io\n",
    "i=bw2io.ExcelImporter(\"/Users/romain/GitHub/premise/premise/data/additional_inventories/lci-batteries.xlsx\")\n",
    "i.apply_strategies()\n",
    "i.match_database(fields=[\"name\", \"location\", \"unit\"])\n",
    "i.match_database(\"ecoinvent 3.9.1 cutoff\", fields=[\"name\", \"reference product\", \"unit\", \"location\"])\n",
    "i.match_database(\"biosphere3\", fields=[\"name\", \"categories\"])\n",
    "i.statistics()\n",
    "i.drop_unlinked(i_am_reckless=True)\n",
    "i.write_database()"
   ]
  },
  {
   "cell_type": "code",
   "execution_count": 12,
   "id": "bb58e00a-fb9f-4bbd-addc-2c9111c8590c",
   "metadata": {
    "tags": []
   },
   "outputs": [
    {
     "name": "stdout",
     "output_type": "stream",
     "text": [
      "Extracted 1 worksheets in 0.07 seconds\n"
     ]
    }
   ],
   "source": []
  },
  {
   "cell_type": "code",
   "execution_count": 13,
   "id": "730a6beb-ee68-40cc-ae14-916539881333",
   "metadata": {
    "tags": []
   },
   "outputs": [
    {
     "name": "stdout",
     "output_type": "stream",
     "text": [
      "Applying strategy: csv_restore_tuples\n",
      "Applying strategy: csv_restore_booleans\n",
      "Applying strategy: csv_numerize\n",
      "Applying strategy: csv_drop_unknown\n",
      "Applying strategy: csv_add_missing_exchanges_section\n",
      "Applying strategy: normalize_units\n",
      "Applying strategy: normalize_biosphere_categories\n",
      "Applying strategy: normalize_biosphere_names\n",
      "Applying strategy: strip_biosphere_exc_locations\n",
      "Applying strategy: set_code_by_activity_hash\n",
      "Applying strategy: link_iterable_by_fields\n",
      "Applying strategy: assign_only_product_as_production\n",
      "Applying strategy: link_technosphere_by_activity_hash\n",
      "Applying strategy: drop_falsey_uncertainty_fields_but_keep_zeros\n",
      "Applying strategy: convert_uncertainty_types_to_integers\n",
      "Applying strategy: convert_activity_parameters_to_list\n",
      "Applied 16 strategies in 6.11 seconds\n"
     ]
    }
   ],
   "source": []
  },
  {
   "cell_type": "code",
   "execution_count": 15,
   "id": "f9975477-555a-4cdb-9cd8-1f31a67a317f",
   "metadata": {
    "tags": []
   },
   "outputs": [
    {
     "name": "stdout",
     "output_type": "stream",
     "text": [
      "Applying strategy: link_iterable_by_fields\n",
      "Applying strategy: link_iterable_by_fields\n",
      "Applying strategy: link_iterable_by_fields\n"
     ]
    }
   ],
   "source": []
  },
  {
   "cell_type": "code",
   "execution_count": 16,
   "id": "66a793de-dede-433f-9aca-a1cb5b4c4cc8",
   "metadata": {
    "tags": []
   },
   "outputs": [
    {
     "name": "stdout",
     "output_type": "stream",
     "text": [
      "47 datasets\n",
      "490 exchanges\n",
      "14 unlinked exchanges\n",
      "  Type biosphere: 2 unique unlinked exchanges\n",
      "  Type technosphere: 5 unique unlinked exchanges\n"
     ]
    },
    {
     "data": {
      "text/plain": [
       "(47, 490, 14)"
      ]
     },
     "execution_count": 16,
     "metadata": {},
     "output_type": "execute_result"
    }
   ],
   "source": []
  },
  {
   "cell_type": "code",
   "execution_count": 17,
   "id": "676b5f57-7c0d-486d-8b1b-a14ecf98166e",
   "metadata": {
    "tags": []
   },
   "outputs": [
    {
     "data": {
      "text/plain": [
       "[{'name': 'market for lithium carbonate, battery grade',\n",
       "  'amount': 0.383,\n",
       "  'unit': 'kilogram',\n",
       "  'location': 'GLO',\n",
       "  'type': 'technosphere',\n",
       "  'reference product': 'lithium carbonate, battery grade'},\n",
       " {'name': 'cobalt sulfate production, from copper mining, economic allocation',\n",
       "  'amount': 0.547928332840915,\n",
       "  'unit': 'kilogram',\n",
       "  'location': 'CN',\n",
       "  'type': 'technosphere',\n",
       "  'reference product': 'cobalt sulfate'},\n",
       " {'name': 'market for graphite, battery grade',\n",
       "  'amount': 0.94,\n",
       "  'unit': 'kilogram',\n",
       "  'location': 'CN',\n",
       "  'type': 'technosphere',\n",
       "  'reference product': 'graphite, battery grade'},\n",
       " {'name': 'market for lithium hydroxide, battery grade',\n",
       "  'amount': 0.246,\n",
       "  'unit': 'kilogram',\n",
       "  'location': 'GLO',\n",
       "  'type': 'technosphere',\n",
       "  'reference product': 'lithium hydroxide, battery grade'},\n",
       " {'name': 'Lithium, ion',\n",
       "  'amount': 0.1,\n",
       "  'database': 'biosphere3',\n",
       "  'unit': 'kilogram',\n",
       "  'categories': ('water',),\n",
       "  'type': 'biosphere'},\n",
       " {'name': 'NMVOC, non-methane volatile organic compounds, unspecified origin',\n",
       "  'amount': 0.0144,\n",
       "  'database': 'biosphere3',\n",
       "  'unit': 'kilogram',\n",
       "  'categories': ('air',),\n",
       "  'type': 'biosphere'},\n",
       " {'name': 'treatment of wastewater, unpolluted, capacity 5E9l/year',\n",
       "  'amount': -1.8,\n",
       "  'database': 'ecoinvent 3.3 cutoff',\n",
       "  'location': 'RoW',\n",
       "  'unit': 'cubic meter',\n",
       "  'type': 'technosphere',\n",
       "  'reference product': 'wastewater, unpolluted'}]"
      ]
     },
     "execution_count": 17,
     "metadata": {},
     "output_type": "execute_result"
    }
   ],
   "source": [
    "list(i.unlinked)"
   ]
  },
  {
   "cell_type": "code",
   "execution_count": null,
   "id": "45bfe608-e212-4e6a-b702-c9ccea9cb609",
   "metadata": {},
   "outputs": [],
   "source": []
  },
  {
   "cell_type": "code",
   "execution_count": null,
   "id": "b26a7326-cbb8-46ba-9227-2cbf4e445919",
   "metadata": {},
   "outputs": [],
   "source": []
  },
  {
   "cell_type": "code",
   "execution_count": 3,
   "id": "08fe6609-2ee0-4b45-b4b9-013da89d7a2b",
   "metadata": {
    "tags": []
   },
   "outputs": [],
   "source": [
    "#url= \"exercise-cars-europe/datapackage.json\"\n",
    "url=\"https://tomyjsonfile.json\""
   ]
  },
  {
   "cell_type": "code",
   "execution_count": 4,
   "id": "6fbb6269-d32d-49eb-842c-76006e84b78d",
   "metadata": {
    "tags": []
   },
   "outputs": [
    {
     "name": "stdout",
     "output_type": "stream",
     "text": [
      "premise v.(1, 7, 6)\n",
      "+------------------------------------------------------------------+\n",
      "| Warning                                                          |\n",
      "+------------------------------------------------------------------+\n",
      "| Because some of the scenarios can yield LCI databases            |\n",
      "| containing net negative emission technologies (NET),             |\n",
      "| it is advised to account for biogenic CO2 flows when calculating |\n",
      "| Global Warming potential indicators.                             |\n",
      "| `premise_gwp` provides characterization factors for such flows.  |\n",
      "| It also provides factors for hydrogen emissions to air.          |\n",
      "|                                                                  |\n",
      "| Within your bw2 project:                                         |\n",
      "| from premise_gwp import add_premise_gwp                          |\n",
      "| add_premise_gwp()                                                |\n",
      "+------------------------------------------------------------------+\n",
      "+--------------------------------+----------------------------------+\n",
      "| Utils functions                | Description                      |\n",
      "+--------------------------------+----------------------------------+\n",
      "| clear_cache()                  | Clears the cache folder. Useful  |\n",
      "|                                | when updating `premise`or        |\n",
      "|                                | encountering issues with         |\n",
      "|                                | inventories.                     |\n",
      "+--------------------------------+----------------------------------+\n",
      "| get_regions_definition(model)  | Retrieves the list of countries  |\n",
      "|                                | for each region of the model.    |\n",
      "+--------------------------------+----------------------------------+\n",
      "| ndb.NewDatabase(...)           | Generates a summary of the most  |\n",
      "| ndb.generate_scenario_report() | important scenarios' variables.  |\n",
      "+--------------------------------+----------------------------------+\n",
      "Keep uncertainty data?\n",
      "NewDatabase(..., keep_uncertainty_data=True)\n",
      "\n",
      "Disable multiprocessing?\n",
      "NewDatabase(..., use_multiprocessing=False)\n",
      "\n",
      "Hide these messages?\n",
      "NewDatabase(..., quiet=True)\n",
      "\n",
      "//////////////////// EXTRACTING SOURCE DATABASE ////////////////////\n",
      "Done!\n",
      "\n",
      "////////////////// IMPORTING DEFAULT INVENTORIES ///////////////////\n",
      "Done!\n",
      "\n",
      "/////////////////////// EXTRACTING IAM DATA ////////////////////////\n",
      "Done!\n"
     ]
    }
   ],
   "source": [
    "scenarios = [\n",
    "    {\"model\": \"image\", \"pathway\":\"SSP2-Base\", \"year\": 2035},\n",
    "    {\"model\": \"image\", \"pathway\":\"SSP2-Base\", \"year\": 2050},\n",
    "    {\"model\": \"image\", \"pathway\":\"SSP2-RCP26\", \"year\": 2035},\n",
    "    {\"model\": \"image\", \"pathway\":\"SSP2-RCP26\", \"year\": 2050},\n",
    "]\n",
    "\n",
    "ndb = NewDatabase(\n",
    "        scenarios = scenarios,        \n",
    "        source_db=\"ecoinvent 3.9.1 cutoff\",\n",
    "        source_version=\"3.9\",\n",
    "        key='tUePmX_S5B8ieZkkM7WUU2CnO8SmShwmAeWK9x2rTFo=',\n",
    "        external_scenarios=[Package(url)]\n",
    ")"
   ]
  },
  {
   "cell_type": "code",
   "execution_count": 5,
   "id": "db1d3316-2b90-45a8-8459-9c23c7668946",
   "metadata": {
    "tags": []
   },
   "outputs": [
    {
     "name": "stdout",
     "output_type": "stream",
     "text": [
      "\n",
      "/////////////////////////// ELECTRICITY ////////////////////////////\n",
      "Done!\n",
      "\n",
      "\n",
      "//////////////// IMPORTING USER-DEFINED INVENTORIES ////////////////\n",
      "Extracted 1 worksheets in 0.00 seconds\n",
      "Create custom markets.\n",
      "\n",
      "//////////////// IMPORTING USER-DEFINED INVENTORIES ////////////////\n",
      "Extracted 1 worksheets in 0.00 seconds\n",
      "Create custom markets.\n",
      "\n",
      "//////////////// IMPORTING USER-DEFINED INVENTORIES ////////////////\n",
      "Extracted 1 worksheets in 0.00 seconds\n",
      "Create custom markets.\n",
      "\n",
      "//////////////// IMPORTING USER-DEFINED INVENTORIES ////////////////\n",
      "Extracted 1 worksheets in 0.00 seconds\n",
      "Create custom markets.\n",
      "Log file of exchanges saved under /Users/romain/GitHub/premise/premise/data/logs.\n",
      "Done!\n",
      "\n",
      "Write new database(s) to Brightway2.\n"
     ]
    },
    {
     "name": "stderr",
     "output_type": "stream",
     "text": [
      "Writing activities to SQLite3 database:\n",
      "0% [##############################] 100% | ETA: 00:00:00\n",
      "Total time elapsed: 00:01:04\n"
     ]
    },
    {
     "name": "stdout",
     "output_type": "stream",
     "text": [
      "Title: Writing activities to SQLite3 database:\n",
      "  Started: 10/08/2023 15:12:54\n",
      "  Finished: 10/08/2023 15:13:59\n",
      "  Total time elapsed: 00:01:04\n",
      "  CPU %: 80.70\n",
      "  Memory %: 20.46\n",
      "Created database: BAU - 2035\n"
     ]
    },
    {
     "name": "stderr",
     "output_type": "stream",
     "text": [
      "Writing activities to SQLite3 database:\n",
      "0% [##############################] 100% | ETA: 00:00:00\n",
      "Total time elapsed: 00:01:03\n"
     ]
    },
    {
     "name": "stdout",
     "output_type": "stream",
     "text": [
      "Title: Writing activities to SQLite3 database:\n",
      "  Started: 10/08/2023 15:17:28\n",
      "  Finished: 10/08/2023 15:18:31\n",
      "  Total time elapsed: 00:01:03\n",
      "  CPU %: 81.80\n",
      "  Memory %: 19.37\n",
      "Created database: BAU - 2050\n"
     ]
    },
    {
     "name": "stderr",
     "output_type": "stream",
     "text": [
      "Writing activities to SQLite3 database:\n",
      "0% [##############################] 100% | ETA: 00:00:00\n",
      "Total time elapsed: 00:01:01\n"
     ]
    },
    {
     "name": "stdout",
     "output_type": "stream",
     "text": [
      "Title: Writing activities to SQLite3 database:\n",
      "  Started: 10/08/2023 15:22:01\n",
      "  Finished: 10/08/2023 15:23:02\n",
      "  Total time elapsed: 00:01:01\n",
      "  CPU %: 81.90\n",
      "  Memory %: 16.89\n",
      "Created database: CA - 2035\n"
     ]
    },
    {
     "name": "stderr",
     "output_type": "stream",
     "text": [
      "Writing activities to SQLite3 database:\n",
      "0% [##############################] 100% | ETA: 00:00:00\n",
      "Total time elapsed: 00:00:50\n"
     ]
    },
    {
     "name": "stdout",
     "output_type": "stream",
     "text": [
      "Title: Writing activities to SQLite3 database:\n",
      "  Started: 10/08/2023 15:26:46\n",
      "  Finished: 10/08/2023 15:27:37\n",
      "  Total time elapsed: 00:00:50\n",
      "  CPU %: 85.80\n",
      "  Memory %: 15.29\n",
      "Created database: CA - 2050\n",
      "Generate scenario report.\n",
      "Report saved under /Users/romain/GitHub/autumn_school_2023/tutorials/custom scenarios/export/scenario_report.\n",
      "Generate change report.\n",
      "Report saved under /Users/romain/GitHub/autumn_school_2023/tutorials/custom scenarios.\n"
     ]
    }
   ],
   "source": [
    "ndb.update_electricity()\n",
    "ndb.update_external_scenario()\n",
    "ndb.write_db_to_brightway(\n",
    "    name=[\n",
    "        \"BAU - 2035\",\n",
    "        \"BAU - 2050\",\n",
    "        \"CA - 2035\",\n",
    "        \"CA - 2050\",\n",
    "    ]\n",
    ")"
   ]
  },
  {
   "cell_type": "code",
   "execution_count": 5,
   "id": "b285ec9a-22c9-46d9-b031-84f37cfa22b0",
   "metadata": {
    "tags": []
   },
   "outputs": [
    {
     "data": {
      "text/plain": [
       "[{'market for transport, passenger car' (kilometer, RER, None): 1},\n",
       " {'market for transport, passenger car' (kilometer, RER, None): 1},\n",
       " {'market for transport, passenger car' (kilometer, RER, None): 1},\n",
       " {'market for transport, passenger car' (kilometer, RER, None): 1},\n",
       " {'market for transport, passenger car' (kilometer, RER, None): 1}]"
      ]
     },
     "execution_count": 5,
     "metadata": {},
     "output_type": "execute_result"
    }
   ],
   "source": [
    "import bw2data, bw2calc\n",
    "FU_cars = [\n",
    "    {act: 1} for db in [\n",
    "        \"ecoinvent 3.9.1 cutoff\", \"BAU - 2035\", \"BAU - 2050\", \"CA - 2035\", \"CA - 2050\", \n",
    "    ] for act in bw2data.Database(db) if act[\"name\"] == \"market for transport, passenger car\"\n",
    "    and act[\"location\"] == \"RER\"\n",
    "]\n",
    "FU_cars"
   ]
  },
  {
   "cell_type": "code",
   "execution_count": 6,
   "id": "6fef3f8c-271e-491d-a6e0-6aa44c9bc29e",
   "metadata": {
    "tags": []
   },
   "outputs": [],
   "source": [
    "method = [('IPCC 2021', 'climate change: fossil', 'global warming potential (GWP100)')]\n",
    "bw2calc.multi_lca.calculation_setups[\"Cars EU\"] = {\n",
    "    \"inv\": FU_cars,\n",
    "    \"ia\": method\n",
    "}"
   ]
  },
  {
   "cell_type": "code",
   "execution_count": 7,
   "id": "c97bf423-ca83-4def-802b-e77517c1b351",
   "metadata": {
    "tags": []
   },
   "outputs": [
    {
     "name": "stderr",
     "output_type": "stream",
     "text": [
      "/opt/homebrew/Caskroom/miniforge/base/envs/premise_env/lib/python3.10/site-packages/scikits/umfpack/umfpack.py:736: UmfpackWarning: (almost) singular matrix! (estimated cond. number: 8.62e+12)\n",
      "  warnings.warn(msg, UmfpackWarning)\n"
     ]
    }
   ],
   "source": [
    "lca = bw2calc.MultiLCA(\"Cars EU\")\n",
    "acts = [list(d.keys())[0] for d in lca.func_units]"
   ]
  },
  {
   "cell_type": "code",
   "execution_count": 8,
   "id": "4317ca30-8bc5-410d-9ba4-03c65554a9bb",
   "metadata": {
    "tags": []
   },
   "outputs": [],
   "source": [
    "import pandas as pd\n",
    "results = pd.DataFrame(\n",
    "    zip(\n",
    "        [a[\"name\"] for a in acts],\n",
    "        [a[\"database\"] for a in acts],\n",
    "        lca.results.flatten()\n",
    "    ),\n",
    "    columns=[\"name\", \"year\", \"GWP\"]\n",
    ")"
   ]
  },
  {
   "cell_type": "code",
   "execution_count": 9,
   "id": "09bf92de-4cb6-4a56-bce8-d0cf9d02be9f",
   "metadata": {
    "tags": []
   },
   "outputs": [],
   "source": [
    "results = results.replace(\"ecoinvent 3.9.1 cutoff\", 2020)\n",
    "results[\"year\"] = results[\"year\"].astype(\"str\")"
   ]
  },
  {
   "cell_type": "code",
   "execution_count": 10,
   "id": "15f76ca6-46b3-466d-9344-d034057b52d5",
   "metadata": {
    "tags": []
   },
   "outputs": [
    {
     "data": {
      "text/plain": [
       "Text(0, 0.5, 'kg CO$_2$-eq./km')"
      ]
     },
     "execution_count": 10,
     "metadata": {},
     "output_type": "execute_result"
    },
    {
     "data": {
      "image/png": "[encoded data removed]",
      "text/plain": [
       "<Figure size 640x480 with 1 Axes>"
      ]
     },
     "metadata": {},
     "output_type": "display_data"
    }
   ],
   "source": [
    "import seaborn as sns\n",
    "import matplotlib.pyplot as plt\n",
    "\n",
    "# plot with seaborn barplot\n",
    "sns.barplot(data=results, x='name', y='GWP', hue='year')\n",
    "\n",
    "plt.xticks([])\n",
    "plt.ylabel(\"kg CO$_2$-eq./km\")"
   ]
  },
  {
   "cell_type": "code",
   "execution_count": null,
   "id": "911fa44d-fe9c-4cfc-9cf1-f5da121d99a5",
   "metadata": {},
   "outputs": [],
   "source": []
  }
 ],
 "metadata": {
  "kernelspec": {
   "display_name": "Python 3 (ipykernel)",
   "language": "python",
   "name": "python3"
  },
  "language_info": {
   "codemirror_mode": {
    "name": "ipython",
    "version": 3
   },
   "file_extension": ".py",
   "mimetype": "text/x-python",
   "name": "python",
   "nbconvert_exporter": "python",
   "pygments_lexer": "ipython3",
   "version": "3.10.12"
  }
 },
 "nbformat": 4,
 "nbformat_minor": 5
}
